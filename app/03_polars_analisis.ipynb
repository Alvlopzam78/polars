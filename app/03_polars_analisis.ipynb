{
 "cells": [
  {
   "cell_type": "code",
   "execution_count": 3,
   "metadata": {},
   "outputs": [],
   "source": [
    "import polars as pl\n",
    "import numpy as np"
   ]
  },
  {
   "attachments": {},
   "cell_type": "markdown",
   "metadata": {},
   "source": [
    "1. Read CSV"
   ]
  },
  {
   "cell_type": "code",
   "execution_count": 4,
   "metadata": {},
   "outputs": [
    {
     "data": {
      "text/html": [
       "<div><style>\n",
       ".dataframe > thead > tr > th,\n",
       ".dataframe > tbody > tr > td {\n",
       "  text-align: right;\n",
       "}\n",
       "</style>\n",
       "<small>shape: (27, 4)</small><table border=\"1\" class=\"dataframe\"><thead><tr><th>category</th><th>calories</th><th>fats_g</th><th>sugars_g</th></tr><tr><td>str</td><td>i64</td><td>f64</td><td>i64</td></tr></thead><tbody><tr><td>&quot;vegetables&quot;</td><td>45</td><td>0.5</td><td>2</td></tr><tr><td>&quot;seafood&quot;</td><td>150</td><td>5.0</td><td>0</td></tr><tr><td>&quot;meat&quot;</td><td>100</td><td>5.0</td><td>0</td></tr><tr><td>&quot;fruit&quot;</td><td>60</td><td>0.0</td><td>11</td></tr><tr><td>&quot;seafood&quot;</td><td>140</td><td>5.0</td><td>1</td></tr><tr><td>&quot;meat&quot;</td><td>120</td><td>10.0</td><td>1</td></tr><tr><td>&quot;vegetables&quot;</td><td>20</td><td>0.0</td><td>2</td></tr><tr><td>&quot;fruit&quot;</td><td>30</td><td>0.0</td><td>5</td></tr><tr><td>&quot;seafood&quot;</td><td>130</td><td>5.0</td><td>0</td></tr><tr><td>&quot;fruit&quot;</td><td>50</td><td>4.5</td><td>0</td></tr><tr><td>&quot;meat&quot;</td><td>110</td><td>7.0</td><td>0</td></tr><tr><td>&quot;vegetables&quot;</td><td>25</td><td>0.0</td><td>2</td></tr><tr><td>&hellip;</td><td>&hellip;</td><td>&hellip;</td><td>&hellip;</td></tr><tr><td>&quot;seafood&quot;</td><td>100</td><td>5.0</td><td>0</td></tr><tr><td>&quot;seafood&quot;</td><td>200</td><td>10.0</td><td>0</td></tr><tr><td>&quot;seafood&quot;</td><td>200</td><td>7.0</td><td>2</td></tr><tr><td>&quot;fruit&quot;</td><td>60</td><td>0.0</td><td>11</td></tr><tr><td>&quot;meat&quot;</td><td>110</td><td>7.0</td><td>0</td></tr><tr><td>&quot;vegetables&quot;</td><td>25</td><td>0.0</td><td>3</td></tr><tr><td>&quot;seafood&quot;</td><td>200</td><td>7.0</td><td>2</td></tr><tr><td>&quot;seafood&quot;</td><td>130</td><td>1.5</td><td>0</td></tr><tr><td>&quot;fruit&quot;</td><td>130</td><td>0.0</td><td>25</td></tr><tr><td>&quot;meat&quot;</td><td>100</td><td>7.0</td><td>0</td></tr><tr><td>&quot;vegetables&quot;</td><td>30</td><td>0.0</td><td>5</td></tr><tr><td>&quot;fruit&quot;</td><td>50</td><td>0.0</td><td>11</td></tr></tbody></table></div>"
      ],
      "text/plain": [
       "shape: (27, 4)\n",
       "┌────────────┬──────────┬────────┬──────────┐\n",
       "│ category   ┆ calories ┆ fats_g ┆ sugars_g │\n",
       "│ ---        ┆ ---      ┆ ---    ┆ ---      │\n",
       "│ str        ┆ i64      ┆ f64    ┆ i64      │\n",
       "╞════════════╪══════════╪════════╪══════════╡\n",
       "│ vegetables ┆ 45       ┆ 0.5    ┆ 2        │\n",
       "│ seafood    ┆ 150      ┆ 5.0    ┆ 0        │\n",
       "│ meat       ┆ 100      ┆ 5.0    ┆ 0        │\n",
       "│ fruit      ┆ 60       ┆ 0.0    ┆ 11       │\n",
       "│ …          ┆ …        ┆ …      ┆ …        │\n",
       "│ fruit      ┆ 130      ┆ 0.0    ┆ 25       │\n",
       "│ meat       ┆ 100      ┆ 7.0    ┆ 0        │\n",
       "│ vegetables ┆ 30       ┆ 0.0    ┆ 5        │\n",
       "│ fruit      ┆ 50       ┆ 0.0    ┆ 11       │\n",
       "└────────────┴──────────┴────────┴──────────┘"
      ]
     },
     "execution_count": 4,
     "metadata": {},
     "output_type": "execute_result"
    }
   ],
   "source": [
    "df = pl.read_csv('https://raw.githubusercontent.com/pola-rs/polars/main/examples/datasets/foods1.csv')\n",
    "df"
   ]
  },
  {
   "attachments": {},
   "cell_type": "markdown",
   "metadata": {},
   "source": [
    "2. Describe"
   ]
  },
  {
   "attachments": {},
   "cell_type": "markdown",
   "metadata": {},
   "source": [
    "La función df.describe() El método en polar se usa para generar estadísticas de resumen de varias características de un DataFrame. Devuelve un nuevo DataFrame que contiene el\n",
    "recuento, la media, la desviación estándar, el mínimo, el percentil 25, la mediana, el percentil 75 y el máximo de cada columna numérica en el DataFrame original."
   ]
  },
  {
   "cell_type": "code",
   "execution_count": 8,
   "metadata": {},
   "outputs": [
    {
     "data": {
      "text/html": [
       "<div><style>\n",
       ".dataframe > thead > tr > th,\n",
       ".dataframe > tbody > tr > td {\n",
       "  text-align: right;\n",
       "}\n",
       "</style>\n",
       "<small>shape: (7, 5)</small><table border=\"1\" class=\"dataframe\"><thead><tr><th>describe</th><th>category</th><th>calories</th><th>fats_g</th><th>sugars_g</th></tr><tr><td>str</td><td>str</td><td>f64</td><td>f64</td><td>f64</td></tr></thead><tbody><tr><td>&quot;count&quot;</td><td>&quot;27&quot;</td><td>27.0</td><td>27.0</td><td>27.0</td></tr><tr><td>&quot;null_count&quot;</td><td>&quot;0&quot;</td><td>0.0</td><td>0.0</td><td>0.0</td></tr><tr><td>&quot;mean&quot;</td><td>null</td><td>88.592593</td><td>3.203704</td><td>3.444444</td></tr><tr><td>&quot;std&quot;</td><td>null</td><td>58.563088</td><td>3.484193</td><td>5.48658</td></tr><tr><td>&quot;min&quot;</td><td>&quot;fruit&quot;</td><td>20.0</td><td>0.0</td><td>0.0</td></tr><tr><td>&quot;max&quot;</td><td>&quot;vegetables&quot;</td><td>200.0</td><td>10.0</td><td>25.0</td></tr><tr><td>&quot;median&quot;</td><td>null</td><td>100.0</td><td>1.5</td><td>2.0</td></tr></tbody></table></div>"
      ],
      "text/plain": [
       "shape: (7, 5)\n",
       "┌────────────┬────────────┬───────────┬──────────┬──────────┐\n",
       "│ describe   ┆ category   ┆ calories  ┆ fats_g   ┆ sugars_g │\n",
       "│ ---        ┆ ---        ┆ ---       ┆ ---      ┆ ---      │\n",
       "│ str        ┆ str        ┆ f64       ┆ f64      ┆ f64      │\n",
       "╞════════════╪════════════╪═══════════╪══════════╪══════════╡\n",
       "│ count      ┆ 27         ┆ 27.0      ┆ 27.0     ┆ 27.0     │\n",
       "│ null_count ┆ 0          ┆ 0.0       ┆ 0.0      ┆ 0.0      │\n",
       "│ mean       ┆ null       ┆ 88.592593 ┆ 3.203704 ┆ 3.444444 │\n",
       "│ std        ┆ null       ┆ 58.563088 ┆ 3.484193 ┆ 5.48658  │\n",
       "│ min        ┆ fruit      ┆ 20.0      ┆ 0.0      ┆ 0.0      │\n",
       "│ max        ┆ vegetables ┆ 200.0     ┆ 10.0     ┆ 25.0     │\n",
       "│ median     ┆ null       ┆ 100.0     ┆ 1.5      ┆ 2.0      │\n",
       "└────────────┴────────────┴───────────┴──────────┴──────────┘"
      ]
     },
     "execution_count": 8,
     "metadata": {},
     "output_type": "execute_result"
    }
   ],
   "source": [
    "df.describe()"
   ]
  },
  {
   "attachments": {},
   "cell_type": "markdown",
   "metadata": {},
   "source": [
    "3. Select"
   ]
  },
  {
   "attachments": {},
   "cell_type": "markdown",
   "metadata": {},
   "source": [
    "df.select() es un método en polars que se usa para seleccionar las variables de un DataFrame, en la cual la podemos implementar combinandola con otra función como head(), sum(), mean() y muchas otras funciones para obtener un mejor análisis de nuestros datos.\n"
   ]
  },
  {
   "cell_type": "code",
   "execution_count": 11,
   "metadata": {},
   "outputs": [
    {
     "data": {
      "text/html": [
       "<div><style>\n",
       ".dataframe > thead > tr > th,\n",
       ".dataframe > tbody > tr > td {\n",
       "  text-align: right;\n",
       "}\n",
       "</style>\n",
       "<small>shape: (5, 1)</small><table border=\"1\" class=\"dataframe\"><thead><tr><th>calories</th></tr><tr><td>i64</td></tr></thead><tbody><tr><td>45</td></tr><tr><td>150</td></tr><tr><td>100</td></tr><tr><td>60</td></tr><tr><td>140</td></tr></tbody></table></div>"
      ],
      "text/plain": [
       "shape: (5, 1)\n",
       "┌──────────┐\n",
       "│ calories │\n",
       "│ ---      │\n",
       "│ i64      │\n",
       "╞══════════╡\n",
       "│ 45       │\n",
       "│ 150      │\n",
       "│ 100      │\n",
       "│ 60       │\n",
       "│ 140      │\n",
       "└──────────┘"
      ]
     },
     "execution_count": 11,
     "metadata": {},
     "output_type": "execute_result"
    }
   ],
   "source": [
    "df.select([pl.col([\"calories\"])]).head()"
   ]
  },
  {
   "cell_type": "code",
   "execution_count": 12,
   "metadata": {},
   "outputs": [
    {
     "data": {
      "text/html": [
       "<div><style>\n",
       ".dataframe > thead > tr > th,\n",
       ".dataframe > tbody > tr > td {\n",
       "  text-align: right;\n",
       "}\n",
       "</style>\n",
       "<small>shape: (1, 1)</small><table border=\"1\" class=\"dataframe\"><thead><tr><th>calories</th></tr><tr><td>i64</td></tr></thead><tbody><tr><td>2392</td></tr></tbody></table></div>"
      ],
      "text/plain": [
       "shape: (1, 1)\n",
       "┌──────────┐\n",
       "│ calories │\n",
       "│ ---      │\n",
       "│ i64      │\n",
       "╞══════════╡\n",
       "│ 2392     │\n",
       "└──────────┘"
      ]
     },
     "execution_count": 12,
     "metadata": {},
     "output_type": "execute_result"
    }
   ],
   "source": [
    "df.select([pl.col([\"calories\"])]).sum()"
   ]
  },
  {
   "attachments": {},
   "cell_type": "markdown",
   "metadata": {},
   "source": [
    "Podemos seleccionar todo en orden inverso"
   ]
  },
  {
   "cell_type": "code",
   "execution_count": 14,
   "metadata": {},
   "outputs": [
    {
     "data": {
      "text/html": [
       "<div><style>\n",
       ".dataframe > thead > tr > th,\n",
       ".dataframe > tbody > tr > td {\n",
       "  text-align: right;\n",
       "}\n",
       "</style>\n",
       "<small>shape: (5, 8)</small><table border=\"1\" class=\"dataframe\"><thead><tr><th>category</th><th>calories</th><th>fats_g</th><th>sugars_g</th><th>category_reverse</th><th>calories_reverse</th><th>fats_g_reverse</th><th>sugars_g_reverse</th></tr><tr><td>str</td><td>i64</td><td>f64</td><td>i64</td><td>str</td><td>i64</td><td>f64</td><td>i64</td></tr></thead><tbody><tr><td>&quot;vegetables&quot;</td><td>45</td><td>0.5</td><td>2</td><td>&quot;fruit&quot;</td><td>50</td><td>0.0</td><td>11</td></tr><tr><td>&quot;seafood&quot;</td><td>150</td><td>5.0</td><td>0</td><td>&quot;vegetables&quot;</td><td>30</td><td>0.0</td><td>5</td></tr><tr><td>&quot;meat&quot;</td><td>100</td><td>5.0</td><td>0</td><td>&quot;meat&quot;</td><td>100</td><td>7.0</td><td>0</td></tr><tr><td>&quot;fruit&quot;</td><td>60</td><td>0.0</td><td>11</td><td>&quot;fruit&quot;</td><td>130</td><td>0.0</td><td>25</td></tr><tr><td>&quot;seafood&quot;</td><td>140</td><td>5.0</td><td>1</td><td>&quot;seafood&quot;</td><td>130</td><td>1.5</td><td>0</td></tr></tbody></table></div>"
      ],
      "text/plain": [
       "shape: (5, 8)\n",
       "┌────────────┬──────────┬────────┬──────────┬────────────┬────────────┬────────────┬───────────────┐\n",
       "│ category   ┆ calories ┆ fats_g ┆ sugars_g ┆ category_r ┆ calories_r ┆ fats_g_rev ┆ sugars_g_reve │\n",
       "│ ---        ┆ ---      ┆ ---    ┆ ---      ┆ everse     ┆ everse     ┆ erse       ┆ rse           │\n",
       "│ str        ┆ i64      ┆ f64    ┆ i64      ┆ ---        ┆ ---        ┆ ---        ┆ ---           │\n",
       "│            ┆          ┆        ┆          ┆ str        ┆ i64        ┆ f64        ┆ i64           │\n",
       "╞════════════╪══════════╪════════╪══════════╪════════════╪════════════╪════════════╪═══════════════╡\n",
       "│ vegetables ┆ 45       ┆ 0.5    ┆ 2        ┆ fruit      ┆ 50         ┆ 0.0        ┆ 11            │\n",
       "│ seafood    ┆ 150      ┆ 5.0    ┆ 0        ┆ vegetables ┆ 30         ┆ 0.0        ┆ 5             │\n",
       "│ meat       ┆ 100      ┆ 5.0    ┆ 0        ┆ meat       ┆ 100        ┆ 7.0        ┆ 0             │\n",
       "│ fruit      ┆ 60       ┆ 0.0    ┆ 11       ┆ fruit      ┆ 130        ┆ 0.0        ┆ 25            │\n",
       "│ seafood    ┆ 140      ┆ 5.0    ┆ 1        ┆ seafood    ┆ 130        ┆ 1.5        ┆ 0             │\n",
       "└────────────┴──────────┴────────┴──────────┴────────────┴────────────┴────────────┴───────────────┘"
      ]
     },
     "execution_count": 14,
     "metadata": {},
     "output_type": "execute_result"
    }
   ],
   "source": [
    "(df.select([\n",
    "pl.all(),\n",
    "pl.all().reverse().suffix(\"_reverse\")])).head()\n"
   ]
  },
  {
   "cell_type": "code",
   "execution_count": 16,
   "metadata": {},
   "outputs": [
    {
     "data": {
      "text/html": [
       "<div><style>\n",
       ".dataframe > thead > tr > th,\n",
       ".dataframe > tbody > tr > td {\n",
       "  text-align: right;\n",
       "}\n",
       "</style>\n",
       "<small>shape: (5, 8)</small><table border=\"1\" class=\"dataframe\"><thead><tr><th>category</th><th>calories</th><th>fats_g</th><th>sugars_g</th><th>category_sum</th><th>calories_sum</th><th>fats_g_sum</th><th>sugars_g_sum</th></tr><tr><td>str</td><td>i64</td><td>f64</td><td>i64</td><td>str</td><td>i64</td><td>f64</td><td>i64</td></tr></thead><tbody><tr><td>&quot;vegetables&quot;</td><td>45</td><td>0.5</td><td>2</td><td>null</td><td>2392</td><td>86.5</td><td>93</td></tr><tr><td>&quot;seafood&quot;</td><td>150</td><td>5.0</td><td>0</td><td>null</td><td>2392</td><td>86.5</td><td>93</td></tr><tr><td>&quot;meat&quot;</td><td>100</td><td>5.0</td><td>0</td><td>null</td><td>2392</td><td>86.5</td><td>93</td></tr><tr><td>&quot;fruit&quot;</td><td>60</td><td>0.0</td><td>11</td><td>null</td><td>2392</td><td>86.5</td><td>93</td></tr><tr><td>&quot;seafood&quot;</td><td>140</td><td>5.0</td><td>1</td><td>null</td><td>2392</td><td>86.5</td><td>93</td></tr></tbody></table></div>"
      ],
      "text/plain": [
       "shape: (5, 8)\n",
       "┌────────────┬──────────┬────────┬──────────┬────────────┬────────────┬────────────┬───────────────┐\n",
       "│ category   ┆ calories ┆ fats_g ┆ sugars_g ┆ category_s ┆ calories_s ┆ fats_g_sum ┆ sugars_g_sum  │\n",
       "│ ---        ┆ ---      ┆ ---    ┆ ---      ┆ um         ┆ um         ┆ ---        ┆ ---           │\n",
       "│ str        ┆ i64      ┆ f64    ┆ i64      ┆ ---        ┆ ---        ┆ f64        ┆ i64           │\n",
       "│            ┆          ┆        ┆          ┆ str        ┆ i64        ┆            ┆               │\n",
       "╞════════════╪══════════╪════════╪══════════╪════════════╪════════════╪════════════╪═══════════════╡\n",
       "│ vegetables ┆ 45       ┆ 0.5    ┆ 2        ┆ null       ┆ 2392       ┆ 86.5       ┆ 93            │\n",
       "│ seafood    ┆ 150      ┆ 5.0    ┆ 0        ┆ null       ┆ 2392       ┆ 86.5       ┆ 93            │\n",
       "│ meat       ┆ 100      ┆ 5.0    ┆ 0        ┆ null       ┆ 2392       ┆ 86.5       ┆ 93            │\n",
       "│ fruit      ┆ 60       ┆ 0.0    ┆ 11       ┆ null       ┆ 2392       ┆ 86.5       ┆ 93            │\n",
       "│ seafood    ┆ 140      ┆ 5.0    ┆ 1        ┆ null       ┆ 2392       ┆ 86.5       ┆ 93            │\n",
       "└────────────┴──────────┴────────┴──────────┴────────────┴────────────┴────────────┴───────────────┘"
      ]
     },
     "execution_count": 16,
     "metadata": {},
     "output_type": "execute_result"
    }
   ],
   "source": [
    "(df.select([\n",
    "pl.all(),\n",
    "pl.all().sum().suffix(\"_sum\")])).head()"
   ]
  },
  {
   "cell_type": "code",
   "execution_count": 32,
   "metadata": {},
   "outputs": [
    {
     "data": {
      "text/html": [
       "<div><style>\n",
       ".dataframe > thead > tr > th,\n",
       ".dataframe > tbody > tr > td {\n",
       "  text-align: right;\n",
       "}\n",
       "</style>\n",
       "<small>shape: (1, 1)</small><table border=\"1\" class=\"dataframe\"><thead><tr><th>unique_calories</th></tr><tr><td>u32</td></tr></thead><tbody><tr><td>14</td></tr></tbody></table></div>"
      ],
      "text/plain": [
       "shape: (1, 1)\n",
       "┌─────────────────┐\n",
       "│ unique_calories │\n",
       "│ ---             │\n",
       "│ u32             │\n",
       "╞═════════════════╡\n",
       "│ 14              │\n",
       "└─────────────────┘"
      ]
     },
     "execution_count": 32,
     "metadata": {},
     "output_type": "execute_result"
    }
   ],
   "source": [
    "(df.select([\n",
    "pl.col(\"calories\").n_unique().alias(\"unique_calories\")]))"
   ]
  },
  {
   "attachments": {},
   "cell_type": "markdown",
   "metadata": {},
   "source": [
    "4. iloc"
   ]
  },
  {
   "attachments": {},
   "cell_type": "markdown",
   "metadata": {},
   "source": [
    "Polars no trae en si una función iloc como Pandas pero podemos usar la función Select para seleccionar filas y columnas. \n",
    "La indexación tiene un caso de uso limitado en polares hay algunos casos de uso en polars donde la indexación de soporte cuadrado es efectiva. \n",
    "Sin embargo, hay muchos casos de uso en los que la indexación le impide usar toda la potencia de los polares.\n",
    "Casos de uso en los que la indexación es efectiva:\n",
    "extraer un valor escalar de un marco de datos \n",
    "convertir una columna de marco de datos en una serie \n",
    "para análisis de datos exploratorios e inspeccionar algunas filas y/o columnas \n",
    "\n",
    "La primera desventaja de la indexación con soportes cuadrados es que la indexación solo funciona en modo ansioso. Cualquier paso de su consulta que involucre la indexación de soporte cuadrado no puede incluirse en una consulta perezosa, lo que significa que el paso no puede optimizarse como parte de una consulta perezosa y el paso no puede ser parte de una consulta de transmisión que procesa datos más grandes de memoria en lotes. "
   ]
  },
  {
   "cell_type": "code",
   "execution_count": 33,
   "metadata": {},
   "outputs": [
    {
     "data": {
      "text/html": [
       "<div><style>\n",
       ".dataframe > thead > tr > th,\n",
       ".dataframe > tbody > tr > td {\n",
       "  text-align: right;\n",
       "}\n",
       "</style>\n",
       "<small>shape: (7, 4)</small><table border=\"1\" class=\"dataframe\"><thead><tr><th>category</th><th>calories</th><th>fats_g</th><th>sugars_g</th></tr><tr><td>str</td><td>i64</td><td>f64</td><td>i64</td></tr></thead><tbody><tr><td>&quot;vegetables&quot;</td><td>45</td><td>0.5</td><td>2</td></tr><tr><td>&quot;seafood&quot;</td><td>150</td><td>5.0</td><td>0</td></tr><tr><td>&quot;meat&quot;</td><td>100</td><td>5.0</td><td>0</td></tr><tr><td>&quot;fruit&quot;</td><td>60</td><td>0.0</td><td>11</td></tr><tr><td>&quot;seafood&quot;</td><td>140</td><td>5.0</td><td>1</td></tr><tr><td>&quot;meat&quot;</td><td>120</td><td>10.0</td><td>1</td></tr><tr><td>&quot;vegetables&quot;</td><td>20</td><td>0.0</td><td>2</td></tr></tbody></table></div>"
      ],
      "text/plain": [
       "shape: (7, 4)\n",
       "┌────────────┬──────────┬────────┬──────────┐\n",
       "│ category   ┆ calories ┆ fats_g ┆ sugars_g │\n",
       "│ ---        ┆ ---      ┆ ---    ┆ ---      │\n",
       "│ str        ┆ i64      ┆ f64    ┆ i64      │\n",
       "╞════════════╪══════════╪════════╪══════════╡\n",
       "│ vegetables ┆ 45       ┆ 0.5    ┆ 2        │\n",
       "│ seafood    ┆ 150      ┆ 5.0    ┆ 0        │\n",
       "│ meat       ┆ 100      ┆ 5.0    ┆ 0        │\n",
       "│ fruit      ┆ 60       ┆ 0.0    ┆ 11       │\n",
       "│ seafood    ┆ 140      ┆ 5.0    ┆ 1        │\n",
       "│ meat       ┆ 120      ┆ 10.0   ┆ 1        │\n",
       "│ vegetables ┆ 20       ┆ 0.0    ┆ 2        │\n",
       "└────────────┴──────────┴────────┴──────────┘"
      ]
     },
     "execution_count": 33,
     "metadata": {},
     "output_type": "execute_result"
    }
   ],
   "source": [
    "df.head(7)"
   ]
  },
  {
   "cell_type": "code",
   "execution_count": 38,
   "metadata": {},
   "outputs": [
    {
     "data": {
      "text/html": [
       "<div><style>\n",
       ".dataframe > thead > tr > th,\n",
       ".dataframe > tbody > tr > td {\n",
       "  text-align: right;\n",
       "}\n",
       "</style>\n",
       "<small>shape: (1, 4)</small><table border=\"1\" class=\"dataframe\"><thead><tr><th>category</th><th>calories</th><th>fats_g</th><th>sugars_g</th></tr><tr><td>str</td><td>i64</td><td>f64</td><td>i64</td></tr></thead><tbody><tr><td>&quot;meat&quot;</td><td>100</td><td>5.0</td><td>0</td></tr></tbody></table></div>"
      ],
      "text/plain": [
       "shape: (1, 4)\n",
       "┌──────────┬──────────┬────────┬──────────┐\n",
       "│ category ┆ calories ┆ fats_g ┆ sugars_g │\n",
       "│ ---      ┆ ---      ┆ ---    ┆ ---      │\n",
       "│ str      ┆ i64      ┆ f64    ┆ i64      │\n",
       "╞══════════╪══════════╪════════╪══════════╡\n",
       "│ meat     ┆ 100      ┆ 5.0    ┆ 0        │\n",
       "└──────────┴──────────┴────────┴──────────┘"
      ]
     },
     "execution_count": 38,
     "metadata": {},
     "output_type": "execute_result"
    }
   ],
   "source": [
    "#Seleccionamos cualquier fila del df por su index \n",
    "df[2, :]"
   ]
  },
  {
   "cell_type": "code",
   "execution_count": 39,
   "metadata": {},
   "outputs": [
    {
     "data": {
      "text/html": [
       "<div><style>\n",
       ".dataframe > thead > tr > th,\n",
       ".dataframe > tbody > tr > td {\n",
       "  text-align: right;\n",
       "}\n",
       "</style>\n",
       "<small>shape: (3, 4)</small><table border=\"1\" class=\"dataframe\"><thead><tr><th>category</th><th>calories</th><th>fats_g</th><th>sugars_g</th></tr><tr><td>str</td><td>i64</td><td>f64</td><td>i64</td></tr></thead><tbody><tr><td>&quot;meat&quot;</td><td>100</td><td>5.0</td><td>0</td></tr><tr><td>&quot;seafood&quot;</td><td>140</td><td>5.0</td><td>1</td></tr><tr><td>&quot;vegetables&quot;</td><td>20</td><td>0.0</td><td>2</td></tr></tbody></table></div>"
      ],
      "text/plain": [
       "shape: (3, 4)\n",
       "┌────────────┬──────────┬────────┬──────────┐\n",
       "│ category   ┆ calories ┆ fats_g ┆ sugars_g │\n",
       "│ ---        ┆ ---      ┆ ---    ┆ ---      │\n",
       "│ str        ┆ i64      ┆ f64    ┆ i64      │\n",
       "╞════════════╪══════════╪════════╪══════════╡\n",
       "│ meat       ┆ 100      ┆ 5.0    ┆ 0        │\n",
       "│ seafood    ┆ 140      ┆ 5.0    ┆ 1        │\n",
       "│ vegetables ┆ 20       ┆ 0.0    ┆ 2        │\n",
       "└────────────┴──────────┴────────┴──────────┘"
      ]
     },
     "execution_count": 39,
     "metadata": {},
     "output_type": "execute_result"
    }
   ],
   "source": [
    "#Seleccionamos varias filas\n",
    "df[[2,4,6], :]"
   ]
  },
  {
   "cell_type": "code",
   "execution_count": 40,
   "metadata": {},
   "outputs": [
    {
     "data": {
      "text/html": [
       "<div><style>\n",
       ".dataframe > thead > tr > th,\n",
       ".dataframe > tbody > tr > td {\n",
       "  text-align: right;\n",
       "}\n",
       "</style>\n",
       "<small>shape: (4, 4)</small><table border=\"1\" class=\"dataframe\"><thead><tr><th>category</th><th>calories</th><th>fats_g</th><th>sugars_g</th></tr><tr><td>str</td><td>i64</td><td>f64</td><td>i64</td></tr></thead><tbody><tr><td>&quot;meat&quot;</td><td>100</td><td>5.0</td><td>0</td></tr><tr><td>&quot;fruit&quot;</td><td>60</td><td>0.0</td><td>11</td></tr><tr><td>&quot;seafood&quot;</td><td>140</td><td>5.0</td><td>1</td></tr><tr><td>&quot;meat&quot;</td><td>120</td><td>10.0</td><td>1</td></tr></tbody></table></div>"
      ],
      "text/plain": [
       "shape: (4, 4)\n",
       "┌──────────┬──────────┬────────┬──────────┐\n",
       "│ category ┆ calories ┆ fats_g ┆ sugars_g │\n",
       "│ ---      ┆ ---      ┆ ---    ┆ ---      │\n",
       "│ str      ┆ i64      ┆ f64    ┆ i64      │\n",
       "╞══════════╪══════════╪════════╪══════════╡\n",
       "│ meat     ┆ 100      ┆ 5.0    ┆ 0        │\n",
       "│ fruit    ┆ 60       ┆ 0.0    ┆ 11       │\n",
       "│ seafood  ┆ 140      ┆ 5.0    ┆ 1        │\n",
       "│ meat     ┆ 120      ┆ 10.0   ┆ 1        │\n",
       "└──────────┴──────────┴────────┴──────────┘"
      ]
     },
     "execution_count": 40,
     "metadata": {},
     "output_type": "execute_result"
    }
   ],
   "source": [
    "#Seleccionamos un conjunto de filas \n",
    "df[2:6, :]"
   ]
  },
  {
   "attachments": {},
   "cell_type": "markdown",
   "metadata": {},
   "source": [
    "5. alias"
   ]
  },
  {
   "attachments": {},
   "cell_type": "markdown",
   "metadata": {},
   "source": [
    "La función alias() de Polars se usa para crear una nuevas columnas a un DataFrame nuevo\n",
    "Para agregar una nuevas columnas a un DataFrame original usamos el parametro pl. all() , el que nos indica que se va acrear una nueva columna en el DataFrame original sinmodificarlo. \n",
    "\n",
    "La función devuelve un nuevo DataFrame con las columnas agregadas.\n"
   ]
  },
  {
   "cell_type": "code",
   "execution_count": 43,
   "metadata": {},
   "outputs": [
    {
     "data": {
      "text/html": [
       "<div><style>\n",
       ".dataframe > thead > tr > th,\n",
       ".dataframe > tbody > tr > td {\n",
       "  text-align: right;\n",
       "}\n",
       "</style>\n",
       "<small>shape: (1, 1)</small><table border=\"1\" class=\"dataframe\"><thead><tr><th>count_calories</th></tr><tr><td>f64</td></tr></thead><tbody><tr><td>88.592593</td></tr></tbody></table></div>"
      ],
      "text/plain": [
       "shape: (1, 1)\n",
       "┌────────────────┐\n",
       "│ count_calories │\n",
       "│ ---            │\n",
       "│ f64            │\n",
       "╞════════════════╡\n",
       "│ 88.592593      │\n",
       "└────────────────┘"
      ]
     },
     "execution_count": 43,
     "metadata": {},
     "output_type": "execute_result"
    }
   ],
   "source": [
    "df.select([pl.col(\"calories\").mean().alias(\"count_calories\")])\n"
   ]
  },
  {
   "cell_type": "code",
   "execution_count": 44,
   "metadata": {},
   "outputs": [
    {
     "data": {
      "text/html": [
       "<div><style>\n",
       ".dataframe > thead > tr > th,\n",
       ".dataframe > tbody > tr > td {\n",
       "  text-align: right;\n",
       "}\n",
       "</style>\n",
       "<small>shape: (5, 5)</small><table border=\"1\" class=\"dataframe\"><thead><tr><th>category</th><th>calories</th><th>fats_g</th><th>sugars_g</th><th>count_calories</th></tr><tr><td>str</td><td>i64</td><td>f64</td><td>i64</td><td>f64</td></tr></thead><tbody><tr><td>&quot;vegetables&quot;</td><td>45</td><td>0.5</td><td>2</td><td>88.592593</td></tr><tr><td>&quot;seafood&quot;</td><td>150</td><td>5.0</td><td>0</td><td>88.592593</td></tr><tr><td>&quot;meat&quot;</td><td>100</td><td>5.0</td><td>0</td><td>88.592593</td></tr><tr><td>&quot;fruit&quot;</td><td>60</td><td>0.0</td><td>11</td><td>88.592593</td></tr><tr><td>&quot;seafood&quot;</td><td>140</td><td>5.0</td><td>1</td><td>88.592593</td></tr></tbody></table></div>"
      ],
      "text/plain": [
       "shape: (5, 5)\n",
       "┌────────────┬──────────┬────────┬──────────┬────────────────┐\n",
       "│ category   ┆ calories ┆ fats_g ┆ sugars_g ┆ count_calories │\n",
       "│ ---        ┆ ---      ┆ ---    ┆ ---      ┆ ---            │\n",
       "│ str        ┆ i64      ┆ f64    ┆ i64      ┆ f64            │\n",
       "╞════════════╪══════════╪════════╪══════════╪════════════════╡\n",
       "│ vegetables ┆ 45       ┆ 0.5    ┆ 2        ┆ 88.592593      │\n",
       "│ seafood    ┆ 150      ┆ 5.0    ┆ 0        ┆ 88.592593      │\n",
       "│ meat       ┆ 100      ┆ 5.0    ┆ 0        ┆ 88.592593      │\n",
       "│ fruit      ┆ 60       ┆ 0.0    ┆ 11       ┆ 88.592593      │\n",
       "│ seafood    ┆ 140      ┆ 5.0    ┆ 1        ┆ 88.592593      │\n",
       "└────────────┴──────────┴────────┴──────────┴────────────────┘"
      ]
     },
     "execution_count": 44,
     "metadata": {},
     "output_type": "execute_result"
    }
   ],
   "source": [
    "df.select([pl.all(),pl.col(\"calories\").mean().alias(\"count_calories\")]).head()"
   ]
  },
  {
   "cell_type": "code",
   "execution_count": 50,
   "metadata": {},
   "outputs": [
    {
     "data": {
      "text/html": [
       "<div><style>\n",
       ".dataframe > thead > tr > th,\n",
       ".dataframe > tbody > tr > td {\n",
       "  text-align: right;\n",
       "}\n",
       "</style>\n",
       "<small>shape: (5, 6)</small><table border=\"1\" class=\"dataframe\"><thead><tr><th>category</th><th>calories</th><th>fats_g</th><th>sugars_g</th><th>calories_sum</th><th>contar</th></tr><tr><td>str</td><td>i64</td><td>f64</td><td>i64</td><td>i64</td><td>u32</td></tr></thead><tbody><tr><td>&quot;vegetables&quot;</td><td>45</td><td>0.5</td><td>2</td><td>2392</td><td>27</td></tr><tr><td>&quot;seafood&quot;</td><td>150</td><td>5.0</td><td>0</td><td>2392</td><td>27</td></tr><tr><td>&quot;meat&quot;</td><td>100</td><td>5.0</td><td>0</td><td>2392</td><td>27</td></tr><tr><td>&quot;fruit&quot;</td><td>60</td><td>0.0</td><td>11</td><td>2392</td><td>27</td></tr><tr><td>&quot;seafood&quot;</td><td>140</td><td>5.0</td><td>1</td><td>2392</td><td>27</td></tr></tbody></table></div>"
      ],
      "text/plain": [
       "shape: (5, 6)\n",
       "┌────────────┬──────────┬────────┬──────────┬──────────────┬────────┐\n",
       "│ category   ┆ calories ┆ fats_g ┆ sugars_g ┆ calories_sum ┆ contar │\n",
       "│ ---        ┆ ---      ┆ ---    ┆ ---      ┆ ---          ┆ ---    │\n",
       "│ str        ┆ i64      ┆ f64    ┆ i64      ┆ i64          ┆ u32    │\n",
       "╞════════════╪══════════╪════════╪══════════╪══════════════╪════════╡\n",
       "│ vegetables ┆ 45       ┆ 0.5    ┆ 2        ┆ 2392         ┆ 27     │\n",
       "│ seafood    ┆ 150      ┆ 5.0    ┆ 0        ┆ 2392         ┆ 27     │\n",
       "│ meat       ┆ 100      ┆ 5.0    ┆ 0        ┆ 2392         ┆ 27     │\n",
       "│ fruit      ┆ 60       ┆ 0.0    ┆ 11       ┆ 2392         ┆ 27     │\n",
       "│ seafood    ┆ 140      ┆ 5.0    ┆ 1        ┆ 2392         ┆ 27     │\n",
       "└────────────┴──────────┴────────┴──────────┴──────────────┴────────┘"
      ]
     },
     "execution_count": 50,
     "metadata": {},
     "output_type": "execute_result"
    }
   ],
   "source": [
    "df.with_columns(\n",
    "    [\n",
    "        pl.sum(\"calories\").alias(\"calories_sum\"),\n",
    "        pl.col(\"sugars_g\").count().alias(\"contar\"),\n",
    "    ]).head ()"
   ]
  },
  {
   "attachments": {},
   "cell_type": "markdown",
   "metadata": {},
   "source": [
    "Sin el alias"
   ]
  },
  {
   "cell_type": "code",
   "execution_count": 51,
   "metadata": {},
   "outputs": [
    {
     "data": {
      "text/html": [
       "<div><style>\n",
       ".dataframe > thead > tr > th,\n",
       ".dataframe > tbody > tr > td {\n",
       "  text-align: right;\n",
       "}\n",
       "</style>\n",
       "<small>shape: (5, 4)</small><table border=\"1\" class=\"dataframe\"><thead><tr><th>category</th><th>calories</th><th>fats_g</th><th>sugars_g</th></tr><tr><td>str</td><td>i64</td><td>f64</td><td>u32</td></tr></thead><tbody><tr><td>&quot;vegetables&quot;</td><td>2392</td><td>0.5</td><td>27</td></tr><tr><td>&quot;seafood&quot;</td><td>2392</td><td>5.0</td><td>27</td></tr><tr><td>&quot;meat&quot;</td><td>2392</td><td>5.0</td><td>27</td></tr><tr><td>&quot;fruit&quot;</td><td>2392</td><td>0.0</td><td>27</td></tr><tr><td>&quot;seafood&quot;</td><td>2392</td><td>5.0</td><td>27</td></tr></tbody></table></div>"
      ],
      "text/plain": [
       "shape: (5, 4)\n",
       "┌────────────┬──────────┬────────┬──────────┐\n",
       "│ category   ┆ calories ┆ fats_g ┆ sugars_g │\n",
       "│ ---        ┆ ---      ┆ ---    ┆ ---      │\n",
       "│ str        ┆ i64      ┆ f64    ┆ u32      │\n",
       "╞════════════╪══════════╪════════╪══════════╡\n",
       "│ vegetables ┆ 2392     ┆ 0.5    ┆ 27       │\n",
       "│ seafood    ┆ 2392     ┆ 5.0    ┆ 27       │\n",
       "│ meat       ┆ 2392     ┆ 5.0    ┆ 27       │\n",
       "│ fruit      ┆ 2392     ┆ 0.0    ┆ 27       │\n",
       "│ seafood    ┆ 2392     ┆ 5.0    ┆ 27       │\n",
       "└────────────┴──────────┴────────┴──────────┘"
      ]
     },
     "execution_count": 51,
     "metadata": {},
     "output_type": "execute_result"
    }
   ],
   "source": [
    "df.with_columns(\n",
    "    [\n",
    "        pl.sum(\"calories\"),\n",
    "        pl. col (\"sugars_g\").count(),\n",
    "    ]).head()"
   ]
  },
  {
   "attachments": {},
   "cell_type": "markdown",
   "metadata": {},
   "source": [
    "6. group by"
   ]
  },
  {
   "attachments": {},
   "cell_type": "markdown",
   "metadata": {},
   "source": [
    "df.groupby() es un método en la biblioteca de Polars que se utiliza para agrupar filas de un DataFrame en función de una o varias columnas. Esto le permite realizar operaciones agregadas en los grupos, como calcular la media, la suma o el recuento de los valores de cada grupo.\n",
    "df.groupby() devuelve un objeto GroupBy, que luego puede usar para realizar varias operaciones en los grupos, como calcular la suma, la media o el recuento de los valores en cada grupo."
   ]
  },
  {
   "cell_type": "code",
   "execution_count": 54,
   "metadata": {},
   "outputs": [
    {
     "name": "stdout",
     "output_type": "stream",
     "text": [
      "shape: (14, 4)\n",
      "┌──────────┬──────────┬──────────┬──────────┐\n",
      "│ calories ┆ category ┆ fats_g   ┆ sugars_g │\n",
      "│ ---      ┆ ---      ┆ ---      ┆ ---      │\n",
      "│ i64      ┆ str      ┆ f64      ┆ f64      │\n",
      "╞══════════╪══════════╪══════════╪══════════╡\n",
      "│ 20       ┆ null     ┆ 0.0      ┆ 2.0      │\n",
      "│ 200      ┆ null     ┆ 8.0      ┆ 1.333333 │\n",
      "│ 120      ┆ null     ┆ 10.0     ┆ 1.0      │\n",
      "│ 22       ┆ null     ┆ 0.0      ┆ 3.0      │\n",
      "│ …        ┆ …        ┆ …        ┆ …        │\n",
      "│ 130      ┆ null     ┆ 2.166667 ┆ 8.333333 │\n",
      "│ 50       ┆ null     ┆ 2.25     ┆ 5.5      │\n",
      "│ 25       ┆ null     ┆ 0.0      ┆ 3.0      │\n",
      "│ 150      ┆ null     ┆ 5.0      ┆ 0.0      │\n",
      "└──────────┴──────────┴──────────┴──────────┘\n"
     ]
    }
   ],
   "source": [
    "grouped=df.groupby('calories')\n",
    "# Muestra La media de cada grupo\n",
    "print(grouped.mean());"
   ]
  },
  {
   "cell_type": "code",
   "execution_count": 55,
   "metadata": {},
   "outputs": [
    {
     "name": "stdout",
     "output_type": "stream",
     "text": [
      "shape: (19, 4)\n",
      "┌──────────┬────────┬──────────┬──────────┐\n",
      "│ calories ┆ fats_g ┆ category ┆ sugars_g │\n",
      "│ ---      ┆ ---    ┆ ---      ┆ ---      │\n",
      "│ i64      ┆ f64    ┆ str      ┆ i64      │\n",
      "╞══════════╪════════╪══════════╪══════════╡\n",
      "│ 50       ┆ 0.0    ┆ null     ┆ 11       │\n",
      "│ 22       ┆ 0.0    ┆ null     ┆ 3        │\n",
      "│ 20       ┆ 0.0    ┆ null     ┆ 2        │\n",
      "│ 100      ┆ 7.0    ┆ null     ┆ 0        │\n",
      "│ …        ┆ …      ┆ …        ┆ …        │\n",
      "│ 30       ┆ 0.0    ┆ null     ┆ 13       │\n",
      "│ 110      ┆ 7.0    ┆ null     ┆ 0        │\n",
      "│ 130      ┆ 5.0    ┆ null     ┆ 0        │\n",
      "│ 120      ┆ 10.0   ┆ null     ┆ 1        │\n",
      "└──────────┴────────┴──────────┴──────────┘\n"
     ]
    }
   ],
   "source": [
    "grouped=df.groupby(['calories', 'fats_g'])\n",
    "#Muestra la suma de cada grupo\n",
    "print(grouped.sum());"
   ]
  },
  {
   "cell_type": "code",
   "execution_count": 58,
   "metadata": {},
   "outputs": [
    {
     "data": {
      "text/html": [
       "<div><style>\n",
       ".dataframe > thead > tr > th,\n",
       ".dataframe > tbody > tr > td {\n",
       "  text-align: right;\n",
       "}\n",
       "</style>\n",
       "<small>shape: (4, 2)</small><table border=\"1\" class=\"dataframe\"><thead><tr><th>category</th><th>calories</th></tr><tr><td>str</td><td>i64</td></tr></thead><tbody><tr><td>&quot;seafood&quot;</td><td>1250</td></tr><tr><td>&quot;vegetables&quot;</td><td>192</td></tr><tr><td>&quot;meat&quot;</td><td>540</td></tr><tr><td>&quot;fruit&quot;</td><td>410</td></tr></tbody></table></div>"
      ],
      "text/plain": [
       "shape: (4, 2)\n",
       "┌────────────┬──────────┐\n",
       "│ category   ┆ calories │\n",
       "│ ---        ┆ ---      │\n",
       "│ str        ┆ i64      │\n",
       "╞════════════╪══════════╡\n",
       "│ seafood    ┆ 1250     │\n",
       "│ vegetables ┆ 192      │\n",
       "│ meat       ┆ 540      │\n",
       "│ fruit      ┆ 410      │\n",
       "└────────────┴──────────┘"
      ]
     },
     "execution_count": 58,
     "metadata": {},
     "output_type": "execute_result"
    }
   ],
   "source": [
    "df.groupby(\"category\").agg([pl.col(\"calories\").sum()])\n"
   ]
  },
  {
   "cell_type": "code",
   "execution_count": 60,
   "metadata": {},
   "outputs": [
    {
     "data": {
      "text/html": [
       "<div><style>\n",
       ".dataframe > thead > tr > th,\n",
       ".dataframe > tbody > tr > td {\n",
       "  text-align: right;\n",
       "}\n",
       "</style>\n",
       "<small>shape: (4, 2)</small><table border=\"1\" class=\"dataframe\"><thead><tr><th>category</th><th>calories</th></tr><tr><td>str</td><td>i64</td></tr></thead><tbody><tr><td>&quot;meat&quot;</td><td>540</td></tr><tr><td>&quot;seafood&quot;</td><td>1250</td></tr><tr><td>&quot;fruit&quot;</td><td>410</td></tr><tr><td>&quot;vegetables&quot;</td><td>192</td></tr></tbody></table></div>"
      ],
      "text/plain": [
       "shape: (4, 2)\n",
       "┌────────────┬──────────┐\n",
       "│ category   ┆ calories │\n",
       "│ ---        ┆ ---      │\n",
       "│ str        ┆ i64      │\n",
       "╞════════════╪══════════╡\n",
       "│ meat       ┆ 540      │\n",
       "│ seafood    ┆ 1250     │\n",
       "│ fruit      ┆ 410      │\n",
       "│ vegetables ┆ 192      │\n",
       "└────────────┴──────────┘"
      ]
     },
     "execution_count": 60,
     "metadata": {},
     "output_type": "execute_result"
    }
   ],
   "source": [
    "(df.lazy().groupby(\"category\").agg([pl.col(\"calories\").sum()])).collect()"
   ]
  },
  {
   "attachments": {},
   "cell_type": "markdown",
   "metadata": {},
   "source": [
    "Esto permite a Polars insertar la expresión en el motor de consultas, realizar optimizaciones y almacenar en caché los resultados intermedios.\n",
    "\n",
    "Rust difiere un poco de Python en este sentido. Donde el modo ansioso de Python es poco más que una fina capa sobre la API perezosa (lazy), el modo ansioso de Rust está más cerca de un detalle de implementación, y no se recomienda realmente para el uso del usuario final. Es posible que la API ansiosa en Rust tenga un alcance privado en algún momento en el futuro.\n",
    "Por lo tanto, para el resto de este documento, suponga que los ejemplos de Rust están usando la API diferida."
   ]
  },
  {
   "attachments": {},
   "cell_type": "markdown",
   "metadata": {},
   "source": [
    "7. sort values"
   ]
  },
  {
   "attachments": {},
   "cell_type": "markdown",
   "metadata": {},
   "source": [
    "La función .sort() de Polars le permite ordenar un DataFrame por una o varias columnas. Ordena el DataFrame según los valores de una o más columnas, en orden ascendente o descendente. La función devuelve un nuevo DataFrame ordenado por las columnas especificadas."
   ]
  },
  {
   "cell_type": "code",
   "execution_count": 63,
   "metadata": {},
   "outputs": [
    {
     "data": {
      "text/html": [
       "<div><style>\n",
       ".dataframe > thead > tr > th,\n",
       ".dataframe > tbody > tr > td {\n",
       "  text-align: right;\n",
       "}\n",
       "</style>\n",
       "<small>shape: (5, 4)</small><table border=\"1\" class=\"dataframe\"><thead><tr><th>category</th><th>calories</th><th>fats_g</th><th>sugars_g</th></tr><tr><td>str</td><td>i64</td><td>f64</td><td>i64</td></tr></thead><tbody><tr><td>&quot;fruit&quot;</td><td>60</td><td>0.0</td><td>11</td></tr><tr><td>&quot;fruit&quot;</td><td>30</td><td>0.0</td><td>5</td></tr><tr><td>&quot;fruit&quot;</td><td>50</td><td>4.5</td><td>0</td></tr><tr><td>&quot;fruit&quot;</td><td>30</td><td>0.0</td><td>3</td></tr><tr><td>&quot;fruit&quot;</td><td>60</td><td>0.0</td><td>11</td></tr></tbody></table></div>"
      ],
      "text/plain": [
       "shape: (5, 4)\n",
       "┌──────────┬──────────┬────────┬──────────┐\n",
       "│ category ┆ calories ┆ fats_g ┆ sugars_g │\n",
       "│ ---      ┆ ---      ┆ ---    ┆ ---      │\n",
       "│ str      ┆ i64      ┆ f64    ┆ i64      │\n",
       "╞══════════╪══════════╪════════╪══════════╡\n",
       "│ fruit    ┆ 60       ┆ 0.0    ┆ 11       │\n",
       "│ fruit    ┆ 30       ┆ 0.0    ┆ 5        │\n",
       "│ fruit    ┆ 50       ┆ 4.5    ┆ 0        │\n",
       "│ fruit    ┆ 30       ┆ 0.0    ┆ 3        │\n",
       "│ fruit    ┆ 60       ┆ 0.0    ┆ 11       │\n",
       "└──────────┴──────────┴────────┴──────────┘"
      ]
     },
     "execution_count": 63,
     "metadata": {},
     "output_type": "execute_result"
    }
   ],
   "source": [
    "df_sorted=df.sort(by='category')\n",
    "df_sorted.head()"
   ]
  },
  {
   "attachments": {},
   "cell_type": "markdown",
   "metadata": {},
   "source": [
    "8. sample"
   ]
  },
  {
   "attachments": {},
   "cell_type": "markdown",
   "metadata": {},
   "source": [
    "La función .sample() de Polar le permite seleccionar filas aleatoriamente de un DataFrame. Devuelve un nuevo DataFrame que contiene las filas seleccionadas aleatoriamente. \n",
    "La función toma varios parámetros que le permiten controlar el proceso de muestreo, como el número de filas a devolver, y si se debe o no muestrear con reemplazo y semilla para la reproducibilidad."
   ]
  },
  {
   "cell_type": "code",
   "execution_count": 69,
   "metadata": {},
   "outputs": [
    {
     "data": {
      "text/html": [
       "<div><style>\n",
       ".dataframe > thead > tr > th,\n",
       ".dataframe > tbody > tr > td {\n",
       "  text-align: right;\n",
       "}\n",
       "</style>\n",
       "<small>shape: (5, 4)</small><table border=\"1\" class=\"dataframe\"><thead><tr><th>category</th><th>calories</th><th>fats_g</th><th>sugars_g</th></tr><tr><td>str</td><td>i64</td><td>f64</td><td>i64</td></tr></thead><tbody><tr><td>&quot;seafood&quot;</td><td>200</td><td>10.0</td><td>0</td></tr><tr><td>&quot;vegetables&quot;</td><td>25</td><td>0.0</td><td>2</td></tr><tr><td>&quot;fruit&quot;</td><td>130</td><td>0.0</td><td>25</td></tr><tr><td>&quot;seafood&quot;</td><td>130</td><td>5.0</td><td>0</td></tr><tr><td>&quot;seafood&quot;</td><td>140</td><td>5.0</td><td>1</td></tr></tbody></table></div>"
      ],
      "text/plain": [
       "shape: (5, 4)\n",
       "┌────────────┬──────────┬────────┬──────────┐\n",
       "│ category   ┆ calories ┆ fats_g ┆ sugars_g │\n",
       "│ ---        ┆ ---      ┆ ---    ┆ ---      │\n",
       "│ str        ┆ i64      ┆ f64    ┆ i64      │\n",
       "╞════════════╪══════════╪════════╪══════════╡\n",
       "│ seafood    ┆ 200      ┆ 10.0   ┆ 0        │\n",
       "│ vegetables ┆ 25       ┆ 0.0    ┆ 2        │\n",
       "│ fruit      ┆ 130      ┆ 0.0    ┆ 25       │\n",
       "│ seafood    ┆ 130      ┆ 5.0    ┆ 0        │\n",
       "│ seafood    ┆ 140      ┆ 5.0    ┆ 1        │\n",
       "└────────────┴──────────┴────────┴──────────┘"
      ]
     },
     "execution_count": 69,
     "metadata": {},
     "output_type": "execute_result"
    }
   ],
   "source": [
    "df.sample(n=5)"
   ]
  },
  {
   "attachments": {},
   "cell_type": "markdown",
   "metadata": {
    "notebookRunGroups": {
     "groupValue": "1"
    }
   },
   "source": [
    "frac: \n",
    "El parametro frac nos devuelve la fraccion de filas aleatorias"
   ]
  },
  {
   "cell_type": "code",
   "execution_count": 70,
   "metadata": {},
   "outputs": [
    {
     "name": "stderr",
     "output_type": "stream",
     "text": [
      "/tmp/ipykernel_16907/1455714412.py:1: DeprecationWarning: `frac` is deprecated as an argument to `sample`; use `fraction` instead.\n",
      "  df.sample(frac=0.5).tail()\n"
     ]
    },
    {
     "data": {
      "text/html": [
       "<div><style>\n",
       ".dataframe > thead > tr > th,\n",
       ".dataframe > tbody > tr > td {\n",
       "  text-align: right;\n",
       "}\n",
       "</style>\n",
       "<small>shape: (5, 4)</small><table border=\"1\" class=\"dataframe\"><thead><tr><th>category</th><th>calories</th><th>fats_g</th><th>sugars_g</th></tr><tr><td>str</td><td>i64</td><td>f64</td><td>i64</td></tr></thead><tbody><tr><td>&quot;seafood&quot;</td><td>130</td><td>5.0</td><td>0</td></tr><tr><td>&quot;seafood&quot;</td><td>200</td><td>7.0</td><td>2</td></tr><tr><td>&quot;meat&quot;</td><td>110</td><td>7.0</td><td>0</td></tr><tr><td>&quot;vegetables&quot;</td><td>25</td><td>0.0</td><td>2</td></tr><tr><td>&quot;seafood&quot;</td><td>200</td><td>7.0</td><td>2</td></tr></tbody></table></div>"
      ],
      "text/plain": [
       "shape: (5, 4)\n",
       "┌────────────┬──────────┬────────┬──────────┐\n",
       "│ category   ┆ calories ┆ fats_g ┆ sugars_g │\n",
       "│ ---        ┆ ---      ┆ ---    ┆ ---      │\n",
       "│ str        ┆ i64      ┆ f64    ┆ i64      │\n",
       "╞════════════╪══════════╪════════╪══════════╡\n",
       "│ seafood    ┆ 130      ┆ 5.0    ┆ 0        │\n",
       "│ seafood    ┆ 200      ┆ 7.0    ┆ 2        │\n",
       "│ meat       ┆ 110      ┆ 7.0    ┆ 0        │\n",
       "│ vegetables ┆ 25       ┆ 0.0    ┆ 2        │\n",
       "│ seafood    ┆ 200      ┆ 7.0    ┆ 2        │\n",
       "└────────────┴──────────┴────────┴──────────┘"
      ]
     },
     "execution_count": 70,
     "metadata": {},
     "output_type": "execute_result"
    }
   ],
   "source": [
    "df.sample(frac=0.5).tail()"
   ]
  },
  {
   "attachments": {},
   "cell_type": "markdown",
   "metadata": {},
   "source": [
    "seed: semilla para el generador de numeros aleatorios"
   ]
  },
  {
   "cell_type": "code",
   "execution_count": 72,
   "metadata": {},
   "outputs": [
    {
     "data": {
      "text/html": [
       "<div><style>\n",
       ".dataframe > thead > tr > th,\n",
       ".dataframe > tbody > tr > td {\n",
       "  text-align: right;\n",
       "}\n",
       "</style>\n",
       "<small>shape: (6, 4)</small><table border=\"1\" class=\"dataframe\"><thead><tr><th>category</th><th>calories</th><th>fats_g</th><th>sugars_g</th></tr><tr><td>str</td><td>i64</td><td>f64</td><td>i64</td></tr></thead><tbody><tr><td>&quot;vegetables&quot;</td><td>45</td><td>0.5</td><td>2</td></tr><tr><td>&quot;seafood&quot;</td><td>130</td><td>1.5</td><td>0</td></tr><tr><td>&quot;meat&quot;</td><td>110</td><td>7.0</td><td>0</td></tr><tr><td>&quot;seafood&quot;</td><td>200</td><td>7.0</td><td>2</td></tr><tr><td>&quot;fruit&quot;</td><td>50</td><td>0.0</td><td>11</td></tr><tr><td>&quot;fruit&quot;</td><td>30</td><td>0.0</td><td>3</td></tr></tbody></table></div>"
      ],
      "text/plain": [
       "shape: (6, 4)\n",
       "┌────────────┬──────────┬────────┬──────────┐\n",
       "│ category   ┆ calories ┆ fats_g ┆ sugars_g │\n",
       "│ ---        ┆ ---      ┆ ---    ┆ ---      │\n",
       "│ str        ┆ i64      ┆ f64    ┆ i64      │\n",
       "╞════════════╪══════════╪════════╪══════════╡\n",
       "│ vegetables ┆ 45       ┆ 0.5    ┆ 2        │\n",
       "│ seafood    ┆ 130      ┆ 1.5    ┆ 0        │\n",
       "│ meat       ┆ 110      ┆ 7.0    ┆ 0        │\n",
       "│ seafood    ┆ 200      ┆ 7.0    ┆ 2        │\n",
       "│ fruit      ┆ 50       ┆ 0.0    ┆ 11       │\n",
       "│ fruit      ┆ 30       ┆ 0.0    ┆ 3        │\n",
       "└────────────┴──────────┴────────┴──────────┘"
      ]
     },
     "execution_count": 72,
     "metadata": {},
     "output_type": "execute_result"
    }
   ],
   "source": [
    "df.sample(n=6, seed=123)"
   ]
  },
  {
   "attachments": {},
   "cell_type": "markdown",
   "metadata": {},
   "source": [
    "En el ejemplo anterior, la primera vez df.sample() se usa para seleccionar aleatoriamente filas sin reemplazo, la segunda vez se usa para seleccionar aleatoriamente filas con\n",
    "reemplazo y la última vez se usa para seleccionar aleatoriamente columnas sin reemplazo.\n",
    "\n",
    "Es importante tener en cuenta que el DataFrame original permanece sin cambios y el nuevo Dataframe de sample se devuelve con las filas seleccionadas al azar. \n",
    "\n",
    "El método sample puede ser útil cuando desea seleccionar aleatoriamente un subcojunto de datos para probar o validar o cuando desea seleccionar aleatoriamente una muestra de\n",
    "filas para un análsis posterior. El parámetro random_state es úbi para la reproducibildad y el parámetro axis = 1 le permite seleccionar columnas"
   ]
  },
  {
   "attachments": {},
   "cell_type": "markdown",
   "metadata": {},
   "source": [
    "9. exclude"
   ]
  },
  {
   "attachments": {},
   "cell_type": "markdown",
   "metadata": {},
   "source": [
    "Si desea excluir una columna completa."
   ]
  },
  {
   "cell_type": "code",
   "execution_count": 73,
   "metadata": {},
   "outputs": [
    {
     "data": {
      "text/html": [
       "<div><style>\n",
       ".dataframe > thead > tr > th,\n",
       ".dataframe > tbody > tr > td {\n",
       "  text-align: right;\n",
       "}\n",
       "</style>\n",
       "<small>shape: (5, 3)</small><table border=\"1\" class=\"dataframe\"><thead><tr><th>category</th><th>fats_g</th><th>sugars_g</th></tr><tr><td>str</td><td>f64</td><td>i64</td></tr></thead><tbody><tr><td>&quot;seafood&quot;</td><td>1.5</td><td>0</td></tr><tr><td>&quot;fruit&quot;</td><td>0.0</td><td>25</td></tr><tr><td>&quot;meat&quot;</td><td>7.0</td><td>0</td></tr><tr><td>&quot;vegetables&quot;</td><td>0.0</td><td>5</td></tr><tr><td>&quot;fruit&quot;</td><td>0.0</td><td>11</td></tr></tbody></table></div>"
      ],
      "text/plain": [
       "shape: (5, 3)\n",
       "┌────────────┬────────┬──────────┐\n",
       "│ category   ┆ fats_g ┆ sugars_g │\n",
       "│ ---        ┆ ---    ┆ ---      │\n",
       "│ str        ┆ f64    ┆ i64      │\n",
       "╞════════════╪════════╪══════════╡\n",
       "│ seafood    ┆ 1.5    ┆ 0        │\n",
       "│ fruit      ┆ 0.0    ┆ 25       │\n",
       "│ meat       ┆ 7.0    ┆ 0        │\n",
       "│ vegetables ┆ 0.0    ┆ 5        │\n",
       "│ fruit      ┆ 0.0    ┆ 11       │\n",
       "└────────────┴────────┴──────────┘"
      ]
     },
     "execution_count": 73,
     "metadata": {},
     "output_type": "execute_result"
    }
   ],
   "source": [
    "df.select([\n",
    "pl.exclude('calories')]).tail()"
   ]
  },
  {
   "attachments": {},
   "cell_type": "markdown",
   "metadata": {},
   "source": [
    "10. null count "
   ]
  },
  {
   "attachments": {},
   "cell_type": "markdown",
   "metadata": {},
   "source": [
    "Cada columna en un DataFrame (o de manera equivalente, una serie) es una matriz de flechas o una colección de matrices de flechas basadas en el formato de flecha de Apache. Los datos que faltan se representan en Arrow y Polars con un valor nulo. Este valor faltante nulo se aplica a todos los tipos de datos, incluidos los valores numéricos.\n",
    "\n",
    "Polars también permite valores de NotaNumber o NaN para columnas flotantes. Estos valores de NaN se consideran un tipo de datos de punto flotante en lugar de datos faltantes.\n",
    "Discutimos los valores de NaN por separado a continuación.\n",
    "\n",
    "Cada matriz Arrow utilizada por Polars almacena dos tipos de metadatos relacionados con los datos faltantes. Estos metadatos permiten a Polars mostrar rápidamente cuántos valores\n",
    "faltantes hay y qué valores faltan.\n"
   ]
  },
  {
   "cell_type": "code",
   "execution_count": 75,
   "metadata": {},
   "outputs": [
    {
     "name": "stdout",
     "output_type": "stream",
     "text": [
      "shape: (1, 4)\n",
      "┌──────────┬──────────┬────────┬──────────┐\n",
      "│ category ┆ calories ┆ fats_g ┆ sugars_g │\n",
      "│ ---      ┆ ---      ┆ ---    ┆ ---      │\n",
      "│ u32      ┆ u32      ┆ u32    ┆ u32      │\n",
      "╞══════════╪══════════╪════════╪══════════╡\n",
      "│ 0        ┆ 0        ┆ 0      ┆ 0        │\n",
      "└──────────┴──────────┴────────┴──────────┘\n"
     ]
    }
   ],
   "source": [
    "null_count_df=df.null_count()\n",
    "print(null_count_df)"
   ]
  },
  {
   "attachments": {},
   "cell_type": "markdown",
   "metadata": {},
   "source": [
    "La segunda pieza de metadatos es una matriz llamada mapa de bits de validez que indica si cada valor de datos es válido o falta. El mapa de bits de validez es eficiente en memoria, ya que está codificado en bits: cada valor es un 0 o un 1. \n",
    "Esta codificación de bits significa que la sobrecarga de memoria por matriz es solo (longitud de la matriz / 8) bytes. El mapa de bits de validez es utilizado por el método is_null en Polars."
   ]
  },
  {
   "cell_type": "code",
   "execution_count": 6,
   "metadata": {},
   "outputs": [
    {
     "name": "stdout",
     "output_type": "stream",
     "text": [
      "shape: (27, 1)\n",
      "┌──────────┐\n",
      "│ category │\n",
      "│ ---      │\n",
      "│ bool     │\n",
      "╞══════════╡\n",
      "│ false    │\n",
      "│ false    │\n",
      "│ false    │\n",
      "│ false    │\n",
      "│ …        │\n",
      "│ false    │\n",
      "│ false    │\n",
      "│ false    │\n",
      "│ false    │\n",
      "└──────────┘\n"
     ]
    }
   ],
   "source": [
    "is_null_series = df.select(\n",
    "    pl.col (\"category\").is_null(),\n",
    ")\n",
    "print(is_null_series)"
   ]
  },
  {
   "cell_type": "code",
   "execution_count": 7,
   "metadata": {},
   "outputs": [
    {
     "name": "stdout",
     "output_type": "stream",
     "text": [
      "shape: (27, 4)\n",
      "┌──────────┬──────────┬────────┬──────────┐\n",
      "│ category ┆ calories ┆ fats_g ┆ sugars_g │\n",
      "│ ---      ┆ ---      ┆ ---    ┆ ---      │\n",
      "│ bool     ┆ bool     ┆ bool   ┆ bool     │\n",
      "╞══════════╪══════════╪════════╪══════════╡\n",
      "│ false    ┆ false    ┆ false  ┆ false    │\n",
      "│ false    ┆ false    ┆ false  ┆ false    │\n",
      "│ false    ┆ false    ┆ false  ┆ false    │\n",
      "│ false    ┆ false    ┆ false  ┆ false    │\n",
      "│ …        ┆ …        ┆ …      ┆ …        │\n",
      "│ false    ┆ false    ┆ false  ┆ false    │\n",
      "│ false    ┆ false    ┆ false  ┆ false    │\n",
      "│ false    ┆ false    ┆ false  ┆ false    │\n",
      "│ false    ┆ false    ┆ false  ┆ false    │\n",
      "└──────────┴──────────┴────────┴──────────┘\n"
     ]
    }
   ],
   "source": [
    "is_null_series = df.select(\n",
    "    pl.all().is_null(),\n",
    ")\n",
    "print(is_null_series)"
   ]
  },
  {
   "attachments": {},
   "cell_type": "markdown",
   "metadata": {},
   "source": [
    "12. fillna"
   ]
  },
  {
   "attachments": {},
   "cell_type": "markdown",
   "metadata": {},
   "source": [
    "El método filina() en Polars se usa para completar los valores faltantes en un DataFrame con un valor o método específico. De manera predeterminada, reemplaza los valores faltantes\n",
    "con NaN, pero puede especificar un valor diferente para usar en su lugar, como se muestra a continuación:\n",
    "• un literal como 0 o \"0*\n",
    "• una estrategia como llenar hacia adelante\n",
    "• una expresión como reemplazar con valores de otra columna\n",
    "• interpolación"
   ]
  },
  {
   "cell_type": "code",
   "execution_count": 9,
   "metadata": {},
   "outputs": [
    {
     "name": "stdout",
     "output_type": "stream",
     "text": [
      "shape: (6, 2)\n",
      "┌──────┬──────┐\n",
      "│ coll ┆ col2 │\n",
      "│ ---  ┆ ---  │\n",
      "│ i64  ┆ f64  │\n",
      "╞══════╪══════╡\n",
      "│ 1    ┆ 1.0  │\n",
      "│ 2    ┆ null │\n",
      "│ 3    ┆ 3.0  │\n",
      "│ 4    ┆ 10.0 │\n",
      "│ 5    ┆ null │\n",
      "│ 6    ┆ NaN  │\n",
      "└──────┴──────┘\n"
     ]
    }
   ],
   "source": [
    "datos=pl.DataFrame(\n",
    "    {\n",
    "        \"coll\": [1, 2, 3,4,5,6],\n",
    "        \"col2\": [1, None, 3,10, None, np.nan],\n",
    "    },\n",
    ")\n",
    "print(datos)"
   ]
  },
  {
   "attachments": {},
   "cell_type": "markdown",
   "metadata": {},
   "source": [
    "Rellenar con el valor literal especificado:\n",
    "podemos completar los datos que faltan con un valor literal especificado con pl.lit:\n"
   ]
  },
  {
   "cell_type": "code",
   "execution_count": 10,
   "metadata": {},
   "outputs": [
    {
     "name": "stdout",
     "output_type": "stream",
     "text": [
      "shape: (6, 2)\n",
      "┌──────┬──────┐\n",
      "│ coll ┆ col2 │\n",
      "│ ---  ┆ ---  │\n",
      "│ i64  ┆ f64  │\n",
      "╞══════╪══════╡\n",
      "│ 1    ┆ 1.0  │\n",
      "│ 2    ┆ 2.0  │\n",
      "│ 3    ┆ 3.0  │\n",
      "│ 4    ┆ 10.0 │\n",
      "│ 5    ┆ 2.0  │\n",
      "│ 6    ┆ NaN  │\n",
      "└──────┴──────┘\n"
     ]
    }
   ],
   "source": [
    "fill_literal_df = (\n",
    "    datos.with_columns(\n",
    "        pl.col(\"col2\").fill_null(\n",
    "        pl.lit(2),\n",
    "        #pl.Lit(3),\n",
    "        ),\n",
    "    ))\n",
    "print (fill_literal_df)"
   ]
  },
  {
   "attachments": {},
   "cell_type": "markdown",
   "metadata": {},
   "source": [
    "Rellenar con una expresión: Para mayor flexibilidad, podemos completar los datos que faltan con una expresión. Por ejemplo, para llenar nulos con el valor de la mediana de esa columna:\n"
   ]
  },
  {
   "cell_type": "code",
   "execution_count": 12,
   "metadata": {},
   "outputs": [
    {
     "name": "stdout",
     "output_type": "stream",
     "text": [
      "shape: (6, 2)\n",
      "┌──────┬──────┐\n",
      "│ coll ┆ col2 │\n",
      "│ ---  ┆ ---  │\n",
      "│ i64  ┆ f64  │\n",
      "╞══════╪══════╡\n",
      "│ 1    ┆ 1.0  │\n",
      "│ 2    ┆ 6.5  │\n",
      "│ 3    ┆ 3.0  │\n",
      "│ 4    ┆ 10.0 │\n",
      "│ 5    ┆ 6.5  │\n",
      "│ 6    ┆ NaN  │\n",
      "└──────┴──────┘\n"
     ]
    }
   ],
   "source": [
    "fill_median_df = datos.with_columns(\n",
    "pl.col(\"col2\").fill_null (pl.median(\"col2\"))) # usamos La mediana\n",
    "print(fill_median_df)"
   ]
  },
  {
   "attachments": {},
   "cell_type": "markdown",
   "metadata": {},
   "source": [
    "13. Drop"
   ]
  },
  {
   "attachments": {},
   "cell_type": "markdown",
   "metadata": {},
   "source": [
    "df.drop() es un método utilizado en la biblioteca de Polars para eliminar filas o columnas de un DataFrame especificando las etiquetas correspondientes. Se puede usar para colocar una\n",
    "o varias filas o columnas en función de sus etiquetas.\n",
    "Puede eliminar una fila específica llamando a df.drop() y pasando la etiqueta de índice de la fila que desea eliminar, y el parámetro del eje establecido en 0 (el valor predeterminado es 0)\n"
   ]
  },
  {
   "cell_type": "code",
   "execution_count": 13,
   "metadata": {},
   "outputs": [
    {
     "data": {
      "text/html": [
       "<div><style>\n",
       ".dataframe > thead > tr > th,\n",
       ".dataframe > tbody > tr > td {\n",
       "  text-align: right;\n",
       "}\n",
       "</style>\n",
       "<small>shape: (5, 3)</small><table border=\"1\" class=\"dataframe\"><thead><tr><th>category</th><th>fats_g</th><th>sugars_g</th></tr><tr><td>str</td><td>f64</td><td>i64</td></tr></thead><tbody><tr><td>&quot;vegetables&quot;</td><td>0.5</td><td>2</td></tr><tr><td>&quot;seafood&quot;</td><td>5.0</td><td>0</td></tr><tr><td>&quot;meat&quot;</td><td>5.0</td><td>0</td></tr><tr><td>&quot;fruit&quot;</td><td>0.0</td><td>11</td></tr><tr><td>&quot;seafood&quot;</td><td>5.0</td><td>1</td></tr></tbody></table></div>"
      ],
      "text/plain": [
       "shape: (5, 3)\n",
       "┌────────────┬────────┬──────────┐\n",
       "│ category   ┆ fats_g ┆ sugars_g │\n",
       "│ ---        ┆ ---    ┆ ---      │\n",
       "│ str        ┆ f64    ┆ i64      │\n",
       "╞════════════╪════════╪══════════╡\n",
       "│ vegetables ┆ 0.5    ┆ 2        │\n",
       "│ seafood    ┆ 5.0    ┆ 0        │\n",
       "│ meat       ┆ 5.0    ┆ 0        │\n",
       "│ fruit      ┆ 0.0    ┆ 11       │\n",
       "│ seafood    ┆ 5.0    ┆ 1        │\n",
       "└────────────┴────────┴──────────┘"
      ]
     },
     "execution_count": 13,
     "metadata": {},
     "output_type": "execute_result"
    }
   ],
   "source": [
    "df.drop(['calories']).head()"
   ]
  },
  {
   "attachments": {},
   "cell_type": "markdown",
   "metadata": {},
   "source": [
    "Si se desea modificar el DataFrame original se debe de utilizar drop_in_place()"
   ]
  },
  {
   "attachments": {},
   "cell_type": "markdown",
   "metadata": {},
   "source": [
    "14. Eliminando duplicados"
   ]
  },
  {
   "cell_type": "code",
   "execution_count": 15,
   "metadata": {},
   "outputs": [
    {
     "data": {
      "text/html": [
       "<div><style>\n",
       ".dataframe > thead > tr > th,\n",
       ".dataframe > tbody > tr > td {\n",
       "  text-align: right;\n",
       "}\n",
       "</style>\n",
       "<small>shape: (9, 3)</small><table border=\"1\" class=\"dataframe\"><thead><tr><th>A</th><th>B</th><th>C</th></tr><tr><td>i64</td><td>i64</td><td>i64</td></tr></thead><tbody><tr><td>1</td><td>2</td><td>3</td></tr><tr><td>4</td><td>5</td><td>8</td></tr><tr><td>4</td><td>5</td><td>6</td></tr><tr><td>7</td><td>8</td><td>9</td></tr><tr><td>7</td><td>18</td><td>9</td></tr><tr><td>10</td><td>11</td><td>12</td></tr><tr><td>10</td><td>11</td><td>12</td></tr><tr><td>13</td><td>14</td><td>15</td></tr><tr><td>16</td><td>17</td><td>18</td></tr></tbody></table></div>"
      ],
      "text/plain": [
       "shape: (9, 3)\n",
       "┌─────┬─────┬─────┐\n",
       "│ A   ┆ B   ┆ C   │\n",
       "│ --- ┆ --- ┆ --- │\n",
       "│ i64 ┆ i64 ┆ i64 │\n",
       "╞═════╪═════╪═════╡\n",
       "│ 1   ┆ 2   ┆ 3   │\n",
       "│ 4   ┆ 5   ┆ 8   │\n",
       "│ 4   ┆ 5   ┆ 6   │\n",
       "│ 7   ┆ 8   ┆ 9   │\n",
       "│ …   ┆ …   ┆ …   │\n",
       "│ 10  ┆ 11  ┆ 12  │\n",
       "│ 10  ┆ 11  ┆ 12  │\n",
       "│ 13  ┆ 14  ┆ 15  │\n",
       "│ 16  ┆ 17  ┆ 18  │\n",
       "└─────┴─────┴─────┘"
      ]
     },
     "execution_count": 15,
     "metadata": {},
     "output_type": "execute_result"
    }
   ],
   "source": [
    "df1= pl.DataFrame(\n",
    "    {\n",
    "        \"A\":[1,4,4,7,7,10,10,13,16],\n",
    "        \"B\":[2,5,5,8,18,11,11,14,17],\n",
    "        \"C\":[3,8,6,9,9,12,12,15,18],\n",
    "    }\n",
    ")\n",
    "df1"
   ]
  },
  {
   "cell_type": "code",
   "execution_count": 16,
   "metadata": {},
   "outputs": [
    {
     "data": {
      "text/html": [
       "<div><style>\n",
       ".dataframe > thead > tr > th,\n",
       ".dataframe > tbody > tr > td {\n",
       "  text-align: right;\n",
       "}\n",
       "</style>\n",
       "<small>shape: (8, 3)</small><table border=\"1\" class=\"dataframe\"><thead><tr><th>A</th><th>B</th><th>C</th></tr><tr><td>i64</td><td>i64</td><td>i64</td></tr></thead><tbody><tr><td>13</td><td>14</td><td>15</td></tr><tr><td>10</td><td>11</td><td>12</td></tr><tr><td>1</td><td>2</td><td>3</td></tr><tr><td>4</td><td>5</td><td>8</td></tr><tr><td>16</td><td>17</td><td>18</td></tr><tr><td>4</td><td>5</td><td>6</td></tr><tr><td>7</td><td>18</td><td>9</td></tr><tr><td>7</td><td>8</td><td>9</td></tr></tbody></table></div>"
      ],
      "text/plain": [
       "shape: (8, 3)\n",
       "┌─────┬─────┬─────┐\n",
       "│ A   ┆ B   ┆ C   │\n",
       "│ --- ┆ --- ┆ --- │\n",
       "│ i64 ┆ i64 ┆ i64 │\n",
       "╞═════╪═════╪═════╡\n",
       "│ 13  ┆ 14  ┆ 15  │\n",
       "│ 10  ┆ 11  ┆ 12  │\n",
       "│ 1   ┆ 2   ┆ 3   │\n",
       "│ 4   ┆ 5   ┆ 8   │\n",
       "│ 16  ┆ 17  ┆ 18  │\n",
       "│ 4   ┆ 5   ┆ 6   │\n",
       "│ 7   ┆ 18  ┆ 9   │\n",
       "│ 7   ┆ 8   ┆ 9   │\n",
       "└─────┴─────┴─────┘"
      ]
     },
     "execution_count": 16,
     "metadata": {},
     "output_type": "execute_result"
    }
   ],
   "source": [
    "df1.unique()"
   ]
  },
  {
   "attachments": {},
   "cell_type": "markdown",
   "metadata": {},
   "source": [
    "15. Pivot"
   ]
  },
  {
   "attachments": {},
   "cell_type": "markdown",
   "metadata": {},
   "source": [
    "pl.pivot() es un método en la biblioteca de Polars que se usa para crear una tabla dinámica a partir de un DataFrame. Una tabla dinámica es una tabla que resume y agrega datos de una manera más significativa y organizada, mediante la creación de una nueva tabla con una o más columnas como índice, una o más columnas como valores y una o más columnas como atributos.\n"
   ]
  },
  {
   "cell_type": "code",
   "execution_count": 5,
   "metadata": {},
   "outputs": [
    {
     "name": "stderr",
     "output_type": "stream",
     "text": [
      "/tmp/ipykernel_686/3878296903.py:1: DeprecationWarning: In a future version of polars, the default `aggregate_function` will change from `'first'` to `None`. Please pass `'first'` to keep the current behaviour, or `None` to accept the new one.\n",
      "  pivot_table=df.pivot(values=\"calories\", index=\"category\", columns=\"sugars_g\")\n"
     ]
    },
    {
     "data": {
      "text/html": [
       "<div><style>\n",
       ".dataframe > thead > tr > th,\n",
       ".dataframe > tbody > tr > td {\n",
       "  text-align: right;\n",
       "}\n",
       "</style>\n",
       "<small>shape: (4, 9)</small><table border=\"1\" class=\"dataframe\"><thead><tr><th>category</th><th>2</th><th>0</th><th>11</th><th>1</th><th>5</th><th>3</th><th>4</th><th>25</th></tr><tr><td>str</td><td>i64</td><td>i64</td><td>i64</td><td>i64</td><td>i64</td><td>i64</td><td>i64</td><td>i64</td></tr></thead><tbody><tr><td>&quot;vegetables&quot;</td><td>45</td><td>null</td><td>null</td><td>null</td><td>30</td><td>22</td><td>25</td><td>null</td></tr><tr><td>&quot;seafood&quot;</td><td>200</td><td>150</td><td>null</td><td>140</td><td>null</td><td>null</td><td>null</td><td>null</td></tr><tr><td>&quot;meat&quot;</td><td>null</td><td>100</td><td>null</td><td>120</td><td>null</td><td>null</td><td>null</td><td>null</td></tr><tr><td>&quot;fruit&quot;</td><td>null</td><td>50</td><td>60</td><td>null</td><td>30</td><td>30</td><td>null</td><td>130</td></tr></tbody></table></div>"
      ],
      "text/plain": [
       "shape: (4, 9)\n",
       "┌────────────┬──────┬──────┬──────┬───┬──────┬──────┬──────┬──────┐\n",
       "│ category   ┆ 2    ┆ 0    ┆ 11   ┆ … ┆ 5    ┆ 3    ┆ 4    ┆ 25   │\n",
       "│ ---        ┆ ---  ┆ ---  ┆ ---  ┆   ┆ ---  ┆ ---  ┆ ---  ┆ ---  │\n",
       "│ str        ┆ i64  ┆ i64  ┆ i64  ┆   ┆ i64  ┆ i64  ┆ i64  ┆ i64  │\n",
       "╞════════════╪══════╪══════╪══════╪═══╪══════╪══════╪══════╪══════╡\n",
       "│ vegetables ┆ 45   ┆ null ┆ null ┆ … ┆ 30   ┆ 22   ┆ 25   ┆ null │\n",
       "│ seafood    ┆ 200  ┆ 150  ┆ null ┆ … ┆ null ┆ null ┆ null ┆ null │\n",
       "│ meat       ┆ null ┆ 100  ┆ null ┆ … ┆ null ┆ null ┆ null ┆ null │\n",
       "│ fruit      ┆ null ┆ 50   ┆ 60   ┆ … ┆ 30   ┆ 30   ┆ null ┆ 130  │\n",
       "└────────────┴──────┴──────┴──────┴───┴──────┴──────┴──────┴──────┘"
      ]
     },
     "execution_count": 5,
     "metadata": {},
     "output_type": "execute_result"
    }
   ],
   "source": [
    "pivot_table=df.pivot(values=\"calories\", index=\"category\", columns=\"sugars_g\")\n",
    "pivot_table.head()"
   ]
  }
 ],
 "metadata": {
  "kernelspec": {
   "display_name": "Python 3",
   "language": "python",
   "name": "python3"
  },
  "language_info": {
   "codemirror_mode": {
    "name": "ipython",
    "version": 3
   },
   "file_extension": ".py",
   "mimetype": "text/x-python",
   "name": "python",
   "nbconvert_exporter": "python",
   "pygments_lexer": "ipython3",
   "version": "3.10.8"
  },
  "orig_nbformat": 4
 },
 "nbformat": 4,
 "nbformat_minor": 2
}
