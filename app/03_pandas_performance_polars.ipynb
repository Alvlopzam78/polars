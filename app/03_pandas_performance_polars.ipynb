{
 "cells": [
  {
   "cell_type": "code",
   "execution_count": 1,
   "id": "9fb3dbc5",
   "metadata": {},
   "outputs": [],
   "source": [
    "import pandas as pd\n",
    "import polars as pl\n",
    "import timeit"
   ]
  },
  {
   "cell_type": "code",
   "execution_count": 2,
   "id": "df63bd33",
   "metadata": {},
   "outputs": [],
   "source": [
    "# Pandas DataFrame\n",
    "df_pandas = pd.DataFrame({\n",
    "    'fecha': ['2022-04-01', '2022-04-02', '2022-04-03', '2022-04-04', '2022-04-05'],\n",
    "    'ventas': [100, 200, 150, 300, 250]\n",
    "})\n",
    "\n",
    "# Polars DataFrame\n",
    "df_polars = pl.DataFrame({\n",
    "    'fecha': ['2022-04-01', '2022-04-02', '2022-04-03', '2022-04-04', '2022-04-05'],\n",
    "    'ventas': [100, 200, 150, 300, 250]\n",
    "})\n"
   ]
  },
  {
   "cell_type": "code",
   "execution_count": 3,
   "id": "9f859892",
   "metadata": {},
   "outputs": [],
   "source": [
    "# Time Pandas operations\n",
    "pandas_time = timeit.timeit(lambda: df_pandas.groupby('fecha')['ventas'].sum(), number=100)\n",
    "\n",
    "# Time Polars operations\n",
    "polars_time = timeit.timeit(lambda: df_polars.select('fecha','ventas').groupby('fecha').sum(), number=100)\n"
   ]
  },
  {
   "cell_type": "code",
   "execution_count": 4,
   "id": "637b68ad",
   "metadata": {},
   "outputs": [
    {
     "name": "stdout",
     "output_type": "stream",
     "text": [
      "Tiempo de ejecución de Pandas: 0.04647 segundos\n",
      "Tiempo de ejecución de Polars: 0.01845 segundos\n",
      "Polars fue más rápido 2.51834 veces\n"
     ]
    }
   ],
   "source": [
    "print(f'Tiempo de ejecución de Pandas: {pandas_time:.5f} segundos')\n",
    "print(f'Tiempo de ejecución de Polars: {polars_time:.5f} segundos')\n",
    "\n",
    "print(f\"Polars fue más rápido{pandas_time / polars_time : .5f} veces\")"
   ]
  }
 ],
 "metadata": {
  "kernelspec": {
   "display_name": "Python 3 (ipykernel)",
   "language": "python",
   "name": "python3"
  },
  "language_info": {
   "codemirror_mode": {
    "name": "ipython",
    "version": 3
   },
   "file_extension": ".py",
   "mimetype": "text/x-python",
   "name": "python",
   "nbconvert_exporter": "python",
   "pygments_lexer": "ipython3",
   "version": "3.9.12"
  }
 },
 "nbformat": 4,
 "nbformat_minor": 5
}
