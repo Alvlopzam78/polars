{
 "cells": [
  {
   "cell_type": "code",
   "execution_count": 12,
   "id": "a39caa7f",
   "metadata": {},
   "outputs": [
    {
     "name": "stdout",
     "output_type": "stream",
     "text": [
      "shape: (9, 5)\n",
      "┌──────────┬────────────┬────────────┬──────────┬───────┐\n",
      "│ store_id ┆ product_id ┆ date       ┆ quantity ┆ price │\n",
      "│ ---      ┆ ---        ┆ ---        ┆ ---      ┆ ---   │\n",
      "│ i64      ┆ i64        ┆ str        ┆ i64      ┆ f64   │\n",
      "╞══════════╪════════════╪════════════╪══════════╪═══════╡\n",
      "│ 1        ┆ 1          ┆ 2022-01-01 ┆ 10       ┆ 1.0   │\n",
      "│ 1        ┆ 2          ┆ 2022-01-02 ┆ 20       ┆ 1.5   │\n",
      "│ 1        ┆ 3          ┆ 2022-01-03 ┆ 30       ┆ 2.0   │\n",
      "│ 2        ┆ 1          ┆ 2022-01-01 ┆ 15       ┆ 1.0   │\n",
      "│ …        ┆ …          ┆ …          ┆ …        ┆ …     │\n",
      "│ 2        ┆ 3          ┆ 2022-01-03 ┆ 35       ┆ 2.0   │\n",
      "│ 3        ┆ 1          ┆ 2022-01-01 ┆ 5        ┆ 1.0   │\n",
      "│ 3        ┆ 2          ┆ 2022-01-02 ┆ 10       ┆ 1.5   │\n",
      "│ 3        ┆ 3          ┆ 2022-01-03 ┆ 15       ┆ 2.0   │\n",
      "└──────────┴────────────┴────────────┴──────────┴───────┘\n",
      "shape: (9, 5)\n",
      "┌──────────┬────────────┬────────────┬──────────┬───────┐\n",
      "│ store_id ┆ product_id ┆ date       ┆ quantity ┆ price │\n",
      "│ ---      ┆ ---        ┆ ---        ┆ ---      ┆ ---   │\n",
      "│ i64      ┆ i64        ┆ date       ┆ i64      ┆ f64   │\n",
      "╞══════════╪════════════╪════════════╪══════════╪═══════╡\n",
      "│ 1        ┆ 1          ┆ 2022-01-01 ┆ 10       ┆ 1.0   │\n",
      "│ 1        ┆ 2          ┆ 2022-01-02 ┆ 20       ┆ 1.5   │\n",
      "│ 1        ┆ 3          ┆ 2022-01-03 ┆ 30       ┆ 2.0   │\n",
      "│ 2        ┆ 1          ┆ 2022-01-01 ┆ 15       ┆ 1.0   │\n",
      "│ …        ┆ …          ┆ …          ┆ …        ┆ …     │\n",
      "│ 2        ┆ 3          ┆ 2022-01-03 ┆ 35       ┆ 2.0   │\n",
      "│ 3        ┆ 1          ┆ 2022-01-01 ┆ 5        ┆ 1.0   │\n",
      "│ 3        ┆ 2          ┆ 2022-01-02 ┆ 10       ┆ 1.5   │\n",
      "│ 3        ┆ 3          ┆ 2022-01-03 ┆ 15       ┆ 2.0   │\n",
      "└──────────┴────────────┴────────────┴──────────┴───────┘\n"
     ]
    },
    {
     "ename": "AttributeError",
     "evalue": "module 'polars' has no attribute 'window'",
     "output_type": "error",
     "traceback": [
      "\u001b[1;31m---------------------------------------------------------------------------\u001b[0m",
      "\u001b[1;31mAttributeError\u001b[0m                            Traceback (most recent call last)",
      "Input \u001b[1;32mIn [12]\u001b[0m, in \u001b[0;36m<cell line: 18>\u001b[1;34m()\u001b[0m\n\u001b[0;32m     15\u001b[0m \u001b[38;5;28mprint\u001b[39m(df\u001b[38;5;241m.\u001b[39mwith_columns(pl\u001b[38;5;241m.\u001b[39mcol(\u001b[38;5;124m'\u001b[39m\u001b[38;5;124mdate\u001b[39m\u001b[38;5;124m'\u001b[39m)\u001b[38;5;241m.\u001b[39mstr\u001b[38;5;241m.\u001b[39mstrptime(pl\u001b[38;5;241m.\u001b[39mDate)))\n\u001b[0;32m     17\u001b[0m \u001b[38;5;66;03m# crear una ventana deslizante de 7 días sobre la columna de fecha\u001b[39;00m\n\u001b[1;32m---> 18\u001b[0m window \u001b[38;5;241m=\u001b[39m \u001b[43mpl\u001b[49m\u001b[38;5;241;43m.\u001b[39;49m\u001b[43mwindow\u001b[49m(\u001b[38;5;124m'\u001b[39m\u001b[38;5;124mdate\u001b[39m\u001b[38;5;124m'\u001b[39m)\u001b[38;5;241m.\u001b[39mrolling(\u001b[38;5;241m-\u001b[39m\u001b[38;5;241m7\u001b[39m, \u001b[38;5;241m0\u001b[39m)\n\u001b[0;32m     20\u001b[0m \u001b[38;5;66;03m# calcular el total de ventas por tienda en los últimos 7 días\u001b[39;00m\n\u001b[0;32m     21\u001b[0m total_sales \u001b[38;5;241m=\u001b[39m df\u001b[38;5;241m.\u001b[39mgroupby(\u001b[38;5;124m'\u001b[39m\u001b[38;5;124mstore_id\u001b[39m\u001b[38;5;124m'\u001b[39m)\u001b[38;5;241m.\u001b[39magg(\n\u001b[0;32m     22\u001b[0m     pl\u001b[38;5;241m.\u001b[39magg\u001b[38;5;241m.\u001b[39msum(pl\u001b[38;5;241m.\u001b[39mcol(\u001b[38;5;124m'\u001b[39m\u001b[38;5;124mquantity\u001b[39m\u001b[38;5;124m'\u001b[39m)\u001b[38;5;241m.\u001b[39mover(window))\n\u001b[0;32m     23\u001b[0m )\n",
      "\u001b[1;31mAttributeError\u001b[0m: module 'polars' has no attribute 'window'"
     ]
    }
   ],
   "source": [
    "import polars as pl\n",
    "\n",
    "# crear un DataFrame de ejemplo\n",
    "df = pl.DataFrame({\n",
    "    'store_id': [1, 1, 1, 2, 2, 2, 3, 3, 3],\n",
    "    'product_id': [1, 2, 3, 1, 2, 3, 1, 2, 3],\n",
    "    'date': ['2022-01-01', '2022-01-02', '2022-01-03', \n",
    "             '2022-01-01', '2022-01-02', '2022-01-03', \n",
    "             '2022-01-01', '2022-01-02', '2022-01-03'],\n",
    "    'quantity': [10, 20, 30, 15, 25, 35, 5, 10, 15],\n",
    "    'price': [1.0, 1.5, 2.0, 1.0, 1.5, 2.0, 1.0, 1.5, 2.0]\n",
    "})\n",
    "print(df)\n",
    "# convertir la columna de fecha a tipo fecha\n",
    "print(df.with_columns(pl.col('date').str.strptime(pl.Date)))\n",
    "\n",
    "# crear una ventana deslizante de 7 días sobre la columna de fecha\n",
    "window = pl.window('date').rolling(-7, 0)\n",
    "\n",
    "# calcular el total de ventas por tienda en los últimos 7 días\n",
    "total_sales = df.groupby('store_id').agg(\n",
    "    pl.agg.sum(pl.col('quantity').over(window))\n",
    ")\n",
    "\n",
    "print(total_sales)\n"
   ]
  },
  {
   "cell_type": "code",
   "execution_count": null,
   "id": "cb105421",
   "metadata": {},
   "outputs": [],
   "source": []
  }
 ],
 "metadata": {
  "kernelspec": {
   "display_name": "Python 3 (ipykernel)",
   "language": "python",
   "name": "python3"
  },
  "language_info": {
   "codemirror_mode": {
    "name": "ipython",
    "version": 3
   },
   "file_extension": ".py",
   "mimetype": "text/x-python",
   "name": "python",
   "nbconvert_exporter": "python",
   "pygments_lexer": "ipython3",
   "version": "3.9.12"
  }
 },
 "nbformat": 4,
 "nbformat_minor": 5
}
