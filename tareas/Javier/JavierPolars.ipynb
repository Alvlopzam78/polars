{
 "cells": [
  {
   "cell_type": "markdown",
   "id": "dd6008b0-4dca-40e0-89a6-7d1ba334f427",
   "metadata": {},
   "source": [
    "Javier Nieto Merodio\n",
    "ITAM Primavera, 2023 "
   ]
  },
  {
   "cell_type": "markdown",
   "id": "67f5d07f",
   "metadata": {},
   "source": [
    "# Ejercicio prueba\n",
    "Consta en hacer simples tareas de pandas pero ahora con la sintaxis de polars.\n",
    "Los csv de emisiones-2016.csv, emisiones-2017.csv, emisiones-2018.csv y emisiones-2019.csv, contienen datos sobre las emisiones contaminates en la ciudad de Madrid en los años 2016, 2017, 2018 y 2019 respectivamente. Escribir un programa con los siguientes requisitos:"
   ]
  },
  {
   "cell_type": "markdown",
   "id": "2fd3c883",
   "metadata": {},
   "source": [
    "*Es importante que el código ea breve, ya que cada ejercicio puede hacerse en una sola instrucción* :OO"
   ]
  },
  {
   "cell_type": "markdown",
   "id": "d2584bcd",
   "metadata": {},
   "source": [
    "### Generar un DataFrame con los datos de los cuatro ficheros.\n",
    "Hint: leer los datos y concatenarlos verticalmente --> **pl.concat**"
   ]
  },
  {
   "attachments": {},
   "cell_type": "markdown",
   "id": "9fb76946",
   "metadata": {},
   "source": [
    "Importar la librería"
   ]
  },
  {
   "cell_type": "code",
   "execution_count": 1,
   "id": "4e3e28f6",
   "metadata": {},
   "outputs": [],
   "source": [
    "import polars as pl"
   ]
  },
  {
   "attachments": {},
   "cell_type": "markdown",
   "id": "c62a82f2",
   "metadata": {},
   "source": [
    "Generar los dataframes con polars incluyendo el separador"
   ]
  },
  {
   "cell_type": "code",
   "execution_count": 2,
   "id": "cb105421",
   "metadata": {},
   "outputs": [],
   "source": [
    "df_2016 = pl.read_csv('emisiones-2016.csv', separator = ';')\n",
    "df_2017 = pl.read_csv('emisiones-2017.csv', separator = ';')\n",
    "df_2018 = pl.read_csv('emisiones-2018.csv', separator = ';')\n",
    "df_2019 = pl.read_csv('emisiones-2019.csv', separator = ';')"
   ]
  },
  {
   "attachments": {},
   "cell_type": "markdown",
   "id": "180d9162",
   "metadata": {},
   "source": [
    "Unir los dataframes en uno usando concat"
   ]
  },
  {
   "cell_type": "code",
   "execution_count": 3,
   "id": "a62d7e95",
   "metadata": {},
   "outputs": [],
   "source": [
    "df = pl.concat([df_2016, df_2017, df_2018, df_2019])"
   ]
  },
  {
   "cell_type": "code",
   "execution_count": 4,
   "id": "7ee80cb5",
   "metadata": {},
   "outputs": [
    {
     "data": {
      "text/html": [
       "<div><style>\n",
       ".dataframe > thead > tr > th,\n",
       ".dataframe > tbody > tr > td {\n",
       "  text-align: right;\n",
       "}\n",
       "</style>\n",
       "<small>shape: (5, 69)</small><table border=\"1\" class=\"dataframe\"><thead><tr><th>PROVINCIA</th><th>MUNICIPIO</th><th>ESTACION</th><th>MAGNITUD</th><th>PUNTO_MUESTREO</th><th>ANO</th><th>MES</th><th>D01</th><th>V01</th><th>D02</th><th>V02</th><th>D03</th><th>V03</th><th>D04</th><th>V04</th><th>D05</th><th>V05</th><th>D06</th><th>V06</th><th>D07</th><th>V07</th><th>D08</th><th>V08</th><th>D09</th><th>V09</th><th>D10</th><th>V10</th><th>D11</th><th>V11</th><th>D12</th><th>V12</th><th>D13</th><th>V13</th><th>D14</th><th>V14</th><th>D15</th><th>V15</th><th>D16</th><th>V16</th><th>D17</th><th>V17</th><th>D18</th><th>V18</th><th>D19</th><th>V19</th><th>D20</th><th>V20</th><th>D21</th><th>V21</th><th>D22</th><th>V22</th><th>D23</th><th>V23</th><th>D24</th><th>V24</th><th>D25</th><th>V25</th><th>D26</th><th>V26</th><th>D27</th><th>V27</th><th>D28</th><th>V28</th><th>D29</th><th>V29</th><th>D30</th><th>V30</th><th>D31</th><th>V31</th></tr><tr><td>i64</td><td>i64</td><td>i64</td><td>i64</td><td>str</td><td>i64</td><td>i64</td><td>f64</td><td>str</td><td>f64</td><td>str</td><td>f64</td><td>str</td><td>f64</td><td>str</td><td>f64</td><td>str</td><td>f64</td><td>str</td><td>f64</td><td>str</td><td>f64</td><td>str</td><td>f64</td><td>str</td><td>f64</td><td>str</td><td>f64</td><td>str</td><td>f64</td><td>str</td><td>f64</td><td>str</td><td>f64</td><td>str</td><td>f64</td><td>str</td><td>f64</td><td>str</td><td>f64</td><td>str</td><td>f64</td><td>str</td><td>f64</td><td>str</td><td>f64</td><td>str</td><td>f64</td><td>str</td><td>f64</td><td>str</td><td>f64</td><td>str</td><td>f64</td><td>str</td><td>f64</td><td>str</td><td>f64</td><td>str</td><td>f64</td><td>str</td><td>f64</td><td>str</td><td>f64</td><td>str</td><td>f64</td><td>str</td><td>f64</td><td>str</td></tr></thead><tbody><tr><td>28</td><td>79</td><td>4</td><td>1</td><td>&quot;28079004_1_38&quot;</td><td>2016</td><td>1</td><td>8.0</td><td>&quot;V&quot;</td><td>7.0</td><td>&quot;V&quot;</td><td>6.0</td><td>&quot;V&quot;</td><td>6.0</td><td>&quot;V&quot;</td><td>7.0</td><td>&quot;V&quot;</td><td>6.0</td><td>&quot;V&quot;</td><td>6.0</td><td>&quot;V&quot;</td><td>6.0</td><td>&quot;V&quot;</td><td>6.0</td><td>&quot;V&quot;</td><td>6.0</td><td>&quot;V&quot;</td><td>6.0</td><td>&quot;V&quot;</td><td>7.0</td><td>&quot;V&quot;</td><td>11.0</td><td>&quot;V&quot;</td><td>8.0</td><td>&quot;V&quot;</td><td>8.0</td><td>&quot;V&quot;</td><td>9.0</td><td>&quot;V&quot;</td><td>9.0</td><td>&quot;V&quot;</td><td>8.0</td><td>&quot;V&quot;</td><td>11.0</td><td>&quot;V&quot;</td><td>10.0</td><td>&quot;V&quot;</td><td>9.0</td><td>&quot;V&quot;</td><td>10.0</td><td>&quot;V&quot;</td><td>11.0</td><td>&quot;V&quot;</td><td>11.0</td><td>&quot;V&quot;</td><td>13.0</td><td>&quot;V&quot;</td><td>12.0</td><td>&quot;V&quot;</td><td>9.0</td><td>&quot;V&quot;</td><td>7.0</td><td>&quot;V&quot;</td><td>8.0</td><td>&quot;V&quot;</td><td>9.0</td><td>&quot;V&quot;</td><td>9.0</td><td>&quot;V&quot;</td></tr><tr><td>28</td><td>79</td><td>4</td><td>1</td><td>&quot;28079004_1_38&quot;</td><td>2016</td><td>2</td><td>12.0</td><td>&quot;V&quot;</td><td>13.0</td><td>&quot;V&quot;</td><td>9.0</td><td>&quot;V&quot;</td><td>9.0</td><td>&quot;V&quot;</td><td>11.0</td><td>&quot;V&quot;</td><td>9.0</td><td>&quot;V&quot;</td><td>7.0</td><td>&quot;V&quot;</td><td>7.0</td><td>&quot;V&quot;</td><td>7.0</td><td>&quot;V&quot;</td><td>7.0</td><td>&quot;V&quot;</td><td>7.0</td><td>&quot;V&quot;</td><td>7.0</td><td>&quot;V&quot;</td><td>7.0</td><td>&quot;V&quot;</td><td>7.0</td><td>&quot;V&quot;</td><td>7.0</td><td>&quot;V&quot;</td><td>8.0</td><td>&quot;V&quot;</td><td>8.0</td><td>&quot;V&quot;</td><td>7.0</td><td>&quot;V&quot;</td><td>9.0</td><td>&quot;V&quot;</td><td>11.0</td><td>&quot;V&quot;</td><td>10.0</td><td>&quot;V&quot;</td><td>11.0</td><td>&quot;V&quot;</td><td>10.0</td><td>&quot;V&quot;</td><td>9.0</td><td>&quot;V&quot;</td><td>8.0</td><td>&quot;V&quot;</td><td>7.0</td><td>&quot;V&quot;</td><td>7.0</td><td>&quot;V&quot;</td><td>8.0</td><td>&quot;V&quot;</td><td>9.0</td><td>&quot;V&quot;</td><td>0.0</td><td>&quot;N&quot;</td><td>0.0</td><td>&quot;N&quot;</td></tr><tr><td>28</td><td>79</td><td>4</td><td>1</td><td>&quot;28079004_1_38&quot;</td><td>2016</td><td>3</td><td>11.0</td><td>&quot;V&quot;</td><td>10.0</td><td>&quot;V&quot;</td><td>9.0</td><td>&quot;V&quot;</td><td>9.0</td><td>&quot;V&quot;</td><td>7.0</td><td>&quot;V&quot;</td><td>8.0</td><td>&quot;V&quot;</td><td>8.0</td><td>&quot;V&quot;</td><td>8.0</td><td>&quot;V&quot;</td><td>9.0</td><td>&quot;V&quot;</td><td>8.0</td><td>&quot;V&quot;</td><td>9.0</td><td>&quot;V&quot;</td><td>9.0</td><td>&quot;V&quot;</td><td>9.0</td><td>&quot;V&quot;</td><td>8.0</td><td>&quot;V&quot;</td><td>9.0</td><td>&quot;V&quot;</td><td>11.0</td><td>&quot;V&quot;</td><td>10.0</td><td>&quot;V&quot;</td><td>9.0</td><td>&quot;V&quot;</td><td>7.0</td><td>&quot;V&quot;</td><td>7.0</td><td>&quot;V&quot;</td><td>8.0</td><td>&quot;V&quot;</td><td>8.0</td><td>&quot;V&quot;</td><td>8.0</td><td>&quot;V&quot;</td><td>9.0</td><td>&quot;V&quot;</td><td>9.0</td><td>&quot;V&quot;</td><td>9.0</td><td>&quot;V&quot;</td><td>8.0</td><td>&quot;V&quot;</td><td>7.0</td><td>&quot;V&quot;</td><td>8.0</td><td>&quot;V&quot;</td><td>10.0</td><td>&quot;V&quot;</td><td>8.0</td><td>&quot;V&quot;</td></tr><tr><td>28</td><td>79</td><td>4</td><td>1</td><td>&quot;28079004_1_38&quot;</td><td>2016</td><td>4</td><td>8.0</td><td>&quot;V&quot;</td><td>9.0</td><td>&quot;V&quot;</td><td>9.0</td><td>&quot;V&quot;</td><td>8.0</td><td>&quot;V&quot;</td><td>8.0</td><td>&quot;V&quot;</td><td>9.0</td><td>&quot;V&quot;</td><td>9.0</td><td>&quot;V&quot;</td><td>8.0</td><td>&quot;V&quot;</td><td>8.0</td><td>&quot;V&quot;</td><td>7.0</td><td>&quot;V&quot;</td><td>7.0</td><td>&quot;V&quot;</td><td>8.0</td><td>&quot;V&quot;</td><td>8.0</td><td>&quot;V&quot;</td><td>8.0</td><td>&quot;V&quot;</td><td>9.0</td><td>&quot;V&quot;</td><td>7.0</td><td>&quot;V&quot;</td><td>7.0</td><td>&quot;V&quot;</td><td>8.0</td><td>&quot;V&quot;</td><td>8.0</td><td>&quot;V&quot;</td><td>8.0</td><td>&quot;V&quot;</td><td>7.0</td><td>&quot;V&quot;</td><td>8.0</td><td>&quot;V&quot;</td><td>8.0</td><td>&quot;V&quot;</td><td>8.0</td><td>&quot;V&quot;</td><td>8.0</td><td>&quot;V&quot;</td><td>9.0</td><td>&quot;V&quot;</td><td>9.0</td><td>&quot;V&quot;</td><td>8.0</td><td>&quot;V&quot;</td><td>8.0</td><td>&quot;V&quot;</td><td>8.0</td><td>&quot;V&quot;</td><td>0.0</td><td>&quot;N&quot;</td></tr><tr><td>28</td><td>79</td><td>4</td><td>1</td><td>&quot;28079004_1_38&quot;</td><td>2016</td><td>5</td><td>7.0</td><td>&quot;V&quot;</td><td>8.0</td><td>&quot;V&quot;</td><td>9.0</td><td>&quot;V&quot;</td><td>9.0</td><td>&quot;V&quot;</td><td>8.0</td><td>&quot;V&quot;</td><td>8.0</td><td>&quot;V&quot;</td><td>7.0</td><td>&quot;V&quot;</td><td>7.0</td><td>&quot;V&quot;</td><td>7.0</td><td>&quot;V&quot;</td><td>8.0</td><td>&quot;V&quot;</td><td>7.0</td><td>&quot;V&quot;</td><td>7.0</td><td>&quot;V&quot;</td><td>7.0</td><td>&quot;V&quot;</td><td>7.0</td><td>&quot;V&quot;</td><td>7.0</td><td>&quot;V&quot;</td><td>7.0</td><td>&quot;V&quot;</td><td>7.0</td><td>&quot;V&quot;</td><td>8.0</td><td>&quot;V&quot;</td><td>7.0</td><td>&quot;V&quot;</td><td>8.0</td><td>&quot;V&quot;</td><td>7.0</td><td>&quot;V&quot;</td><td>7.0</td><td>&quot;V&quot;</td><td>7.0</td><td>&quot;V&quot;</td><td>8.0</td><td>&quot;V&quot;</td><td>7.0</td><td>&quot;V&quot;</td><td>7.0</td><td>&quot;V&quot;</td><td>7.0</td><td>&quot;V&quot;</td><td>7.0</td><td>&quot;V&quot;</td><td>7.0</td><td>&quot;V&quot;</td><td>7.0</td><td>&quot;V&quot;</td><td>7.0</td><td>&quot;V&quot;</td></tr></tbody></table></div>"
      ],
      "text/plain": [
       "shape: (5, 69)\n",
       "┌───────────┬───────────┬──────────┬──────────┬───┬──────┬─────┬─────┬─────┐\n",
       "│ PROVINCIA ┆ MUNICIPIO ┆ ESTACION ┆ MAGNITUD ┆ … ┆ D30  ┆ V30 ┆ D31 ┆ V31 │\n",
       "│ ---       ┆ ---       ┆ ---      ┆ ---      ┆   ┆ ---  ┆ --- ┆ --- ┆ --- │\n",
       "│ i64       ┆ i64       ┆ i64      ┆ i64      ┆   ┆ f64  ┆ str ┆ f64 ┆ str │\n",
       "╞═══════════╪═══════════╪══════════╪══════════╪═══╪══════╪═════╪═════╪═════╡\n",
       "│ 28        ┆ 79        ┆ 4        ┆ 1        ┆ … ┆ 9.0  ┆ V   ┆ 9.0 ┆ V   │\n",
       "│ 28        ┆ 79        ┆ 4        ┆ 1        ┆ … ┆ 0.0  ┆ N   ┆ 0.0 ┆ N   │\n",
       "│ 28        ┆ 79        ┆ 4        ┆ 1        ┆ … ┆ 10.0 ┆ V   ┆ 8.0 ┆ V   │\n",
       "│ 28        ┆ 79        ┆ 4        ┆ 1        ┆ … ┆ 8.0  ┆ V   ┆ 0.0 ┆ N   │\n",
       "│ 28        ┆ 79        ┆ 4        ┆ 1        ┆ … ┆ 7.0  ┆ V   ┆ 7.0 ┆ V   │\n",
       "└───────────┴───────────┴──────────┴──────────┴───┴──────┴─────┴─────┴─────┘"
      ]
     },
     "execution_count": 4,
     "metadata": {},
     "output_type": "execute_result"
    }
   ],
   "source": [
    "df.head()"
   ]
  },
  {
   "cell_type": "markdown",
   "id": "7485b4be",
   "metadata": {},
   "source": [
    "### Filtrar las columnas del DataFrame para quedarse únicamente con las columnas de ESTACION, MAGNITUD, AÑO, MES y las correspondientes a todos los días D01, D02, ... \n",
    "Hint: **df.select(...)** "
   ]
  },
  {
   "attachments": {},
   "cell_type": "markdown",
   "id": "f3abcc53",
   "metadata": {},
   "source": [
    "Esto es solo para no copiar a mano las columnas :) pero la instrucción del select sí es solo una línea"
   ]
  },
  {
   "cell_type": "code",
   "execution_count": 5,
   "id": "208196db",
   "metadata": {},
   "outputs": [],
   "source": [
    "# Crear arreglo de los días\n",
    "\n",
    "dias = []\n",
    "\n",
    "for i in range(1, 32):\n",
    "    if i < 10:\n",
    "        dias.append(\"D0\" + str(i))\n",
    "    else:\n",
    "        dias.append(\"D\" + str(i))    \n",
    "dias = pl.Series(dias)\n",
    "dias\n",
    "\n",
    "# Concatenar con series de polars\n",
    "\n",
    "aux = [\"ESTACION\", \"MAGNITUD\", \"ANO\", \"MES\"]\n",
    "aux = pl.Series(aux)\n",
    "columnas = aux.append(dias)\n",
    "columnas = columnas.to_numpy()"
   ]
  },
  {
   "cell_type": "code",
   "execution_count": 6,
   "id": "48179dc0",
   "metadata": {},
   "outputs": [
    {
     "data": {
      "text/html": [
       "<div><style>\n",
       ".dataframe > thead > tr > th,\n",
       ".dataframe > tbody > tr > td {\n",
       "  text-align: right;\n",
       "}\n",
       "</style>\n",
       "<small>shape: (7266, 35)</small><table border=\"1\" class=\"dataframe\"><thead><tr><th>ESTACION</th><th>MAGNITUD</th><th>ANO</th><th>MES</th><th>D01</th><th>D02</th><th>D03</th><th>D04</th><th>D05</th><th>D06</th><th>D07</th><th>D08</th><th>D09</th><th>D10</th><th>D11</th><th>D12</th><th>D13</th><th>D14</th><th>D15</th><th>D16</th><th>D17</th><th>D18</th><th>D19</th><th>D20</th><th>D21</th><th>D22</th><th>D23</th><th>D24</th><th>D25</th><th>D26</th><th>D27</th><th>D28</th><th>D29</th><th>D30</th><th>D31</th></tr><tr><td>i64</td><td>i64</td><td>i64</td><td>i64</td><td>f64</td><td>f64</td><td>f64</td><td>f64</td><td>f64</td><td>f64</td><td>f64</td><td>f64</td><td>f64</td><td>f64</td><td>f64</td><td>f64</td><td>f64</td><td>f64</td><td>f64</td><td>f64</td><td>f64</td><td>f64</td><td>f64</td><td>f64</td><td>f64</td><td>f64</td><td>f64</td><td>f64</td><td>f64</td><td>f64</td><td>f64</td><td>f64</td><td>f64</td><td>f64</td><td>f64</td></tr></thead><tbody><tr><td>4</td><td>1</td><td>2016</td><td>1</td><td>8.0</td><td>7.0</td><td>6.0</td><td>6.0</td><td>7.0</td><td>6.0</td><td>6.0</td><td>6.0</td><td>6.0</td><td>6.0</td><td>6.0</td><td>7.0</td><td>11.0</td><td>8.0</td><td>8.0</td><td>9.0</td><td>9.0</td><td>8.0</td><td>11.0</td><td>10.0</td><td>9.0</td><td>10.0</td><td>11.0</td><td>11.0</td><td>13.0</td><td>12.0</td><td>9.0</td><td>7.0</td><td>8.0</td><td>9.0</td><td>9.0</td></tr><tr><td>4</td><td>1</td><td>2016</td><td>2</td><td>12.0</td><td>13.0</td><td>9.0</td><td>9.0</td><td>11.0</td><td>9.0</td><td>7.0</td><td>7.0</td><td>7.0</td><td>7.0</td><td>7.0</td><td>7.0</td><td>7.0</td><td>7.0</td><td>7.0</td><td>8.0</td><td>8.0</td><td>7.0</td><td>9.0</td><td>11.0</td><td>10.0</td><td>11.0</td><td>10.0</td><td>9.0</td><td>8.0</td><td>7.0</td><td>7.0</td><td>8.0</td><td>9.0</td><td>0.0</td><td>0.0</td></tr><tr><td>4</td><td>1</td><td>2016</td><td>3</td><td>11.0</td><td>10.0</td><td>9.0</td><td>9.0</td><td>7.0</td><td>8.0</td><td>8.0</td><td>8.0</td><td>9.0</td><td>8.0</td><td>9.0</td><td>9.0</td><td>9.0</td><td>8.0</td><td>9.0</td><td>11.0</td><td>10.0</td><td>9.0</td><td>7.0</td><td>7.0</td><td>8.0</td><td>8.0</td><td>8.0</td><td>9.0</td><td>9.0</td><td>9.0</td><td>8.0</td><td>7.0</td><td>8.0</td><td>10.0</td><td>8.0</td></tr><tr><td>4</td><td>1</td><td>2016</td><td>4</td><td>8.0</td><td>9.0</td><td>9.0</td><td>8.0</td><td>8.0</td><td>9.0</td><td>9.0</td><td>8.0</td><td>8.0</td><td>7.0</td><td>7.0</td><td>8.0</td><td>8.0</td><td>8.0</td><td>9.0</td><td>7.0</td><td>7.0</td><td>8.0</td><td>8.0</td><td>8.0</td><td>7.0</td><td>8.0</td><td>8.0</td><td>8.0</td><td>8.0</td><td>9.0</td><td>9.0</td><td>8.0</td><td>8.0</td><td>8.0</td><td>0.0</td></tr><tr><td>4</td><td>1</td><td>2016</td><td>5</td><td>7.0</td><td>8.0</td><td>9.0</td><td>9.0</td><td>8.0</td><td>8.0</td><td>7.0</td><td>7.0</td><td>7.0</td><td>8.0</td><td>7.0</td><td>7.0</td><td>7.0</td><td>7.0</td><td>7.0</td><td>7.0</td><td>7.0</td><td>8.0</td><td>7.0</td><td>8.0</td><td>7.0</td><td>7.0</td><td>7.0</td><td>8.0</td><td>7.0</td><td>7.0</td><td>7.0</td><td>7.0</td><td>7.0</td><td>7.0</td><td>7.0</td></tr><tr><td>4</td><td>1</td><td>2016</td><td>6</td><td>7.0</td><td>7.0</td><td>8.0</td><td>7.0</td><td>7.0</td><td>7.0</td><td>7.0</td><td>8.0</td><td>8.0</td><td>8.0</td><td>7.0</td><td>7.0</td><td>7.0</td><td>7.0</td><td>7.0</td><td>7.0</td><td>7.0</td><td>7.0</td><td>7.0</td><td>8.0</td><td>7.0</td><td>7.0</td><td>7.0</td><td>8.0</td><td>7.0</td><td>7.0</td><td>7.0</td><td>7.0</td><td>8.0</td><td>8.0</td><td>0.0</td></tr><tr><td>4</td><td>1</td><td>2016</td><td>7</td><td>8.0</td><td>7.0</td><td>7.0</td><td>7.0</td><td>7.0</td><td>7.0</td><td>7.0</td><td>7.0</td><td>7.0</td><td>6.0</td><td>7.0</td><td>7.0</td><td>7.0</td><td>7.0</td><td>7.0</td><td>7.0</td><td>7.0</td><td>7.0</td><td>7.0</td><td>7.0</td><td>8.0</td><td>7.0</td><td>7.0</td><td>7.0</td><td>7.0</td><td>7.0</td><td>7.0</td><td>7.0</td><td>7.0</td><td>7.0</td><td>7.0</td></tr><tr><td>4</td><td>1</td><td>2016</td><td>8</td><td>7.0</td><td>7.0</td><td>7.0</td><td>7.0</td><td>7.0</td><td>7.0</td><td>7.0</td><td>7.0</td><td>7.0</td><td>7.0</td><td>7.0</td><td>7.0</td><td>7.0</td><td>7.0</td><td>7.0</td><td>7.0</td><td>7.0</td><td>7.0</td><td>7.0</td><td>7.0</td><td>7.0</td><td>7.0</td><td>7.0</td><td>7.0</td><td>7.0</td><td>7.0</td><td>7.0</td><td>7.0</td><td>7.0</td><td>7.0</td><td>7.0</td></tr><tr><td>4</td><td>1</td><td>2016</td><td>9</td><td>7.0</td><td>8.0</td><td>8.0</td><td>8.0</td><td>9.0</td><td>8.0</td><td>9.0</td><td>8.0</td><td>7.0</td><td>7.0</td><td>8.0</td><td>8.0</td><td>7.0</td><td>7.0</td><td>7.0</td><td>8.0</td><td>8.0</td><td>8.0</td><td>8.0</td><td>8.0</td><td>9.0</td><td>9.0</td><td>10.0</td><td>9.0</td><td>9.0</td><td>7.0</td><td>8.0</td><td>8.0</td><td>9.0</td><td>9.0</td><td>0.0</td></tr><tr><td>4</td><td>1</td><td>2016</td><td>10</td><td>9.0</td><td>8.0</td><td>10.0</td><td>10.0</td><td>10.0</td><td>10.0</td><td>10.0</td><td>12.0</td><td>9.0</td><td>9.0</td><td>9.0</td><td>8.0</td><td>8.0</td><td>8.0</td><td>9.0</td><td>10.0</td><td>9.0</td><td>8.0</td><td>8.0</td><td>9.0</td><td>6.0</td><td>2.0</td><td>2.0</td><td>2.0</td><td>3.0</td><td>5.0</td><td>5.0</td><td>4.0</td><td>4.0</td><td>6.0</td><td>7.0</td></tr><tr><td>4</td><td>1</td><td>2016</td><td>11</td><td>4.0</td><td>5.0</td><td>6.0</td><td>3.0</td><td>2.0</td><td>2.0</td><td>2.0</td><td>3.0</td><td>2.0</td><td>5.0</td><td>7.0</td><td>5.0</td><td>4.0</td><td>4.0</td><td>6.0</td><td>8.0</td><td>9.0</td><td>7.0</td><td>4.0</td><td>3.0</td><td>2.0</td><td>3.0</td><td>3.0</td><td>3.0</td><td>3.0</td><td>2.0</td><td>2.0</td><td>4.0</td><td>5.0</td><td>3.0</td><td>0.0</td></tr><tr><td>4</td><td>1</td><td>2016</td><td>12</td><td>3.0</td><td>5.0</td><td>4.0</td><td>2.0</td><td>3.0</td><td>4.0</td><td>7.0</td><td>6.0</td><td>8.0</td><td>7.0</td><td>7.0</td><td>9.0</td><td>11.0</td><td>7.0</td><td>5.0</td><td>5.0</td><td>5.0</td><td>6.0</td><td>7.0</td><td>10.0</td><td>12.0</td><td>13.0</td><td>12.0</td><td>8.0</td><td>9.0</td><td>15.0</td><td>17.0</td><td>13.0</td><td>13.0</td><td>12.0</td><td>7.0</td></tr><tr><td>&hellip;</td><td>&hellip;</td><td>&hellip;</td><td>&hellip;</td><td>&hellip;</td><td>&hellip;</td><td>&hellip;</td><td>&hellip;</td><td>&hellip;</td><td>&hellip;</td><td>&hellip;</td><td>&hellip;</td><td>&hellip;</td><td>&hellip;</td><td>&hellip;</td><td>&hellip;</td><td>&hellip;</td><td>&hellip;</td><td>&hellip;</td><td>&hellip;</td><td>&hellip;</td><td>&hellip;</td><td>&hellip;</td><td>&hellip;</td><td>&hellip;</td><td>&hellip;</td><td>&hellip;</td><td>&hellip;</td><td>&hellip;</td><td>&hellip;</td><td>&hellip;</td><td>&hellip;</td><td>&hellip;</td><td>&hellip;</td><td>&hellip;</td></tr><tr><td>60</td><td>14</td><td>2019</td><td>1</td><td>14.0</td><td>11.0</td><td>23.0</td><td>9.0</td><td>9.0</td><td>11.0</td><td>16.0</td><td>14.0</td><td>22.0</td><td>46.0</td><td>16.0</td><td>19.0</td><td>15.0</td><td>4.0</td><td>21.0</td><td>18.0</td><td>14.0</td><td>17.0</td><td>12.0</td><td>39.0</td><td>41.0</td><td>29.0</td><td>70.0</td><td>48.0</td><td>40.0</td><td>22.0</td><td>63.0</td><td>66.0</td><td>63.0</td><td>66.0</td><td>56.0</td></tr><tr><td>60</td><td>14</td><td>2019</td><td>2</td><td>70.0</td><td>74.0</td><td>54.0</td><td>9.0</td><td>14.0</td><td>17.0</td><td>17.0</td><td>30.0</td><td>28.0</td><td>51.0</td><td>57.0</td><td>41.0</td><td>29.0</td><td>29.0</td><td>23.0</td><td>48.0</td><td>43.0</td><td>34.0</td><td>30.0</td><td>29.0</td><td>31.0</td><td>32.0</td><td>30.0</td><td>52.0</td><td>29.0</td><td>36.0</td><td>31.0</td><td>27.0</td><td>0.0</td><td>0.0</td><td>0.0</td></tr><tr><td>60</td><td>14</td><td>2019</td><td>3</td><td>56.0</td><td>40.0</td><td>54.0</td><td>64.0</td><td>63.0</td><td>58.0</td><td>68.0</td><td>51.0</td><td>43.0</td><td>31.0</td><td>37.0</td><td>49.0</td><td>67.0</td><td>53.0</td><td>38.0</td><td>67.0</td><td>73.0</td><td>82.0</td><td>82.0</td><td>79.0</td><td>64.0</td><td>67.0</td><td>63.0</td><td>70.0</td><td>81.0</td><td>94.0</td><td>67.0</td><td>68.0</td><td>80.0</td><td>95.0</td><td>80.0</td></tr><tr><td>60</td><td>14</td><td>2019</td><td>4</td><td>54.0</td><td>53.0</td><td>82.0</td><td>86.0</td><td>77.0</td><td>81.0</td><td>86.0</td><td>67.0</td><td>75.0</td><td>85.0</td><td>82.0</td><td>77.0</td><td>77.0</td><td>61.0</td><td>51.0</td><td>79.0</td><td>89.0</td><td>103.0</td><td>85.0</td><td>109.0</td><td>108.0</td><td>88.0</td><td>93.0</td><td>65.0</td><td>79.0</td><td>79.0</td><td>60.0</td><td>76.0</td><td>69.0</td><td>71.0</td><td>0.0</td></tr><tr><td>60</td><td>14</td><td>2019</td><td>5</td><td>87.0</td><td>95.0</td><td>79.0</td><td>93.0</td><td>94.0</td><td>77.0</td><td>72.0</td><td>63.0</td><td>67.0</td><td>41.0</td><td>78.0</td><td>92.0</td><td>89.0</td><td>97.0</td><td>75.0</td><td>79.0</td><td>87.0</td><td>81.0</td><td>86.0</td><td>85.0</td><td>91.0</td><td>88.0</td><td>75.0</td><td>80.0</td><td>76.0</td><td>72.0</td><td>58.0</td><td>76.0</td><td>74.0</td><td>66.0</td><td>85.0</td></tr><tr><td>60</td><td>14</td><td>2019</td><td>6</td><td>92.0</td><td>98.0</td><td>79.0</td><td>72.0</td><td>74.0</td><td>81.0</td><td>84.0</td><td>95.0</td><td>86.0</td><td>81.0</td><td>83.0</td><td>78.0</td><td>84.0</td><td>90.0</td><td>94.0</td><td>88.0</td><td>78.0</td><td>85.0</td><td>68.0</td><td>64.0</td><td>81.0</td><td>88.0</td><td>79.0</td><td>77.0</td><td>68.0</td><td>75.0</td><td>91.0</td><td>94.0</td><td>108.0</td><td>106.0</td><td>0.0</td></tr><tr><td>60</td><td>14</td><td>2019</td><td>7</td><td>94.0</td><td>110.0</td><td>103.0</td><td>106.0</td><td>93.0</td><td>79.0</td><td>90.0</td><td>85.0</td><td>93.0</td><td>94.0</td><td>97.0</td><td>90.0</td><td>93.0</td><td>96.0</td><td>103.0</td><td>111.0</td><td>97.0</td><td>119.0</td><td>107.0</td><td>115.0</td><td>107.0</td><td>93.0</td><td>105.0</td><td>112.0</td><td>98.0</td><td>80.0</td><td>81.0</td><td>79.0</td><td>76.0</td><td>99.0</td><td>92.0</td></tr><tr><td>60</td><td>14</td><td>2019</td><td>8</td><td>94.0</td><td>104.0</td><td>106.0</td><td>99.0</td><td>77.0</td><td>82.0</td><td>68.0</td><td>71.0</td><td>44.0</td><td>82.0</td><td>97.0</td><td>87.0</td><td>89.0</td><td>89.0</td><td>93.0</td><td>89.0</td><td>82.0</td><td>82.0</td><td>65.0</td><td>77.0</td><td>87.0</td><td>86.0</td><td>97.0</td><td>104.0</td><td>96.0</td><td>85.0</td><td>88.0</td><td>90.0</td><td>99.0</td><td>108.0</td><td>98.0</td></tr><tr><td>60</td><td>14</td><td>2019</td><td>9</td><td>88.0</td><td>82.0</td><td>80.0</td><td>92.0</td><td>79.0</td><td>75.0</td><td>86.0</td><td>87.0</td><td>69.0</td><td>68.0</td><td>89.0</td><td>85.0</td><td>82.0</td><td>72.0</td><td>59.0</td><td>64.0</td><td>76.0</td><td>77.0</td><td>79.0</td><td>69.0</td><td>59.0</td><td>59.0</td><td>46.0</td><td>49.0</td><td>69.0</td><td>57.0</td><td>54.0</td><td>68.0</td><td>70.0</td><td>55.0</td><td>0.0</td></tr><tr><td>60</td><td>14</td><td>2019</td><td>10</td><td>44.0</td><td>75.0</td><td>44.0</td><td>54.0</td><td>65.0</td><td>68.0</td><td>36.0</td><td>49.0</td><td>50.0</td><td>60.0</td><td>46.0</td><td>55.0</td><td>58.0</td><td>57.0</td><td>60.0</td><td>48.0</td><td>38.0</td><td>47.0</td><td>64.0</td><td>63.0</td><td>36.0</td><td>37.0</td><td>39.0</td><td>45.0</td><td>21.0</td><td>23.0</td><td>28.0</td><td>33.0</td><td>16.0</td><td>19.0</td><td>47.0</td></tr><tr><td>60</td><td>14</td><td>2019</td><td>11</td><td>41.0</td><td>55.0</td><td>79.0</td><td>65.0</td><td>64.0</td><td>51.0</td><td>62.0</td><td>66.0</td><td>63.0</td><td>62.0</td><td>42.0</td><td>44.0</td><td>50.0</td><td>66.0</td><td>56.0</td><td>52.0</td><td>58.0</td><td>39.0</td><td>15.0</td><td>11.0</td><td>28.0</td><td>38.0</td><td>75.0</td><td>69.0</td><td>45.0</td><td>35.0</td><td>55.0</td><td>52.0</td><td>47.0</td><td>56.0</td><td>0.0</td></tr><tr><td>60</td><td>14</td><td>2019</td><td>12</td><td>47.0</td><td>53.0</td><td>45.0</td><td>44.0</td><td>49.0</td><td>41.0</td><td>31.0</td><td>9.0</td><td>22.0</td><td>8.0</td><td>9.0</td><td>104.0</td><td>51.0</td><td>41.0</td><td>33.0</td><td>28.0</td><td>27.0</td><td>21.0</td><td>33.0</td><td>59.0</td><td>61.0</td><td>68.0</td><td>36.0</td><td>9.0</td><td>11.0</td><td>10.0</td><td>17.0</td><td>13.0</td><td>14.0</td><td>5.0</td><td>4.0</td></tr></tbody></table></div>"
      ],
      "text/plain": [
       "shape: (7_266, 35)\n",
       "┌──────────┬──────────┬──────┬─────┬───┬──────┬──────┬──────┬──────┐\n",
       "│ ESTACION ┆ MAGNITUD ┆ ANO  ┆ MES ┆ … ┆ D28  ┆ D29  ┆ D30  ┆ D31  │\n",
       "│ ---      ┆ ---      ┆ ---  ┆ --- ┆   ┆ ---  ┆ ---  ┆ ---  ┆ ---  │\n",
       "│ i64      ┆ i64      ┆ i64  ┆ i64 ┆   ┆ f64  ┆ f64  ┆ f64  ┆ f64  │\n",
       "╞══════════╪══════════╪══════╪═════╪═══╪══════╪══════╪══════╪══════╡\n",
       "│ 4        ┆ 1        ┆ 2016 ┆ 1   ┆ … ┆ 7.0  ┆ 8.0  ┆ 9.0  ┆ 9.0  │\n",
       "│ 4        ┆ 1        ┆ 2016 ┆ 2   ┆ … ┆ 8.0  ┆ 9.0  ┆ 0.0  ┆ 0.0  │\n",
       "│ 4        ┆ 1        ┆ 2016 ┆ 3   ┆ … ┆ 7.0  ┆ 8.0  ┆ 10.0 ┆ 8.0  │\n",
       "│ 4        ┆ 1        ┆ 2016 ┆ 4   ┆ … ┆ 8.0  ┆ 8.0  ┆ 8.0  ┆ 0.0  │\n",
       "│ …        ┆ …        ┆ …    ┆ …   ┆ … ┆ …    ┆ …    ┆ …    ┆ …    │\n",
       "│ 60       ┆ 14       ┆ 2019 ┆ 9   ┆ … ┆ 68.0 ┆ 70.0 ┆ 55.0 ┆ 0.0  │\n",
       "│ 60       ┆ 14       ┆ 2019 ┆ 10  ┆ … ┆ 33.0 ┆ 16.0 ┆ 19.0 ┆ 47.0 │\n",
       "│ 60       ┆ 14       ┆ 2019 ┆ 11  ┆ … ┆ 52.0 ┆ 47.0 ┆ 56.0 ┆ 0.0  │\n",
       "│ 60       ┆ 14       ┆ 2019 ┆ 12  ┆ … ┆ 13.0 ┆ 14.0 ┆ 5.0  ┆ 4.0  │\n",
       "└──────────┴──────────┴──────┴─────┴───┴──────┴──────┴──────┴──────┘"
      ]
     },
     "execution_count": 6,
     "metadata": {},
     "output_type": "execute_result"
    }
   ],
   "source": [
    "# Seleccionar las columnas usando polars\n",
    "\n",
    "df = df.select( i for i in columnas )\n",
    "df"
   ]
  },
  {
   "cell_type": "markdown",
   "id": "aa5d3746",
   "metadata": {},
   "source": [
    "### Reestructurar el DataFrame para que los valores de los contaminantes de las columnas de los días aparezcan en una única columna.\n"
   ]
  },
  {
   "attachments": {},
   "cell_type": "markdown",
   "id": "728ead23",
   "metadata": {},
   "source": [
    "Creo que es lo siguiente:"
   ]
  },
  {
   "cell_type": "code",
   "execution_count": 7,
   "id": "9216632a",
   "metadata": {},
   "outputs": [
    {
     "data": {
      "text/html": [
       "<div><style>\n",
       ".dataframe > thead > tr > th,\n",
       ".dataframe > tbody > tr > td {\n",
       "  text-align: right;\n",
       "}\n",
       "</style>\n",
       "<small>shape: (5, 6)</small><table border=\"1\" class=\"dataframe\"><thead><tr><th>ESTACION</th><th>MAGNITUD</th><th>ANO</th><th>MES</th><th>DIAS</th><th>CONTAMINANTE</th></tr><tr><td>i64</td><td>i64</td><td>i64</td><td>i64</td><td>str</td><td>f64</td></tr></thead><tbody><tr><td>60</td><td>14</td><td>2019</td><td>8</td><td>&quot;D31&quot;</td><td>98.0</td></tr><tr><td>60</td><td>14</td><td>2019</td><td>9</td><td>&quot;D31&quot;</td><td>0.0</td></tr><tr><td>60</td><td>14</td><td>2019</td><td>10</td><td>&quot;D31&quot;</td><td>47.0</td></tr><tr><td>60</td><td>14</td><td>2019</td><td>11</td><td>&quot;D31&quot;</td><td>0.0</td></tr><tr><td>60</td><td>14</td><td>2019</td><td>12</td><td>&quot;D31&quot;</td><td>4.0</td></tr></tbody></table></div>"
      ],
      "text/plain": [
       "shape: (5, 6)\n",
       "┌──────────┬──────────┬──────┬─────┬──────┬──────────────┐\n",
       "│ ESTACION ┆ MAGNITUD ┆ ANO  ┆ MES ┆ DIAS ┆ CONTAMINANTE │\n",
       "│ ---      ┆ ---      ┆ ---  ┆ --- ┆ ---  ┆ ---          │\n",
       "│ i64      ┆ i64      ┆ i64  ┆ i64 ┆ str  ┆ f64          │\n",
       "╞══════════╪══════════╪══════╪═════╪══════╪══════════════╡\n",
       "│ 60       ┆ 14       ┆ 2019 ┆ 8   ┆ D31  ┆ 98.0         │\n",
       "│ 60       ┆ 14       ┆ 2019 ┆ 9   ┆ D31  ┆ 0.0          │\n",
       "│ 60       ┆ 14       ┆ 2019 ┆ 10  ┆ D31  ┆ 47.0         │\n",
       "│ 60       ┆ 14       ┆ 2019 ┆ 11  ┆ D31  ┆ 0.0          │\n",
       "│ 60       ┆ 14       ┆ 2019 ┆ 12  ┆ D31  ┆ 4.0          │\n",
       "└──────────┴──────────┴──────┴─────┴──────┴──────────────┘"
      ]
     },
     "execution_count": 7,
     "metadata": {},
     "output_type": "execute_result"
    }
   ],
   "source": [
    "# Usar la función melt\n",
    "#id_vars elige con qué columnas sí quedarte\n",
    "#variable_name el nombre del melt de las columnas restantes\n",
    "#value_name el nombre de la columna de los valores (la anterior era cada nombre de columna)\n",
    "\n",
    "df = df.melt(id_vars=['ESTACION', 'MAGNITUD', 'ANO', 'MES'], variable_name='DIAS', value_name='CONTAMINANTE')\n",
    "df.tail() # Para ver que si llegue al último día"
   ]
  },
  {
   "cell_type": "markdown",
   "id": "33d1a28e",
   "metadata": {},
   "source": [
    "### Crear una nueva columna llamada FECHA con las fechas a partir del año, mes y día\n",
    "Hint: **pl.concat_str([\n",
    "            pl.col(...),\n",
    "            ...\n",
    "        ])** y **.str.strptime(pl.Datetime,strict=False)** "
   ]
  },
  {
   "attachments": {},
   "cell_type": "markdown",
   "id": "d93f8508",
   "metadata": {},
   "source": [
    "Explicación:\n",
    " - replace ayuda a quitar la D, pero dejar en formato 01 a los menores de 10\n",
    " - zfill rellena cuando se necesita los números para poder parsear las fechas"
   ]
  },
  {
   "cell_type": "code",
   "execution_count": 8,
   "id": "48856a4a",
   "metadata": {},
   "outputs": [],
   "source": [
    "import datetime # Usaré esta librería\n",
    "\n",
    "df = df.with_columns([\n",
    "    pl.concat_str([df['ANO'].cast(pl.Utf8), df['MES'].cast(pl.Utf8).str.zfill(2), df['DIAS'].str.replace('D', '')]).alias(\"FECHA\").str.strptime(pl.Datetime, strict = False, format = '%Y%m%d')\n",
    "])"
   ]
  },
  {
   "cell_type": "code",
   "execution_count": 9,
   "metadata": {},
   "outputs": [
    {
     "data": {
      "text/html": [
       "<div><style>\n",
       ".dataframe > thead > tr > th,\n",
       ".dataframe > tbody > tr > td {\n",
       "  text-align: right;\n",
       "}\n",
       "</style>\n",
       "<small>shape: (225246, 7)</small><table border=\"1\" class=\"dataframe\"><thead><tr><th>ESTACION</th><th>MAGNITUD</th><th>ANO</th><th>MES</th><th>DIAS</th><th>CONTAMINANTE</th><th>FECHA</th></tr><tr><td>i64</td><td>i64</td><td>i64</td><td>i64</td><td>str</td><td>f64</td><td>datetime[μs]</td></tr></thead><tbody><tr><td>4</td><td>1</td><td>2016</td><td>1</td><td>&quot;D01&quot;</td><td>8.0</td><td>2016-01-01 00:00:00</td></tr><tr><td>4</td><td>1</td><td>2016</td><td>2</td><td>&quot;D01&quot;</td><td>12.0</td><td>2016-02-01 00:00:00</td></tr><tr><td>4</td><td>1</td><td>2016</td><td>3</td><td>&quot;D01&quot;</td><td>11.0</td><td>2016-03-01 00:00:00</td></tr><tr><td>4</td><td>1</td><td>2016</td><td>4</td><td>&quot;D01&quot;</td><td>8.0</td><td>2016-04-01 00:00:00</td></tr><tr><td>4</td><td>1</td><td>2016</td><td>5</td><td>&quot;D01&quot;</td><td>7.0</td><td>2016-05-01 00:00:00</td></tr><tr><td>4</td><td>1</td><td>2016</td><td>6</td><td>&quot;D01&quot;</td><td>7.0</td><td>2016-06-01 00:00:00</td></tr><tr><td>4</td><td>1</td><td>2016</td><td>7</td><td>&quot;D01&quot;</td><td>8.0</td><td>2016-07-01 00:00:00</td></tr><tr><td>4</td><td>1</td><td>2016</td><td>8</td><td>&quot;D01&quot;</td><td>7.0</td><td>2016-08-01 00:00:00</td></tr><tr><td>4</td><td>1</td><td>2016</td><td>9</td><td>&quot;D01&quot;</td><td>7.0</td><td>2016-09-01 00:00:00</td></tr><tr><td>4</td><td>1</td><td>2016</td><td>10</td><td>&quot;D01&quot;</td><td>9.0</td><td>2016-10-01 00:00:00</td></tr><tr><td>4</td><td>1</td><td>2016</td><td>11</td><td>&quot;D01&quot;</td><td>4.0</td><td>2016-11-01 00:00:00</td></tr><tr><td>4</td><td>1</td><td>2016</td><td>12</td><td>&quot;D01&quot;</td><td>3.0</td><td>2016-12-01 00:00:00</td></tr><tr><td>&hellip;</td><td>&hellip;</td><td>&hellip;</td><td>&hellip;</td><td>&hellip;</td><td>&hellip;</td><td>&hellip;</td></tr><tr><td>60</td><td>14</td><td>2019</td><td>1</td><td>&quot;D31&quot;</td><td>56.0</td><td>2019-01-31 00:00:00</td></tr><tr><td>60</td><td>14</td><td>2019</td><td>2</td><td>&quot;D31&quot;</td><td>0.0</td><td>null</td></tr><tr><td>60</td><td>14</td><td>2019</td><td>3</td><td>&quot;D31&quot;</td><td>80.0</td><td>2019-03-31 00:00:00</td></tr><tr><td>60</td><td>14</td><td>2019</td><td>4</td><td>&quot;D31&quot;</td><td>0.0</td><td>null</td></tr><tr><td>60</td><td>14</td><td>2019</td><td>5</td><td>&quot;D31&quot;</td><td>85.0</td><td>2019-05-31 00:00:00</td></tr><tr><td>60</td><td>14</td><td>2019</td><td>6</td><td>&quot;D31&quot;</td><td>0.0</td><td>null</td></tr><tr><td>60</td><td>14</td><td>2019</td><td>7</td><td>&quot;D31&quot;</td><td>92.0</td><td>2019-07-31 00:00:00</td></tr><tr><td>60</td><td>14</td><td>2019</td><td>8</td><td>&quot;D31&quot;</td><td>98.0</td><td>2019-08-31 00:00:00</td></tr><tr><td>60</td><td>14</td><td>2019</td><td>9</td><td>&quot;D31&quot;</td><td>0.0</td><td>null</td></tr><tr><td>60</td><td>14</td><td>2019</td><td>10</td><td>&quot;D31&quot;</td><td>47.0</td><td>2019-10-31 00:00:00</td></tr><tr><td>60</td><td>14</td><td>2019</td><td>11</td><td>&quot;D31&quot;</td><td>0.0</td><td>null</td></tr><tr><td>60</td><td>14</td><td>2019</td><td>12</td><td>&quot;D31&quot;</td><td>4.0</td><td>2019-12-31 00:00:00</td></tr></tbody></table></div>"
      ],
      "text/plain": [
       "shape: (225_246, 7)\n",
       "┌──────────┬──────────┬──────┬─────┬──────┬──────────────┬─────────────────────┐\n",
       "│ ESTACION ┆ MAGNITUD ┆ ANO  ┆ MES ┆ DIAS ┆ CONTAMINANTE ┆ FECHA               │\n",
       "│ ---      ┆ ---      ┆ ---  ┆ --- ┆ ---  ┆ ---          ┆ ---                 │\n",
       "│ i64      ┆ i64      ┆ i64  ┆ i64 ┆ str  ┆ f64          ┆ datetime[μs]        │\n",
       "╞══════════╪══════════╪══════╪═════╪══════╪══════════════╪═════════════════════╡\n",
       "│ 4        ┆ 1        ┆ 2016 ┆ 1   ┆ D01  ┆ 8.0          ┆ 2016-01-01 00:00:00 │\n",
       "│ 4        ┆ 1        ┆ 2016 ┆ 2   ┆ D01  ┆ 12.0         ┆ 2016-02-01 00:00:00 │\n",
       "│ 4        ┆ 1        ┆ 2016 ┆ 3   ┆ D01  ┆ 11.0         ┆ 2016-03-01 00:00:00 │\n",
       "│ 4        ┆ 1        ┆ 2016 ┆ 4   ┆ D01  ┆ 8.0          ┆ 2016-04-01 00:00:00 │\n",
       "│ …        ┆ …        ┆ …    ┆ …   ┆ …    ┆ …            ┆ …                   │\n",
       "│ 60       ┆ 14       ┆ 2019 ┆ 9   ┆ D31  ┆ 0.0          ┆ null                │\n",
       "│ 60       ┆ 14       ┆ 2019 ┆ 10  ┆ D31  ┆ 47.0         ┆ 2019-10-31 00:00:00 │\n",
       "│ 60       ┆ 14       ┆ 2019 ┆ 11  ┆ D31  ┆ 0.0          ┆ null                │\n",
       "│ 60       ┆ 14       ┆ 2019 ┆ 12  ┆ D31  ┆ 4.0          ┆ 2019-12-31 00:00:00 │\n",
       "└──────────┴──────────┴──────┴─────┴──────┴──────────────┴─────────────────────┘"
      ]
     },
     "execution_count": 9,
     "metadata": {},
     "output_type": "execute_result"
    }
   ],
   "source": [
    "df"
   ]
  },
  {
   "cell_type": "markdown",
   "id": "37a05fc7",
   "metadata": {},
   "source": [
    "### Eliminar las filas con fechas no válidas"
   ]
  },
  {
   "cell_type": "code",
   "execution_count": 10,
   "id": "a7eb3449",
   "metadata": {
    "scrolled": true
   },
   "outputs": [],
   "source": [
    "# Con mi método, las que no se pueden parsear, se ponen en null\n",
    "\n",
    "df = df.filter(df['FECHA'].is_null() == False)"
   ]
  },
  {
   "cell_type": "code",
   "execution_count": 11,
   "id": "0dec9619",
   "metadata": {},
   "outputs": [
    {
     "data": {
      "text/html": [
       "<div><style>\n",
       ".dataframe > thead > tr > th,\n",
       ".dataframe > tbody > tr > td {\n",
       "  text-align: right;\n",
       "}\n",
       "</style>\n",
       "<small>shape: (221158, 7)</small><table border=\"1\" class=\"dataframe\"><thead><tr><th>ESTACION</th><th>MAGNITUD</th><th>ANO</th><th>MES</th><th>DIAS</th><th>CONTAMINANTE</th><th>FECHA</th></tr><tr><td>i64</td><td>i64</td><td>i64</td><td>i64</td><td>str</td><td>f64</td><td>datetime[μs]</td></tr></thead><tbody><tr><td>4</td><td>1</td><td>2016</td><td>1</td><td>&quot;D01&quot;</td><td>8.0</td><td>2016-01-01 00:00:00</td></tr><tr><td>4</td><td>1</td><td>2016</td><td>2</td><td>&quot;D01&quot;</td><td>12.0</td><td>2016-02-01 00:00:00</td></tr><tr><td>4</td><td>1</td><td>2016</td><td>3</td><td>&quot;D01&quot;</td><td>11.0</td><td>2016-03-01 00:00:00</td></tr><tr><td>4</td><td>1</td><td>2016</td><td>4</td><td>&quot;D01&quot;</td><td>8.0</td><td>2016-04-01 00:00:00</td></tr><tr><td>4</td><td>1</td><td>2016</td><td>5</td><td>&quot;D01&quot;</td><td>7.0</td><td>2016-05-01 00:00:00</td></tr><tr><td>4</td><td>1</td><td>2016</td><td>6</td><td>&quot;D01&quot;</td><td>7.0</td><td>2016-06-01 00:00:00</td></tr><tr><td>4</td><td>1</td><td>2016</td><td>7</td><td>&quot;D01&quot;</td><td>8.0</td><td>2016-07-01 00:00:00</td></tr><tr><td>4</td><td>1</td><td>2016</td><td>8</td><td>&quot;D01&quot;</td><td>7.0</td><td>2016-08-01 00:00:00</td></tr><tr><td>4</td><td>1</td><td>2016</td><td>9</td><td>&quot;D01&quot;</td><td>7.0</td><td>2016-09-01 00:00:00</td></tr><tr><td>4</td><td>1</td><td>2016</td><td>10</td><td>&quot;D01&quot;</td><td>9.0</td><td>2016-10-01 00:00:00</td></tr><tr><td>4</td><td>1</td><td>2016</td><td>11</td><td>&quot;D01&quot;</td><td>4.0</td><td>2016-11-01 00:00:00</td></tr><tr><td>4</td><td>1</td><td>2016</td><td>12</td><td>&quot;D01&quot;</td><td>3.0</td><td>2016-12-01 00:00:00</td></tr><tr><td>&hellip;</td><td>&hellip;</td><td>&hellip;</td><td>&hellip;</td><td>&hellip;</td><td>&hellip;</td><td>&hellip;</td></tr><tr><td>60</td><td>12</td><td>2019</td><td>5</td><td>&quot;D31&quot;</td><td>32.0</td><td>2019-05-31 00:00:00</td></tr><tr><td>60</td><td>12</td><td>2019</td><td>7</td><td>&quot;D31&quot;</td><td>16.0</td><td>2019-07-31 00:00:00</td></tr><tr><td>60</td><td>12</td><td>2019</td><td>8</td><td>&quot;D31&quot;</td><td>26.0</td><td>2019-08-31 00:00:00</td></tr><tr><td>60</td><td>12</td><td>2019</td><td>10</td><td>&quot;D31&quot;</td><td>21.0</td><td>2019-10-31 00:00:00</td></tr><tr><td>60</td><td>12</td><td>2019</td><td>12</td><td>&quot;D31&quot;</td><td>202.0</td><td>2019-12-31 00:00:00</td></tr><tr><td>60</td><td>14</td><td>2019</td><td>1</td><td>&quot;D31&quot;</td><td>56.0</td><td>2019-01-31 00:00:00</td></tr><tr><td>60</td><td>14</td><td>2019</td><td>3</td><td>&quot;D31&quot;</td><td>80.0</td><td>2019-03-31 00:00:00</td></tr><tr><td>60</td><td>14</td><td>2019</td><td>5</td><td>&quot;D31&quot;</td><td>85.0</td><td>2019-05-31 00:00:00</td></tr><tr><td>60</td><td>14</td><td>2019</td><td>7</td><td>&quot;D31&quot;</td><td>92.0</td><td>2019-07-31 00:00:00</td></tr><tr><td>60</td><td>14</td><td>2019</td><td>8</td><td>&quot;D31&quot;</td><td>98.0</td><td>2019-08-31 00:00:00</td></tr><tr><td>60</td><td>14</td><td>2019</td><td>10</td><td>&quot;D31&quot;</td><td>47.0</td><td>2019-10-31 00:00:00</td></tr><tr><td>60</td><td>14</td><td>2019</td><td>12</td><td>&quot;D31&quot;</td><td>4.0</td><td>2019-12-31 00:00:00</td></tr></tbody></table></div>"
      ],
      "text/plain": [
       "shape: (221_158, 7)\n",
       "┌──────────┬──────────┬──────┬─────┬──────┬──────────────┬─────────────────────┐\n",
       "│ ESTACION ┆ MAGNITUD ┆ ANO  ┆ MES ┆ DIAS ┆ CONTAMINANTE ┆ FECHA               │\n",
       "│ ---      ┆ ---      ┆ ---  ┆ --- ┆ ---  ┆ ---          ┆ ---                 │\n",
       "│ i64      ┆ i64      ┆ i64  ┆ i64 ┆ str  ┆ f64          ┆ datetime[μs]        │\n",
       "╞══════════╪══════════╪══════╪═════╪══════╪══════════════╪═════════════════════╡\n",
       "│ 4        ┆ 1        ┆ 2016 ┆ 1   ┆ D01  ┆ 8.0          ┆ 2016-01-01 00:00:00 │\n",
       "│ 4        ┆ 1        ┆ 2016 ┆ 2   ┆ D01  ┆ 12.0         ┆ 2016-02-01 00:00:00 │\n",
       "│ 4        ┆ 1        ┆ 2016 ┆ 3   ┆ D01  ┆ 11.0         ┆ 2016-03-01 00:00:00 │\n",
       "│ 4        ┆ 1        ┆ 2016 ┆ 4   ┆ D01  ┆ 8.0          ┆ 2016-04-01 00:00:00 │\n",
       "│ …        ┆ …        ┆ …    ┆ …   ┆ …    ┆ …            ┆ …                   │\n",
       "│ 60       ┆ 14       ┆ 2019 ┆ 7   ┆ D31  ┆ 92.0         ┆ 2019-07-31 00:00:00 │\n",
       "│ 60       ┆ 14       ┆ 2019 ┆ 8   ┆ D31  ┆ 98.0         ┆ 2019-08-31 00:00:00 │\n",
       "│ 60       ┆ 14       ┆ 2019 ┆ 10  ┆ D31  ┆ 47.0         ┆ 2019-10-31 00:00:00 │\n",
       "│ 60       ┆ 14       ┆ 2019 ┆ 12  ┆ D31  ┆ 4.0          ┆ 2019-12-31 00:00:00 │\n",
       "└──────────┴──────────┴──────┴─────┴──────┴──────────────┴─────────────────────┘"
      ]
     },
     "execution_count": 11,
     "metadata": {},
     "output_type": "execute_result"
    }
   ],
   "source": [
    "df"
   ]
  },
  {
   "attachments": {},
   "cell_type": "markdown",
   "id": "630e4f24",
   "metadata": {},
   "source": [
    "Revisar que se hayan eliminado los not date"
   ]
  },
  {
   "cell_type": "markdown",
   "id": "4bea596a",
   "metadata": {},
   "source": [
    "### Ordenar el el dataframe por estación, magnitud y fecha\n",
    "Hint: **.sort(..)**"
   ]
  },
  {
   "cell_type": "code",
   "execution_count": 12,
   "id": "b7032206",
   "metadata": {
    "scrolled": true
   },
   "outputs": [
    {
     "data": {
      "text/html": [
       "<div><style>\n",
       ".dataframe > thead > tr > th,\n",
       ".dataframe > tbody > tr > td {\n",
       "  text-align: right;\n",
       "}\n",
       "</style>\n",
       "<small>shape: (221158, 7)</small><table border=\"1\" class=\"dataframe\"><thead><tr><th>ESTACION</th><th>MAGNITUD</th><th>ANO</th><th>MES</th><th>DIAS</th><th>CONTAMINANTE</th><th>FECHA</th></tr><tr><td>i64</td><td>i64</td><td>i64</td><td>i64</td><td>str</td><td>f64</td><td>datetime[μs]</td></tr></thead><tbody><tr><td>4</td><td>1</td><td>2016</td><td>1</td><td>&quot;D01&quot;</td><td>8.0</td><td>2016-01-01 00:00:00</td></tr><tr><td>4</td><td>1</td><td>2016</td><td>1</td><td>&quot;D02&quot;</td><td>7.0</td><td>2016-01-02 00:00:00</td></tr><tr><td>4</td><td>1</td><td>2016</td><td>1</td><td>&quot;D03&quot;</td><td>6.0</td><td>2016-01-03 00:00:00</td></tr><tr><td>4</td><td>1</td><td>2016</td><td>1</td><td>&quot;D04&quot;</td><td>6.0</td><td>2016-01-04 00:00:00</td></tr><tr><td>4</td><td>1</td><td>2016</td><td>1</td><td>&quot;D05&quot;</td><td>7.0</td><td>2016-01-05 00:00:00</td></tr><tr><td>4</td><td>1</td><td>2016</td><td>1</td><td>&quot;D06&quot;</td><td>6.0</td><td>2016-01-06 00:00:00</td></tr><tr><td>4</td><td>1</td><td>2016</td><td>1</td><td>&quot;D07&quot;</td><td>6.0</td><td>2016-01-07 00:00:00</td></tr><tr><td>4</td><td>1</td><td>2016</td><td>1</td><td>&quot;D08&quot;</td><td>6.0</td><td>2016-01-08 00:00:00</td></tr><tr><td>4</td><td>1</td><td>2016</td><td>1</td><td>&quot;D09&quot;</td><td>6.0</td><td>2016-01-09 00:00:00</td></tr><tr><td>4</td><td>1</td><td>2016</td><td>1</td><td>&quot;D10&quot;</td><td>6.0</td><td>2016-01-10 00:00:00</td></tr><tr><td>4</td><td>1</td><td>2016</td><td>1</td><td>&quot;D11&quot;</td><td>6.0</td><td>2016-01-11 00:00:00</td></tr><tr><td>4</td><td>1</td><td>2016</td><td>1</td><td>&quot;D12&quot;</td><td>7.0</td><td>2016-01-12 00:00:00</td></tr><tr><td>&hellip;</td><td>&hellip;</td><td>&hellip;</td><td>&hellip;</td><td>&hellip;</td><td>&hellip;</td><td>&hellip;</td></tr><tr><td>60</td><td>14</td><td>2019</td><td>12</td><td>&quot;D20&quot;</td><td>59.0</td><td>2019-12-20 00:00:00</td></tr><tr><td>60</td><td>14</td><td>2019</td><td>12</td><td>&quot;D21&quot;</td><td>61.0</td><td>2019-12-21 00:00:00</td></tr><tr><td>60</td><td>14</td><td>2019</td><td>12</td><td>&quot;D22&quot;</td><td>68.0</td><td>2019-12-22 00:00:00</td></tr><tr><td>60</td><td>14</td><td>2019</td><td>12</td><td>&quot;D23&quot;</td><td>36.0</td><td>2019-12-23 00:00:00</td></tr><tr><td>60</td><td>14</td><td>2019</td><td>12</td><td>&quot;D24&quot;</td><td>9.0</td><td>2019-12-24 00:00:00</td></tr><tr><td>60</td><td>14</td><td>2019</td><td>12</td><td>&quot;D25&quot;</td><td>11.0</td><td>2019-12-25 00:00:00</td></tr><tr><td>60</td><td>14</td><td>2019</td><td>12</td><td>&quot;D26&quot;</td><td>10.0</td><td>2019-12-26 00:00:00</td></tr><tr><td>60</td><td>14</td><td>2019</td><td>12</td><td>&quot;D27&quot;</td><td>17.0</td><td>2019-12-27 00:00:00</td></tr><tr><td>60</td><td>14</td><td>2019</td><td>12</td><td>&quot;D28&quot;</td><td>13.0</td><td>2019-12-28 00:00:00</td></tr><tr><td>60</td><td>14</td><td>2019</td><td>12</td><td>&quot;D29&quot;</td><td>14.0</td><td>2019-12-29 00:00:00</td></tr><tr><td>60</td><td>14</td><td>2019</td><td>12</td><td>&quot;D30&quot;</td><td>5.0</td><td>2019-12-30 00:00:00</td></tr><tr><td>60</td><td>14</td><td>2019</td><td>12</td><td>&quot;D31&quot;</td><td>4.0</td><td>2019-12-31 00:00:00</td></tr></tbody></table></div>"
      ],
      "text/plain": [
       "shape: (221_158, 7)\n",
       "┌──────────┬──────────┬──────┬─────┬──────┬──────────────┬─────────────────────┐\n",
       "│ ESTACION ┆ MAGNITUD ┆ ANO  ┆ MES ┆ DIAS ┆ CONTAMINANTE ┆ FECHA               │\n",
       "│ ---      ┆ ---      ┆ ---  ┆ --- ┆ ---  ┆ ---          ┆ ---                 │\n",
       "│ i64      ┆ i64      ┆ i64  ┆ i64 ┆ str  ┆ f64          ┆ datetime[μs]        │\n",
       "╞══════════╪══════════╪══════╪═════╪══════╪══════════════╪═════════════════════╡\n",
       "│ 4        ┆ 1        ┆ 2016 ┆ 1   ┆ D01  ┆ 8.0          ┆ 2016-01-01 00:00:00 │\n",
       "│ 4        ┆ 1        ┆ 2016 ┆ 1   ┆ D02  ┆ 7.0          ┆ 2016-01-02 00:00:00 │\n",
       "│ 4        ┆ 1        ┆ 2016 ┆ 1   ┆ D03  ┆ 6.0          ┆ 2016-01-03 00:00:00 │\n",
       "│ 4        ┆ 1        ┆ 2016 ┆ 1   ┆ D04  ┆ 6.0          ┆ 2016-01-04 00:00:00 │\n",
       "│ …        ┆ …        ┆ …    ┆ …   ┆ …    ┆ …            ┆ …                   │\n",
       "│ 60       ┆ 14       ┆ 2019 ┆ 12  ┆ D28  ┆ 13.0         ┆ 2019-12-28 00:00:00 │\n",
       "│ 60       ┆ 14       ┆ 2019 ┆ 12  ┆ D29  ┆ 14.0         ┆ 2019-12-29 00:00:00 │\n",
       "│ 60       ┆ 14       ┆ 2019 ┆ 12  ┆ D30  ┆ 5.0          ┆ 2019-12-30 00:00:00 │\n",
       "│ 60       ┆ 14       ┆ 2019 ┆ 12  ┆ D31  ┆ 4.0          ┆ 2019-12-31 00:00:00 │\n",
       "└──────────┴──────────┴──────┴─────┴──────┴──────────────┴─────────────────────┘"
      ]
     },
     "execution_count": 12,
     "metadata": {},
     "output_type": "execute_result"
    }
   ],
   "source": [
    "df = df.sort(by=['ESTACION', 'MAGNITUD', 'FECHA'])\n",
    "df"
   ]
  },
  {
   "cell_type": "markdown",
   "id": "218943c8",
   "metadata": {},
   "source": [
    "### Mostrar las estaciones y los contaminantes disponibles\n"
   ]
  },
  {
   "cell_type": "code",
   "execution_count": 15,
   "id": "0bdbb07b",
   "metadata": {},
   "outputs": [
    {
     "name": "stdout",
     "output_type": "stream",
     "text": [
      "shape: (24, 1)\n",
      "┌────────────────────────┐\n",
      "│ Estaciones disponibles │\n",
      "│ ---                    │\n",
      "│ i64                    │\n",
      "╞════════════════════════╡\n",
      "│ 4                      │\n",
      "│ 8                      │\n",
      "│ 11                     │\n",
      "│ 16                     │\n",
      "│ …                      │\n",
      "│ 57                     │\n",
      "│ 58                     │\n",
      "│ 59                     │\n",
      "│ 60                     │\n",
      "└────────────────────────┘\n",
      "shape: (14, 1)\n",
      "┌───────────────────────────┐\n",
      "│ Contaminantes disponibles │\n",
      "│ ---                       │\n",
      "│ i64                       │\n",
      "╞═══════════════════════════╡\n",
      "│ 1                         │\n",
      "│ 6                         │\n",
      "│ 7                         │\n",
      "│ 8                         │\n",
      "│ …                         │\n",
      "│ 35                        │\n",
      "│ 42                        │\n",
      "│ 43                        │\n",
      "│ 44                        │\n",
      "└───────────────────────────┘\n"
     ]
    }
   ],
   "source": [
    "# O sea, mostrar todos los valores únicos de estaciones y contaminantes (si quisiera el número, n_unique)\n",
    "\n",
    "print(df.select([pl.col(\"ESTACION\").unique().alias(\"Estaciones disponibles\")]))\n",
    "print(df.select([pl.col(\"MAGNITUD\").unique().alias(\"Contaminantes disponibles\")]))"
   ]
  },
  {
   "cell_type": "markdown",
   "id": "9942abf9",
   "metadata": {},
   "source": [
    "## Tiempo de ejecución\n",
    "Realiza una comparación de tiempo de ejecución utilizando pandas y polars. Lee todos los csv de https://github.com/pola-rs/polars/tree/main/examples/datasets, concatena verticalmente todos los csv y realiza un groupby a 'category' con cualquier función de agregación. De ahí compara el tiempo realizando 10000 iteraciones con la libreria `timeit` de python."
   ]
  },
  {
   "cell_type": "code",
   "execution_count": 45,
   "id": "9526a28d",
   "metadata": {},
   "outputs": [],
   "source": [
    "# Dataframe de polars\n",
    "df_polars = pl.concat([pl.read_csv(i) for i in [\"foods1.csv\", \"foods2.csv\", \"foods3.csv\", \"foods4.csv\", \"foods5.csv\"]])\n",
    "\n",
    "# Dataframe de pandas\n",
    "import pandas as pd\n",
    "df_pandas = pd.concat([pd.read_csv(i) for i in [\"foods1.csv\", \"foods2.csv\", \"foods3.csv\", \"foods4.csv\", \"foods5.csv\"]])"
   ]
  },
  {
   "cell_type": "code",
   "execution_count": 48,
   "id": "3b182a9f",
   "metadata": {},
   "outputs": [
    {
     "data": {
      "text/html": [
       "<div><style>\n",
       ".dataframe > thead > tr > th,\n",
       ".dataframe > tbody > tr > td {\n",
       "  text-align: right;\n",
       "}\n",
       "</style>\n",
       "<small>shape: (135, 4)</small><table border=\"1\" class=\"dataframe\"><thead><tr><th>category</th><th>calories</th><th>fats_g</th><th>sugars_g</th></tr><tr><td>str</td><td>i64</td><td>f64</td><td>i64</td></tr></thead><tbody><tr><td>&quot;vegetables&quot;</td><td>45</td><td>0.5</td><td>2</td></tr><tr><td>&quot;seafood&quot;</td><td>150</td><td>5.0</td><td>0</td></tr><tr><td>&quot;meat&quot;</td><td>100</td><td>5.0</td><td>0</td></tr><tr><td>&quot;fruit&quot;</td><td>60</td><td>0.0</td><td>11</td></tr><tr><td>&quot;seafood&quot;</td><td>140</td><td>5.0</td><td>1</td></tr><tr><td>&quot;meat&quot;</td><td>120</td><td>10.0</td><td>1</td></tr><tr><td>&quot;vegetables&quot;</td><td>20</td><td>0.0</td><td>2</td></tr><tr><td>&quot;fruit&quot;</td><td>30</td><td>0.0</td><td>5</td></tr><tr><td>&quot;seafood&quot;</td><td>130</td><td>5.0</td><td>0</td></tr><tr><td>&quot;fruit&quot;</td><td>50</td><td>4.5</td><td>0</td></tr><tr><td>&quot;meat&quot;</td><td>110</td><td>7.0</td><td>0</td></tr><tr><td>&quot;vegetables&quot;</td><td>25</td><td>0.0</td><td>2</td></tr><tr><td>&hellip;</td><td>&hellip;</td><td>&hellip;</td><td>&hellip;</td></tr><tr><td>&quot;seafood&quot;</td><td>102</td><td>6.0</td><td>0</td></tr><tr><td>&quot;seafood&quot;</td><td>210</td><td>11.0</td><td>0</td></tr><tr><td>&quot;vegetables&quot;</td><td>23</td><td>0.0</td><td>5</td></tr><tr><td>&quot;vegetables&quot;</td><td>26</td><td>0.0</td><td>0</td></tr><tr><td>&quot;seafood&quot;</td><td>145</td><td>4.0</td><td>0</td></tr><tr><td>&quot;meat&quot;</td><td>95</td><td>5.0</td><td>0</td></tr><tr><td>&quot;fruit&quot;</td><td>34</td><td>0.0</td><td>2</td></tr><tr><td>&quot;meat&quot;</td><td>48</td><td>2.0</td><td>0</td></tr><tr><td>&quot;vegetables&quot;</td><td>37</td><td>0.4</td><td>1</td></tr><tr><td>&quot;fruit&quot;</td><td>56</td><td>4.2</td><td>0</td></tr><tr><td>&quot;vegetables&quot;</td><td>34</td><td>0.0</td><td>3</td></tr><tr><td>&quot;seafood&quot;</td><td>180</td><td>6.0</td><td>1</td></tr></tbody></table></div>"
      ],
      "text/plain": [
       "shape: (135, 4)\n",
       "┌────────────┬──────────┬────────┬──────────┐\n",
       "│ category   ┆ calories ┆ fats_g ┆ sugars_g │\n",
       "│ ---        ┆ ---      ┆ ---    ┆ ---      │\n",
       "│ str        ┆ i64      ┆ f64    ┆ i64      │\n",
       "╞════════════╪══════════╪════════╪══════════╡\n",
       "│ vegetables ┆ 45       ┆ 0.5    ┆ 2        │\n",
       "│ seafood    ┆ 150      ┆ 5.0    ┆ 0        │\n",
       "│ meat       ┆ 100      ┆ 5.0    ┆ 0        │\n",
       "│ fruit      ┆ 60       ┆ 0.0    ┆ 11       │\n",
       "│ …          ┆ …        ┆ …      ┆ …        │\n",
       "│ vegetables ┆ 37       ┆ 0.4    ┆ 1        │\n",
       "│ fruit      ┆ 56       ┆ 4.2    ┆ 0        │\n",
       "│ vegetables ┆ 34       ┆ 0.0    ┆ 3        │\n",
       "│ seafood    ┆ 180      ┆ 6.0    ┆ 1        │\n",
       "└────────────┴──────────┴────────┴──────────┘"
      ]
     },
     "execution_count": 48,
     "metadata": {},
     "output_type": "execute_result"
    }
   ],
   "source": [
    "df_polars"
   ]
  },
  {
   "attachments": {},
   "cell_type": "markdown",
   "id": "5fc3f7e0",
   "metadata": {},
   "source": [
    "Ahora sí, la comparación de tiempos."
   ]
  },
  {
   "cell_type": "code",
   "execution_count": 62,
   "id": "27d997da",
   "metadata": {},
   "outputs": [
    {
     "name": "stdout",
     "output_type": "stream",
     "text": [
      "El tiempo de polars es: 0.10012045899929944\n",
      "El tiempo de pandas es: 0.08594254199852003\n",
      "Pandas fue más rápido por: 0.014177917000779416\n"
     ]
    }
   ],
   "source": [
    "# Iterando 10000 veces como dijeron\n",
    "\n",
    "import timeit\n",
    "\n",
    "polars = timeit.timeit(lambda: df_polars.select(\"calories\").groupby(\"calories\").mean(), number = 1000)\n",
    "pandas = timeit.timeit(lambda: df_pandas.groupby(\"category\")[\"calories\"].mean(), number = 1000)\n",
    "\n",
    "print(\"El tiempo de polars es: \" +  str(polars))\n",
    "print(\"El tiempo de pandas es: \" + str(pandas))\n",
    "\n",
    "if polars > pandas:\n",
    "    print(\"Pandas fue más rápido por: \" + str(polars - pandas))\n",
    "else:\n",
    "    print(\"Polars fue más rapido por: \" + str(pandas - polars))"
   ]
  }
 ],
 "metadata": {
  "kernelspec": {
   "display_name": "Python 3 (ipykernel)",
   "language": "python",
   "name": "python3"
  },
  "language_info": {
   "codemirror_mode": {
    "name": "ipython",
    "version": 3
   },
   "file_extension": ".py",
   "mimetype": "text/x-python",
   "name": "python",
   "nbconvert_exporter": "python",
   "pygments_lexer": "ipython3",
   "version": "3.11.3"
  }
 },
 "nbformat": 4,
 "nbformat_minor": 5
}
