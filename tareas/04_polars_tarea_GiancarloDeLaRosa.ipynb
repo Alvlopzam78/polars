{
 "cells": [
  {
   "cell_type": "markdown",
   "id": "67f5d07f",
   "metadata": {},
   "source": [
    "# Ejercicio prueba\n",
    "Consta en hacer simples tareas de pandas pero ahora con la sintaxis de polars.\n",
    "Los csv de emisiones-2016.csv, emisiones-2017.csv, emisiones-2018.csv y emisiones-2019.csv, contienen datos sobre las emisiones contaminates en la ciudad de Madrid en los años 2016, 2017, 2018 y 2019 respectivamente. Escribir un programa con los siguientes requisitos:"
   ]
  },
  {
   "cell_type": "markdown",
   "id": "2fd3c883",
   "metadata": {},
   "source": [
    "*Es importante que el código ea breve, ya que cada ejercicio puede hacerse en una sola instrucción* :OO"
   ]
  },
  {
   "cell_type": "markdown",
   "id": "d2584bcd",
   "metadata": {},
   "source": [
    "### Generar un DataFrame con los datos de los cuatro ficheros.\n",
    "Hint: leer los datos y concatenarlos verticalmente --> **pl.concat**"
   ]
  },
  {
   "cell_type": "code",
   "execution_count": 4,
   "id": "cb105421",
   "metadata": {},
   "outputs": [],
   "source": [
    "import polars as pl\n",
    "\n",
    "\n",
    "## Código aquí\n",
    "\n",
    "df16=pl.read_csv('emisiones-2016.csv', separator=';')\n",
    "df17=pl.read_csv('emisiones-2017.csv', separator=';')\n",
    "df18=pl.read_csv('emisiones-2018.csv', separator=';')\n",
    "df19=pl.read_csv('emisiones-2019.csv', separator=';')\n",
    "df=pl.concat([df16, df17, df18, df19], how='vertical')"
   ]
  },
  {
   "cell_type": "code",
   "execution_count": 5,
   "id": "f7890fec-17f9-4a08-b327-8b0fd388c5e2",
   "metadata": {},
   "outputs": [
    {
     "data": {
      "text/html": [
       "<div><style>\n",
       ".dataframe > thead > tr > th,\n",
       ".dataframe > tbody > tr > td {\n",
       "  text-align: right;\n",
       "}\n",
       "</style>\n",
       "<small>shape: (5, 69)</small><table border=\"1\" class=\"dataframe\"><thead><tr><th>PROVINCIA</th><th>MUNICIPIO</th><th>ESTACION</th><th>MAGNITUD</th><th>PUNTO_MUESTREO</th><th>ANO</th><th>MES</th><th>D01</th><th>V01</th><th>D02</th><th>V02</th><th>D03</th><th>V03</th><th>D04</th><th>V04</th><th>D05</th><th>V05</th><th>D06</th><th>V06</th><th>D07</th><th>V07</th><th>D08</th><th>V08</th><th>D09</th><th>V09</th><th>D10</th><th>V10</th><th>D11</th><th>V11</th><th>D12</th><th>V12</th><th>D13</th><th>V13</th><th>D14</th><th>V14</th><th>D15</th><th>V15</th><th>D16</th><th>V16</th><th>D17</th><th>V17</th><th>D18</th><th>V18</th><th>D19</th><th>V19</th><th>D20</th><th>V20</th><th>D21</th><th>V21</th><th>D22</th><th>V22</th><th>D23</th><th>V23</th><th>D24</th><th>V24</th><th>D25</th><th>V25</th><th>D26</th><th>V26</th><th>D27</th><th>V27</th><th>D28</th><th>V28</th><th>D29</th><th>V29</th><th>D30</th><th>V30</th><th>D31</th><th>V31</th></tr><tr><td>i64</td><td>i64</td><td>i64</td><td>i64</td><td>str</td><td>i64</td><td>i64</td><td>f64</td><td>str</td><td>f64</td><td>str</td><td>f64</td><td>str</td><td>f64</td><td>str</td><td>f64</td><td>str</td><td>f64</td><td>str</td><td>f64</td><td>str</td><td>f64</td><td>str</td><td>f64</td><td>str</td><td>f64</td><td>str</td><td>f64</td><td>str</td><td>f64</td><td>str</td><td>f64</td><td>str</td><td>f64</td><td>str</td><td>f64</td><td>str</td><td>f64</td><td>str</td><td>f64</td><td>str</td><td>f64</td><td>str</td><td>f64</td><td>str</td><td>f64</td><td>str</td><td>f64</td><td>str</td><td>f64</td><td>str</td><td>f64</td><td>str</td><td>f64</td><td>str</td><td>f64</td><td>str</td><td>f64</td><td>str</td><td>f64</td><td>str</td><td>f64</td><td>str</td><td>f64</td><td>str</td><td>f64</td><td>str</td><td>f64</td><td>str</td></tr></thead><tbody><tr><td>28</td><td>79</td><td>4</td><td>1</td><td>&quot;28079004_1_38&quot;</td><td>2016</td><td>1</td><td>8.0</td><td>&quot;V&quot;</td><td>7.0</td><td>&quot;V&quot;</td><td>6.0</td><td>&quot;V&quot;</td><td>6.0</td><td>&quot;V&quot;</td><td>7.0</td><td>&quot;V&quot;</td><td>6.0</td><td>&quot;V&quot;</td><td>6.0</td><td>&quot;V&quot;</td><td>6.0</td><td>&quot;V&quot;</td><td>6.0</td><td>&quot;V&quot;</td><td>6.0</td><td>&quot;V&quot;</td><td>6.0</td><td>&quot;V&quot;</td><td>7.0</td><td>&quot;V&quot;</td><td>11.0</td><td>&quot;V&quot;</td><td>8.0</td><td>&quot;V&quot;</td><td>8.0</td><td>&quot;V&quot;</td><td>9.0</td><td>&quot;V&quot;</td><td>9.0</td><td>&quot;V&quot;</td><td>8.0</td><td>&quot;V&quot;</td><td>11.0</td><td>&quot;V&quot;</td><td>10.0</td><td>&quot;V&quot;</td><td>9.0</td><td>&quot;V&quot;</td><td>10.0</td><td>&quot;V&quot;</td><td>11.0</td><td>&quot;V&quot;</td><td>11.0</td><td>&quot;V&quot;</td><td>13.0</td><td>&quot;V&quot;</td><td>12.0</td><td>&quot;V&quot;</td><td>9.0</td><td>&quot;V&quot;</td><td>7.0</td><td>&quot;V&quot;</td><td>8.0</td><td>&quot;V&quot;</td><td>9.0</td><td>&quot;V&quot;</td><td>9.0</td><td>&quot;V&quot;</td></tr><tr><td>28</td><td>79</td><td>4</td><td>1</td><td>&quot;28079004_1_38&quot;</td><td>2016</td><td>2</td><td>12.0</td><td>&quot;V&quot;</td><td>13.0</td><td>&quot;V&quot;</td><td>9.0</td><td>&quot;V&quot;</td><td>9.0</td><td>&quot;V&quot;</td><td>11.0</td><td>&quot;V&quot;</td><td>9.0</td><td>&quot;V&quot;</td><td>7.0</td><td>&quot;V&quot;</td><td>7.0</td><td>&quot;V&quot;</td><td>7.0</td><td>&quot;V&quot;</td><td>7.0</td><td>&quot;V&quot;</td><td>7.0</td><td>&quot;V&quot;</td><td>7.0</td><td>&quot;V&quot;</td><td>7.0</td><td>&quot;V&quot;</td><td>7.0</td><td>&quot;V&quot;</td><td>7.0</td><td>&quot;V&quot;</td><td>8.0</td><td>&quot;V&quot;</td><td>8.0</td><td>&quot;V&quot;</td><td>7.0</td><td>&quot;V&quot;</td><td>9.0</td><td>&quot;V&quot;</td><td>11.0</td><td>&quot;V&quot;</td><td>10.0</td><td>&quot;V&quot;</td><td>11.0</td><td>&quot;V&quot;</td><td>10.0</td><td>&quot;V&quot;</td><td>9.0</td><td>&quot;V&quot;</td><td>8.0</td><td>&quot;V&quot;</td><td>7.0</td><td>&quot;V&quot;</td><td>7.0</td><td>&quot;V&quot;</td><td>8.0</td><td>&quot;V&quot;</td><td>9.0</td><td>&quot;V&quot;</td><td>0.0</td><td>&quot;N&quot;</td><td>0.0</td><td>&quot;N&quot;</td></tr><tr><td>28</td><td>79</td><td>4</td><td>1</td><td>&quot;28079004_1_38&quot;</td><td>2016</td><td>3</td><td>11.0</td><td>&quot;V&quot;</td><td>10.0</td><td>&quot;V&quot;</td><td>9.0</td><td>&quot;V&quot;</td><td>9.0</td><td>&quot;V&quot;</td><td>7.0</td><td>&quot;V&quot;</td><td>8.0</td><td>&quot;V&quot;</td><td>8.0</td><td>&quot;V&quot;</td><td>8.0</td><td>&quot;V&quot;</td><td>9.0</td><td>&quot;V&quot;</td><td>8.0</td><td>&quot;V&quot;</td><td>9.0</td><td>&quot;V&quot;</td><td>9.0</td><td>&quot;V&quot;</td><td>9.0</td><td>&quot;V&quot;</td><td>8.0</td><td>&quot;V&quot;</td><td>9.0</td><td>&quot;V&quot;</td><td>11.0</td><td>&quot;V&quot;</td><td>10.0</td><td>&quot;V&quot;</td><td>9.0</td><td>&quot;V&quot;</td><td>7.0</td><td>&quot;V&quot;</td><td>7.0</td><td>&quot;V&quot;</td><td>8.0</td><td>&quot;V&quot;</td><td>8.0</td><td>&quot;V&quot;</td><td>8.0</td><td>&quot;V&quot;</td><td>9.0</td><td>&quot;V&quot;</td><td>9.0</td><td>&quot;V&quot;</td><td>9.0</td><td>&quot;V&quot;</td><td>8.0</td><td>&quot;V&quot;</td><td>7.0</td><td>&quot;V&quot;</td><td>8.0</td><td>&quot;V&quot;</td><td>10.0</td><td>&quot;V&quot;</td><td>8.0</td><td>&quot;V&quot;</td></tr><tr><td>28</td><td>79</td><td>4</td><td>1</td><td>&quot;28079004_1_38&quot;</td><td>2016</td><td>4</td><td>8.0</td><td>&quot;V&quot;</td><td>9.0</td><td>&quot;V&quot;</td><td>9.0</td><td>&quot;V&quot;</td><td>8.0</td><td>&quot;V&quot;</td><td>8.0</td><td>&quot;V&quot;</td><td>9.0</td><td>&quot;V&quot;</td><td>9.0</td><td>&quot;V&quot;</td><td>8.0</td><td>&quot;V&quot;</td><td>8.0</td><td>&quot;V&quot;</td><td>7.0</td><td>&quot;V&quot;</td><td>7.0</td><td>&quot;V&quot;</td><td>8.0</td><td>&quot;V&quot;</td><td>8.0</td><td>&quot;V&quot;</td><td>8.0</td><td>&quot;V&quot;</td><td>9.0</td><td>&quot;V&quot;</td><td>7.0</td><td>&quot;V&quot;</td><td>7.0</td><td>&quot;V&quot;</td><td>8.0</td><td>&quot;V&quot;</td><td>8.0</td><td>&quot;V&quot;</td><td>8.0</td><td>&quot;V&quot;</td><td>7.0</td><td>&quot;V&quot;</td><td>8.0</td><td>&quot;V&quot;</td><td>8.0</td><td>&quot;V&quot;</td><td>8.0</td><td>&quot;V&quot;</td><td>8.0</td><td>&quot;V&quot;</td><td>9.0</td><td>&quot;V&quot;</td><td>9.0</td><td>&quot;V&quot;</td><td>8.0</td><td>&quot;V&quot;</td><td>8.0</td><td>&quot;V&quot;</td><td>8.0</td><td>&quot;V&quot;</td><td>0.0</td><td>&quot;N&quot;</td></tr><tr><td>28</td><td>79</td><td>4</td><td>1</td><td>&quot;28079004_1_38&quot;</td><td>2016</td><td>5</td><td>7.0</td><td>&quot;V&quot;</td><td>8.0</td><td>&quot;V&quot;</td><td>9.0</td><td>&quot;V&quot;</td><td>9.0</td><td>&quot;V&quot;</td><td>8.0</td><td>&quot;V&quot;</td><td>8.0</td><td>&quot;V&quot;</td><td>7.0</td><td>&quot;V&quot;</td><td>7.0</td><td>&quot;V&quot;</td><td>7.0</td><td>&quot;V&quot;</td><td>8.0</td><td>&quot;V&quot;</td><td>7.0</td><td>&quot;V&quot;</td><td>7.0</td><td>&quot;V&quot;</td><td>7.0</td><td>&quot;V&quot;</td><td>7.0</td><td>&quot;V&quot;</td><td>7.0</td><td>&quot;V&quot;</td><td>7.0</td><td>&quot;V&quot;</td><td>7.0</td><td>&quot;V&quot;</td><td>8.0</td><td>&quot;V&quot;</td><td>7.0</td><td>&quot;V&quot;</td><td>8.0</td><td>&quot;V&quot;</td><td>7.0</td><td>&quot;V&quot;</td><td>7.0</td><td>&quot;V&quot;</td><td>7.0</td><td>&quot;V&quot;</td><td>8.0</td><td>&quot;V&quot;</td><td>7.0</td><td>&quot;V&quot;</td><td>7.0</td><td>&quot;V&quot;</td><td>7.0</td><td>&quot;V&quot;</td><td>7.0</td><td>&quot;V&quot;</td><td>7.0</td><td>&quot;V&quot;</td><td>7.0</td><td>&quot;V&quot;</td><td>7.0</td><td>&quot;V&quot;</td></tr></tbody></table></div>"
      ],
      "text/plain": [
       "shape: (5, 69)\n",
       "┌───────────┬───────────┬──────────┬──────────┬───┬──────┬─────┬─────┬─────┐\n",
       "│ PROVINCIA ┆ MUNICIPIO ┆ ESTACION ┆ MAGNITUD ┆ … ┆ D30  ┆ V30 ┆ D31 ┆ V31 │\n",
       "│ ---       ┆ ---       ┆ ---      ┆ ---      ┆   ┆ ---  ┆ --- ┆ --- ┆ --- │\n",
       "│ i64       ┆ i64       ┆ i64      ┆ i64      ┆   ┆ f64  ┆ str ┆ f64 ┆ str │\n",
       "╞═══════════╪═══════════╪══════════╪══════════╪═══╪══════╪═════╪═════╪═════╡\n",
       "│ 28        ┆ 79        ┆ 4        ┆ 1        ┆ … ┆ 9.0  ┆ V   ┆ 9.0 ┆ V   │\n",
       "│ 28        ┆ 79        ┆ 4        ┆ 1        ┆ … ┆ 0.0  ┆ N   ┆ 0.0 ┆ N   │\n",
       "│ 28        ┆ 79        ┆ 4        ┆ 1        ┆ … ┆ 10.0 ┆ V   ┆ 8.0 ┆ V   │\n",
       "│ 28        ┆ 79        ┆ 4        ┆ 1        ┆ … ┆ 8.0  ┆ V   ┆ 0.0 ┆ N   │\n",
       "│ 28        ┆ 79        ┆ 4        ┆ 1        ┆ … ┆ 7.0  ┆ V   ┆ 7.0 ┆ V   │\n",
       "└───────────┴───────────┴──────────┴──────────┴───┴──────┴─────┴─────┴─────┘"
      ]
     },
     "execution_count": 5,
     "metadata": {},
     "output_type": "execute_result"
    }
   ],
   "source": [
    "df.head(5)"
   ]
  },
  {
   "cell_type": "markdown",
   "id": "7485b4be",
   "metadata": {},
   "source": [
    "### Filtrar las columnas del DataFrame para quedarse únicamente con las columnas de ESTACION, MAGNITUD, AÑO, MES y las correspondientes a todos los días D01, D02, ... \n",
    "Hint: **df.select(...)** "
   ]
  },
  {
   "cell_type": "code",
   "execution_count": 6,
   "id": "d13feb14",
   "metadata": {},
   "outputs": [
    {
     "data": {
      "text/html": [
       "<div><style>\n",
       ".dataframe > thead > tr > th,\n",
       ".dataframe > tbody > tr > td {\n",
       "  text-align: right;\n",
       "}\n",
       "</style>\n",
       "<small>shape: (5, 35)</small><table border=\"1\" class=\"dataframe\"><thead><tr><th>ESTACION</th><th>MAGNITUD</th><th>ANO</th><th>MES</th><th>D01</th><th>D02</th><th>D03</th><th>D04</th><th>D05</th><th>D06</th><th>D07</th><th>D08</th><th>D09</th><th>D10</th><th>D11</th><th>D12</th><th>D13</th><th>D14</th><th>D15</th><th>D16</th><th>D17</th><th>D18</th><th>D19</th><th>D20</th><th>D21</th><th>D22</th><th>D23</th><th>D24</th><th>D25</th><th>D26</th><th>D27</th><th>D28</th><th>D29</th><th>D30</th><th>D31</th></tr><tr><td>i64</td><td>i64</td><td>i64</td><td>i64</td><td>f64</td><td>f64</td><td>f64</td><td>f64</td><td>f64</td><td>f64</td><td>f64</td><td>f64</td><td>f64</td><td>f64</td><td>f64</td><td>f64</td><td>f64</td><td>f64</td><td>f64</td><td>f64</td><td>f64</td><td>f64</td><td>f64</td><td>f64</td><td>f64</td><td>f64</td><td>f64</td><td>f64</td><td>f64</td><td>f64</td><td>f64</td><td>f64</td><td>f64</td><td>f64</td><td>f64</td></tr></thead><tbody><tr><td>4</td><td>1</td><td>2016</td><td>1</td><td>8.0</td><td>7.0</td><td>6.0</td><td>6.0</td><td>7.0</td><td>6.0</td><td>6.0</td><td>6.0</td><td>6.0</td><td>6.0</td><td>6.0</td><td>7.0</td><td>11.0</td><td>8.0</td><td>8.0</td><td>9.0</td><td>9.0</td><td>8.0</td><td>11.0</td><td>10.0</td><td>9.0</td><td>10.0</td><td>11.0</td><td>11.0</td><td>13.0</td><td>12.0</td><td>9.0</td><td>7.0</td><td>8.0</td><td>9.0</td><td>9.0</td></tr><tr><td>4</td><td>1</td><td>2016</td><td>2</td><td>12.0</td><td>13.0</td><td>9.0</td><td>9.0</td><td>11.0</td><td>9.0</td><td>7.0</td><td>7.0</td><td>7.0</td><td>7.0</td><td>7.0</td><td>7.0</td><td>7.0</td><td>7.0</td><td>7.0</td><td>8.0</td><td>8.0</td><td>7.0</td><td>9.0</td><td>11.0</td><td>10.0</td><td>11.0</td><td>10.0</td><td>9.0</td><td>8.0</td><td>7.0</td><td>7.0</td><td>8.0</td><td>9.0</td><td>0.0</td><td>0.0</td></tr><tr><td>4</td><td>1</td><td>2016</td><td>3</td><td>11.0</td><td>10.0</td><td>9.0</td><td>9.0</td><td>7.0</td><td>8.0</td><td>8.0</td><td>8.0</td><td>9.0</td><td>8.0</td><td>9.0</td><td>9.0</td><td>9.0</td><td>8.0</td><td>9.0</td><td>11.0</td><td>10.0</td><td>9.0</td><td>7.0</td><td>7.0</td><td>8.0</td><td>8.0</td><td>8.0</td><td>9.0</td><td>9.0</td><td>9.0</td><td>8.0</td><td>7.0</td><td>8.0</td><td>10.0</td><td>8.0</td></tr><tr><td>4</td><td>1</td><td>2016</td><td>4</td><td>8.0</td><td>9.0</td><td>9.0</td><td>8.0</td><td>8.0</td><td>9.0</td><td>9.0</td><td>8.0</td><td>8.0</td><td>7.0</td><td>7.0</td><td>8.0</td><td>8.0</td><td>8.0</td><td>9.0</td><td>7.0</td><td>7.0</td><td>8.0</td><td>8.0</td><td>8.0</td><td>7.0</td><td>8.0</td><td>8.0</td><td>8.0</td><td>8.0</td><td>9.0</td><td>9.0</td><td>8.0</td><td>8.0</td><td>8.0</td><td>0.0</td></tr><tr><td>4</td><td>1</td><td>2016</td><td>5</td><td>7.0</td><td>8.0</td><td>9.0</td><td>9.0</td><td>8.0</td><td>8.0</td><td>7.0</td><td>7.0</td><td>7.0</td><td>8.0</td><td>7.0</td><td>7.0</td><td>7.0</td><td>7.0</td><td>7.0</td><td>7.0</td><td>7.0</td><td>8.0</td><td>7.0</td><td>8.0</td><td>7.0</td><td>7.0</td><td>7.0</td><td>8.0</td><td>7.0</td><td>7.0</td><td>7.0</td><td>7.0</td><td>7.0</td><td>7.0</td><td>7.0</td></tr></tbody></table></div>"
      ],
      "text/plain": [
       "shape: (5, 35)\n",
       "┌──────────┬──────────┬──────┬─────┬───┬─────┬─────┬──────┬─────┐\n",
       "│ ESTACION ┆ MAGNITUD ┆ ANO  ┆ MES ┆ … ┆ D28 ┆ D29 ┆ D30  ┆ D31 │\n",
       "│ ---      ┆ ---      ┆ ---  ┆ --- ┆   ┆ --- ┆ --- ┆ ---  ┆ --- │\n",
       "│ i64      ┆ i64      ┆ i64  ┆ i64 ┆   ┆ f64 ┆ f64 ┆ f64  ┆ f64 │\n",
       "╞══════════╪══════════╪══════╪═════╪═══╪═════╪═════╪══════╪═════╡\n",
       "│ 4        ┆ 1        ┆ 2016 ┆ 1   ┆ … ┆ 7.0 ┆ 8.0 ┆ 9.0  ┆ 9.0 │\n",
       "│ 4        ┆ 1        ┆ 2016 ┆ 2   ┆ … ┆ 8.0 ┆ 9.0 ┆ 0.0  ┆ 0.0 │\n",
       "│ 4        ┆ 1        ┆ 2016 ┆ 3   ┆ … ┆ 7.0 ┆ 8.0 ┆ 10.0 ┆ 8.0 │\n",
       "│ 4        ┆ 1        ┆ 2016 ┆ 4   ┆ … ┆ 8.0 ┆ 8.0 ┆ 8.0  ┆ 0.0 │\n",
       "│ 4        ┆ 1        ┆ 2016 ┆ 5   ┆ … ┆ 7.0 ┆ 7.0 ┆ 7.0  ┆ 7.0 │\n",
       "└──────────┴──────────┴──────┴─────┴───┴─────┴─────┴──────┴─────┘"
      ]
     },
     "execution_count": 6,
     "metadata": {},
     "output_type": "execute_result"
    }
   ],
   "source": [
    "## Código aquí\n",
    "df=df.select(['ESTACION', 'MAGNITUD', 'ANO', 'MES', 'D01', 'D02', 'D03', 'D04', 'D05', 'D06', 'D07', 'D08', 'D09', 'D10',\n",
    "             'D11', 'D12', 'D13', 'D14', 'D15', 'D16', 'D17', 'D18', 'D19', 'D20', 'D21', 'D22', 'D23', 'D24', 'D25', 'D26', 'D27', \n",
    "              'D28', 'D29', 'D30', 'D31'])\n",
    "df.head(5)"
   ]
  },
  {
   "cell_type": "markdown",
   "id": "aa5d3746",
   "metadata": {},
   "source": [
    "### Reestructurar el DataFrame para que los valores de los contaminantes de las columnas de los días aparezcan en una única columna.\n"
   ]
  },
  {
   "cell_type": "code",
   "execution_count": 7,
   "id": "9216632a",
   "metadata": {},
   "outputs": [
    {
     "data": {
      "text/html": [
       "<div><style>\n",
       ".dataframe > thead > tr > th,\n",
       ".dataframe > tbody > tr > td {\n",
       "  text-align: right;\n",
       "}\n",
       "</style>\n",
       "<small>shape: (5, 6)</small><table border=\"1\" class=\"dataframe\"><thead><tr><th>ESTACION</th><th>MAGNITUD</th><th>ANO</th><th>MES</th><th>DIA</th><th>CONTAMINANTES</th></tr><tr><td>i64</td><td>i64</td><td>i64</td><td>i64</td><td>str</td><td>f64</td></tr></thead><tbody><tr><td>4</td><td>1</td><td>2016</td><td>1</td><td>&quot;D01&quot;</td><td>8.0</td></tr><tr><td>4</td><td>1</td><td>2016</td><td>2</td><td>&quot;D01&quot;</td><td>12.0</td></tr><tr><td>4</td><td>1</td><td>2016</td><td>3</td><td>&quot;D01&quot;</td><td>11.0</td></tr><tr><td>4</td><td>1</td><td>2016</td><td>4</td><td>&quot;D01&quot;</td><td>8.0</td></tr><tr><td>4</td><td>1</td><td>2016</td><td>5</td><td>&quot;D01&quot;</td><td>7.0</td></tr></tbody></table></div>"
      ],
      "text/plain": [
       "shape: (5, 6)\n",
       "┌──────────┬──────────┬──────┬─────┬─────┬───────────────┐\n",
       "│ ESTACION ┆ MAGNITUD ┆ ANO  ┆ MES ┆ DIA ┆ CONTAMINANTES │\n",
       "│ ---      ┆ ---      ┆ ---  ┆ --- ┆ --- ┆ ---           │\n",
       "│ i64      ┆ i64      ┆ i64  ┆ i64 ┆ str ┆ f64           │\n",
       "╞══════════╪══════════╪══════╪═════╪═════╪═══════════════╡\n",
       "│ 4        ┆ 1        ┆ 2016 ┆ 1   ┆ D01 ┆ 8.0           │\n",
       "│ 4        ┆ 1        ┆ 2016 ┆ 2   ┆ D01 ┆ 12.0          │\n",
       "│ 4        ┆ 1        ┆ 2016 ┆ 3   ┆ D01 ┆ 11.0          │\n",
       "│ 4        ┆ 1        ┆ 2016 ┆ 4   ┆ D01 ┆ 8.0           │\n",
       "│ 4        ┆ 1        ┆ 2016 ┆ 5   ┆ D01 ┆ 7.0           │\n",
       "└──────────┴──────────┴──────┴─────┴─────┴───────────────┘"
      ]
     },
     "execution_count": 7,
     "metadata": {},
     "output_type": "execute_result"
    }
   ],
   "source": [
    "## Código aquí\n",
    "df=df.melt(id_vars=['ESTACION', 'MAGNITUD', 'ANO', 'MES'], variable_name='DIA', value_name='CONTAMINANTES')\n",
    "df.head(5)"
   ]
  },
  {
   "cell_type": "markdown",
   "id": "33d1a28e",
   "metadata": {},
   "source": [
    "### Crear una nueva columna llamada FECHA con las fechas a partir del año, mes y día\n",
    "Hint: **pl.concat_str([\n",
    "            pl.col(...),\n",
    "            ...\n",
    "        ])** y **.str.strptime(pl.Datetime,strict=False)** "
   ]
  },
  {
   "cell_type": "code",
   "execution_count": 8,
   "id": "48856a4a",
   "metadata": {},
   "outputs": [
    {
     "data": {
      "text/html": [
       "<div><style>\n",
       ".dataframe > thead > tr > th,\n",
       ".dataframe > tbody > tr > td {\n",
       "  text-align: right;\n",
       "}\n",
       "</style>\n",
       "<small>shape: (5, 7)</small><table border=\"1\" class=\"dataframe\"><thead><tr><th>ESTACION</th><th>MAGNITUD</th><th>ANO</th><th>MES</th><th>DIA</th><th>CONTAMINANTES</th><th>FECHA</th></tr><tr><td>i64</td><td>i64</td><td>i64</td><td>i64</td><td>str</td><td>f64</td><td>datetime[μs]</td></tr></thead><tbody><tr><td>4</td><td>1</td><td>2016</td><td>1</td><td>&quot;01&quot;</td><td>8.0</td><td>2016-01-01 00:00:00</td></tr><tr><td>4</td><td>1</td><td>2016</td><td>2</td><td>&quot;01&quot;</td><td>12.0</td><td>2016-02-01 00:00:00</td></tr><tr><td>4</td><td>1</td><td>2016</td><td>3</td><td>&quot;01&quot;</td><td>11.0</td><td>2016-03-01 00:00:00</td></tr><tr><td>4</td><td>1</td><td>2016</td><td>4</td><td>&quot;01&quot;</td><td>8.0</td><td>2016-04-01 00:00:00</td></tr><tr><td>4</td><td>1</td><td>2016</td><td>5</td><td>&quot;01&quot;</td><td>7.0</td><td>2016-05-01 00:00:00</td></tr></tbody></table></div>"
      ],
      "text/plain": [
       "shape: (5, 7)\n",
       "┌──────────┬──────────┬──────┬─────┬─────┬───────────────┬─────────────────────┐\n",
       "│ ESTACION ┆ MAGNITUD ┆ ANO  ┆ MES ┆ DIA ┆ CONTAMINANTES ┆ FECHA               │\n",
       "│ ---      ┆ ---      ┆ ---  ┆ --- ┆ --- ┆ ---           ┆ ---                 │\n",
       "│ i64      ┆ i64      ┆ i64  ┆ i64 ┆ str ┆ f64           ┆ datetime[μs]        │\n",
       "╞══════════╪══════════╪══════╪═════╪═════╪═══════════════╪═════════════════════╡\n",
       "│ 4        ┆ 1        ┆ 2016 ┆ 1   ┆ 01  ┆ 8.0           ┆ 2016-01-01 00:00:00 │\n",
       "│ 4        ┆ 1        ┆ 2016 ┆ 2   ┆ 01  ┆ 12.0          ┆ 2016-02-01 00:00:00 │\n",
       "│ 4        ┆ 1        ┆ 2016 ┆ 3   ┆ 01  ┆ 11.0          ┆ 2016-03-01 00:00:00 │\n",
       "│ 4        ┆ 1        ┆ 2016 ┆ 4   ┆ 01  ┆ 8.0           ┆ 2016-04-01 00:00:00 │\n",
       "│ 4        ┆ 1        ┆ 2016 ┆ 5   ┆ 01  ┆ 7.0           ┆ 2016-05-01 00:00:00 │\n",
       "└──────────┴──────────┴──────┴─────┴─────┴───────────────┴─────────────────────┘"
      ]
     },
     "execution_count": 8,
     "metadata": {},
     "output_type": "execute_result"
    }
   ],
   "source": [
    "## Código aquí\n",
    "df=df.with_columns(pl.col('DIA').str.replace('D', ''))\n",
    "df=df.with_columns(pl.concat_str(['ANO', 'MES','DIA'], separator='-').alias('FECHA').str.strptime(pl.Datetime, strict=False, fmt=\"%Y-%m-%d\"))\n",
    "df.head(5)"
   ]
  },
  {
   "cell_type": "markdown",
   "id": "37a05fc7",
   "metadata": {},
   "source": [
    "### Eliminar las filas con fechas no válidas"
   ]
  },
  {
   "cell_type": "code",
   "execution_count": 9,
   "id": "a7eb3449",
   "metadata": {
    "scrolled": true
   },
   "outputs": [
    {
     "data": {
      "text/html": [
       "<div><style>\n",
       ".dataframe > thead > tr > th,\n",
       ".dataframe > tbody > tr > td {\n",
       "  text-align: right;\n",
       "}\n",
       "</style>\n",
       "<small>shape: (7, 8)</small><table border=\"1\" class=\"dataframe\"><thead><tr><th>describe</th><th>ESTACION</th><th>MAGNITUD</th><th>ANO</th><th>MES</th><th>DIA</th><th>CONTAMINANTES</th><th>FECHA</th></tr><tr><td>str</td><td>f64</td><td>f64</td><td>f64</td><td>f64</td><td>str</td><td>f64</td><td>str</td></tr></thead><tbody><tr><td>&quot;count&quot;</td><td>225246.0</td><td>225246.0</td><td>225246.0</td><td>225246.0</td><td>&quot;225246&quot;</td><td>225246.0</td><td>&quot;225246&quot;</td></tr><tr><td>&quot;null_count&quot;</td><td>0.0</td><td>0.0</td><td>0.0</td><td>0.0</td><td>&quot;0&quot;</td><td>0.0</td><td>&quot;4088&quot;</td></tr><tr><td>&quot;mean&quot;</td><td>34.695293</td><td>13.137077</td><td>2017.504542</td><td>6.5</td><td>null</td><td>26.745318</td><td>null</td></tr><tr><td>&quot;std&quot;</td><td>17.952601</td><td>10.495716</td><td>1.119872</td><td>3.453136</td><td>null</td><td>64.888695</td><td>null</td></tr><tr><td>&quot;min&quot;</td><td>4.0</td><td>1.0</td><td>2016.0</td><td>1.0</td><td>&quot;01&quot;</td><td>-0.14</td><td>&quot;2016-01-01 00:…</td></tr><tr><td>&quot;max&quot;</td><td>60.0</td><td>44.0</td><td>2019.0</td><td>12.0</td><td>&quot;31&quot;</td><td>24742.0</td><td>&quot;2019-12-31 00:…</td></tr><tr><td>&quot;median&quot;</td><td>38.0</td><td>10.0</td><td>2018.0</td><td>6.5</td><td>null</td><td>13.0</td><td>null</td></tr></tbody></table></div>"
      ],
      "text/plain": [
       "shape: (7, 8)\n",
       "┌────────────┬───────────┬───────────┬─────────────┬──────────┬────────┬────────────┬──────────────┐\n",
       "│ describe   ┆ ESTACION  ┆ MAGNITUD  ┆ ANO         ┆ MES      ┆ DIA    ┆ CONTAMINAN ┆ FECHA        │\n",
       "│ ---        ┆ ---       ┆ ---       ┆ ---         ┆ ---      ┆ ---    ┆ TES        ┆ ---          │\n",
       "│ str        ┆ f64       ┆ f64       ┆ f64         ┆ f64      ┆ str    ┆ ---        ┆ str          │\n",
       "│            ┆           ┆           ┆             ┆          ┆        ┆ f64        ┆              │\n",
       "╞════════════╪═══════════╪═══════════╪═════════════╪══════════╪════════╪════════════╪══════════════╡\n",
       "│ count      ┆ 225246.0  ┆ 225246.0  ┆ 225246.0    ┆ 225246.0 ┆ 225246 ┆ 225246.0   ┆ 225246       │\n",
       "│ null_count ┆ 0.0       ┆ 0.0       ┆ 0.0         ┆ 0.0      ┆ 0      ┆ 0.0        ┆ 4088         │\n",
       "│ mean       ┆ 34.695293 ┆ 13.137077 ┆ 2017.504542 ┆ 6.5      ┆ null   ┆ 26.745318  ┆ null         │\n",
       "│ std        ┆ 17.952601 ┆ 10.495716 ┆ 1.119872    ┆ 3.453136 ┆ null   ┆ 64.888695  ┆ null         │\n",
       "│ min        ┆ 4.0       ┆ 1.0       ┆ 2016.0      ┆ 1.0      ┆ 01     ┆ -0.14      ┆ 2016-01-01   │\n",
       "│            ┆           ┆           ┆             ┆          ┆        ┆            ┆ 00:00:00.000 │\n",
       "│            ┆           ┆           ┆             ┆          ┆        ┆            ┆ 000          │\n",
       "│ max        ┆ 60.0      ┆ 44.0      ┆ 2019.0      ┆ 12.0     ┆ 31     ┆ 24742.0    ┆ 2019-12-31   │\n",
       "│            ┆           ┆           ┆             ┆          ┆        ┆            ┆ 00:00:00.000 │\n",
       "│            ┆           ┆           ┆             ┆          ┆        ┆            ┆ 000          │\n",
       "│ median     ┆ 38.0      ┆ 10.0      ┆ 2018.0      ┆ 6.5      ┆ null   ┆ 13.0       ┆ null         │\n",
       "└────────────┴───────────┴───────────┴─────────────┴──────────┴────────┴────────────┴──────────────┘"
      ]
     },
     "execution_count": 9,
     "metadata": {},
     "output_type": "execute_result"
    }
   ],
   "source": [
    "## Código aquí\n",
    "df.describe() #Notamos que la columna FECHA tiene nulls, so los quitamos"
   ]
  },
  {
   "cell_type": "code",
   "execution_count": 10,
   "id": "939cf4cb-1678-4964-b6a2-d5998096c34e",
   "metadata": {},
   "outputs": [],
   "source": [
    "#Notamos que la columna fecha cuenta con nulls, ademas de ser la unica con ellos\n",
    "df=df.drop_nulls()"
   ]
  },
  {
   "cell_type": "code",
   "execution_count": 11,
   "id": "c7e4f6a8-3cd2-458d-aaa6-2a7a039c01be",
   "metadata": {},
   "outputs": [
    {
     "data": {
      "text/html": [
       "<div><style>\n",
       ".dataframe > thead > tr > th,\n",
       ".dataframe > tbody > tr > td {\n",
       "  text-align: right;\n",
       "}\n",
       "</style>\n",
       "<small>shape: (7, 8)</small><table border=\"1\" class=\"dataframe\"><thead><tr><th>describe</th><th>ESTACION</th><th>MAGNITUD</th><th>ANO</th><th>MES</th><th>DIA</th><th>CONTAMINANTES</th><th>FECHA</th></tr><tr><td>str</td><td>f64</td><td>f64</td><td>f64</td><td>f64</td><td>str</td><td>f64</td><td>str</td></tr></thead><tbody><tr><td>&quot;count&quot;</td><td>221158.0</td><td>221158.0</td><td>221158.0</td><td>221158.0</td><td>&quot;221158&quot;</td><td>221158.0</td><td>&quot;221158&quot;</td></tr><tr><td>&quot;null_count&quot;</td><td>0.0</td><td>0.0</td><td>0.0</td><td>0.0</td><td>&quot;0&quot;</td><td>0.0</td><td>&quot;0&quot;</td></tr><tr><td>&quot;mean&quot;</td><td>34.695263</td><td>13.137092</td><td>2017.503513</td><td>6.522956</td><td>null</td><td>27.239693</td><td>null</td></tr><tr><td>&quot;std&quot;</td><td>17.952603</td><td>10.495735</td><td>1.120181</td><td>3.449788</td><td>null</td><td>65.382767</td><td>null</td></tr><tr><td>&quot;min&quot;</td><td>4.0</td><td>1.0</td><td>2016.0</td><td>1.0</td><td>&quot;01&quot;</td><td>-0.14</td><td>&quot;2016-01-01 00:…</td></tr><tr><td>&quot;max&quot;</td><td>60.0</td><td>44.0</td><td>2019.0</td><td>12.0</td><td>&quot;31&quot;</td><td>24742.0</td><td>&quot;2019-12-31 00:…</td></tr><tr><td>&quot;median&quot;</td><td>38.0</td><td>10.0</td><td>2018.0</td><td>7.0</td><td>null</td><td>14.0</td><td>null</td></tr></tbody></table></div>"
      ],
      "text/plain": [
       "shape: (7, 8)\n",
       "┌────────────┬───────────┬───────────┬─────────────┬──────────┬────────┬────────────┬──────────────┐\n",
       "│ describe   ┆ ESTACION  ┆ MAGNITUD  ┆ ANO         ┆ MES      ┆ DIA    ┆ CONTAMINAN ┆ FECHA        │\n",
       "│ ---        ┆ ---       ┆ ---       ┆ ---         ┆ ---      ┆ ---    ┆ TES        ┆ ---          │\n",
       "│ str        ┆ f64       ┆ f64       ┆ f64         ┆ f64      ┆ str    ┆ ---        ┆ str          │\n",
       "│            ┆           ┆           ┆             ┆          ┆        ┆ f64        ┆              │\n",
       "╞════════════╪═══════════╪═══════════╪═════════════╪══════════╪════════╪════════════╪══════════════╡\n",
       "│ count      ┆ 221158.0  ┆ 221158.0  ┆ 221158.0    ┆ 221158.0 ┆ 221158 ┆ 221158.0   ┆ 221158       │\n",
       "│ null_count ┆ 0.0       ┆ 0.0       ┆ 0.0         ┆ 0.0      ┆ 0      ┆ 0.0        ┆ 0            │\n",
       "│ mean       ┆ 34.695263 ┆ 13.137092 ┆ 2017.503513 ┆ 6.522956 ┆ null   ┆ 27.239693  ┆ null         │\n",
       "│ std        ┆ 17.952603 ┆ 10.495735 ┆ 1.120181    ┆ 3.449788 ┆ null   ┆ 65.382767  ┆ null         │\n",
       "│ min        ┆ 4.0       ┆ 1.0       ┆ 2016.0      ┆ 1.0      ┆ 01     ┆ -0.14      ┆ 2016-01-01   │\n",
       "│            ┆           ┆           ┆             ┆          ┆        ┆            ┆ 00:00:00.000 │\n",
       "│            ┆           ┆           ┆             ┆          ┆        ┆            ┆ 000          │\n",
       "│ max        ┆ 60.0      ┆ 44.0      ┆ 2019.0      ┆ 12.0     ┆ 31     ┆ 24742.0    ┆ 2019-12-31   │\n",
       "│            ┆           ┆           ┆             ┆          ┆        ┆            ┆ 00:00:00.000 │\n",
       "│            ┆           ┆           ┆             ┆          ┆        ┆            ┆ 000          │\n",
       "│ median     ┆ 38.0      ┆ 10.0      ┆ 2018.0      ┆ 7.0      ┆ null   ┆ 14.0       ┆ null         │\n",
       "└────────────┴───────────┴───────────┴─────────────┴──────────┴────────┴────────────┴──────────────┘"
      ]
     },
     "execution_count": 11,
     "metadata": {},
     "output_type": "execute_result"
    }
   ],
   "source": [
    "df.describe()"
   ]
  },
  {
   "cell_type": "markdown",
   "id": "4bea596a",
   "metadata": {},
   "source": [
    "### Ordenar el el dataframe por estación, magnitud y fecha\n",
    "Hint: **.sort(..)**"
   ]
  },
  {
   "cell_type": "code",
   "execution_count": 12,
   "id": "b7032206",
   "metadata": {
    "scrolled": true
   },
   "outputs": [
    {
     "data": {
      "text/html": [
       "<div><style>\n",
       ".dataframe > thead > tr > th,\n",
       ".dataframe > tbody > tr > td {\n",
       "  text-align: right;\n",
       "}\n",
       "</style>\n",
       "<small>shape: (5, 7)</small><table border=\"1\" class=\"dataframe\"><thead><tr><th>ESTACION</th><th>MAGNITUD</th><th>ANO</th><th>MES</th><th>DIA</th><th>CONTAMINANTES</th><th>FECHA</th></tr><tr><td>i64</td><td>i64</td><td>i64</td><td>i64</td><td>str</td><td>f64</td><td>datetime[μs]</td></tr></thead><tbody><tr><td>4</td><td>1</td><td>2016</td><td>1</td><td>&quot;01&quot;</td><td>8.0</td><td>2016-01-01 00:00:00</td></tr><tr><td>4</td><td>1</td><td>2016</td><td>1</td><td>&quot;02&quot;</td><td>7.0</td><td>2016-01-02 00:00:00</td></tr><tr><td>4</td><td>1</td><td>2016</td><td>1</td><td>&quot;03&quot;</td><td>6.0</td><td>2016-01-03 00:00:00</td></tr><tr><td>4</td><td>1</td><td>2016</td><td>1</td><td>&quot;04&quot;</td><td>6.0</td><td>2016-01-04 00:00:00</td></tr><tr><td>4</td><td>1</td><td>2016</td><td>1</td><td>&quot;05&quot;</td><td>7.0</td><td>2016-01-05 00:00:00</td></tr></tbody></table></div>"
      ],
      "text/plain": [
       "shape: (5, 7)\n",
       "┌──────────┬──────────┬──────┬─────┬─────┬───────────────┬─────────────────────┐\n",
       "│ ESTACION ┆ MAGNITUD ┆ ANO  ┆ MES ┆ DIA ┆ CONTAMINANTES ┆ FECHA               │\n",
       "│ ---      ┆ ---      ┆ ---  ┆ --- ┆ --- ┆ ---           ┆ ---                 │\n",
       "│ i64      ┆ i64      ┆ i64  ┆ i64 ┆ str ┆ f64           ┆ datetime[μs]        │\n",
       "╞══════════╪══════════╪══════╪═════╪═════╪═══════════════╪═════════════════════╡\n",
       "│ 4        ┆ 1        ┆ 2016 ┆ 1   ┆ 01  ┆ 8.0           ┆ 2016-01-01 00:00:00 │\n",
       "│ 4        ┆ 1        ┆ 2016 ┆ 1   ┆ 02  ┆ 7.0           ┆ 2016-01-02 00:00:00 │\n",
       "│ 4        ┆ 1        ┆ 2016 ┆ 1   ┆ 03  ┆ 6.0           ┆ 2016-01-03 00:00:00 │\n",
       "│ 4        ┆ 1        ┆ 2016 ┆ 1   ┆ 04  ┆ 6.0           ┆ 2016-01-04 00:00:00 │\n",
       "│ 4        ┆ 1        ┆ 2016 ┆ 1   ┆ 05  ┆ 7.0           ┆ 2016-01-05 00:00:00 │\n",
       "└──────────┴──────────┴──────┴─────┴─────┴───────────────┴─────────────────────┘"
      ]
     },
     "execution_count": 12,
     "metadata": {},
     "output_type": "execute_result"
    }
   ],
   "source": [
    "## Código aquí\n",
    "df=df.sort(['ESTACION', 'MAGNITUD', 'FECHA'], descending=False)\n",
    "df.head(5)"
   ]
  },
  {
   "cell_type": "markdown",
   "id": "218943c8",
   "metadata": {},
   "source": [
    "### Mostrar las estaciones y los contaminantes disponibles\n"
   ]
  },
  {
   "cell_type": "code",
   "execution_count": 13,
   "id": "0bdbb07b",
   "metadata": {},
   "outputs": [
    {
     "data": {
      "text/html": [
       "<div><style>\n",
       ".dataframe > thead > tr > th,\n",
       ".dataframe > tbody > tr > td {\n",
       "  text-align: right;\n",
       "}\n",
       "</style>\n",
       "<small>shape: (6666, 2)</small><table border=\"1\" class=\"dataframe\"><thead><tr><th>ESTACION</th><th>CONTAMINANTES</th></tr><tr><td>i64</td><td>f64</td></tr></thead><tbody><tr><td>4</td><td>302.0</td></tr><tr><td>8</td><td>291.0</td></tr><tr><td>16</td><td>44.0</td></tr><tr><td>17</td><td>278.0</td></tr><tr><td>18</td><td>2.1</td></tr><tr><td>24</td><td>1.64</td></tr><tr><td>36</td><td>155.0</td></tr><tr><td>38</td><td>4.6</td></tr><tr><td>40</td><td>7.0</td></tr><tr><td>47</td><td>165.0</td></tr><tr><td>55</td><td>2.8</td></tr><tr><td>59</td><td>115.0</td></tr><tr><td>&hellip;</td><td>&hellip;</td></tr><tr><td>24</td><td>1.37</td></tr><tr><td>38</td><td>149.0</td></tr><tr><td>40</td><td>130.0</td></tr><tr><td>55</td><td>204.0</td></tr><tr><td>55</td><td>171.0</td></tr><tr><td>59</td><td>109.0</td></tr><tr><td>60</td><td>76.0</td></tr><tr><td>18</td><td>9.9</td></tr><tr><td>27</td><td>160.0</td></tr><tr><td>35</td><td>210.0</td></tr><tr><td>48</td><td>74.0</td></tr><tr><td>60</td><td>19.0</td></tr></tbody></table></div>"
      ],
      "text/plain": [
       "shape: (6_666, 2)\n",
       "┌──────────┬───────────────┐\n",
       "│ ESTACION ┆ CONTAMINANTES │\n",
       "│ ---      ┆ ---           │\n",
       "│ i64      ┆ f64           │\n",
       "╞══════════╪═══════════════╡\n",
       "│ 4        ┆ 302.0         │\n",
       "│ 8        ┆ 291.0         │\n",
       "│ 16       ┆ 44.0          │\n",
       "│ 17       ┆ 278.0         │\n",
       "│ …        ┆ …             │\n",
       "│ 27       ┆ 160.0         │\n",
       "│ 35       ┆ 210.0         │\n",
       "│ 48       ┆ 74.0          │\n",
       "│ 60       ┆ 19.0          │\n",
       "└──────────┴───────────────┘"
      ]
     },
     "execution_count": 13,
     "metadata": {},
     "output_type": "execute_result"
    }
   ],
   "source": [
    "## Código aquí\n",
    "df_est_cont=df.select(['ESTACION', 'CONTAMINANTES']).unique()\n",
    "df_est_cont"
   ]
  },
  {
   "cell_type": "markdown",
   "id": "9942abf9",
   "metadata": {},
   "source": [
    "## Tiempo de ejecución\n",
    "Realiza una comparación de tiempo de ejecución utilizando pandas y polars. Lee todos los csv de https://github.com/pola-rs/polars/tree/main/examples/datasets, concatena verticalmente todos los csv y realiza un groupby a 'category' con cualquier función de agregación. De ahí compara el tiempo realizando 10000 iteraciones con la libreria `timeit` de python."
   ]
  },
  {
   "cell_type": "code",
   "execution_count": 16,
   "id": "9526a28d",
   "metadata": {},
   "outputs": [
    {
     "name": "stdout",
     "output_type": "stream",
     "text": [
      "Pandas time:  2.588142318999985\n",
      "Polars time:  17.451920708999978\n"
     ]
    }
   ],
   "source": [
    "## Código aquí\n",
    "import pandas as pd\n",
    "import timeit\n",
    "\n",
    "#Pandas\n",
    "pdf1=pd.read_csv(\"https://raw.githubusercontent.com/pola-rs/polars/main/examples/datasets/foods1.csv\")\n",
    "pdf2=pd.read_csv(\"https://raw.githubusercontent.com/pola-rs/polars/main/examples/datasets/foods2.csv\")\n",
    "pdf3=pd.read_csv(\"https://raw.githubusercontent.com/pola-rs/polars/main/examples/datasets/foods3.csv\")\n",
    "pdf4=pd.read_csv(\"https://raw.githubusercontent.com/pola-rs/polars/main/examples/datasets/foods4.csv\")\n",
    "pdf5=pd.read_csv(\"https://raw.githubusercontent.com/pola-rs/polars/main/examples/datasets/foods5.csv\")\n",
    "pdf=pd.concat([pdf1, pdf2, pdf3, pdf4, pdf5], axis=0)\n",
    "time_pd=timeit.timeit(lambda: pdf.groupby(['category'])['calories'].mean(), number=10000)\n",
    "\n",
    "#Polars\n",
    "pldf1=pl.read_csv(\"https://raw.githubusercontent.com/pola-rs/polars/main/examples/datasets/foods1.csv\")\n",
    "pldf2=pl.read_csv(\"https://raw.githubusercontent.com/pola-rs/polars/main/examples/datasets/foods2.csv\")\n",
    "pldf3=pl.read_csv(\"https://raw.githubusercontent.com/pola-rs/polars/main/examples/datasets/foods3.csv\")\n",
    "pldf4=pl.read_csv(\"https://raw.githubusercontent.com/pola-rs/polars/main/examples/datasets/foods4.csv\")\n",
    "pldf5=pl.read_csv(\"https://raw.githubusercontent.com/pola-rs/polars/main/examples/datasets/foods5.csv\")\n",
    "pldf=pl.concat([pldf1, pldf2, pldf3, pldf4, pldf5], how='vertical')\n",
    "time_pl=timeit.timeit(lambda: pldf.groupby('category').agg(pl.col('calories').mean()), number=10000)\n",
    "\n",
    "print(\"Pandas time: \", time_pd)\n",
    "print(\"Polars time: \", time_pl)"
   ]
  },
  {
   "cell_type": "code",
   "execution_count": null,
   "id": "e1a18776-7653-45b3-92ba-7c8619adbc96",
   "metadata": {},
   "outputs": [],
   "source": []
  }
 ],
 "metadata": {
  "kernelspec": {
   "display_name": "Python 3 (ipykernel)",
   "language": "python",
   "name": "python3"
  },
  "language_info": {
   "codemirror_mode": {
    "name": "ipython",
    "version": 3
   },
   "file_extension": ".py",
   "mimetype": "text/x-python",
   "name": "python",
   "nbconvert_exporter": "python",
   "pygments_lexer": "ipython3",
   "version": "3.10.9"
  }
 },
 "nbformat": 4,
 "nbformat_minor": 5
}
