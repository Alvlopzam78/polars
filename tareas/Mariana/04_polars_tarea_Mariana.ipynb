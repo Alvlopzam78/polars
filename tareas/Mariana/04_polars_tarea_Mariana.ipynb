{
 "cells": [
  {
   "cell_type": "markdown",
   "id": "67f5d07f",
   "metadata": {},
   "source": [
    "# Ejercicio prueba\n",
    "Consta en hacer simples tareas de pandas pero ahora con la sintaxis de polars.\n",
    "Los csv de emisiones-2016.csv, emisiones-2017.csv, emisiones-2018.csv y emisiones-2019.csv, contienen datos sobre las emisiones contaminates en la ciudad de Madrid en los años 2016, 2017, 2018 y 2019 respectivamente. Escribir un programa con los siguientes requisitos:"
   ]
  },
  {
   "cell_type": "markdown",
   "id": "2fd3c883",
   "metadata": {},
   "source": [
    "*Es importante que el código ea breve, ya que cada ejercicio puede hacerse en una sola instrucción* :OO"
   ]
  },
  {
   "cell_type": "markdown",
   "id": "d2584bcd",
   "metadata": {},
   "source": [
    "### Generar un DataFrame con los datos de los cuatro ficheros.\n",
    "Hint: leer los datos y concatenarlos verticalmente --> **pl.concat**"
   ]
  },
  {
   "cell_type": "code",
   "execution_count": 1,
   "id": "cf71edde",
   "metadata": {},
   "outputs": [
    {
     "name": "stdout",
     "output_type": "stream",
     "text": [
      "Collecting polarsNote: you may need to restart the kernel to use updated packages.\n"
     ]
    },
    {
     "name": "stderr",
     "output_type": "stream",
     "text": [
      "\n",
      "[notice] A new release of pip is available: 23.0 -> 23.1\n",
      "[notice] To update, run: C:\\Users\\maria\\AppData\\Local\\Microsoft\\WindowsApps\\PythonSoftwareFoundation.Python.3.10_qbz5n2kfra8p0\\python.exe -m pip install --upgrade pip\n"
     ]
    },
    {
     "name": "stdout",
     "output_type": "stream",
     "text": [
      "\n",
      "  Downloading polars-0.17.6-cp37-abi3-win_amd64.whl (18.3 MB)\n",
      "     ---------------------------------------- 0.0/18.3 MB ? eta -:--:--\n",
      "     ---------------------------------------- 0.0/18.3 MB 1.3 MB/s eta 0:00:15\n",
      "     ---------------------------------------- 0.1/18.3 MB 1.1 MB/s eta 0:00:18\n",
      "     ---------------------------------------- 0.1/18.3 MB 1.1 MB/s eta 0:00:18\n",
      "      --------------------------------------- 0.2/18.3 MB 1.6 MB/s eta 0:00:12\n",
      "     - -------------------------------------- 0.5/18.3 MB 2.4 MB/s eta 0:00:08\n",
      "     - -------------------------------------- 0.8/18.3 MB 3.2 MB/s eta 0:00:06\n",
      "     -- ------------------------------------- 1.1/18.3 MB 3.9 MB/s eta 0:00:05\n",
      "     --- ------------------------------------ 1.5/18.3 MB 4.3 MB/s eta 0:00:04\n",
      "     --- ------------------------------------ 1.8/18.3 MB 4.6 MB/s eta 0:00:04\n",
      "     ---- ----------------------------------- 2.2/18.3 MB 5.0 MB/s eta 0:00:04\n",
      "     ----- ---------------------------------- 2.6/18.3 MB 5.4 MB/s eta 0:00:03\n",
      "     ------ --------------------------------- 3.0/18.3 MB 5.4 MB/s eta 0:00:03\n",
      "     ------- -------------------------------- 3.4/18.3 MB 5.6 MB/s eta 0:00:03\n",
      "     -------- ------------------------------- 3.7/18.3 MB 5.8 MB/s eta 0:00:03\n",
      "     -------- ------------------------------- 4.1/18.3 MB 5.9 MB/s eta 0:00:03\n",
      "     --------- ------------------------------ 4.5/18.3 MB 6.1 MB/s eta 0:00:03\n",
      "     ---------- ----------------------------- 4.8/18.3 MB 6.2 MB/s eta 0:00:03\n",
      "     ----------- ---------------------------- 5.1/18.3 MB 6.2 MB/s eta 0:00:03\n",
      "     ----------- ---------------------------- 5.4/18.3 MB 6.2 MB/s eta 0:00:03\n",
      "     ------------ --------------------------- 5.9/18.3 MB 6.4 MB/s eta 0:00:02\n",
      "     ------------- -------------------------- 6.2/18.3 MB 6.4 MB/s eta 0:00:02\n",
      "     -------------- ------------------------- 6.6/18.3 MB 6.6 MB/s eta 0:00:02\n",
      "     --------------- ------------------------ 6.9/18.3 MB 6.5 MB/s eta 0:00:02\n",
      "     --------------- ------------------------ 7.3/18.3 MB 6.6 MB/s eta 0:00:02\n",
      "     ---------------- ----------------------- 7.6/18.3 MB 6.7 MB/s eta 0:00:02\n",
      "     ----------------- ---------------------- 8.0/18.3 MB 6.7 MB/s eta 0:00:02\n",
      "     ------------------ --------------------- 8.4/18.3 MB 6.8 MB/s eta 0:00:02\n",
      "     ------------------- -------------------- 8.8/18.3 MB 6.8 MB/s eta 0:00:02\n",
      "     ------------------- -------------------- 9.1/18.3 MB 6.8 MB/s eta 0:00:02\n",
      "     -------------------- ------------------- 9.4/18.3 MB 6.8 MB/s eta 0:00:02\n",
      "     --------------------- ------------------ 9.8/18.3 MB 6.9 MB/s eta 0:00:02\n",
      "     ---------------------- ----------------- 10.1/18.3 MB 6.9 MB/s eta 0:00:02\n",
      "     ---------------------- ----------------- 10.4/18.3 MB 7.4 MB/s eta 0:00:02\n",
      "     ----------------------- ---------------- 10.8/18.3 MB 7.8 MB/s eta 0:00:01\n",
      "     ------------------------ --------------- 11.1/18.3 MB 7.7 MB/s eta 0:00:01\n",
      "     ------------------------- -------------- 11.5/18.3 MB 7.7 MB/s eta 0:00:01\n",
      "     ------------------------- -------------- 11.9/18.3 MB 7.6 MB/s eta 0:00:01\n",
      "     -------------------------- ------------- 12.2/18.3 MB 7.6 MB/s eta 0:00:01\n",
      "     --------------------------- ------------ 12.5/18.3 MB 7.8 MB/s eta 0:00:01\n",
      "     ---------------------------- ----------- 12.9/18.3 MB 7.6 MB/s eta 0:00:01\n",
      "     ---------------------------- ----------- 13.2/18.3 MB 7.6 MB/s eta 0:00:01\n",
      "     ----------------------------- ---------- 13.5/18.3 MB 7.7 MB/s eta 0:00:01\n",
      "     ------------------------------ --------- 13.7/18.3 MB 7.7 MB/s eta 0:00:01\n",
      "     ------------------------------- -------- 14.2/18.3 MB 7.7 MB/s eta 0:00:01\n",
      "     ------------------------------- -------- 14.5/18.3 MB 7.7 MB/s eta 0:00:01\n",
      "     -------------------------------- ------- 14.8/18.3 MB 7.7 MB/s eta 0:00:01\n",
      "     --------------------------------- ------ 15.2/18.3 MB 7.7 MB/s eta 0:00:01\n",
      "     ---------------------------------- ----- 15.5/18.3 MB 7.9 MB/s eta 0:00:01\n",
      "     ---------------------------------- ----- 15.9/18.3 MB 7.7 MB/s eta 0:00:01\n",
      "     ----------------------------------- ---- 16.3/18.3 MB 7.7 MB/s eta 0:00:01\n",
      "     ------------------------------------ --- 16.6/18.3 MB 7.7 MB/s eta 0:00:01\n",
      "     ------------------------------------ --- 16.9/18.3 MB 7.6 MB/s eta 0:00:01\n",
      "     ------------------------------------- -- 17.3/18.3 MB 7.6 MB/s eta 0:00:01\n",
      "     -------------------------------------- - 17.6/18.3 MB 7.7 MB/s eta 0:00:01\n",
      "     ---------------------------------------  18.0/18.3 MB 7.7 MB/s eta 0:00:01\n",
      "     ---------------------------------------  18.3/18.3 MB 7.7 MB/s eta 0:00:01\n",
      "     ---------------------------------------  18.3/18.3 MB 7.7 MB/s eta 0:00:01\n",
      "     ---------------------------------------- 18.3/18.3 MB 7.2 MB/s eta 0:00:00\n",
      "Requirement already satisfied: typing_extensions>=4.0.1 in c:\\users\\maria\\appdata\\local\\packages\\pythonsoftwarefoundation.python.3.10_qbz5n2kfra8p0\\localcache\\local-packages\\python310\\site-packages (from polars) (4.5.0)\n",
      "Installing collected packages: polars\n",
      "Successfully installed polars-0.17.6\n"
     ]
    }
   ],
   "source": [
    "%pip install polars"
   ]
  },
  {
   "cell_type": "code",
   "execution_count": 1,
   "id": "cb105421",
   "metadata": {},
   "outputs": [],
   "source": [
    "## Código aquí\n",
    "\n",
    "import polars as pl\n",
    "E2016 = pl.read_csv(\"emisiones-2016.csv\", separator = \";\")\n",
    "E2017 = pl.read_csv(\"emisiones-2017.csv\", separator = \";\")\n",
    "E2018 = pl.read_csv(\"emisiones-2018.csv\", separator = \";\")\n",
    "E2019 = pl.read_csv(\"emisiones-2019.csv\", separator = \";\")\n",
    "emisiones = pl.concat([E2016, E2017, E2018, E2019])\n"
   ]
  },
  {
   "cell_type": "markdown",
   "id": "7485b4be",
   "metadata": {},
   "source": [
    "### Filtrar las columnas del DataFrame para quedarse únicamente con las columnas de ESTACION, MAGNITUD, AÑO, MES y las correspondientes a todos los días D01, D02, ... \n",
    "Hint: **df.select(...)** "
   ]
  },
  {
   "cell_type": "code",
   "execution_count": 3,
   "id": "d13feb14",
   "metadata": {},
   "outputs": [
    {
     "data": {
      "text/html": [
       "<div><style>\n",
       ".dataframe > thead > tr > th,\n",
       ".dataframe > tbody > tr > td {\n",
       "  text-align: right;\n",
       "}\n",
       "</style>\n",
       "<small>shape: (7266, 35)</small><table border=\"1\" class=\"dataframe\"><thead><tr><th>ESTACION</th><th>MAGNITUD</th><th>ANO</th><th>MES</th><th>D01</th><th>D02</th><th>D03</th><th>D04</th><th>D05</th><th>D06</th><th>D07</th><th>D08</th><th>D09</th><th>D10</th><th>D11</th><th>D12</th><th>D13</th><th>D14</th><th>D15</th><th>D16</th><th>D17</th><th>D18</th><th>D19</th><th>D20</th><th>D21</th><th>D22</th><th>D23</th><th>D24</th><th>D25</th><th>D26</th><th>D27</th><th>D28</th><th>D29</th><th>D30</th><th>D31</th></tr><tr><td>i64</td><td>i64</td><td>i64</td><td>i64</td><td>f64</td><td>f64</td><td>f64</td><td>f64</td><td>f64</td><td>f64</td><td>f64</td><td>f64</td><td>f64</td><td>f64</td><td>f64</td><td>f64</td><td>f64</td><td>f64</td><td>f64</td><td>f64</td><td>f64</td><td>f64</td><td>f64</td><td>f64</td><td>f64</td><td>f64</td><td>f64</td><td>f64</td><td>f64</td><td>f64</td><td>f64</td><td>f64</td><td>f64</td><td>f64</td><td>f64</td></tr></thead><tbody><tr><td>4</td><td>1</td><td>2016</td><td>1</td><td>8.0</td><td>7.0</td><td>6.0</td><td>6.0</td><td>7.0</td><td>6.0</td><td>6.0</td><td>6.0</td><td>6.0</td><td>6.0</td><td>6.0</td><td>7.0</td><td>11.0</td><td>8.0</td><td>8.0</td><td>9.0</td><td>9.0</td><td>8.0</td><td>11.0</td><td>10.0</td><td>9.0</td><td>10.0</td><td>11.0</td><td>11.0</td><td>13.0</td><td>12.0</td><td>9.0</td><td>7.0</td><td>8.0</td><td>9.0</td><td>9.0</td></tr><tr><td>4</td><td>1</td><td>2016</td><td>2</td><td>12.0</td><td>13.0</td><td>9.0</td><td>9.0</td><td>11.0</td><td>9.0</td><td>7.0</td><td>7.0</td><td>7.0</td><td>7.0</td><td>7.0</td><td>7.0</td><td>7.0</td><td>7.0</td><td>7.0</td><td>8.0</td><td>8.0</td><td>7.0</td><td>9.0</td><td>11.0</td><td>10.0</td><td>11.0</td><td>10.0</td><td>9.0</td><td>8.0</td><td>7.0</td><td>7.0</td><td>8.0</td><td>9.0</td><td>0.0</td><td>0.0</td></tr><tr><td>4</td><td>1</td><td>2016</td><td>3</td><td>11.0</td><td>10.0</td><td>9.0</td><td>9.0</td><td>7.0</td><td>8.0</td><td>8.0</td><td>8.0</td><td>9.0</td><td>8.0</td><td>9.0</td><td>9.0</td><td>9.0</td><td>8.0</td><td>9.0</td><td>11.0</td><td>10.0</td><td>9.0</td><td>7.0</td><td>7.0</td><td>8.0</td><td>8.0</td><td>8.0</td><td>9.0</td><td>9.0</td><td>9.0</td><td>8.0</td><td>7.0</td><td>8.0</td><td>10.0</td><td>8.0</td></tr><tr><td>4</td><td>1</td><td>2016</td><td>4</td><td>8.0</td><td>9.0</td><td>9.0</td><td>8.0</td><td>8.0</td><td>9.0</td><td>9.0</td><td>8.0</td><td>8.0</td><td>7.0</td><td>7.0</td><td>8.0</td><td>8.0</td><td>8.0</td><td>9.0</td><td>7.0</td><td>7.0</td><td>8.0</td><td>8.0</td><td>8.0</td><td>7.0</td><td>8.0</td><td>8.0</td><td>8.0</td><td>8.0</td><td>9.0</td><td>9.0</td><td>8.0</td><td>8.0</td><td>8.0</td><td>0.0</td></tr><tr><td>4</td><td>1</td><td>2016</td><td>5</td><td>7.0</td><td>8.0</td><td>9.0</td><td>9.0</td><td>8.0</td><td>8.0</td><td>7.0</td><td>7.0</td><td>7.0</td><td>8.0</td><td>7.0</td><td>7.0</td><td>7.0</td><td>7.0</td><td>7.0</td><td>7.0</td><td>7.0</td><td>8.0</td><td>7.0</td><td>8.0</td><td>7.0</td><td>7.0</td><td>7.0</td><td>8.0</td><td>7.0</td><td>7.0</td><td>7.0</td><td>7.0</td><td>7.0</td><td>7.0</td><td>7.0</td></tr><tr><td>4</td><td>1</td><td>2016</td><td>6</td><td>7.0</td><td>7.0</td><td>8.0</td><td>7.0</td><td>7.0</td><td>7.0</td><td>7.0</td><td>8.0</td><td>8.0</td><td>8.0</td><td>7.0</td><td>7.0</td><td>7.0</td><td>7.0</td><td>7.0</td><td>7.0</td><td>7.0</td><td>7.0</td><td>7.0</td><td>8.0</td><td>7.0</td><td>7.0</td><td>7.0</td><td>8.0</td><td>7.0</td><td>7.0</td><td>7.0</td><td>7.0</td><td>8.0</td><td>8.0</td><td>0.0</td></tr><tr><td>4</td><td>1</td><td>2016</td><td>7</td><td>8.0</td><td>7.0</td><td>7.0</td><td>7.0</td><td>7.0</td><td>7.0</td><td>7.0</td><td>7.0</td><td>7.0</td><td>6.0</td><td>7.0</td><td>7.0</td><td>7.0</td><td>7.0</td><td>7.0</td><td>7.0</td><td>7.0</td><td>7.0</td><td>7.0</td><td>7.0</td><td>8.0</td><td>7.0</td><td>7.0</td><td>7.0</td><td>7.0</td><td>7.0</td><td>7.0</td><td>7.0</td><td>7.0</td><td>7.0</td><td>7.0</td></tr><tr><td>4</td><td>1</td><td>2016</td><td>8</td><td>7.0</td><td>7.0</td><td>7.0</td><td>7.0</td><td>7.0</td><td>7.0</td><td>7.0</td><td>7.0</td><td>7.0</td><td>7.0</td><td>7.0</td><td>7.0</td><td>7.0</td><td>7.0</td><td>7.0</td><td>7.0</td><td>7.0</td><td>7.0</td><td>7.0</td><td>7.0</td><td>7.0</td><td>7.0</td><td>7.0</td><td>7.0</td><td>7.0</td><td>7.0</td><td>7.0</td><td>7.0</td><td>7.0</td><td>7.0</td><td>7.0</td></tr><tr><td>4</td><td>1</td><td>2016</td><td>9</td><td>7.0</td><td>8.0</td><td>8.0</td><td>8.0</td><td>9.0</td><td>8.0</td><td>9.0</td><td>8.0</td><td>7.0</td><td>7.0</td><td>8.0</td><td>8.0</td><td>7.0</td><td>7.0</td><td>7.0</td><td>8.0</td><td>8.0</td><td>8.0</td><td>8.0</td><td>8.0</td><td>9.0</td><td>9.0</td><td>10.0</td><td>9.0</td><td>9.0</td><td>7.0</td><td>8.0</td><td>8.0</td><td>9.0</td><td>9.0</td><td>0.0</td></tr><tr><td>4</td><td>1</td><td>2016</td><td>10</td><td>9.0</td><td>8.0</td><td>10.0</td><td>10.0</td><td>10.0</td><td>10.0</td><td>10.0</td><td>12.0</td><td>9.0</td><td>9.0</td><td>9.0</td><td>8.0</td><td>8.0</td><td>8.0</td><td>9.0</td><td>10.0</td><td>9.0</td><td>8.0</td><td>8.0</td><td>9.0</td><td>6.0</td><td>2.0</td><td>2.0</td><td>2.0</td><td>3.0</td><td>5.0</td><td>5.0</td><td>4.0</td><td>4.0</td><td>6.0</td><td>7.0</td></tr><tr><td>4</td><td>1</td><td>2016</td><td>11</td><td>4.0</td><td>5.0</td><td>6.0</td><td>3.0</td><td>2.0</td><td>2.0</td><td>2.0</td><td>3.0</td><td>2.0</td><td>5.0</td><td>7.0</td><td>5.0</td><td>4.0</td><td>4.0</td><td>6.0</td><td>8.0</td><td>9.0</td><td>7.0</td><td>4.0</td><td>3.0</td><td>2.0</td><td>3.0</td><td>3.0</td><td>3.0</td><td>3.0</td><td>2.0</td><td>2.0</td><td>4.0</td><td>5.0</td><td>3.0</td><td>0.0</td></tr><tr><td>4</td><td>1</td><td>2016</td><td>12</td><td>3.0</td><td>5.0</td><td>4.0</td><td>2.0</td><td>3.0</td><td>4.0</td><td>7.0</td><td>6.0</td><td>8.0</td><td>7.0</td><td>7.0</td><td>9.0</td><td>11.0</td><td>7.0</td><td>5.0</td><td>5.0</td><td>5.0</td><td>6.0</td><td>7.0</td><td>10.0</td><td>12.0</td><td>13.0</td><td>12.0</td><td>8.0</td><td>9.0</td><td>15.0</td><td>17.0</td><td>13.0</td><td>13.0</td><td>12.0</td><td>7.0</td></tr><tr><td>&hellip;</td><td>&hellip;</td><td>&hellip;</td><td>&hellip;</td><td>&hellip;</td><td>&hellip;</td><td>&hellip;</td><td>&hellip;</td><td>&hellip;</td><td>&hellip;</td><td>&hellip;</td><td>&hellip;</td><td>&hellip;</td><td>&hellip;</td><td>&hellip;</td><td>&hellip;</td><td>&hellip;</td><td>&hellip;</td><td>&hellip;</td><td>&hellip;</td><td>&hellip;</td><td>&hellip;</td><td>&hellip;</td><td>&hellip;</td><td>&hellip;</td><td>&hellip;</td><td>&hellip;</td><td>&hellip;</td><td>&hellip;</td><td>&hellip;</td><td>&hellip;</td><td>&hellip;</td><td>&hellip;</td><td>&hellip;</td><td>&hellip;</td></tr><tr><td>60</td><td>14</td><td>2019</td><td>1</td><td>14.0</td><td>11.0</td><td>23.0</td><td>9.0</td><td>9.0</td><td>11.0</td><td>16.0</td><td>14.0</td><td>22.0</td><td>46.0</td><td>16.0</td><td>19.0</td><td>15.0</td><td>4.0</td><td>21.0</td><td>18.0</td><td>14.0</td><td>17.0</td><td>12.0</td><td>39.0</td><td>41.0</td><td>29.0</td><td>70.0</td><td>48.0</td><td>40.0</td><td>22.0</td><td>63.0</td><td>66.0</td><td>63.0</td><td>66.0</td><td>56.0</td></tr><tr><td>60</td><td>14</td><td>2019</td><td>2</td><td>70.0</td><td>74.0</td><td>54.0</td><td>9.0</td><td>14.0</td><td>17.0</td><td>17.0</td><td>30.0</td><td>28.0</td><td>51.0</td><td>57.0</td><td>41.0</td><td>29.0</td><td>29.0</td><td>23.0</td><td>48.0</td><td>43.0</td><td>34.0</td><td>30.0</td><td>29.0</td><td>31.0</td><td>32.0</td><td>30.0</td><td>52.0</td><td>29.0</td><td>36.0</td><td>31.0</td><td>27.0</td><td>0.0</td><td>0.0</td><td>0.0</td></tr><tr><td>60</td><td>14</td><td>2019</td><td>3</td><td>56.0</td><td>40.0</td><td>54.0</td><td>64.0</td><td>63.0</td><td>58.0</td><td>68.0</td><td>51.0</td><td>43.0</td><td>31.0</td><td>37.0</td><td>49.0</td><td>67.0</td><td>53.0</td><td>38.0</td><td>67.0</td><td>73.0</td><td>82.0</td><td>82.0</td><td>79.0</td><td>64.0</td><td>67.0</td><td>63.0</td><td>70.0</td><td>81.0</td><td>94.0</td><td>67.0</td><td>68.0</td><td>80.0</td><td>95.0</td><td>80.0</td></tr><tr><td>60</td><td>14</td><td>2019</td><td>4</td><td>54.0</td><td>53.0</td><td>82.0</td><td>86.0</td><td>77.0</td><td>81.0</td><td>86.0</td><td>67.0</td><td>75.0</td><td>85.0</td><td>82.0</td><td>77.0</td><td>77.0</td><td>61.0</td><td>51.0</td><td>79.0</td><td>89.0</td><td>103.0</td><td>85.0</td><td>109.0</td><td>108.0</td><td>88.0</td><td>93.0</td><td>65.0</td><td>79.0</td><td>79.0</td><td>60.0</td><td>76.0</td><td>69.0</td><td>71.0</td><td>0.0</td></tr><tr><td>60</td><td>14</td><td>2019</td><td>5</td><td>87.0</td><td>95.0</td><td>79.0</td><td>93.0</td><td>94.0</td><td>77.0</td><td>72.0</td><td>63.0</td><td>67.0</td><td>41.0</td><td>78.0</td><td>92.0</td><td>89.0</td><td>97.0</td><td>75.0</td><td>79.0</td><td>87.0</td><td>81.0</td><td>86.0</td><td>85.0</td><td>91.0</td><td>88.0</td><td>75.0</td><td>80.0</td><td>76.0</td><td>72.0</td><td>58.0</td><td>76.0</td><td>74.0</td><td>66.0</td><td>85.0</td></tr><tr><td>60</td><td>14</td><td>2019</td><td>6</td><td>92.0</td><td>98.0</td><td>79.0</td><td>72.0</td><td>74.0</td><td>81.0</td><td>84.0</td><td>95.0</td><td>86.0</td><td>81.0</td><td>83.0</td><td>78.0</td><td>84.0</td><td>90.0</td><td>94.0</td><td>88.0</td><td>78.0</td><td>85.0</td><td>68.0</td><td>64.0</td><td>81.0</td><td>88.0</td><td>79.0</td><td>77.0</td><td>68.0</td><td>75.0</td><td>91.0</td><td>94.0</td><td>108.0</td><td>106.0</td><td>0.0</td></tr><tr><td>60</td><td>14</td><td>2019</td><td>7</td><td>94.0</td><td>110.0</td><td>103.0</td><td>106.0</td><td>93.0</td><td>79.0</td><td>90.0</td><td>85.0</td><td>93.0</td><td>94.0</td><td>97.0</td><td>90.0</td><td>93.0</td><td>96.0</td><td>103.0</td><td>111.0</td><td>97.0</td><td>119.0</td><td>107.0</td><td>115.0</td><td>107.0</td><td>93.0</td><td>105.0</td><td>112.0</td><td>98.0</td><td>80.0</td><td>81.0</td><td>79.0</td><td>76.0</td><td>99.0</td><td>92.0</td></tr><tr><td>60</td><td>14</td><td>2019</td><td>8</td><td>94.0</td><td>104.0</td><td>106.0</td><td>99.0</td><td>77.0</td><td>82.0</td><td>68.0</td><td>71.0</td><td>44.0</td><td>82.0</td><td>97.0</td><td>87.0</td><td>89.0</td><td>89.0</td><td>93.0</td><td>89.0</td><td>82.0</td><td>82.0</td><td>65.0</td><td>77.0</td><td>87.0</td><td>86.0</td><td>97.0</td><td>104.0</td><td>96.0</td><td>85.0</td><td>88.0</td><td>90.0</td><td>99.0</td><td>108.0</td><td>98.0</td></tr><tr><td>60</td><td>14</td><td>2019</td><td>9</td><td>88.0</td><td>82.0</td><td>80.0</td><td>92.0</td><td>79.0</td><td>75.0</td><td>86.0</td><td>87.0</td><td>69.0</td><td>68.0</td><td>89.0</td><td>85.0</td><td>82.0</td><td>72.0</td><td>59.0</td><td>64.0</td><td>76.0</td><td>77.0</td><td>79.0</td><td>69.0</td><td>59.0</td><td>59.0</td><td>46.0</td><td>49.0</td><td>69.0</td><td>57.0</td><td>54.0</td><td>68.0</td><td>70.0</td><td>55.0</td><td>0.0</td></tr><tr><td>60</td><td>14</td><td>2019</td><td>10</td><td>44.0</td><td>75.0</td><td>44.0</td><td>54.0</td><td>65.0</td><td>68.0</td><td>36.0</td><td>49.0</td><td>50.0</td><td>60.0</td><td>46.0</td><td>55.0</td><td>58.0</td><td>57.0</td><td>60.0</td><td>48.0</td><td>38.0</td><td>47.0</td><td>64.0</td><td>63.0</td><td>36.0</td><td>37.0</td><td>39.0</td><td>45.0</td><td>21.0</td><td>23.0</td><td>28.0</td><td>33.0</td><td>16.0</td><td>19.0</td><td>47.0</td></tr><tr><td>60</td><td>14</td><td>2019</td><td>11</td><td>41.0</td><td>55.0</td><td>79.0</td><td>65.0</td><td>64.0</td><td>51.0</td><td>62.0</td><td>66.0</td><td>63.0</td><td>62.0</td><td>42.0</td><td>44.0</td><td>50.0</td><td>66.0</td><td>56.0</td><td>52.0</td><td>58.0</td><td>39.0</td><td>15.0</td><td>11.0</td><td>28.0</td><td>38.0</td><td>75.0</td><td>69.0</td><td>45.0</td><td>35.0</td><td>55.0</td><td>52.0</td><td>47.0</td><td>56.0</td><td>0.0</td></tr><tr><td>60</td><td>14</td><td>2019</td><td>12</td><td>47.0</td><td>53.0</td><td>45.0</td><td>44.0</td><td>49.0</td><td>41.0</td><td>31.0</td><td>9.0</td><td>22.0</td><td>8.0</td><td>9.0</td><td>104.0</td><td>51.0</td><td>41.0</td><td>33.0</td><td>28.0</td><td>27.0</td><td>21.0</td><td>33.0</td><td>59.0</td><td>61.0</td><td>68.0</td><td>36.0</td><td>9.0</td><td>11.0</td><td>10.0</td><td>17.0</td><td>13.0</td><td>14.0</td><td>5.0</td><td>4.0</td></tr></tbody></table></div>"
      ],
      "text/plain": [
       "shape: (7_266, 35)\n",
       "┌──────────┬──────────┬──────┬─────┬───┬──────┬──────┬──────┬──────┐\n",
       "│ ESTACION ┆ MAGNITUD ┆ ANO  ┆ MES ┆ … ┆ D28  ┆ D29  ┆ D30  ┆ D31  │\n",
       "│ ---      ┆ ---      ┆ ---  ┆ --- ┆   ┆ ---  ┆ ---  ┆ ---  ┆ ---  │\n",
       "│ i64      ┆ i64      ┆ i64  ┆ i64 ┆   ┆ f64  ┆ f64  ┆ f64  ┆ f64  │\n",
       "╞══════════╪══════════╪══════╪═════╪═══╪══════╪══════╪══════╪══════╡\n",
       "│ 4        ┆ 1        ┆ 2016 ┆ 1   ┆ … ┆ 7.0  ┆ 8.0  ┆ 9.0  ┆ 9.0  │\n",
       "│ 4        ┆ 1        ┆ 2016 ┆ 2   ┆ … ┆ 8.0  ┆ 9.0  ┆ 0.0  ┆ 0.0  │\n",
       "│ 4        ┆ 1        ┆ 2016 ┆ 3   ┆ … ┆ 7.0  ┆ 8.0  ┆ 10.0 ┆ 8.0  │\n",
       "│ 4        ┆ 1        ┆ 2016 ┆ 4   ┆ … ┆ 8.0  ┆ 8.0  ┆ 8.0  ┆ 0.0  │\n",
       "│ …        ┆ …        ┆ …    ┆ …   ┆ … ┆ …    ┆ …    ┆ …    ┆ …    │\n",
       "│ 60       ┆ 14       ┆ 2019 ┆ 9   ┆ … ┆ 68.0 ┆ 70.0 ┆ 55.0 ┆ 0.0  │\n",
       "│ 60       ┆ 14       ┆ 2019 ┆ 10  ┆ … ┆ 33.0 ┆ 16.0 ┆ 19.0 ┆ 47.0 │\n",
       "│ 60       ┆ 14       ┆ 2019 ┆ 11  ┆ … ┆ 52.0 ┆ 47.0 ┆ 56.0 ┆ 0.0  │\n",
       "│ 60       ┆ 14       ┆ 2019 ┆ 12  ┆ … ┆ 13.0 ┆ 14.0 ┆ 5.0  ┆ 4.0  │\n",
       "└──────────┴──────────┴──────┴─────┴───┴──────┴──────┴──────┴──────┘"
      ]
     },
     "execution_count": 3,
     "metadata": {},
     "output_type": "execute_result"
    }
   ],
   "source": [
    "## Código aquí\n",
    "\n",
    "# Uso regex para jalar todas las columnas D01, D02, ..., etc.\n",
    "emisiones = emisiones.select(\n",
    "    [\"ESTACION\", \"MAGNITUD\", \"ANO\", \"MES\", \"^D.*$\"]\n",
    "    )\n",
    "emisiones"
   ]
  },
  {
   "cell_type": "markdown",
   "id": "aa5d3746",
   "metadata": {},
   "source": [
    "### Reestructurar el DataFrame para que los valores de los contaminantes de las columnas de los días aparezcan en una única columna.\n"
   ]
  },
  {
   "cell_type": "code",
   "execution_count": 4,
   "id": "9216632a",
   "metadata": {},
   "outputs": [
    {
     "data": {
      "text/html": [
       "<div><style>\n",
       ".dataframe > thead > tr > th,\n",
       ".dataframe > tbody > tr > td {\n",
       "  text-align: right;\n",
       "}\n",
       "</style>\n",
       "<small>shape: (225246, 6)</small><table border=\"1\" class=\"dataframe\"><thead><tr><th>ESTACION</th><th>MAGNITUD</th><th>ANO</th><th>MES</th><th>DIAS</th><th>Value</th></tr><tr><td>i64</td><td>i64</td><td>i64</td><td>i64</td><td>str</td><td>f64</td></tr></thead><tbody><tr><td>4</td><td>1</td><td>2016</td><td>1</td><td>&quot;D01&quot;</td><td>8.0</td></tr><tr><td>4</td><td>1</td><td>2016</td><td>2</td><td>&quot;D01&quot;</td><td>12.0</td></tr><tr><td>4</td><td>1</td><td>2016</td><td>3</td><td>&quot;D01&quot;</td><td>11.0</td></tr><tr><td>4</td><td>1</td><td>2016</td><td>4</td><td>&quot;D01&quot;</td><td>8.0</td></tr><tr><td>4</td><td>1</td><td>2016</td><td>5</td><td>&quot;D01&quot;</td><td>7.0</td></tr><tr><td>4</td><td>1</td><td>2016</td><td>6</td><td>&quot;D01&quot;</td><td>7.0</td></tr><tr><td>4</td><td>1</td><td>2016</td><td>7</td><td>&quot;D01&quot;</td><td>8.0</td></tr><tr><td>4</td><td>1</td><td>2016</td><td>8</td><td>&quot;D01&quot;</td><td>7.0</td></tr><tr><td>4</td><td>1</td><td>2016</td><td>9</td><td>&quot;D01&quot;</td><td>7.0</td></tr><tr><td>4</td><td>1</td><td>2016</td><td>10</td><td>&quot;D01&quot;</td><td>9.0</td></tr><tr><td>4</td><td>1</td><td>2016</td><td>11</td><td>&quot;D01&quot;</td><td>4.0</td></tr><tr><td>4</td><td>1</td><td>2016</td><td>12</td><td>&quot;D01&quot;</td><td>3.0</td></tr><tr><td>&hellip;</td><td>&hellip;</td><td>&hellip;</td><td>&hellip;</td><td>&hellip;</td><td>&hellip;</td></tr><tr><td>60</td><td>14</td><td>2019</td><td>1</td><td>&quot;D31&quot;</td><td>56.0</td></tr><tr><td>60</td><td>14</td><td>2019</td><td>2</td><td>&quot;D31&quot;</td><td>0.0</td></tr><tr><td>60</td><td>14</td><td>2019</td><td>3</td><td>&quot;D31&quot;</td><td>80.0</td></tr><tr><td>60</td><td>14</td><td>2019</td><td>4</td><td>&quot;D31&quot;</td><td>0.0</td></tr><tr><td>60</td><td>14</td><td>2019</td><td>5</td><td>&quot;D31&quot;</td><td>85.0</td></tr><tr><td>60</td><td>14</td><td>2019</td><td>6</td><td>&quot;D31&quot;</td><td>0.0</td></tr><tr><td>60</td><td>14</td><td>2019</td><td>7</td><td>&quot;D31&quot;</td><td>92.0</td></tr><tr><td>60</td><td>14</td><td>2019</td><td>8</td><td>&quot;D31&quot;</td><td>98.0</td></tr><tr><td>60</td><td>14</td><td>2019</td><td>9</td><td>&quot;D31&quot;</td><td>0.0</td></tr><tr><td>60</td><td>14</td><td>2019</td><td>10</td><td>&quot;D31&quot;</td><td>47.0</td></tr><tr><td>60</td><td>14</td><td>2019</td><td>11</td><td>&quot;D31&quot;</td><td>0.0</td></tr><tr><td>60</td><td>14</td><td>2019</td><td>12</td><td>&quot;D31&quot;</td><td>4.0</td></tr></tbody></table></div>"
      ],
      "text/plain": [
       "shape: (225_246, 6)\n",
       "┌──────────┬──────────┬──────┬─────┬──────┬───────┐\n",
       "│ ESTACION ┆ MAGNITUD ┆ ANO  ┆ MES ┆ DIAS ┆ Value │\n",
       "│ ---      ┆ ---      ┆ ---  ┆ --- ┆ ---  ┆ ---   │\n",
       "│ i64      ┆ i64      ┆ i64  ┆ i64 ┆ str  ┆ f64   │\n",
       "╞══════════╪══════════╪══════╪═════╪══════╪═══════╡\n",
       "│ 4        ┆ 1        ┆ 2016 ┆ 1   ┆ D01  ┆ 8.0   │\n",
       "│ 4        ┆ 1        ┆ 2016 ┆ 2   ┆ D01  ┆ 12.0  │\n",
       "│ 4        ┆ 1        ┆ 2016 ┆ 3   ┆ D01  ┆ 11.0  │\n",
       "│ 4        ┆ 1        ┆ 2016 ┆ 4   ┆ D01  ┆ 8.0   │\n",
       "│ …        ┆ …        ┆ …    ┆ …   ┆ …    ┆ …     │\n",
       "│ 60       ┆ 14       ┆ 2019 ┆ 9   ┆ D31  ┆ 0.0   │\n",
       "│ 60       ┆ 14       ┆ 2019 ┆ 10  ┆ D31  ┆ 47.0  │\n",
       "│ 60       ┆ 14       ┆ 2019 ┆ 11  ┆ D31  ┆ 0.0   │\n",
       "│ 60       ┆ 14       ┆ 2019 ┆ 12  ┆ D31  ┆ 4.0   │\n",
       "└──────────┴──────────┴──────┴─────┴──────┴───────┘"
      ]
     },
     "execution_count": 4,
     "metadata": {},
     "output_type": "execute_result"
    }
   ],
   "source": [
    "## Código aquí\n",
    "\n",
    "emisiones = emisiones.melt(\n",
    "    id_vars=[\"ESTACION\", \"MAGNITUD\", \"ANO\", \"MES\"],\n",
    "    variable_name=\"DIAS\", \n",
    "    value_name=\"Value\"\n",
    "    )\n",
    "emisiones"
   ]
  },
  {
   "cell_type": "markdown",
   "id": "33d1a28e",
   "metadata": {},
   "source": [
    "### Crear una nueva columna llamada FECHA con las fechas a partir del año, mes y día\n",
    "Hint: **pl.concat_str([\n",
    "            pl.col(...),\n",
    "            ...\n",
    "        ])** y **.str.strptime(pl.Datetime,strict=False)** "
   ]
  },
  {
   "cell_type": "code",
   "execution_count": 16,
   "id": "48856a4a",
   "metadata": {},
   "outputs": [
    {
     "data": {
      "text/html": [
       "<div><style>\n",
       ".dataframe > thead > tr > th,\n",
       ".dataframe > tbody > tr > td {\n",
       "  text-align: right;\n",
       "}\n",
       "</style>\n",
       "<small>shape: (225246, 7)</small><table border=\"1\" class=\"dataframe\"><thead><tr><th>ESTACION</th><th>MAGNITUD</th><th>ANO</th><th>MES</th><th>DIAS</th><th>Value</th><th>FECHA</th></tr><tr><td>i64</td><td>i64</td><td>i64</td><td>i64</td><td>str</td><td>f64</td><td>str</td></tr></thead><tbody><tr><td>4</td><td>1</td><td>2016</td><td>1</td><td>&quot;D01&quot;</td><td>8.0</td><td>&quot;2016-1-01&quot;</td></tr><tr><td>4</td><td>1</td><td>2016</td><td>1</td><td>&quot;D02&quot;</td><td>7.0</td><td>&quot;2016-1-02&quot;</td></tr><tr><td>4</td><td>1</td><td>2016</td><td>1</td><td>&quot;D03&quot;</td><td>6.0</td><td>&quot;2016-1-03&quot;</td></tr><tr><td>4</td><td>1</td><td>2016</td><td>1</td><td>&quot;D04&quot;</td><td>6.0</td><td>&quot;2016-1-04&quot;</td></tr><tr><td>4</td><td>1</td><td>2016</td><td>1</td><td>&quot;D05&quot;</td><td>7.0</td><td>&quot;2016-1-05&quot;</td></tr><tr><td>4</td><td>1</td><td>2016</td><td>1</td><td>&quot;D06&quot;</td><td>6.0</td><td>&quot;2016-1-06&quot;</td></tr><tr><td>4</td><td>1</td><td>2016</td><td>1</td><td>&quot;D07&quot;</td><td>6.0</td><td>&quot;2016-1-07&quot;</td></tr><tr><td>4</td><td>1</td><td>2016</td><td>1</td><td>&quot;D08&quot;</td><td>6.0</td><td>&quot;2016-1-08&quot;</td></tr><tr><td>4</td><td>1</td><td>2016</td><td>1</td><td>&quot;D09&quot;</td><td>6.0</td><td>&quot;2016-1-09&quot;</td></tr><tr><td>4</td><td>1</td><td>2016</td><td>1</td><td>&quot;D10&quot;</td><td>6.0</td><td>&quot;2016-1-10&quot;</td></tr><tr><td>4</td><td>1</td><td>2016</td><td>1</td><td>&quot;D11&quot;</td><td>6.0</td><td>&quot;2016-1-11&quot;</td></tr><tr><td>4</td><td>1</td><td>2016</td><td>1</td><td>&quot;D12&quot;</td><td>7.0</td><td>&quot;2016-1-12&quot;</td></tr><tr><td>&hellip;</td><td>&hellip;</td><td>&hellip;</td><td>&hellip;</td><td>&hellip;</td><td>&hellip;</td><td>&hellip;</td></tr><tr><td>60</td><td>14</td><td>2019</td><td>9</td><td>&quot;D20&quot;</td><td>69.0</td><td>&quot;2019-9-20&quot;</td></tr><tr><td>60</td><td>14</td><td>2019</td><td>9</td><td>&quot;D21&quot;</td><td>59.0</td><td>&quot;2019-9-21&quot;</td></tr><tr><td>60</td><td>14</td><td>2019</td><td>9</td><td>&quot;D22&quot;</td><td>59.0</td><td>&quot;2019-9-22&quot;</td></tr><tr><td>60</td><td>14</td><td>2019</td><td>9</td><td>&quot;D23&quot;</td><td>46.0</td><td>&quot;2019-9-23&quot;</td></tr><tr><td>60</td><td>14</td><td>2019</td><td>9</td><td>&quot;D24&quot;</td><td>49.0</td><td>&quot;2019-9-24&quot;</td></tr><tr><td>60</td><td>14</td><td>2019</td><td>9</td><td>&quot;D25&quot;</td><td>69.0</td><td>&quot;2019-9-25&quot;</td></tr><tr><td>60</td><td>14</td><td>2019</td><td>9</td><td>&quot;D26&quot;</td><td>57.0</td><td>&quot;2019-9-26&quot;</td></tr><tr><td>60</td><td>14</td><td>2019</td><td>9</td><td>&quot;D27&quot;</td><td>54.0</td><td>&quot;2019-9-27&quot;</td></tr><tr><td>60</td><td>14</td><td>2019</td><td>9</td><td>&quot;D28&quot;</td><td>68.0</td><td>&quot;2019-9-28&quot;</td></tr><tr><td>60</td><td>14</td><td>2019</td><td>9</td><td>&quot;D29&quot;</td><td>70.0</td><td>&quot;2019-9-29&quot;</td></tr><tr><td>60</td><td>14</td><td>2019</td><td>9</td><td>&quot;D30&quot;</td><td>55.0</td><td>&quot;2019-9-30&quot;</td></tr><tr><td>60</td><td>14</td><td>2019</td><td>9</td><td>&quot;D31&quot;</td><td>0.0</td><td>&quot;2019-9-31&quot;</td></tr></tbody></table></div>"
      ],
      "text/plain": [
       "shape: (225_246, 7)\n",
       "┌──────────┬──────────┬──────┬─────┬──────┬───────┬───────────┐\n",
       "│ ESTACION ┆ MAGNITUD ┆ ANO  ┆ MES ┆ DIAS ┆ Value ┆ FECHA     │\n",
       "│ ---      ┆ ---      ┆ ---  ┆ --- ┆ ---  ┆ ---   ┆ ---       │\n",
       "│ i64      ┆ i64      ┆ i64  ┆ i64 ┆ str  ┆ f64   ┆ str       │\n",
       "╞══════════╪══════════╪══════╪═════╪══════╪═══════╪═══════════╡\n",
       "│ 4        ┆ 1        ┆ 2016 ┆ 1   ┆ D01  ┆ 8.0   ┆ 2016-1-01 │\n",
       "│ 4        ┆ 1        ┆ 2016 ┆ 1   ┆ D02  ┆ 7.0   ┆ 2016-1-02 │\n",
       "│ 4        ┆ 1        ┆ 2016 ┆ 1   ┆ D03  ┆ 6.0   ┆ 2016-1-03 │\n",
       "│ 4        ┆ 1        ┆ 2016 ┆ 1   ┆ D04  ┆ 6.0   ┆ 2016-1-04 │\n",
       "│ …        ┆ …        ┆ …    ┆ …   ┆ …    ┆ …     ┆ …         │\n",
       "│ 60       ┆ 14       ┆ 2019 ┆ 9   ┆ D28  ┆ 68.0  ┆ 2019-9-28 │\n",
       "│ 60       ┆ 14       ┆ 2019 ┆ 9   ┆ D29  ┆ 70.0  ┆ 2019-9-29 │\n",
       "│ 60       ┆ 14       ┆ 2019 ┆ 9   ┆ D30  ┆ 55.0  ┆ 2019-9-30 │\n",
       "│ 60       ┆ 14       ┆ 2019 ┆ 9   ┆ D31  ┆ 0.0   ┆ 2019-9-31 │\n",
       "└──────────┴──────────┴──────┴─────┴──────┴───────┴───────────┘"
      ]
     },
     "execution_count": 16,
     "metadata": {},
     "output_type": "execute_result"
    }
   ],
   "source": [
    "## Código aquí\n",
    "\n",
    "emisiones = emisiones.with_columns(emisiones.select([\n",
    "    pl.concat_str(\n",
    "        [\n",
    "            pl.col(\"ANO\"),\n",
    "            pl.col(\"MES\"),\n",
    "            pl.col(\"DIAS\").str.replace(r\"D\",\"\")\n",
    "        ],\n",
    "        separator = \"-\",\n",
    "    ).alias(\"FECHA\")\n",
    "])\n",
    ")\n",
    "emisiones"
   ]
  },
  {
   "cell_type": "markdown",
   "id": "37a05fc7",
   "metadata": {},
   "source": [
    "### Eliminar las filas con fechas no válidas"
   ]
  },
  {
   "cell_type": "code",
   "execution_count": 17,
   "id": "a7eb3449",
   "metadata": {
    "scrolled": true
   },
   "outputs": [
    {
     "data": {
      "text/html": [
       "<div><style>\n",
       ".dataframe > thead > tr > th,\n",
       ".dataframe > tbody > tr > td {\n",
       "  text-align: right;\n",
       "}\n",
       "</style>\n",
       "<small>shape: (225246, 7)</small><table border=\"1\" class=\"dataframe\"><thead><tr><th>ESTACION</th><th>MAGNITUD</th><th>ANO</th><th>MES</th><th>DIAS</th><th>Value</th><th>FECHA</th></tr><tr><td>i64</td><td>i64</td><td>i64</td><td>i64</td><td>str</td><td>f64</td><td>str</td></tr></thead><tbody><tr><td>4</td><td>1</td><td>2016</td><td>1</td><td>&quot;D01&quot;</td><td>8.0</td><td>&quot;2016-1-01&quot;</td></tr><tr><td>4</td><td>1</td><td>2016</td><td>1</td><td>&quot;D02&quot;</td><td>7.0</td><td>&quot;2016-1-02&quot;</td></tr><tr><td>4</td><td>1</td><td>2016</td><td>1</td><td>&quot;D03&quot;</td><td>6.0</td><td>&quot;2016-1-03&quot;</td></tr><tr><td>4</td><td>1</td><td>2016</td><td>1</td><td>&quot;D04&quot;</td><td>6.0</td><td>&quot;2016-1-04&quot;</td></tr><tr><td>4</td><td>1</td><td>2016</td><td>1</td><td>&quot;D05&quot;</td><td>7.0</td><td>&quot;2016-1-05&quot;</td></tr><tr><td>4</td><td>1</td><td>2016</td><td>1</td><td>&quot;D06&quot;</td><td>6.0</td><td>&quot;2016-1-06&quot;</td></tr><tr><td>4</td><td>1</td><td>2016</td><td>1</td><td>&quot;D07&quot;</td><td>6.0</td><td>&quot;2016-1-07&quot;</td></tr><tr><td>4</td><td>1</td><td>2016</td><td>1</td><td>&quot;D08&quot;</td><td>6.0</td><td>&quot;2016-1-08&quot;</td></tr><tr><td>4</td><td>1</td><td>2016</td><td>1</td><td>&quot;D09&quot;</td><td>6.0</td><td>&quot;2016-1-09&quot;</td></tr><tr><td>4</td><td>1</td><td>2016</td><td>1</td><td>&quot;D10&quot;</td><td>6.0</td><td>&quot;2016-1-10&quot;</td></tr><tr><td>4</td><td>1</td><td>2016</td><td>1</td><td>&quot;D11&quot;</td><td>6.0</td><td>&quot;2016-1-11&quot;</td></tr><tr><td>4</td><td>1</td><td>2016</td><td>1</td><td>&quot;D12&quot;</td><td>7.0</td><td>&quot;2016-1-12&quot;</td></tr><tr><td>&hellip;</td><td>&hellip;</td><td>&hellip;</td><td>&hellip;</td><td>&hellip;</td><td>&hellip;</td><td>&hellip;</td></tr><tr><td>60</td><td>14</td><td>2019</td><td>9</td><td>&quot;D20&quot;</td><td>69.0</td><td>&quot;2019-9-20&quot;</td></tr><tr><td>60</td><td>14</td><td>2019</td><td>9</td><td>&quot;D21&quot;</td><td>59.0</td><td>&quot;2019-9-21&quot;</td></tr><tr><td>60</td><td>14</td><td>2019</td><td>9</td><td>&quot;D22&quot;</td><td>59.0</td><td>&quot;2019-9-22&quot;</td></tr><tr><td>60</td><td>14</td><td>2019</td><td>9</td><td>&quot;D23&quot;</td><td>46.0</td><td>&quot;2019-9-23&quot;</td></tr><tr><td>60</td><td>14</td><td>2019</td><td>9</td><td>&quot;D24&quot;</td><td>49.0</td><td>&quot;2019-9-24&quot;</td></tr><tr><td>60</td><td>14</td><td>2019</td><td>9</td><td>&quot;D25&quot;</td><td>69.0</td><td>&quot;2019-9-25&quot;</td></tr><tr><td>60</td><td>14</td><td>2019</td><td>9</td><td>&quot;D26&quot;</td><td>57.0</td><td>&quot;2019-9-26&quot;</td></tr><tr><td>60</td><td>14</td><td>2019</td><td>9</td><td>&quot;D27&quot;</td><td>54.0</td><td>&quot;2019-9-27&quot;</td></tr><tr><td>60</td><td>14</td><td>2019</td><td>9</td><td>&quot;D28&quot;</td><td>68.0</td><td>&quot;2019-9-28&quot;</td></tr><tr><td>60</td><td>14</td><td>2019</td><td>9</td><td>&quot;D29&quot;</td><td>70.0</td><td>&quot;2019-9-29&quot;</td></tr><tr><td>60</td><td>14</td><td>2019</td><td>9</td><td>&quot;D30&quot;</td><td>55.0</td><td>&quot;2019-9-30&quot;</td></tr><tr><td>60</td><td>14</td><td>2019</td><td>9</td><td>&quot;D31&quot;</td><td>0.0</td><td>&quot;2019-9-31&quot;</td></tr></tbody></table></div>"
      ],
      "text/plain": [
       "shape: (225_246, 7)\n",
       "┌──────────┬──────────┬──────┬─────┬──────┬───────┬───────────┐\n",
       "│ ESTACION ┆ MAGNITUD ┆ ANO  ┆ MES ┆ DIAS ┆ Value ┆ FECHA     │\n",
       "│ ---      ┆ ---      ┆ ---  ┆ --- ┆ ---  ┆ ---   ┆ ---       │\n",
       "│ i64      ┆ i64      ┆ i64  ┆ i64 ┆ str  ┆ f64   ┆ str       │\n",
       "╞══════════╪══════════╪══════╪═════╪══════╪═══════╪═══════════╡\n",
       "│ 4        ┆ 1        ┆ 2016 ┆ 1   ┆ D01  ┆ 8.0   ┆ 2016-1-01 │\n",
       "│ 4        ┆ 1        ┆ 2016 ┆ 1   ┆ D02  ┆ 7.0   ┆ 2016-1-02 │\n",
       "│ 4        ┆ 1        ┆ 2016 ┆ 1   ┆ D03  ┆ 6.0   ┆ 2016-1-03 │\n",
       "│ 4        ┆ 1        ┆ 2016 ┆ 1   ┆ D04  ┆ 6.0   ┆ 2016-1-04 │\n",
       "│ …        ┆ …        ┆ …    ┆ …   ┆ …    ┆ …     ┆ …         │\n",
       "│ 60       ┆ 14       ┆ 2019 ┆ 9   ┆ D28  ┆ 68.0  ┆ 2019-9-28 │\n",
       "│ 60       ┆ 14       ┆ 2019 ┆ 9   ┆ D29  ┆ 70.0  ┆ 2019-9-29 │\n",
       "│ 60       ┆ 14       ┆ 2019 ┆ 9   ┆ D30  ┆ 55.0  ┆ 2019-9-30 │\n",
       "│ 60       ┆ 14       ┆ 2019 ┆ 9   ┆ D31  ┆ 0.0   ┆ 2019-9-31 │\n",
       "└──────────┴──────────┴──────┴─────┴──────┴───────┴───────────┘"
      ]
     },
     "execution_count": 17,
     "metadata": {},
     "output_type": "execute_result"
    }
   ],
   "source": [
    "## Código aquí\n",
    "\n",
    "emisiones = emisiones.drop_nulls()\n",
    "emisiones"
   ]
  },
  {
   "cell_type": "markdown",
   "id": "4bea596a",
   "metadata": {},
   "source": [
    "### Ordenar el el dataframe por estación, magnitud y fecha\n",
    "Hint: **.sort(..)**"
   ]
  },
  {
   "cell_type": "code",
   "execution_count": 11,
   "id": "b7032206",
   "metadata": {
    "scrolled": true
   },
   "outputs": [
    {
     "data": {
      "text/html": [
       "<div><style>\n",
       ".dataframe > thead > tr > th,\n",
       ".dataframe > tbody > tr > td {\n",
       "  text-align: right;\n",
       "}\n",
       "</style>\n",
       "<small>shape: (225246, 7)</small><table border=\"1\" class=\"dataframe\"><thead><tr><th>ESTACION</th><th>MAGNITUD</th><th>ANO</th><th>MES</th><th>DIAS</th><th>Value</th><th>FECHA</th></tr><tr><td>i64</td><td>i64</td><td>i64</td><td>i64</td><td>str</td><td>f64</td><td>str</td></tr></thead><tbody><tr><td>4</td><td>1</td><td>2016</td><td>1</td><td>&quot;D01&quot;</td><td>8.0</td><td>&quot;2016-1-01&quot;</td></tr><tr><td>4</td><td>1</td><td>2016</td><td>1</td><td>&quot;D02&quot;</td><td>7.0</td><td>&quot;2016-1-02&quot;</td></tr><tr><td>4</td><td>1</td><td>2016</td><td>1</td><td>&quot;D03&quot;</td><td>6.0</td><td>&quot;2016-1-03&quot;</td></tr><tr><td>4</td><td>1</td><td>2016</td><td>1</td><td>&quot;D04&quot;</td><td>6.0</td><td>&quot;2016-1-04&quot;</td></tr><tr><td>4</td><td>1</td><td>2016</td><td>1</td><td>&quot;D05&quot;</td><td>7.0</td><td>&quot;2016-1-05&quot;</td></tr><tr><td>4</td><td>1</td><td>2016</td><td>1</td><td>&quot;D06&quot;</td><td>6.0</td><td>&quot;2016-1-06&quot;</td></tr><tr><td>4</td><td>1</td><td>2016</td><td>1</td><td>&quot;D07&quot;</td><td>6.0</td><td>&quot;2016-1-07&quot;</td></tr><tr><td>4</td><td>1</td><td>2016</td><td>1</td><td>&quot;D08&quot;</td><td>6.0</td><td>&quot;2016-1-08&quot;</td></tr><tr><td>4</td><td>1</td><td>2016</td><td>1</td><td>&quot;D09&quot;</td><td>6.0</td><td>&quot;2016-1-09&quot;</td></tr><tr><td>4</td><td>1</td><td>2016</td><td>1</td><td>&quot;D10&quot;</td><td>6.0</td><td>&quot;2016-1-10&quot;</td></tr><tr><td>4</td><td>1</td><td>2016</td><td>1</td><td>&quot;D11&quot;</td><td>6.0</td><td>&quot;2016-1-11&quot;</td></tr><tr><td>4</td><td>1</td><td>2016</td><td>1</td><td>&quot;D12&quot;</td><td>7.0</td><td>&quot;2016-1-12&quot;</td></tr><tr><td>&hellip;</td><td>&hellip;</td><td>&hellip;</td><td>&hellip;</td><td>&hellip;</td><td>&hellip;</td><td>&hellip;</td></tr><tr><td>60</td><td>14</td><td>2019</td><td>9</td><td>&quot;D20&quot;</td><td>69.0</td><td>&quot;2019-9-20&quot;</td></tr><tr><td>60</td><td>14</td><td>2019</td><td>9</td><td>&quot;D21&quot;</td><td>59.0</td><td>&quot;2019-9-21&quot;</td></tr><tr><td>60</td><td>14</td><td>2019</td><td>9</td><td>&quot;D22&quot;</td><td>59.0</td><td>&quot;2019-9-22&quot;</td></tr><tr><td>60</td><td>14</td><td>2019</td><td>9</td><td>&quot;D23&quot;</td><td>46.0</td><td>&quot;2019-9-23&quot;</td></tr><tr><td>60</td><td>14</td><td>2019</td><td>9</td><td>&quot;D24&quot;</td><td>49.0</td><td>&quot;2019-9-24&quot;</td></tr><tr><td>60</td><td>14</td><td>2019</td><td>9</td><td>&quot;D25&quot;</td><td>69.0</td><td>&quot;2019-9-25&quot;</td></tr><tr><td>60</td><td>14</td><td>2019</td><td>9</td><td>&quot;D26&quot;</td><td>57.0</td><td>&quot;2019-9-26&quot;</td></tr><tr><td>60</td><td>14</td><td>2019</td><td>9</td><td>&quot;D27&quot;</td><td>54.0</td><td>&quot;2019-9-27&quot;</td></tr><tr><td>60</td><td>14</td><td>2019</td><td>9</td><td>&quot;D28&quot;</td><td>68.0</td><td>&quot;2019-9-28&quot;</td></tr><tr><td>60</td><td>14</td><td>2019</td><td>9</td><td>&quot;D29&quot;</td><td>70.0</td><td>&quot;2019-9-29&quot;</td></tr><tr><td>60</td><td>14</td><td>2019</td><td>9</td><td>&quot;D30&quot;</td><td>55.0</td><td>&quot;2019-9-30&quot;</td></tr><tr><td>60</td><td>14</td><td>2019</td><td>9</td><td>&quot;D31&quot;</td><td>0.0</td><td>&quot;2019-9-31&quot;</td></tr></tbody></table></div>"
      ],
      "text/plain": [
       "shape: (225_246, 7)\n",
       "┌──────────┬──────────┬──────┬─────┬──────┬───────┬───────────┐\n",
       "│ ESTACION ┆ MAGNITUD ┆ ANO  ┆ MES ┆ DIAS ┆ Value ┆ FECHA     │\n",
       "│ ---      ┆ ---      ┆ ---  ┆ --- ┆ ---  ┆ ---   ┆ ---       │\n",
       "│ i64      ┆ i64      ┆ i64  ┆ i64 ┆ str  ┆ f64   ┆ str       │\n",
       "╞══════════╪══════════╪══════╪═════╪══════╪═══════╪═══════════╡\n",
       "│ 4        ┆ 1        ┆ 2016 ┆ 1   ┆ D01  ┆ 8.0   ┆ 2016-1-01 │\n",
       "│ 4        ┆ 1        ┆ 2016 ┆ 1   ┆ D02  ┆ 7.0   ┆ 2016-1-02 │\n",
       "│ 4        ┆ 1        ┆ 2016 ┆ 1   ┆ D03  ┆ 6.0   ┆ 2016-1-03 │\n",
       "│ 4        ┆ 1        ┆ 2016 ┆ 1   ┆ D04  ┆ 6.0   ┆ 2016-1-04 │\n",
       "│ …        ┆ …        ┆ …    ┆ …   ┆ …    ┆ …     ┆ …         │\n",
       "│ 60       ┆ 14       ┆ 2019 ┆ 9   ┆ D28  ┆ 68.0  ┆ 2019-9-28 │\n",
       "│ 60       ┆ 14       ┆ 2019 ┆ 9   ┆ D29  ┆ 70.0  ┆ 2019-9-29 │\n",
       "│ 60       ┆ 14       ┆ 2019 ┆ 9   ┆ D30  ┆ 55.0  ┆ 2019-9-30 │\n",
       "│ 60       ┆ 14       ┆ 2019 ┆ 9   ┆ D31  ┆ 0.0   ┆ 2019-9-31 │\n",
       "└──────────┴──────────┴──────┴─────┴──────┴───────┴───────────┘"
      ]
     },
     "execution_count": 11,
     "metadata": {},
     "output_type": "execute_result"
    }
   ],
   "source": [
    "## Código aquí\n",
    "\n",
    "emisiones = emisiones.sort(by = [\"ESTACION\",\"MAGNITUD\", \"FECHA\"])\n",
    "emisiones"
   ]
  },
  {
   "cell_type": "markdown",
   "id": "218943c8",
   "metadata": {},
   "source": [
    "### Mostrar las estaciones y los contaminantes disponibles\n"
   ]
  },
  {
   "cell_type": "code",
   "execution_count": 12,
   "id": "0bdbb07b",
   "metadata": {},
   "outputs": [
    {
     "data": {
      "text/html": [
       "<div><style>\n",
       ".dataframe > thead > tr > th,\n",
       ".dataframe > tbody > tr > td {\n",
       "  text-align: right;\n",
       "}\n",
       "</style>\n",
       "<small>shape: (225246, 7)</small><table border=\"1\" class=\"dataframe\"><thead><tr><th>ESTACION</th><th>MAGNITUD</th><th>ANO</th><th>MES</th><th>DIAS</th><th>Value</th><th>FECHA</th></tr><tr><td>i64</td><td>i64</td><td>i64</td><td>i64</td><td>str</td><td>f64</td><td>str</td></tr></thead><tbody><tr><td>4</td><td>1</td><td>2016</td><td>1</td><td>&quot;D01&quot;</td><td>8.0</td><td>&quot;2016-1-01&quot;</td></tr><tr><td>4</td><td>1</td><td>2016</td><td>1</td><td>&quot;D02&quot;</td><td>7.0</td><td>&quot;2016-1-02&quot;</td></tr><tr><td>4</td><td>1</td><td>2016</td><td>1</td><td>&quot;D03&quot;</td><td>6.0</td><td>&quot;2016-1-03&quot;</td></tr><tr><td>4</td><td>1</td><td>2016</td><td>1</td><td>&quot;D04&quot;</td><td>6.0</td><td>&quot;2016-1-04&quot;</td></tr><tr><td>4</td><td>1</td><td>2016</td><td>1</td><td>&quot;D05&quot;</td><td>7.0</td><td>&quot;2016-1-05&quot;</td></tr><tr><td>4</td><td>1</td><td>2016</td><td>1</td><td>&quot;D06&quot;</td><td>6.0</td><td>&quot;2016-1-06&quot;</td></tr><tr><td>4</td><td>1</td><td>2016</td><td>1</td><td>&quot;D07&quot;</td><td>6.0</td><td>&quot;2016-1-07&quot;</td></tr><tr><td>4</td><td>1</td><td>2016</td><td>1</td><td>&quot;D08&quot;</td><td>6.0</td><td>&quot;2016-1-08&quot;</td></tr><tr><td>4</td><td>1</td><td>2016</td><td>1</td><td>&quot;D09&quot;</td><td>6.0</td><td>&quot;2016-1-09&quot;</td></tr><tr><td>4</td><td>1</td><td>2016</td><td>1</td><td>&quot;D10&quot;</td><td>6.0</td><td>&quot;2016-1-10&quot;</td></tr><tr><td>4</td><td>1</td><td>2016</td><td>1</td><td>&quot;D11&quot;</td><td>6.0</td><td>&quot;2016-1-11&quot;</td></tr><tr><td>4</td><td>1</td><td>2016</td><td>1</td><td>&quot;D12&quot;</td><td>7.0</td><td>&quot;2016-1-12&quot;</td></tr><tr><td>&hellip;</td><td>&hellip;</td><td>&hellip;</td><td>&hellip;</td><td>&hellip;</td><td>&hellip;</td><td>&hellip;</td></tr><tr><td>60</td><td>14</td><td>2019</td><td>9</td><td>&quot;D20&quot;</td><td>69.0</td><td>&quot;2019-9-20&quot;</td></tr><tr><td>60</td><td>14</td><td>2019</td><td>9</td><td>&quot;D21&quot;</td><td>59.0</td><td>&quot;2019-9-21&quot;</td></tr><tr><td>60</td><td>14</td><td>2019</td><td>9</td><td>&quot;D22&quot;</td><td>59.0</td><td>&quot;2019-9-22&quot;</td></tr><tr><td>60</td><td>14</td><td>2019</td><td>9</td><td>&quot;D23&quot;</td><td>46.0</td><td>&quot;2019-9-23&quot;</td></tr><tr><td>60</td><td>14</td><td>2019</td><td>9</td><td>&quot;D24&quot;</td><td>49.0</td><td>&quot;2019-9-24&quot;</td></tr><tr><td>60</td><td>14</td><td>2019</td><td>9</td><td>&quot;D25&quot;</td><td>69.0</td><td>&quot;2019-9-25&quot;</td></tr><tr><td>60</td><td>14</td><td>2019</td><td>9</td><td>&quot;D26&quot;</td><td>57.0</td><td>&quot;2019-9-26&quot;</td></tr><tr><td>60</td><td>14</td><td>2019</td><td>9</td><td>&quot;D27&quot;</td><td>54.0</td><td>&quot;2019-9-27&quot;</td></tr><tr><td>60</td><td>14</td><td>2019</td><td>9</td><td>&quot;D28&quot;</td><td>68.0</td><td>&quot;2019-9-28&quot;</td></tr><tr><td>60</td><td>14</td><td>2019</td><td>9</td><td>&quot;D29&quot;</td><td>70.0</td><td>&quot;2019-9-29&quot;</td></tr><tr><td>60</td><td>14</td><td>2019</td><td>9</td><td>&quot;D30&quot;</td><td>55.0</td><td>&quot;2019-9-30&quot;</td></tr><tr><td>60</td><td>14</td><td>2019</td><td>9</td><td>&quot;D31&quot;</td><td>0.0</td><td>&quot;2019-9-31&quot;</td></tr></tbody></table></div>"
      ],
      "text/plain": [
       "shape: (225_246, 7)\n",
       "┌──────────┬──────────┬──────┬─────┬──────┬───────┬───────────┐\n",
       "│ ESTACION ┆ MAGNITUD ┆ ANO  ┆ MES ┆ DIAS ┆ Value ┆ FECHA     │\n",
       "│ ---      ┆ ---      ┆ ---  ┆ --- ┆ ---  ┆ ---   ┆ ---       │\n",
       "│ i64      ┆ i64      ┆ i64  ┆ i64 ┆ str  ┆ f64   ┆ str       │\n",
       "╞══════════╪══════════╪══════╪═════╪══════╪═══════╪═══════════╡\n",
       "│ 4        ┆ 1        ┆ 2016 ┆ 1   ┆ D01  ┆ 8.0   ┆ 2016-1-01 │\n",
       "│ 4        ┆ 1        ┆ 2016 ┆ 1   ┆ D02  ┆ 7.0   ┆ 2016-1-02 │\n",
       "│ 4        ┆ 1        ┆ 2016 ┆ 1   ┆ D03  ┆ 6.0   ┆ 2016-1-03 │\n",
       "│ 4        ┆ 1        ┆ 2016 ┆ 1   ┆ D04  ┆ 6.0   ┆ 2016-1-04 │\n",
       "│ …        ┆ …        ┆ …    ┆ …   ┆ …    ┆ …     ┆ …         │\n",
       "│ 60       ┆ 14       ┆ 2019 ┆ 9   ┆ D28  ┆ 68.0  ┆ 2019-9-28 │\n",
       "│ 60       ┆ 14       ┆ 2019 ┆ 9   ┆ D29  ┆ 70.0  ┆ 2019-9-29 │\n",
       "│ 60       ┆ 14       ┆ 2019 ┆ 9   ┆ D30  ┆ 55.0  ┆ 2019-9-30 │\n",
       "│ 60       ┆ 14       ┆ 2019 ┆ 9   ┆ D31  ┆ 0.0   ┆ 2019-9-31 │\n",
       "└──────────┴──────────┴──────┴─────┴──────┴───────┴───────────┘"
      ]
     },
     "execution_count": 12,
     "metadata": {},
     "output_type": "execute_result"
    }
   ],
   "source": [
    "## Código aquí\n",
    "emisiones.select([\n",
    "    pl.col(\"ESTACION\").n_unique().alias(\"Estaciones\"),\n",
    "    pl.col(\"MAGNITUD\").n_unique().alias(\"Contaminantes disponibles\")\n",
    "])\n",
    "emisiones"
   ]
  },
  {
   "cell_type": "markdown",
   "id": "9942abf9",
   "metadata": {},
   "source": [
    "## Tiempo de ejecución\n",
    "Realiza una comparación de tiempo de ejecución utilizando pandas y polars. Lee todos los csv de https://github.com/pola-rs/polars/tree/main/examples/datasets, concatena verticalmente todos los csv y realiza un groupby a 'category' con cualquier función de agregación. De ahí compara el tiempo realizando 10000 iteraciones con la libreria `timeit` de python."
   ]
  },
  {
   "cell_type": "code",
   "execution_count": 21,
   "id": "9526a28d",
   "metadata": {},
   "outputs": [],
   "source": [
    "## Código aquí\n",
    "\n",
    "archive = [\"foods1.csv\", \"foods2.csv\", \"foods3.csv\", \"foods4.csv\", \"foods5.csv\"]\n",
    "foods = pl.concat([pl.read_csv(\"https://github.com/pola-rs/polars/tree/main/examples/datasets/{}\".format(a)) for a in archive])\n",
    "\n",
    "import pandas as pd\n",
    "import timeit\n",
    "foodsp = pd.concat([pd.read_csv(\"https://github.com/pola-rs/polars/tree/main/examples/datasets/{}\".format(a)) for a in archive])\n",
    "\n",
    "tpolars = timeit.timeit(lambda: foods.select(\"fats_g\").groupby(\"category\").mean(), number = 1000)\n",
    "tpandas = timeit.timeit(lambda: foodsp.groupby(\"category\")[\"fats_g\"].mean(), number = 1000)\n",
    "\n",
    "print(\"tpolars = {}, tpandas = {}\".format(tpolars, tpandas))\n",
    " "
   ]
  }
 ],
 "metadata": {
  "kernelspec": {
   "display_name": "Python 3 (ipykernel)",
   "language": "python",
   "name": "python3"
  },
  "language_info": {
   "codemirror_mode": {
    "name": "ipython",
    "version": 3
   },
   "file_extension": ".py",
   "mimetype": "text/x-python",
   "name": "python",
   "nbconvert_exporter": "python",
   "pygments_lexer": "ipython3",
   "version": "3.10.11"
  }
 },
 "nbformat": 4,
 "nbformat_minor": 5
}
