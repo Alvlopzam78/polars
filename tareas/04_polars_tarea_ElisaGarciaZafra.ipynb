{
 "cells": [
  {
   "cell_type": "markdown",
   "id": "67f5d07f",
   "metadata": {},
   "source": [
    "# Ejercicio prueba\n",
    "Consta en hacer simples tareas de pandas pero ahora con la sintaxis de polars.\n",
    "Los csv de emisiones-2016.csv, emisiones-2017.csv, emisiones-2018.csv y emisiones-2019.csv, contienen datos sobre las emisiones contaminates en la ciudad de Madrid en los años 2016, 2017, 2018 y 2019 respectivamente. Escribir un programa con los siguientes requisitos:"
   ]
  },
  {
   "cell_type": "markdown",
   "id": "2fd3c883",
   "metadata": {},
   "source": [
    "*Es importante que el código ea breve, ya que cada ejercicio puede hacerse en una sola instrucción* :OO"
   ]
  },
  {
   "cell_type": "markdown",
   "id": "d2584bcd",
   "metadata": {},
   "source": [
    "### Generar un DataFrame con los datos de los cuatro ficheros.\n",
    "Hint: leer los datos y concatenarlos verticalmente --> **pl.concat**"
   ]
  },
  {
   "cell_type": "code",
   "execution_count": null,
   "id": "cb105421",
   "metadata": {},
   "outputs": [],
   "source": [
    "import polars as pl\n",
    "\n",
    "\n",
    "e2016 = pl.read_csv('emisiones-2016.csv', separator= ';')\n",
    "e2017 = pl.read_csv('emisiones-2017.csv', separator= ';')\n",
    "e2018 = pl.read_csv('emisiones-2018.csv', separator= ';')\n",
    "e2019 = pl.read_csv('emisiones-2019.csv', separator= ';')\n",
    "emi = pl.concat([e2016,e2017, e2018,  e2019],how=\"vertical\")\n",
    "emi"
   ]
  },
  {
   "cell_type": "markdown",
   "id": "7485b4be",
   "metadata": {},
   "source": [
    "### Filtrar las columnas del DataFrame para quedarse únicamente con las columnas de ESTACION, MAGNITUD, AÑO, MES y las correspondientes a todos los días D01, D02, ... \n",
    "Hint: **df.select(...)** "
   ]
  },
  {
   "cell_type": "code",
   "execution_count": null,
   "id": "d13feb14",
   "metadata": {},
   "outputs": [],
   "source": [
    "columnas = ['ESTACION', 'MAGNITUD', 'ANO', 'MES'] + [col for col in emi.columns if col.startswith('D')]\n",
    "emi = emi.select(columnas)\n",
    "emi"
   ]
  },
  {
   "cell_type": "markdown",
   "id": "aa5d3746",
   "metadata": {},
   "source": [
    "### Reestructurar el DataFrame para que los valores de los contaminantes de las columnas de los días aparezcan en una única columna.\n"
   ]
  },
  {
   "cell_type": "code",
   "execution_count": null,
   "id": "9216632a",
   "metadata": {},
   "outputs": [],
   "source": [
    "emi = emi.melt(id_vars=['ESTACION', 'MAGNITUD', 'ANO', 'MES'], variable_name='DIA', value_name='VALOR')\n",
    "emi"
   ]
  },
  {
   "cell_type": "markdown",
   "id": "33d1a28e",
   "metadata": {},
   "source": [
    "### Crear una nueva columna llamada FECHA con las fechas a partir del año, mes y día\n",
    "Hint: **pl.concat_str([\n",
    "            pl.col(...),\n",
    "            ...\n",
    "        ])** y **.str.strptime(pl.Datetime,strict=False)** "
   ]
  },
  {
   "cell_type": "code",
   "execution_count": null,
   "id": "48856a4a",
   "metadata": {},
   "outputs": [],
   "source": [
    "emi = emi.select(\n",
    "    [\n",
    "        'ESTACION',\n",
    "        'MAGNITUD',\n",
    "        pl.concat_str([pl.col('ANO'),pl.col('MES'),pl.col('DIA').str.strip('D')], separator='-').str.strptime(pl.Datetime,'%Y-%m-%d', strict=False).alias('FECHA'),\n",
    "        'VALOR'\n",
    "    ])\n",
    "emi"
   ]
  },
  {
   "cell_type": "markdown",
   "id": "37a05fc7",
   "metadata": {},
   "source": [
    "### Eliminar las filas con fechas no válidas"
   ]
  },
  {
   "cell_type": "code",
   "execution_count": null,
   "id": "a7eb3449",
   "metadata": {
    "scrolled": true
   },
   "outputs": [],
   "source": [
    "emi = emi.filter(pl.col('FECHA') != None)\n",
    "emi"
   ]
  },
  {
   "cell_type": "markdown",
   "id": "4bea596a",
   "metadata": {},
   "source": [
    "### Ordenar el el dataframe por estación, magnitud y fecha\n",
    "Hint: **.sort(..)**"
   ]
  },
  {
   "cell_type": "code",
   "execution_count": null,
   "id": "b7032206",
   "metadata": {
    "scrolled": true
   },
   "outputs": [],
   "source": [
    "emi.sort(['ESTACION', 'MAGNITUD', 'FECHA'])"
   ]
  },
  {
   "cell_type": "markdown",
   "id": "218943c8",
   "metadata": {},
   "source": [
    "### Mostrar las estaciones y los contaminantes disponibles\n"
   ]
  },
  {
   "cell_type": "code",
   "execution_count": null,
   "id": "0bdbb07b",
   "metadata": {},
   "outputs": [],
   "source": [
    "print('estaciones:', emi['ESTACION'].unique())\n",
    "print('contaminantes:', emi['MAGNITUD'].unique())"
   ]
  },
  {
   "cell_type": "markdown",
   "id": "9942abf9",
   "metadata": {},
   "source": [
    "## Tiempo de ejecución\n",
    "Realiza una comparación de tiempo de ejecución utilizando pandas y polars. Lee todos los csv de https://github.com/pola-rs/polars/tree/main/examples/datasets, concatena verticalmente todos los csv y realiza un groupby a 'category' con cualquier función de agregación. De ahí compara el tiempo realizando 10000 iteraciones con la libreria `timeit` de python."
   ]
  },
  {
   "cell_type": "code",
   "execution_count": null,
   "id": "9526a28d",
   "metadata": {},
   "outputs": [],
   "source": [
    "import pandas as pd"
   ]
  }
 ],
 "metadata": {
  "kernelspec": {
   "display_name": "Python 3 (ipykernel)",
   "language": "python",
   "name": "python3"
  },
  "language_info": {
   "codemirror_mode": {
    "name": "ipython",
    "version": 3
   },
   "file_extension": ".py",
   "mimetype": "text/x-python",
   "name": "python",
   "nbconvert_exporter": "python",
   "pygments_lexer": "ipython3",
   "version": "3.9.12"
  }
 },
 "nbformat": 4,
 "nbformat_minor": 5
}
