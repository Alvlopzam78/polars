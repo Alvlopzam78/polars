{
 "cells": [
  {
   "cell_type": "markdown",
   "id": "67f5d07f",
   "metadata": {},
   "source": [
    "# Ejercicio prueba\n",
    "Consta en hacer simples tareas de pandas pero ahora con la sintaxis de polars.\n",
    "Los csv de emisiones-2016.csv, emisiones-2017.csv, emisiones-2018.csv y emisiones-2019.csv, contienen datos sobre las emisiones contaminates en la ciudad de Madrid en los años 2016, 2017, 2018 y 2019 respectivamente. Escribir un programa con los siguientes requisitos:"
   ]
  },
  {
   "cell_type": "markdown",
   "id": "2fd3c883",
   "metadata": {},
   "source": [
    "*Es importante que el código ea breve, ya que cada ejercicio puede hacerse en una sola instrucción* :OO"
   ]
  },
  {
   "cell_type": "markdown",
   "id": "d2584bcd",
   "metadata": {},
   "source": [
    "### Generar un DataFrame con los datos de los cuatro ficheros.\n",
    "Hint: leer los datos y concatenarlos verticalmente --> **pl.concat**"
   ]
  },
  {
   "cell_type": "code",
   "execution_count": 41,
   "id": "cb105421",
   "metadata": {},
   "outputs": [
    {
     "data": {
      "text/html": [
       "<div><style>\n",
       ".dataframe > thead > tr > th,\n",
       ".dataframe > tbody > tr > td {\n",
       "  text-align: right;\n",
       "}\n",
       "</style>\n",
       "<small>shape: (7266, 69)</small><table border=\"1\" class=\"dataframe\"><thead><tr><th>PROVINCIA</th><th>MUNICIPIO</th><th>ESTACION</th><th>MAGNITUD</th><th>PUNTO_MUESTREO</th><th>ANO</th><th>MES</th><th>D01</th><th>V01</th><th>D02</th><th>V02</th><th>D03</th><th>V03</th><th>D04</th><th>V04</th><th>D05</th><th>V05</th><th>D06</th><th>V06</th><th>D07</th><th>V07</th><th>D08</th><th>V08</th><th>D09</th><th>V09</th><th>D10</th><th>V10</th><th>D11</th><th>V11</th><th>D12</th><th>V12</th><th>D13</th><th>V13</th><th>D14</th><th>V14</th><th>D15</th><th>V15</th><th>D16</th><th>V16</th><th>D17</th><th>V17</th><th>D18</th><th>V18</th><th>D19</th><th>V19</th><th>D20</th><th>V20</th><th>D21</th><th>V21</th><th>D22</th><th>V22</th><th>D23</th><th>V23</th><th>D24</th><th>V24</th><th>D25</th><th>V25</th><th>D26</th><th>V26</th><th>D27</th><th>V27</th><th>D28</th><th>V28</th><th>D29</th><th>V29</th><th>D30</th><th>V30</th><th>D31</th><th>V31</th></tr><tr><td>i64</td><td>i64</td><td>i64</td><td>i64</td><td>str</td><td>i64</td><td>i64</td><td>f64</td><td>str</td><td>f64</td><td>str</td><td>f64</td><td>str</td><td>f64</td><td>str</td><td>f64</td><td>str</td><td>f64</td><td>str</td><td>f64</td><td>str</td><td>f64</td><td>str</td><td>f64</td><td>str</td><td>f64</td><td>str</td><td>f64</td><td>str</td><td>f64</td><td>str</td><td>f64</td><td>str</td><td>f64</td><td>str</td><td>f64</td><td>str</td><td>f64</td><td>str</td><td>f64</td><td>str</td><td>f64</td><td>str</td><td>f64</td><td>str</td><td>f64</td><td>str</td><td>f64</td><td>str</td><td>f64</td><td>str</td><td>f64</td><td>str</td><td>f64</td><td>str</td><td>f64</td><td>str</td><td>f64</td><td>str</td><td>f64</td><td>str</td><td>f64</td><td>str</td><td>f64</td><td>str</td><td>f64</td><td>str</td><td>f64</td><td>str</td></tr></thead><tbody><tr><td>28</td><td>79</td><td>4</td><td>1</td><td>&quot;28079004_1_38&quot;</td><td>2016</td><td>1</td><td>8.0</td><td>&quot;V&quot;</td><td>7.0</td><td>&quot;V&quot;</td><td>6.0</td><td>&quot;V&quot;</td><td>6.0</td><td>&quot;V&quot;</td><td>7.0</td><td>&quot;V&quot;</td><td>6.0</td><td>&quot;V&quot;</td><td>6.0</td><td>&quot;V&quot;</td><td>6.0</td><td>&quot;V&quot;</td><td>6.0</td><td>&quot;V&quot;</td><td>6.0</td><td>&quot;V&quot;</td><td>6.0</td><td>&quot;V&quot;</td><td>7.0</td><td>&quot;V&quot;</td><td>11.0</td><td>&quot;V&quot;</td><td>8.0</td><td>&quot;V&quot;</td><td>8.0</td><td>&quot;V&quot;</td><td>9.0</td><td>&quot;V&quot;</td><td>9.0</td><td>&quot;V&quot;</td><td>8.0</td><td>&quot;V&quot;</td><td>11.0</td><td>&quot;V&quot;</td><td>10.0</td><td>&quot;V&quot;</td><td>9.0</td><td>&quot;V&quot;</td><td>10.0</td><td>&quot;V&quot;</td><td>11.0</td><td>&quot;V&quot;</td><td>11.0</td><td>&quot;V&quot;</td><td>13.0</td><td>&quot;V&quot;</td><td>12.0</td><td>&quot;V&quot;</td><td>9.0</td><td>&quot;V&quot;</td><td>7.0</td><td>&quot;V&quot;</td><td>8.0</td><td>&quot;V&quot;</td><td>9.0</td><td>&quot;V&quot;</td><td>9.0</td><td>&quot;V&quot;</td></tr><tr><td>28</td><td>79</td><td>4</td><td>1</td><td>&quot;28079004_1_38&quot;</td><td>2016</td><td>2</td><td>12.0</td><td>&quot;V&quot;</td><td>13.0</td><td>&quot;V&quot;</td><td>9.0</td><td>&quot;V&quot;</td><td>9.0</td><td>&quot;V&quot;</td><td>11.0</td><td>&quot;V&quot;</td><td>9.0</td><td>&quot;V&quot;</td><td>7.0</td><td>&quot;V&quot;</td><td>7.0</td><td>&quot;V&quot;</td><td>7.0</td><td>&quot;V&quot;</td><td>7.0</td><td>&quot;V&quot;</td><td>7.0</td><td>&quot;V&quot;</td><td>7.0</td><td>&quot;V&quot;</td><td>7.0</td><td>&quot;V&quot;</td><td>7.0</td><td>&quot;V&quot;</td><td>7.0</td><td>&quot;V&quot;</td><td>8.0</td><td>&quot;V&quot;</td><td>8.0</td><td>&quot;V&quot;</td><td>7.0</td><td>&quot;V&quot;</td><td>9.0</td><td>&quot;V&quot;</td><td>11.0</td><td>&quot;V&quot;</td><td>10.0</td><td>&quot;V&quot;</td><td>11.0</td><td>&quot;V&quot;</td><td>10.0</td><td>&quot;V&quot;</td><td>9.0</td><td>&quot;V&quot;</td><td>8.0</td><td>&quot;V&quot;</td><td>7.0</td><td>&quot;V&quot;</td><td>7.0</td><td>&quot;V&quot;</td><td>8.0</td><td>&quot;V&quot;</td><td>9.0</td><td>&quot;V&quot;</td><td>0.0</td><td>&quot;N&quot;</td><td>0.0</td><td>&quot;N&quot;</td></tr><tr><td>28</td><td>79</td><td>4</td><td>1</td><td>&quot;28079004_1_38&quot;</td><td>2016</td><td>3</td><td>11.0</td><td>&quot;V&quot;</td><td>10.0</td><td>&quot;V&quot;</td><td>9.0</td><td>&quot;V&quot;</td><td>9.0</td><td>&quot;V&quot;</td><td>7.0</td><td>&quot;V&quot;</td><td>8.0</td><td>&quot;V&quot;</td><td>8.0</td><td>&quot;V&quot;</td><td>8.0</td><td>&quot;V&quot;</td><td>9.0</td><td>&quot;V&quot;</td><td>8.0</td><td>&quot;V&quot;</td><td>9.0</td><td>&quot;V&quot;</td><td>9.0</td><td>&quot;V&quot;</td><td>9.0</td><td>&quot;V&quot;</td><td>8.0</td><td>&quot;V&quot;</td><td>9.0</td><td>&quot;V&quot;</td><td>11.0</td><td>&quot;V&quot;</td><td>10.0</td><td>&quot;V&quot;</td><td>9.0</td><td>&quot;V&quot;</td><td>7.0</td><td>&quot;V&quot;</td><td>7.0</td><td>&quot;V&quot;</td><td>8.0</td><td>&quot;V&quot;</td><td>8.0</td><td>&quot;V&quot;</td><td>8.0</td><td>&quot;V&quot;</td><td>9.0</td><td>&quot;V&quot;</td><td>9.0</td><td>&quot;V&quot;</td><td>9.0</td><td>&quot;V&quot;</td><td>8.0</td><td>&quot;V&quot;</td><td>7.0</td><td>&quot;V&quot;</td><td>8.0</td><td>&quot;V&quot;</td><td>10.0</td><td>&quot;V&quot;</td><td>8.0</td><td>&quot;V&quot;</td></tr><tr><td>28</td><td>79</td><td>4</td><td>1</td><td>&quot;28079004_1_38&quot;</td><td>2016</td><td>4</td><td>8.0</td><td>&quot;V&quot;</td><td>9.0</td><td>&quot;V&quot;</td><td>9.0</td><td>&quot;V&quot;</td><td>8.0</td><td>&quot;V&quot;</td><td>8.0</td><td>&quot;V&quot;</td><td>9.0</td><td>&quot;V&quot;</td><td>9.0</td><td>&quot;V&quot;</td><td>8.0</td><td>&quot;V&quot;</td><td>8.0</td><td>&quot;V&quot;</td><td>7.0</td><td>&quot;V&quot;</td><td>7.0</td><td>&quot;V&quot;</td><td>8.0</td><td>&quot;V&quot;</td><td>8.0</td><td>&quot;V&quot;</td><td>8.0</td><td>&quot;V&quot;</td><td>9.0</td><td>&quot;V&quot;</td><td>7.0</td><td>&quot;V&quot;</td><td>7.0</td><td>&quot;V&quot;</td><td>8.0</td><td>&quot;V&quot;</td><td>8.0</td><td>&quot;V&quot;</td><td>8.0</td><td>&quot;V&quot;</td><td>7.0</td><td>&quot;V&quot;</td><td>8.0</td><td>&quot;V&quot;</td><td>8.0</td><td>&quot;V&quot;</td><td>8.0</td><td>&quot;V&quot;</td><td>8.0</td><td>&quot;V&quot;</td><td>9.0</td><td>&quot;V&quot;</td><td>9.0</td><td>&quot;V&quot;</td><td>8.0</td><td>&quot;V&quot;</td><td>8.0</td><td>&quot;V&quot;</td><td>8.0</td><td>&quot;V&quot;</td><td>0.0</td><td>&quot;N&quot;</td></tr><tr><td>28</td><td>79</td><td>4</td><td>1</td><td>&quot;28079004_1_38&quot;</td><td>2016</td><td>5</td><td>7.0</td><td>&quot;V&quot;</td><td>8.0</td><td>&quot;V&quot;</td><td>9.0</td><td>&quot;V&quot;</td><td>9.0</td><td>&quot;V&quot;</td><td>8.0</td><td>&quot;V&quot;</td><td>8.0</td><td>&quot;V&quot;</td><td>7.0</td><td>&quot;V&quot;</td><td>7.0</td><td>&quot;V&quot;</td><td>7.0</td><td>&quot;V&quot;</td><td>8.0</td><td>&quot;V&quot;</td><td>7.0</td><td>&quot;V&quot;</td><td>7.0</td><td>&quot;V&quot;</td><td>7.0</td><td>&quot;V&quot;</td><td>7.0</td><td>&quot;V&quot;</td><td>7.0</td><td>&quot;V&quot;</td><td>7.0</td><td>&quot;V&quot;</td><td>7.0</td><td>&quot;V&quot;</td><td>8.0</td><td>&quot;V&quot;</td><td>7.0</td><td>&quot;V&quot;</td><td>8.0</td><td>&quot;V&quot;</td><td>7.0</td><td>&quot;V&quot;</td><td>7.0</td><td>&quot;V&quot;</td><td>7.0</td><td>&quot;V&quot;</td><td>8.0</td><td>&quot;V&quot;</td><td>7.0</td><td>&quot;V&quot;</td><td>7.0</td><td>&quot;V&quot;</td><td>7.0</td><td>&quot;V&quot;</td><td>7.0</td><td>&quot;V&quot;</td><td>7.0</td><td>&quot;V&quot;</td><td>7.0</td><td>&quot;V&quot;</td><td>7.0</td><td>&quot;V&quot;</td></tr><tr><td>28</td><td>79</td><td>4</td><td>1</td><td>&quot;28079004_1_38&quot;</td><td>2016</td><td>6</td><td>7.0</td><td>&quot;V&quot;</td><td>7.0</td><td>&quot;V&quot;</td><td>8.0</td><td>&quot;V&quot;</td><td>7.0</td><td>&quot;V&quot;</td><td>7.0</td><td>&quot;V&quot;</td><td>7.0</td><td>&quot;V&quot;</td><td>7.0</td><td>&quot;V&quot;</td><td>8.0</td><td>&quot;V&quot;</td><td>8.0</td><td>&quot;V&quot;</td><td>8.0</td><td>&quot;V&quot;</td><td>7.0</td><td>&quot;V&quot;</td><td>7.0</td><td>&quot;V&quot;</td><td>7.0</td><td>&quot;V&quot;</td><td>7.0</td><td>&quot;V&quot;</td><td>7.0</td><td>&quot;V&quot;</td><td>7.0</td><td>&quot;V&quot;</td><td>7.0</td><td>&quot;V&quot;</td><td>7.0</td><td>&quot;V&quot;</td><td>7.0</td><td>&quot;V&quot;</td><td>8.0</td><td>&quot;V&quot;</td><td>7.0</td><td>&quot;V&quot;</td><td>7.0</td><td>&quot;V&quot;</td><td>7.0</td><td>&quot;V&quot;</td><td>8.0</td><td>&quot;V&quot;</td><td>7.0</td><td>&quot;V&quot;</td><td>7.0</td><td>&quot;V&quot;</td><td>7.0</td><td>&quot;V&quot;</td><td>7.0</td><td>&quot;V&quot;</td><td>8.0</td><td>&quot;V&quot;</td><td>8.0</td><td>&quot;V&quot;</td><td>0.0</td><td>&quot;N&quot;</td></tr><tr><td>28</td><td>79</td><td>4</td><td>1</td><td>&quot;28079004_1_38&quot;</td><td>2016</td><td>7</td><td>8.0</td><td>&quot;V&quot;</td><td>7.0</td><td>&quot;V&quot;</td><td>7.0</td><td>&quot;V&quot;</td><td>7.0</td><td>&quot;V&quot;</td><td>7.0</td><td>&quot;V&quot;</td><td>7.0</td><td>&quot;V&quot;</td><td>7.0</td><td>&quot;V&quot;</td><td>7.0</td><td>&quot;V&quot;</td><td>7.0</td><td>&quot;V&quot;</td><td>6.0</td><td>&quot;V&quot;</td><td>7.0</td><td>&quot;V&quot;</td><td>7.0</td><td>&quot;V&quot;</td><td>7.0</td><td>&quot;V&quot;</td><td>7.0</td><td>&quot;V&quot;</td><td>7.0</td><td>&quot;V&quot;</td><td>7.0</td><td>&quot;V&quot;</td><td>7.0</td><td>&quot;V&quot;</td><td>7.0</td><td>&quot;V&quot;</td><td>7.0</td><td>&quot;V&quot;</td><td>7.0</td><td>&quot;V&quot;</td><td>8.0</td><td>&quot;V&quot;</td><td>7.0</td><td>&quot;V&quot;</td><td>7.0</td><td>&quot;V&quot;</td><td>7.0</td><td>&quot;V&quot;</td><td>7.0</td><td>&quot;V&quot;</td><td>7.0</td><td>&quot;V&quot;</td><td>7.0</td><td>&quot;V&quot;</td><td>7.0</td><td>&quot;V&quot;</td><td>7.0</td><td>&quot;V&quot;</td><td>7.0</td><td>&quot;V&quot;</td><td>7.0</td><td>&quot;V&quot;</td></tr><tr><td>28</td><td>79</td><td>4</td><td>1</td><td>&quot;28079004_1_38&quot;</td><td>2016</td><td>8</td><td>7.0</td><td>&quot;V&quot;</td><td>7.0</td><td>&quot;V&quot;</td><td>7.0</td><td>&quot;V&quot;</td><td>7.0</td><td>&quot;V&quot;</td><td>7.0</td><td>&quot;V&quot;</td><td>7.0</td><td>&quot;V&quot;</td><td>7.0</td><td>&quot;V&quot;</td><td>7.0</td><td>&quot;V&quot;</td><td>7.0</td><td>&quot;V&quot;</td><td>7.0</td><td>&quot;V&quot;</td><td>7.0</td><td>&quot;V&quot;</td><td>7.0</td><td>&quot;V&quot;</td><td>7.0</td><td>&quot;V&quot;</td><td>7.0</td><td>&quot;V&quot;</td><td>7.0</td><td>&quot;V&quot;</td><td>7.0</td><td>&quot;V&quot;</td><td>7.0</td><td>&quot;V&quot;</td><td>7.0</td><td>&quot;V&quot;</td><td>7.0</td><td>&quot;V&quot;</td><td>7.0</td><td>&quot;V&quot;</td><td>7.0</td><td>&quot;V&quot;</td><td>7.0</td><td>&quot;V&quot;</td><td>7.0</td><td>&quot;V&quot;</td><td>7.0</td><td>&quot;V&quot;</td><td>7.0</td><td>&quot;V&quot;</td><td>7.0</td><td>&quot;V&quot;</td><td>7.0</td><td>&quot;V&quot;</td><td>7.0</td><td>&quot;V&quot;</td><td>7.0</td><td>&quot;V&quot;</td><td>7.0</td><td>&quot;V&quot;</td><td>7.0</td><td>&quot;V&quot;</td></tr><tr><td>28</td><td>79</td><td>4</td><td>1</td><td>&quot;28079004_1_38&quot;</td><td>2016</td><td>9</td><td>7.0</td><td>&quot;V&quot;</td><td>8.0</td><td>&quot;V&quot;</td><td>8.0</td><td>&quot;V&quot;</td><td>8.0</td><td>&quot;V&quot;</td><td>9.0</td><td>&quot;V&quot;</td><td>8.0</td><td>&quot;V&quot;</td><td>9.0</td><td>&quot;V&quot;</td><td>8.0</td><td>&quot;V&quot;</td><td>7.0</td><td>&quot;V&quot;</td><td>7.0</td><td>&quot;V&quot;</td><td>8.0</td><td>&quot;V&quot;</td><td>8.0</td><td>&quot;V&quot;</td><td>7.0</td><td>&quot;V&quot;</td><td>7.0</td><td>&quot;V&quot;</td><td>7.0</td><td>&quot;V&quot;</td><td>8.0</td><td>&quot;V&quot;</td><td>8.0</td><td>&quot;V&quot;</td><td>8.0</td><td>&quot;V&quot;</td><td>8.0</td><td>&quot;V&quot;</td><td>8.0</td><td>&quot;V&quot;</td><td>9.0</td><td>&quot;V&quot;</td><td>9.0</td><td>&quot;V&quot;</td><td>10.0</td><td>&quot;V&quot;</td><td>9.0</td><td>&quot;V&quot;</td><td>9.0</td><td>&quot;V&quot;</td><td>7.0</td><td>&quot;V&quot;</td><td>8.0</td><td>&quot;V&quot;</td><td>8.0</td><td>&quot;V&quot;</td><td>9.0</td><td>&quot;V&quot;</td><td>9.0</td><td>&quot;V&quot;</td><td>0.0</td><td>&quot;N&quot;</td></tr><tr><td>28</td><td>79</td><td>4</td><td>1</td><td>&quot;28079004_1_38&quot;</td><td>2016</td><td>10</td><td>9.0</td><td>&quot;V&quot;</td><td>8.0</td><td>&quot;V&quot;</td><td>10.0</td><td>&quot;V&quot;</td><td>10.0</td><td>&quot;V&quot;</td><td>10.0</td><td>&quot;V&quot;</td><td>10.0</td><td>&quot;V&quot;</td><td>10.0</td><td>&quot;V&quot;</td><td>12.0</td><td>&quot;V&quot;</td><td>9.0</td><td>&quot;V&quot;</td><td>9.0</td><td>&quot;V&quot;</td><td>9.0</td><td>&quot;V&quot;</td><td>8.0</td><td>&quot;V&quot;</td><td>8.0</td><td>&quot;V&quot;</td><td>8.0</td><td>&quot;V&quot;</td><td>9.0</td><td>&quot;V&quot;</td><td>10.0</td><td>&quot;V&quot;</td><td>9.0</td><td>&quot;V&quot;</td><td>8.0</td><td>&quot;V&quot;</td><td>8.0</td><td>&quot;V&quot;</td><td>9.0</td><td>&quot;V&quot;</td><td>6.0</td><td>&quot;V&quot;</td><td>2.0</td><td>&quot;V&quot;</td><td>2.0</td><td>&quot;V&quot;</td><td>2.0</td><td>&quot;V&quot;</td><td>3.0</td><td>&quot;V&quot;</td><td>5.0</td><td>&quot;V&quot;</td><td>5.0</td><td>&quot;V&quot;</td><td>4.0</td><td>&quot;V&quot;</td><td>4.0</td><td>&quot;V&quot;</td><td>6.0</td><td>&quot;V&quot;</td><td>7.0</td><td>&quot;V&quot;</td></tr><tr><td>28</td><td>79</td><td>4</td><td>1</td><td>&quot;28079004_1_38&quot;</td><td>2016</td><td>11</td><td>4.0</td><td>&quot;V&quot;</td><td>5.0</td><td>&quot;V&quot;</td><td>6.0</td><td>&quot;V&quot;</td><td>3.0</td><td>&quot;V&quot;</td><td>2.0</td><td>&quot;V&quot;</td><td>2.0</td><td>&quot;V&quot;</td><td>2.0</td><td>&quot;V&quot;</td><td>3.0</td><td>&quot;V&quot;</td><td>2.0</td><td>&quot;V&quot;</td><td>5.0</td><td>&quot;V&quot;</td><td>7.0</td><td>&quot;V&quot;</td><td>5.0</td><td>&quot;V&quot;</td><td>4.0</td><td>&quot;V&quot;</td><td>4.0</td><td>&quot;V&quot;</td><td>6.0</td><td>&quot;V&quot;</td><td>8.0</td><td>&quot;V&quot;</td><td>9.0</td><td>&quot;V&quot;</td><td>7.0</td><td>&quot;V&quot;</td><td>4.0</td><td>&quot;V&quot;</td><td>3.0</td><td>&quot;V&quot;</td><td>2.0</td><td>&quot;V&quot;</td><td>3.0</td><td>&quot;V&quot;</td><td>3.0</td><td>&quot;V&quot;</td><td>3.0</td><td>&quot;V&quot;</td><td>3.0</td><td>&quot;V&quot;</td><td>2.0</td><td>&quot;V&quot;</td><td>2.0</td><td>&quot;V&quot;</td><td>4.0</td><td>&quot;V&quot;</td><td>5.0</td><td>&quot;V&quot;</td><td>3.0</td><td>&quot;V&quot;</td><td>0.0</td><td>&quot;N&quot;</td></tr><tr><td>28</td><td>79</td><td>4</td><td>1</td><td>&quot;28079004_1_38&quot;</td><td>2016</td><td>12</td><td>3.0</td><td>&quot;V&quot;</td><td>5.0</td><td>&quot;V&quot;</td><td>4.0</td><td>&quot;V&quot;</td><td>2.0</td><td>&quot;V&quot;</td><td>3.0</td><td>&quot;V&quot;</td><td>4.0</td><td>&quot;V&quot;</td><td>7.0</td><td>&quot;V&quot;</td><td>6.0</td><td>&quot;V&quot;</td><td>8.0</td><td>&quot;V&quot;</td><td>7.0</td><td>&quot;V&quot;</td><td>7.0</td><td>&quot;V&quot;</td><td>9.0</td><td>&quot;V&quot;</td><td>11.0</td><td>&quot;V&quot;</td><td>7.0</td><td>&quot;V&quot;</td><td>5.0</td><td>&quot;V&quot;</td><td>5.0</td><td>&quot;V&quot;</td><td>5.0</td><td>&quot;V&quot;</td><td>6.0</td><td>&quot;V&quot;</td><td>7.0</td><td>&quot;V&quot;</td><td>10.0</td><td>&quot;V&quot;</td><td>12.0</td><td>&quot;V&quot;</td><td>13.0</td><td>&quot;V&quot;</td><td>12.0</td><td>&quot;V&quot;</td><td>8.0</td><td>&quot;V&quot;</td><td>9.0</td><td>&quot;V&quot;</td><td>15.0</td><td>&quot;V&quot;</td><td>17.0</td><td>&quot;V&quot;</td><td>13.0</td><td>&quot;V&quot;</td><td>13.0</td><td>&quot;V&quot;</td><td>12.0</td><td>&quot;V&quot;</td><td>7.0</td><td>&quot;V&quot;</td></tr><tr><td>&hellip;</td><td>&hellip;</td><td>&hellip;</td><td>&hellip;</td><td>&hellip;</td><td>&hellip;</td><td>&hellip;</td><td>&hellip;</td><td>&hellip;</td><td>&hellip;</td><td>&hellip;</td><td>&hellip;</td><td>&hellip;</td><td>&hellip;</td><td>&hellip;</td><td>&hellip;</td><td>&hellip;</td><td>&hellip;</td><td>&hellip;</td><td>&hellip;</td><td>&hellip;</td><td>&hellip;</td><td>&hellip;</td><td>&hellip;</td><td>&hellip;</td><td>&hellip;</td><td>&hellip;</td><td>&hellip;</td><td>&hellip;</td><td>&hellip;</td><td>&hellip;</td><td>&hellip;</td><td>&hellip;</td><td>&hellip;</td><td>&hellip;</td><td>&hellip;</td><td>&hellip;</td><td>&hellip;</td><td>&hellip;</td><td>&hellip;</td><td>&hellip;</td><td>&hellip;</td><td>&hellip;</td><td>&hellip;</td><td>&hellip;</td><td>&hellip;</td><td>&hellip;</td><td>&hellip;</td><td>&hellip;</td><td>&hellip;</td><td>&hellip;</td><td>&hellip;</td><td>&hellip;</td><td>&hellip;</td><td>&hellip;</td><td>&hellip;</td><td>&hellip;</td><td>&hellip;</td><td>&hellip;</td><td>&hellip;</td><td>&hellip;</td><td>&hellip;</td><td>&hellip;</td><td>&hellip;</td><td>&hellip;</td><td>&hellip;</td><td>&hellip;</td><td>&hellip;</td><td>&hellip;</td></tr><tr><td>28</td><td>79</td><td>60</td><td>14</td><td>&quot;28079060_14_6&quot;</td><td>2019</td><td>1</td><td>14.0</td><td>&quot;V&quot;</td><td>11.0</td><td>&quot;V&quot;</td><td>23.0</td><td>&quot;V&quot;</td><td>9.0</td><td>&quot;V&quot;</td><td>9.0</td><td>&quot;V&quot;</td><td>11.0</td><td>&quot;V&quot;</td><td>16.0</td><td>&quot;V&quot;</td><td>14.0</td><td>&quot;V&quot;</td><td>22.0</td><td>&quot;V&quot;</td><td>46.0</td><td>&quot;V&quot;</td><td>16.0</td><td>&quot;V&quot;</td><td>19.0</td><td>&quot;V&quot;</td><td>15.0</td><td>&quot;V&quot;</td><td>4.0</td><td>&quot;V&quot;</td><td>21.0</td><td>&quot;V&quot;</td><td>18.0</td><td>&quot;V&quot;</td><td>14.0</td><td>&quot;V&quot;</td><td>17.0</td><td>&quot;V&quot;</td><td>12.0</td><td>&quot;V&quot;</td><td>39.0</td><td>&quot;V&quot;</td><td>41.0</td><td>&quot;V&quot;</td><td>29.0</td><td>&quot;V&quot;</td><td>70.0</td><td>&quot;V&quot;</td><td>48.0</td><td>&quot;V&quot;</td><td>40.0</td><td>&quot;V&quot;</td><td>22.0</td><td>&quot;V&quot;</td><td>63.0</td><td>&quot;V&quot;</td><td>66.0</td><td>&quot;V&quot;</td><td>63.0</td><td>&quot;V&quot;</td><td>66.0</td><td>&quot;V&quot;</td><td>56.0</td><td>&quot;V&quot;</td></tr><tr><td>28</td><td>79</td><td>60</td><td>14</td><td>&quot;28079060_14_6&quot;</td><td>2019</td><td>2</td><td>70.0</td><td>&quot;V&quot;</td><td>74.0</td><td>&quot;V&quot;</td><td>54.0</td><td>&quot;V&quot;</td><td>9.0</td><td>&quot;V&quot;</td><td>14.0</td><td>&quot;V&quot;</td><td>17.0</td><td>&quot;V&quot;</td><td>17.0</td><td>&quot;V&quot;</td><td>30.0</td><td>&quot;V&quot;</td><td>28.0</td><td>&quot;V&quot;</td><td>51.0</td><td>&quot;V&quot;</td><td>57.0</td><td>&quot;V&quot;</td><td>41.0</td><td>&quot;V&quot;</td><td>29.0</td><td>&quot;V&quot;</td><td>29.0</td><td>&quot;V&quot;</td><td>23.0</td><td>&quot;V&quot;</td><td>48.0</td><td>&quot;V&quot;</td><td>43.0</td><td>&quot;V&quot;</td><td>34.0</td><td>&quot;V&quot;</td><td>30.0</td><td>&quot;V&quot;</td><td>29.0</td><td>&quot;V&quot;</td><td>31.0</td><td>&quot;V&quot;</td><td>32.0</td><td>&quot;V&quot;</td><td>30.0</td><td>&quot;V&quot;</td><td>52.0</td><td>&quot;V&quot;</td><td>29.0</td><td>&quot;V&quot;</td><td>36.0</td><td>&quot;V&quot;</td><td>31.0</td><td>&quot;V&quot;</td><td>27.0</td><td>&quot;V&quot;</td><td>0.0</td><td>&quot;N&quot;</td><td>0.0</td><td>&quot;N&quot;</td><td>0.0</td><td>&quot;N&quot;</td></tr><tr><td>28</td><td>79</td><td>60</td><td>14</td><td>&quot;28079060_14_6&quot;</td><td>2019</td><td>3</td><td>56.0</td><td>&quot;V&quot;</td><td>40.0</td><td>&quot;V&quot;</td><td>54.0</td><td>&quot;V&quot;</td><td>64.0</td><td>&quot;V&quot;</td><td>63.0</td><td>&quot;V&quot;</td><td>58.0</td><td>&quot;V&quot;</td><td>68.0</td><td>&quot;V&quot;</td><td>51.0</td><td>&quot;V&quot;</td><td>43.0</td><td>&quot;V&quot;</td><td>31.0</td><td>&quot;V&quot;</td><td>37.0</td><td>&quot;V&quot;</td><td>49.0</td><td>&quot;V&quot;</td><td>67.0</td><td>&quot;V&quot;</td><td>53.0</td><td>&quot;V&quot;</td><td>38.0</td><td>&quot;V&quot;</td><td>67.0</td><td>&quot;N&quot;</td><td>73.0</td><td>&quot;V&quot;</td><td>82.0</td><td>&quot;V&quot;</td><td>82.0</td><td>&quot;V&quot;</td><td>79.0</td><td>&quot;V&quot;</td><td>64.0</td><td>&quot;V&quot;</td><td>67.0</td><td>&quot;V&quot;</td><td>63.0</td><td>&quot;V&quot;</td><td>70.0</td><td>&quot;V&quot;</td><td>81.0</td><td>&quot;V&quot;</td><td>94.0</td><td>&quot;V&quot;</td><td>67.0</td><td>&quot;V&quot;</td><td>68.0</td><td>&quot;V&quot;</td><td>80.0</td><td>&quot;V&quot;</td><td>95.0</td><td>&quot;V&quot;</td><td>80.0</td><td>&quot;V&quot;</td></tr><tr><td>28</td><td>79</td><td>60</td><td>14</td><td>&quot;28079060_14_6&quot;</td><td>2019</td><td>4</td><td>54.0</td><td>&quot;V&quot;</td><td>53.0</td><td>&quot;V&quot;</td><td>82.0</td><td>&quot;V&quot;</td><td>86.0</td><td>&quot;V&quot;</td><td>77.0</td><td>&quot;V&quot;</td><td>81.0</td><td>&quot;V&quot;</td><td>86.0</td><td>&quot;V&quot;</td><td>67.0</td><td>&quot;V&quot;</td><td>75.0</td><td>&quot;V&quot;</td><td>85.0</td><td>&quot;V&quot;</td><td>82.0</td><td>&quot;V&quot;</td><td>77.0</td><td>&quot;V&quot;</td><td>77.0</td><td>&quot;V&quot;</td><td>61.0</td><td>&quot;V&quot;</td><td>51.0</td><td>&quot;V&quot;</td><td>79.0</td><td>&quot;V&quot;</td><td>89.0</td><td>&quot;V&quot;</td><td>103.0</td><td>&quot;V&quot;</td><td>85.0</td><td>&quot;V&quot;</td><td>109.0</td><td>&quot;V&quot;</td><td>108.0</td><td>&quot;V&quot;</td><td>88.0</td><td>&quot;V&quot;</td><td>93.0</td><td>&quot;V&quot;</td><td>65.0</td><td>&quot;V&quot;</td><td>79.0</td><td>&quot;V&quot;</td><td>79.0</td><td>&quot;V&quot;</td><td>60.0</td><td>&quot;V&quot;</td><td>76.0</td><td>&quot;V&quot;</td><td>69.0</td><td>&quot;V&quot;</td><td>71.0</td><td>&quot;V&quot;</td><td>0.0</td><td>&quot;N&quot;</td></tr><tr><td>28</td><td>79</td><td>60</td><td>14</td><td>&quot;28079060_14_6&quot;</td><td>2019</td><td>5</td><td>87.0</td><td>&quot;V&quot;</td><td>95.0</td><td>&quot;V&quot;</td><td>79.0</td><td>&quot;V&quot;</td><td>93.0</td><td>&quot;V&quot;</td><td>94.0</td><td>&quot;V&quot;</td><td>77.0</td><td>&quot;V&quot;</td><td>72.0</td><td>&quot;V&quot;</td><td>63.0</td><td>&quot;V&quot;</td><td>67.0</td><td>&quot;V&quot;</td><td>41.0</td><td>&quot;V&quot;</td><td>78.0</td><td>&quot;V&quot;</td><td>92.0</td><td>&quot;V&quot;</td><td>89.0</td><td>&quot;V&quot;</td><td>97.0</td><td>&quot;V&quot;</td><td>75.0</td><td>&quot;V&quot;</td><td>79.0</td><td>&quot;V&quot;</td><td>87.0</td><td>&quot;V&quot;</td><td>81.0</td><td>&quot;V&quot;</td><td>86.0</td><td>&quot;V&quot;</td><td>85.0</td><td>&quot;V&quot;</td><td>91.0</td><td>&quot;V&quot;</td><td>88.0</td><td>&quot;V&quot;</td><td>75.0</td><td>&quot;V&quot;</td><td>80.0</td><td>&quot;V&quot;</td><td>76.0</td><td>&quot;V&quot;</td><td>72.0</td><td>&quot;V&quot;</td><td>58.0</td><td>&quot;V&quot;</td><td>76.0</td><td>&quot;V&quot;</td><td>74.0</td><td>&quot;V&quot;</td><td>66.0</td><td>&quot;V&quot;</td><td>85.0</td><td>&quot;V&quot;</td></tr><tr><td>28</td><td>79</td><td>60</td><td>14</td><td>&quot;28079060_14_6&quot;</td><td>2019</td><td>6</td><td>92.0</td><td>&quot;V&quot;</td><td>98.0</td><td>&quot;V&quot;</td><td>79.0</td><td>&quot;V&quot;</td><td>72.0</td><td>&quot;V&quot;</td><td>74.0</td><td>&quot;V&quot;</td><td>81.0</td><td>&quot;V&quot;</td><td>84.0</td><td>&quot;V&quot;</td><td>95.0</td><td>&quot;V&quot;</td><td>86.0</td><td>&quot;V&quot;</td><td>81.0</td><td>&quot;V&quot;</td><td>83.0</td><td>&quot;V&quot;</td><td>78.0</td><td>&quot;V&quot;</td><td>84.0</td><td>&quot;V&quot;</td><td>90.0</td><td>&quot;V&quot;</td><td>94.0</td><td>&quot;V&quot;</td><td>88.0</td><td>&quot;V&quot;</td><td>78.0</td><td>&quot;V&quot;</td><td>85.0</td><td>&quot;V&quot;</td><td>68.0</td><td>&quot;V&quot;</td><td>64.0</td><td>&quot;V&quot;</td><td>81.0</td><td>&quot;V&quot;</td><td>88.0</td><td>&quot;V&quot;</td><td>79.0</td><td>&quot;V&quot;</td><td>77.0</td><td>&quot;V&quot;</td><td>68.0</td><td>&quot;V&quot;</td><td>75.0</td><td>&quot;V&quot;</td><td>91.0</td><td>&quot;V&quot;</td><td>94.0</td><td>&quot;V&quot;</td><td>108.0</td><td>&quot;V&quot;</td><td>106.0</td><td>&quot;V&quot;</td><td>0.0</td><td>&quot;N&quot;</td></tr><tr><td>28</td><td>79</td><td>60</td><td>14</td><td>&quot;28079060_14_6&quot;</td><td>2019</td><td>7</td><td>94.0</td><td>&quot;V&quot;</td><td>110.0</td><td>&quot;V&quot;</td><td>103.0</td><td>&quot;V&quot;</td><td>106.0</td><td>&quot;V&quot;</td><td>93.0</td><td>&quot;V&quot;</td><td>79.0</td><td>&quot;V&quot;</td><td>90.0</td><td>&quot;V&quot;</td><td>85.0</td><td>&quot;V&quot;</td><td>93.0</td><td>&quot;V&quot;</td><td>94.0</td><td>&quot;V&quot;</td><td>97.0</td><td>&quot;V&quot;</td><td>90.0</td><td>&quot;V&quot;</td><td>93.0</td><td>&quot;V&quot;</td><td>96.0</td><td>&quot;V&quot;</td><td>103.0</td><td>&quot;V&quot;</td><td>111.0</td><td>&quot;V&quot;</td><td>97.0</td><td>&quot;V&quot;</td><td>119.0</td><td>&quot;V&quot;</td><td>107.0</td><td>&quot;V&quot;</td><td>115.0</td><td>&quot;V&quot;</td><td>107.0</td><td>&quot;V&quot;</td><td>93.0</td><td>&quot;V&quot;</td><td>105.0</td><td>&quot;V&quot;</td><td>112.0</td><td>&quot;V&quot;</td><td>98.0</td><td>&quot;V&quot;</td><td>80.0</td><td>&quot;V&quot;</td><td>81.0</td><td>&quot;V&quot;</td><td>79.0</td><td>&quot;V&quot;</td><td>76.0</td><td>&quot;V&quot;</td><td>99.0</td><td>&quot;V&quot;</td><td>92.0</td><td>&quot;V&quot;</td></tr><tr><td>28</td><td>79</td><td>60</td><td>14</td><td>&quot;28079060_14_6&quot;</td><td>2019</td><td>8</td><td>94.0</td><td>&quot;V&quot;</td><td>104.0</td><td>&quot;V&quot;</td><td>106.0</td><td>&quot;V&quot;</td><td>99.0</td><td>&quot;V&quot;</td><td>77.0</td><td>&quot;V&quot;</td><td>82.0</td><td>&quot;V&quot;</td><td>68.0</td><td>&quot;V&quot;</td><td>71.0</td><td>&quot;V&quot;</td><td>44.0</td><td>&quot;V&quot;</td><td>82.0</td><td>&quot;V&quot;</td><td>97.0</td><td>&quot;V&quot;</td><td>87.0</td><td>&quot;V&quot;</td><td>89.0</td><td>&quot;V&quot;</td><td>89.0</td><td>&quot;V&quot;</td><td>93.0</td><td>&quot;V&quot;</td><td>89.0</td><td>&quot;V&quot;</td><td>82.0</td><td>&quot;V&quot;</td><td>82.0</td><td>&quot;V&quot;</td><td>65.0</td><td>&quot;V&quot;</td><td>77.0</td><td>&quot;V&quot;</td><td>87.0</td><td>&quot;V&quot;</td><td>86.0</td><td>&quot;V&quot;</td><td>97.0</td><td>&quot;V&quot;</td><td>104.0</td><td>&quot;V&quot;</td><td>96.0</td><td>&quot;V&quot;</td><td>85.0</td><td>&quot;V&quot;</td><td>88.0</td><td>&quot;V&quot;</td><td>90.0</td><td>&quot;V&quot;</td><td>99.0</td><td>&quot;V&quot;</td><td>108.0</td><td>&quot;V&quot;</td><td>98.0</td><td>&quot;V&quot;</td></tr><tr><td>28</td><td>79</td><td>60</td><td>14</td><td>&quot;28079060_14_6&quot;</td><td>2019</td><td>9</td><td>88.0</td><td>&quot;V&quot;</td><td>82.0</td><td>&quot;V&quot;</td><td>80.0</td><td>&quot;V&quot;</td><td>92.0</td><td>&quot;V&quot;</td><td>79.0</td><td>&quot;V&quot;</td><td>75.0</td><td>&quot;V&quot;</td><td>86.0</td><td>&quot;V&quot;</td><td>87.0</td><td>&quot;V&quot;</td><td>69.0</td><td>&quot;V&quot;</td><td>68.0</td><td>&quot;V&quot;</td><td>89.0</td><td>&quot;V&quot;</td><td>85.0</td><td>&quot;V&quot;</td><td>82.0</td><td>&quot;V&quot;</td><td>72.0</td><td>&quot;V&quot;</td><td>59.0</td><td>&quot;V&quot;</td><td>64.0</td><td>&quot;V&quot;</td><td>76.0</td><td>&quot;V&quot;</td><td>77.0</td><td>&quot;V&quot;</td><td>79.0</td><td>&quot;V&quot;</td><td>69.0</td><td>&quot;V&quot;</td><td>59.0</td><td>&quot;V&quot;</td><td>59.0</td><td>&quot;V&quot;</td><td>46.0</td><td>&quot;V&quot;</td><td>49.0</td><td>&quot;V&quot;</td><td>69.0</td><td>&quot;V&quot;</td><td>57.0</td><td>&quot;V&quot;</td><td>54.0</td><td>&quot;V&quot;</td><td>68.0</td><td>&quot;V&quot;</td><td>70.0</td><td>&quot;V&quot;</td><td>55.0</td><td>&quot;V&quot;</td><td>0.0</td><td>&quot;N&quot;</td></tr><tr><td>28</td><td>79</td><td>60</td><td>14</td><td>&quot;28079060_14_6&quot;</td><td>2019</td><td>10</td><td>44.0</td><td>&quot;V&quot;</td><td>75.0</td><td>&quot;V&quot;</td><td>44.0</td><td>&quot;V&quot;</td><td>54.0</td><td>&quot;V&quot;</td><td>65.0</td><td>&quot;V&quot;</td><td>68.0</td><td>&quot;V&quot;</td><td>36.0</td><td>&quot;V&quot;</td><td>49.0</td><td>&quot;V&quot;</td><td>50.0</td><td>&quot;V&quot;</td><td>60.0</td><td>&quot;V&quot;</td><td>46.0</td><td>&quot;V&quot;</td><td>55.0</td><td>&quot;V&quot;</td><td>58.0</td><td>&quot;V&quot;</td><td>57.0</td><td>&quot;V&quot;</td><td>60.0</td><td>&quot;V&quot;</td><td>48.0</td><td>&quot;V&quot;</td><td>38.0</td><td>&quot;V&quot;</td><td>47.0</td><td>&quot;V&quot;</td><td>64.0</td><td>&quot;V&quot;</td><td>63.0</td><td>&quot;V&quot;</td><td>36.0</td><td>&quot;V&quot;</td><td>37.0</td><td>&quot;V&quot;</td><td>39.0</td><td>&quot;V&quot;</td><td>45.0</td><td>&quot;V&quot;</td><td>21.0</td><td>&quot;V&quot;</td><td>23.0</td><td>&quot;V&quot;</td><td>28.0</td><td>&quot;V&quot;</td><td>33.0</td><td>&quot;V&quot;</td><td>16.0</td><td>&quot;V&quot;</td><td>19.0</td><td>&quot;V&quot;</td><td>47.0</td><td>&quot;V&quot;</td></tr><tr><td>28</td><td>79</td><td>60</td><td>14</td><td>&quot;28079060_14_6&quot;</td><td>2019</td><td>11</td><td>41.0</td><td>&quot;V&quot;</td><td>55.0</td><td>&quot;V&quot;</td><td>79.0</td><td>&quot;V&quot;</td><td>65.0</td><td>&quot;V&quot;</td><td>64.0</td><td>&quot;V&quot;</td><td>51.0</td><td>&quot;V&quot;</td><td>62.0</td><td>&quot;V&quot;</td><td>66.0</td><td>&quot;V&quot;</td><td>63.0</td><td>&quot;V&quot;</td><td>62.0</td><td>&quot;V&quot;</td><td>42.0</td><td>&quot;V&quot;</td><td>44.0</td><td>&quot;V&quot;</td><td>50.0</td><td>&quot;V&quot;</td><td>66.0</td><td>&quot;V&quot;</td><td>56.0</td><td>&quot;V&quot;</td><td>52.0</td><td>&quot;V&quot;</td><td>58.0</td><td>&quot;V&quot;</td><td>39.0</td><td>&quot;V&quot;</td><td>15.0</td><td>&quot;V&quot;</td><td>11.0</td><td>&quot;V&quot;</td><td>28.0</td><td>&quot;V&quot;</td><td>38.0</td><td>&quot;V&quot;</td><td>75.0</td><td>&quot;V&quot;</td><td>69.0</td><td>&quot;V&quot;</td><td>45.0</td><td>&quot;V&quot;</td><td>35.0</td><td>&quot;V&quot;</td><td>55.0</td><td>&quot;V&quot;</td><td>52.0</td><td>&quot;V&quot;</td><td>47.0</td><td>&quot;V&quot;</td><td>56.0</td><td>&quot;V&quot;</td><td>0.0</td><td>&quot;N&quot;</td></tr><tr><td>28</td><td>79</td><td>60</td><td>14</td><td>&quot;28079060_14_6&quot;</td><td>2019</td><td>12</td><td>47.0</td><td>&quot;V&quot;</td><td>53.0</td><td>&quot;V&quot;</td><td>45.0</td><td>&quot;V&quot;</td><td>44.0</td><td>&quot;V&quot;</td><td>49.0</td><td>&quot;V&quot;</td><td>41.0</td><td>&quot;V&quot;</td><td>31.0</td><td>&quot;V&quot;</td><td>9.0</td><td>&quot;V&quot;</td><td>22.0</td><td>&quot;V&quot;</td><td>8.0</td><td>&quot;V&quot;</td><td>9.0</td><td>&quot;N&quot;</td><td>104.0</td><td>&quot;N&quot;</td><td>51.0</td><td>&quot;V&quot;</td><td>41.0</td><td>&quot;V&quot;</td><td>33.0</td><td>&quot;V&quot;</td><td>28.0</td><td>&quot;V&quot;</td><td>27.0</td><td>&quot;V&quot;</td><td>21.0</td><td>&quot;V&quot;</td><td>33.0</td><td>&quot;V&quot;</td><td>59.0</td><td>&quot;V&quot;</td><td>61.0</td><td>&quot;V&quot;</td><td>68.0</td><td>&quot;V&quot;</td><td>36.0</td><td>&quot;V&quot;</td><td>9.0</td><td>&quot;V&quot;</td><td>11.0</td><td>&quot;V&quot;</td><td>10.0</td><td>&quot;V&quot;</td><td>17.0</td><td>&quot;V&quot;</td><td>13.0</td><td>&quot;V&quot;</td><td>14.0</td><td>&quot;V&quot;</td><td>5.0</td><td>&quot;V&quot;</td><td>4.0</td><td>&quot;V&quot;</td></tr></tbody></table></div>"
      ],
      "text/plain": [
       "shape: (7_266, 69)\n",
       "┌───────────┬───────────┬──────────┬──────────┬───┬──────┬─────┬──────┬─────┐\n",
       "│ PROVINCIA ┆ MUNICIPIO ┆ ESTACION ┆ MAGNITUD ┆ … ┆ D30  ┆ V30 ┆ D31  ┆ V31 │\n",
       "│ ---       ┆ ---       ┆ ---      ┆ ---      ┆   ┆ ---  ┆ --- ┆ ---  ┆ --- │\n",
       "│ i64       ┆ i64       ┆ i64      ┆ i64      ┆   ┆ f64  ┆ str ┆ f64  ┆ str │\n",
       "╞═══════════╪═══════════╪══════════╪══════════╪═══╪══════╪═════╪══════╪═════╡\n",
       "│ 28        ┆ 79        ┆ 4        ┆ 1        ┆ … ┆ 9.0  ┆ V   ┆ 9.0  ┆ V   │\n",
       "│ 28        ┆ 79        ┆ 4        ┆ 1        ┆ … ┆ 0.0  ┆ N   ┆ 0.0  ┆ N   │\n",
       "│ 28        ┆ 79        ┆ 4        ┆ 1        ┆ … ┆ 10.0 ┆ V   ┆ 8.0  ┆ V   │\n",
       "│ 28        ┆ 79        ┆ 4        ┆ 1        ┆ … ┆ 8.0  ┆ V   ┆ 0.0  ┆ N   │\n",
       "│ …         ┆ …         ┆ …        ┆ …        ┆ … ┆ …    ┆ …   ┆ …    ┆ …   │\n",
       "│ 28        ┆ 79        ┆ 60       ┆ 14       ┆ … ┆ 55.0 ┆ V   ┆ 0.0  ┆ N   │\n",
       "│ 28        ┆ 79        ┆ 60       ┆ 14       ┆ … ┆ 19.0 ┆ V   ┆ 47.0 ┆ V   │\n",
       "│ 28        ┆ 79        ┆ 60       ┆ 14       ┆ … ┆ 56.0 ┆ V   ┆ 0.0  ┆ N   │\n",
       "│ 28        ┆ 79        ┆ 60       ┆ 14       ┆ … ┆ 5.0  ┆ V   ┆ 4.0  ┆ V   │\n",
       "└───────────┴───────────┴──────────┴──────────┴───┴──────┴─────┴──────┴─────┘"
      ]
     },
     "execution_count": 41,
     "metadata": {},
     "output_type": "execute_result"
    }
   ],
   "source": [
    "import polars as pl\n",
    "d16=pl.read_csv(\"emisiones-2016.csv\",separator=';')\n",
    "d17=pl.read_csv(\"emisiones-2017.csv\",separator=';')\n",
    "d18=pl.read_csv(\"emisiones-2018.csv\",separator=';')\n",
    "d19=pl.read_csv(\"emisiones-2019.csv\",separator=';')\n",
    "\n",
    "datos=pl.concat([d16,d17,d18,d19])\n",
    "datos"
   ]
  },
  {
   "cell_type": "markdown",
   "id": "7485b4be",
   "metadata": {},
   "source": [
    "### Filtrar las columnas del DataFrame para quedarse únicamente con las columnas de ESTACION, MAGNITUD, AÑO, MES y las correspondientes a todos los días D01, D02, ... \n",
    "Hint: **df.select(...)** "
   ]
  },
  {
   "cell_type": "code",
   "execution_count": 42,
   "id": "d13feb14",
   "metadata": {},
   "outputs": [
    {
     "data": {
      "text/html": [
       "<div><style>\n",
       ".dataframe > thead > tr > th,\n",
       ".dataframe > tbody > tr > td {\n",
       "  text-align: right;\n",
       "}\n",
       "</style>\n",
       "<small>shape: (7266, 35)</small><table border=\"1\" class=\"dataframe\"><thead><tr><th>ESTACION</th><th>MAGNITUD</th><th>ANO</th><th>MES</th><th>D01</th><th>D02</th><th>D03</th><th>D04</th><th>D05</th><th>D06</th><th>D07</th><th>D08</th><th>D09</th><th>D10</th><th>D11</th><th>D12</th><th>D13</th><th>D14</th><th>D15</th><th>D16</th><th>D17</th><th>D18</th><th>D19</th><th>D20</th><th>D21</th><th>D22</th><th>D23</th><th>D24</th><th>D25</th><th>D26</th><th>D27</th><th>D28</th><th>D29</th><th>D30</th><th>D31</th></tr><tr><td>i64</td><td>i64</td><td>i64</td><td>i64</td><td>f64</td><td>f64</td><td>f64</td><td>f64</td><td>f64</td><td>f64</td><td>f64</td><td>f64</td><td>f64</td><td>f64</td><td>f64</td><td>f64</td><td>f64</td><td>f64</td><td>f64</td><td>f64</td><td>f64</td><td>f64</td><td>f64</td><td>f64</td><td>f64</td><td>f64</td><td>f64</td><td>f64</td><td>f64</td><td>f64</td><td>f64</td><td>f64</td><td>f64</td><td>f64</td><td>f64</td></tr></thead><tbody><tr><td>4</td><td>1</td><td>2016</td><td>1</td><td>8.0</td><td>7.0</td><td>6.0</td><td>6.0</td><td>7.0</td><td>6.0</td><td>6.0</td><td>6.0</td><td>6.0</td><td>6.0</td><td>6.0</td><td>7.0</td><td>11.0</td><td>8.0</td><td>8.0</td><td>9.0</td><td>9.0</td><td>8.0</td><td>11.0</td><td>10.0</td><td>9.0</td><td>10.0</td><td>11.0</td><td>11.0</td><td>13.0</td><td>12.0</td><td>9.0</td><td>7.0</td><td>8.0</td><td>9.0</td><td>9.0</td></tr><tr><td>4</td><td>1</td><td>2016</td><td>2</td><td>12.0</td><td>13.0</td><td>9.0</td><td>9.0</td><td>11.0</td><td>9.0</td><td>7.0</td><td>7.0</td><td>7.0</td><td>7.0</td><td>7.0</td><td>7.0</td><td>7.0</td><td>7.0</td><td>7.0</td><td>8.0</td><td>8.0</td><td>7.0</td><td>9.0</td><td>11.0</td><td>10.0</td><td>11.0</td><td>10.0</td><td>9.0</td><td>8.0</td><td>7.0</td><td>7.0</td><td>8.0</td><td>9.0</td><td>0.0</td><td>0.0</td></tr><tr><td>4</td><td>1</td><td>2016</td><td>3</td><td>11.0</td><td>10.0</td><td>9.0</td><td>9.0</td><td>7.0</td><td>8.0</td><td>8.0</td><td>8.0</td><td>9.0</td><td>8.0</td><td>9.0</td><td>9.0</td><td>9.0</td><td>8.0</td><td>9.0</td><td>11.0</td><td>10.0</td><td>9.0</td><td>7.0</td><td>7.0</td><td>8.0</td><td>8.0</td><td>8.0</td><td>9.0</td><td>9.0</td><td>9.0</td><td>8.0</td><td>7.0</td><td>8.0</td><td>10.0</td><td>8.0</td></tr><tr><td>4</td><td>1</td><td>2016</td><td>4</td><td>8.0</td><td>9.0</td><td>9.0</td><td>8.0</td><td>8.0</td><td>9.0</td><td>9.0</td><td>8.0</td><td>8.0</td><td>7.0</td><td>7.0</td><td>8.0</td><td>8.0</td><td>8.0</td><td>9.0</td><td>7.0</td><td>7.0</td><td>8.0</td><td>8.0</td><td>8.0</td><td>7.0</td><td>8.0</td><td>8.0</td><td>8.0</td><td>8.0</td><td>9.0</td><td>9.0</td><td>8.0</td><td>8.0</td><td>8.0</td><td>0.0</td></tr><tr><td>4</td><td>1</td><td>2016</td><td>5</td><td>7.0</td><td>8.0</td><td>9.0</td><td>9.0</td><td>8.0</td><td>8.0</td><td>7.0</td><td>7.0</td><td>7.0</td><td>8.0</td><td>7.0</td><td>7.0</td><td>7.0</td><td>7.0</td><td>7.0</td><td>7.0</td><td>7.0</td><td>8.0</td><td>7.0</td><td>8.0</td><td>7.0</td><td>7.0</td><td>7.0</td><td>8.0</td><td>7.0</td><td>7.0</td><td>7.0</td><td>7.0</td><td>7.0</td><td>7.0</td><td>7.0</td></tr><tr><td>4</td><td>1</td><td>2016</td><td>6</td><td>7.0</td><td>7.0</td><td>8.0</td><td>7.0</td><td>7.0</td><td>7.0</td><td>7.0</td><td>8.0</td><td>8.0</td><td>8.0</td><td>7.0</td><td>7.0</td><td>7.0</td><td>7.0</td><td>7.0</td><td>7.0</td><td>7.0</td><td>7.0</td><td>7.0</td><td>8.0</td><td>7.0</td><td>7.0</td><td>7.0</td><td>8.0</td><td>7.0</td><td>7.0</td><td>7.0</td><td>7.0</td><td>8.0</td><td>8.0</td><td>0.0</td></tr><tr><td>4</td><td>1</td><td>2016</td><td>7</td><td>8.0</td><td>7.0</td><td>7.0</td><td>7.0</td><td>7.0</td><td>7.0</td><td>7.0</td><td>7.0</td><td>7.0</td><td>6.0</td><td>7.0</td><td>7.0</td><td>7.0</td><td>7.0</td><td>7.0</td><td>7.0</td><td>7.0</td><td>7.0</td><td>7.0</td><td>7.0</td><td>8.0</td><td>7.0</td><td>7.0</td><td>7.0</td><td>7.0</td><td>7.0</td><td>7.0</td><td>7.0</td><td>7.0</td><td>7.0</td><td>7.0</td></tr><tr><td>4</td><td>1</td><td>2016</td><td>8</td><td>7.0</td><td>7.0</td><td>7.0</td><td>7.0</td><td>7.0</td><td>7.0</td><td>7.0</td><td>7.0</td><td>7.0</td><td>7.0</td><td>7.0</td><td>7.0</td><td>7.0</td><td>7.0</td><td>7.0</td><td>7.0</td><td>7.0</td><td>7.0</td><td>7.0</td><td>7.0</td><td>7.0</td><td>7.0</td><td>7.0</td><td>7.0</td><td>7.0</td><td>7.0</td><td>7.0</td><td>7.0</td><td>7.0</td><td>7.0</td><td>7.0</td></tr><tr><td>4</td><td>1</td><td>2016</td><td>9</td><td>7.0</td><td>8.0</td><td>8.0</td><td>8.0</td><td>9.0</td><td>8.0</td><td>9.0</td><td>8.0</td><td>7.0</td><td>7.0</td><td>8.0</td><td>8.0</td><td>7.0</td><td>7.0</td><td>7.0</td><td>8.0</td><td>8.0</td><td>8.0</td><td>8.0</td><td>8.0</td><td>9.0</td><td>9.0</td><td>10.0</td><td>9.0</td><td>9.0</td><td>7.0</td><td>8.0</td><td>8.0</td><td>9.0</td><td>9.0</td><td>0.0</td></tr><tr><td>4</td><td>1</td><td>2016</td><td>10</td><td>9.0</td><td>8.0</td><td>10.0</td><td>10.0</td><td>10.0</td><td>10.0</td><td>10.0</td><td>12.0</td><td>9.0</td><td>9.0</td><td>9.0</td><td>8.0</td><td>8.0</td><td>8.0</td><td>9.0</td><td>10.0</td><td>9.0</td><td>8.0</td><td>8.0</td><td>9.0</td><td>6.0</td><td>2.0</td><td>2.0</td><td>2.0</td><td>3.0</td><td>5.0</td><td>5.0</td><td>4.0</td><td>4.0</td><td>6.0</td><td>7.0</td></tr><tr><td>4</td><td>1</td><td>2016</td><td>11</td><td>4.0</td><td>5.0</td><td>6.0</td><td>3.0</td><td>2.0</td><td>2.0</td><td>2.0</td><td>3.0</td><td>2.0</td><td>5.0</td><td>7.0</td><td>5.0</td><td>4.0</td><td>4.0</td><td>6.0</td><td>8.0</td><td>9.0</td><td>7.0</td><td>4.0</td><td>3.0</td><td>2.0</td><td>3.0</td><td>3.0</td><td>3.0</td><td>3.0</td><td>2.0</td><td>2.0</td><td>4.0</td><td>5.0</td><td>3.0</td><td>0.0</td></tr><tr><td>4</td><td>1</td><td>2016</td><td>12</td><td>3.0</td><td>5.0</td><td>4.0</td><td>2.0</td><td>3.0</td><td>4.0</td><td>7.0</td><td>6.0</td><td>8.0</td><td>7.0</td><td>7.0</td><td>9.0</td><td>11.0</td><td>7.0</td><td>5.0</td><td>5.0</td><td>5.0</td><td>6.0</td><td>7.0</td><td>10.0</td><td>12.0</td><td>13.0</td><td>12.0</td><td>8.0</td><td>9.0</td><td>15.0</td><td>17.0</td><td>13.0</td><td>13.0</td><td>12.0</td><td>7.0</td></tr><tr><td>&hellip;</td><td>&hellip;</td><td>&hellip;</td><td>&hellip;</td><td>&hellip;</td><td>&hellip;</td><td>&hellip;</td><td>&hellip;</td><td>&hellip;</td><td>&hellip;</td><td>&hellip;</td><td>&hellip;</td><td>&hellip;</td><td>&hellip;</td><td>&hellip;</td><td>&hellip;</td><td>&hellip;</td><td>&hellip;</td><td>&hellip;</td><td>&hellip;</td><td>&hellip;</td><td>&hellip;</td><td>&hellip;</td><td>&hellip;</td><td>&hellip;</td><td>&hellip;</td><td>&hellip;</td><td>&hellip;</td><td>&hellip;</td><td>&hellip;</td><td>&hellip;</td><td>&hellip;</td><td>&hellip;</td><td>&hellip;</td><td>&hellip;</td></tr><tr><td>60</td><td>14</td><td>2019</td><td>1</td><td>14.0</td><td>11.0</td><td>23.0</td><td>9.0</td><td>9.0</td><td>11.0</td><td>16.0</td><td>14.0</td><td>22.0</td><td>46.0</td><td>16.0</td><td>19.0</td><td>15.0</td><td>4.0</td><td>21.0</td><td>18.0</td><td>14.0</td><td>17.0</td><td>12.0</td><td>39.0</td><td>41.0</td><td>29.0</td><td>70.0</td><td>48.0</td><td>40.0</td><td>22.0</td><td>63.0</td><td>66.0</td><td>63.0</td><td>66.0</td><td>56.0</td></tr><tr><td>60</td><td>14</td><td>2019</td><td>2</td><td>70.0</td><td>74.0</td><td>54.0</td><td>9.0</td><td>14.0</td><td>17.0</td><td>17.0</td><td>30.0</td><td>28.0</td><td>51.0</td><td>57.0</td><td>41.0</td><td>29.0</td><td>29.0</td><td>23.0</td><td>48.0</td><td>43.0</td><td>34.0</td><td>30.0</td><td>29.0</td><td>31.0</td><td>32.0</td><td>30.0</td><td>52.0</td><td>29.0</td><td>36.0</td><td>31.0</td><td>27.0</td><td>0.0</td><td>0.0</td><td>0.0</td></tr><tr><td>60</td><td>14</td><td>2019</td><td>3</td><td>56.0</td><td>40.0</td><td>54.0</td><td>64.0</td><td>63.0</td><td>58.0</td><td>68.0</td><td>51.0</td><td>43.0</td><td>31.0</td><td>37.0</td><td>49.0</td><td>67.0</td><td>53.0</td><td>38.0</td><td>67.0</td><td>73.0</td><td>82.0</td><td>82.0</td><td>79.0</td><td>64.0</td><td>67.0</td><td>63.0</td><td>70.0</td><td>81.0</td><td>94.0</td><td>67.0</td><td>68.0</td><td>80.0</td><td>95.0</td><td>80.0</td></tr><tr><td>60</td><td>14</td><td>2019</td><td>4</td><td>54.0</td><td>53.0</td><td>82.0</td><td>86.0</td><td>77.0</td><td>81.0</td><td>86.0</td><td>67.0</td><td>75.0</td><td>85.0</td><td>82.0</td><td>77.0</td><td>77.0</td><td>61.0</td><td>51.0</td><td>79.0</td><td>89.0</td><td>103.0</td><td>85.0</td><td>109.0</td><td>108.0</td><td>88.0</td><td>93.0</td><td>65.0</td><td>79.0</td><td>79.0</td><td>60.0</td><td>76.0</td><td>69.0</td><td>71.0</td><td>0.0</td></tr><tr><td>60</td><td>14</td><td>2019</td><td>5</td><td>87.0</td><td>95.0</td><td>79.0</td><td>93.0</td><td>94.0</td><td>77.0</td><td>72.0</td><td>63.0</td><td>67.0</td><td>41.0</td><td>78.0</td><td>92.0</td><td>89.0</td><td>97.0</td><td>75.0</td><td>79.0</td><td>87.0</td><td>81.0</td><td>86.0</td><td>85.0</td><td>91.0</td><td>88.0</td><td>75.0</td><td>80.0</td><td>76.0</td><td>72.0</td><td>58.0</td><td>76.0</td><td>74.0</td><td>66.0</td><td>85.0</td></tr><tr><td>60</td><td>14</td><td>2019</td><td>6</td><td>92.0</td><td>98.0</td><td>79.0</td><td>72.0</td><td>74.0</td><td>81.0</td><td>84.0</td><td>95.0</td><td>86.0</td><td>81.0</td><td>83.0</td><td>78.0</td><td>84.0</td><td>90.0</td><td>94.0</td><td>88.0</td><td>78.0</td><td>85.0</td><td>68.0</td><td>64.0</td><td>81.0</td><td>88.0</td><td>79.0</td><td>77.0</td><td>68.0</td><td>75.0</td><td>91.0</td><td>94.0</td><td>108.0</td><td>106.0</td><td>0.0</td></tr><tr><td>60</td><td>14</td><td>2019</td><td>7</td><td>94.0</td><td>110.0</td><td>103.0</td><td>106.0</td><td>93.0</td><td>79.0</td><td>90.0</td><td>85.0</td><td>93.0</td><td>94.0</td><td>97.0</td><td>90.0</td><td>93.0</td><td>96.0</td><td>103.0</td><td>111.0</td><td>97.0</td><td>119.0</td><td>107.0</td><td>115.0</td><td>107.0</td><td>93.0</td><td>105.0</td><td>112.0</td><td>98.0</td><td>80.0</td><td>81.0</td><td>79.0</td><td>76.0</td><td>99.0</td><td>92.0</td></tr><tr><td>60</td><td>14</td><td>2019</td><td>8</td><td>94.0</td><td>104.0</td><td>106.0</td><td>99.0</td><td>77.0</td><td>82.0</td><td>68.0</td><td>71.0</td><td>44.0</td><td>82.0</td><td>97.0</td><td>87.0</td><td>89.0</td><td>89.0</td><td>93.0</td><td>89.0</td><td>82.0</td><td>82.0</td><td>65.0</td><td>77.0</td><td>87.0</td><td>86.0</td><td>97.0</td><td>104.0</td><td>96.0</td><td>85.0</td><td>88.0</td><td>90.0</td><td>99.0</td><td>108.0</td><td>98.0</td></tr><tr><td>60</td><td>14</td><td>2019</td><td>9</td><td>88.0</td><td>82.0</td><td>80.0</td><td>92.0</td><td>79.0</td><td>75.0</td><td>86.0</td><td>87.0</td><td>69.0</td><td>68.0</td><td>89.0</td><td>85.0</td><td>82.0</td><td>72.0</td><td>59.0</td><td>64.0</td><td>76.0</td><td>77.0</td><td>79.0</td><td>69.0</td><td>59.0</td><td>59.0</td><td>46.0</td><td>49.0</td><td>69.0</td><td>57.0</td><td>54.0</td><td>68.0</td><td>70.0</td><td>55.0</td><td>0.0</td></tr><tr><td>60</td><td>14</td><td>2019</td><td>10</td><td>44.0</td><td>75.0</td><td>44.0</td><td>54.0</td><td>65.0</td><td>68.0</td><td>36.0</td><td>49.0</td><td>50.0</td><td>60.0</td><td>46.0</td><td>55.0</td><td>58.0</td><td>57.0</td><td>60.0</td><td>48.0</td><td>38.0</td><td>47.0</td><td>64.0</td><td>63.0</td><td>36.0</td><td>37.0</td><td>39.0</td><td>45.0</td><td>21.0</td><td>23.0</td><td>28.0</td><td>33.0</td><td>16.0</td><td>19.0</td><td>47.0</td></tr><tr><td>60</td><td>14</td><td>2019</td><td>11</td><td>41.0</td><td>55.0</td><td>79.0</td><td>65.0</td><td>64.0</td><td>51.0</td><td>62.0</td><td>66.0</td><td>63.0</td><td>62.0</td><td>42.0</td><td>44.0</td><td>50.0</td><td>66.0</td><td>56.0</td><td>52.0</td><td>58.0</td><td>39.0</td><td>15.0</td><td>11.0</td><td>28.0</td><td>38.0</td><td>75.0</td><td>69.0</td><td>45.0</td><td>35.0</td><td>55.0</td><td>52.0</td><td>47.0</td><td>56.0</td><td>0.0</td></tr><tr><td>60</td><td>14</td><td>2019</td><td>12</td><td>47.0</td><td>53.0</td><td>45.0</td><td>44.0</td><td>49.0</td><td>41.0</td><td>31.0</td><td>9.0</td><td>22.0</td><td>8.0</td><td>9.0</td><td>104.0</td><td>51.0</td><td>41.0</td><td>33.0</td><td>28.0</td><td>27.0</td><td>21.0</td><td>33.0</td><td>59.0</td><td>61.0</td><td>68.0</td><td>36.0</td><td>9.0</td><td>11.0</td><td>10.0</td><td>17.0</td><td>13.0</td><td>14.0</td><td>5.0</td><td>4.0</td></tr></tbody></table></div>"
      ],
      "text/plain": [
       "shape: (7_266, 35)\n",
       "┌──────────┬──────────┬──────┬─────┬───┬──────┬──────┬──────┬──────┐\n",
       "│ ESTACION ┆ MAGNITUD ┆ ANO  ┆ MES ┆ … ┆ D28  ┆ D29  ┆ D30  ┆ D31  │\n",
       "│ ---      ┆ ---      ┆ ---  ┆ --- ┆   ┆ ---  ┆ ---  ┆ ---  ┆ ---  │\n",
       "│ i64      ┆ i64      ┆ i64  ┆ i64 ┆   ┆ f64  ┆ f64  ┆ f64  ┆ f64  │\n",
       "╞══════════╪══════════╪══════╪═════╪═══╪══════╪══════╪══════╪══════╡\n",
       "│ 4        ┆ 1        ┆ 2016 ┆ 1   ┆ … ┆ 7.0  ┆ 8.0  ┆ 9.0  ┆ 9.0  │\n",
       "│ 4        ┆ 1        ┆ 2016 ┆ 2   ┆ … ┆ 8.0  ┆ 9.0  ┆ 0.0  ┆ 0.0  │\n",
       "│ 4        ┆ 1        ┆ 2016 ┆ 3   ┆ … ┆ 7.0  ┆ 8.0  ┆ 10.0 ┆ 8.0  │\n",
       "│ 4        ┆ 1        ┆ 2016 ┆ 4   ┆ … ┆ 8.0  ┆ 8.0  ┆ 8.0  ┆ 0.0  │\n",
       "│ …        ┆ …        ┆ …    ┆ …   ┆ … ┆ …    ┆ …    ┆ …    ┆ …    │\n",
       "│ 60       ┆ 14       ┆ 2019 ┆ 9   ┆ … ┆ 68.0 ┆ 70.0 ┆ 55.0 ┆ 0.0  │\n",
       "│ 60       ┆ 14       ┆ 2019 ┆ 10  ┆ … ┆ 33.0 ┆ 16.0 ┆ 19.0 ┆ 47.0 │\n",
       "│ 60       ┆ 14       ┆ 2019 ┆ 11  ┆ … ┆ 52.0 ┆ 47.0 ┆ 56.0 ┆ 0.0  │\n",
       "│ 60       ┆ 14       ┆ 2019 ┆ 12  ┆ … ┆ 13.0 ┆ 14.0 ┆ 5.0  ┆ 4.0  │\n",
       "└──────────┴──────────┴──────┴─────┴───┴──────┴──────┴──────┴──────┘"
      ]
     },
     "execution_count": 42,
     "metadata": {},
     "output_type": "execute_result"
    }
   ],
   "source": [
    "## Código aquí\n",
    "datos = datos.select([\"ESTACION\", \"MAGNITUD\", \"ANO\", \"MES\", \"D01\", \"D02\", \"D03\", \"D04\", \"D05\", \"D06\", \"D07\", \"D08\", \"D09\", \"D10\", \"D11\", \"D12\", \"D13\", \"D14\", \"D15\", \"D16\", \"D17\", \"D18\", \"D19\", \"D20\", \"D21\", \"D22\", \"D23\", \"D24\", \"D25\", \"D26\", \"D27\", \"D28\", \"D29\", \"D30\", \"D31\"])\n",
    "datos"
   ]
  },
  {
   "cell_type": "markdown",
   "id": "aa5d3746",
   "metadata": {},
   "source": [
    "### Reestructurar el DataFrame para que los valores de los contaminantes de las columnas de los días aparezcan en una única columna.\n"
   ]
  },
  {
   "cell_type": "code",
   "execution_count": 43,
   "id": "9216632a",
   "metadata": {},
   "outputs": [
    {
     "data": {
      "text/html": [
       "<div><style>\n",
       ".dataframe > thead > tr > th,\n",
       ".dataframe > tbody > tr > td {\n",
       "  text-align: right;\n",
       "}\n",
       "</style>\n",
       "<small>shape: (225246, 6)</small><table border=\"1\" class=\"dataframe\"><thead><tr><th>ESTACION</th><th>MAGNITUD</th><th>ANO</th><th>MES</th><th>DIA</th><th>CONTAMINANTES</th></tr><tr><td>i64</td><td>i64</td><td>i64</td><td>i64</td><td>str</td><td>f64</td></tr></thead><tbody><tr><td>4</td><td>1</td><td>2016</td><td>1</td><td>&quot;D01&quot;</td><td>8.0</td></tr><tr><td>4</td><td>1</td><td>2016</td><td>2</td><td>&quot;D01&quot;</td><td>12.0</td></tr><tr><td>4</td><td>1</td><td>2016</td><td>3</td><td>&quot;D01&quot;</td><td>11.0</td></tr><tr><td>4</td><td>1</td><td>2016</td><td>4</td><td>&quot;D01&quot;</td><td>8.0</td></tr><tr><td>4</td><td>1</td><td>2016</td><td>5</td><td>&quot;D01&quot;</td><td>7.0</td></tr><tr><td>4</td><td>1</td><td>2016</td><td>6</td><td>&quot;D01&quot;</td><td>7.0</td></tr><tr><td>4</td><td>1</td><td>2016</td><td>7</td><td>&quot;D01&quot;</td><td>8.0</td></tr><tr><td>4</td><td>1</td><td>2016</td><td>8</td><td>&quot;D01&quot;</td><td>7.0</td></tr><tr><td>4</td><td>1</td><td>2016</td><td>9</td><td>&quot;D01&quot;</td><td>7.0</td></tr><tr><td>4</td><td>1</td><td>2016</td><td>10</td><td>&quot;D01&quot;</td><td>9.0</td></tr><tr><td>4</td><td>1</td><td>2016</td><td>11</td><td>&quot;D01&quot;</td><td>4.0</td></tr><tr><td>4</td><td>1</td><td>2016</td><td>12</td><td>&quot;D01&quot;</td><td>3.0</td></tr><tr><td>&hellip;</td><td>&hellip;</td><td>&hellip;</td><td>&hellip;</td><td>&hellip;</td><td>&hellip;</td></tr><tr><td>60</td><td>14</td><td>2019</td><td>1</td><td>&quot;D31&quot;</td><td>56.0</td></tr><tr><td>60</td><td>14</td><td>2019</td><td>2</td><td>&quot;D31&quot;</td><td>0.0</td></tr><tr><td>60</td><td>14</td><td>2019</td><td>3</td><td>&quot;D31&quot;</td><td>80.0</td></tr><tr><td>60</td><td>14</td><td>2019</td><td>4</td><td>&quot;D31&quot;</td><td>0.0</td></tr><tr><td>60</td><td>14</td><td>2019</td><td>5</td><td>&quot;D31&quot;</td><td>85.0</td></tr><tr><td>60</td><td>14</td><td>2019</td><td>6</td><td>&quot;D31&quot;</td><td>0.0</td></tr><tr><td>60</td><td>14</td><td>2019</td><td>7</td><td>&quot;D31&quot;</td><td>92.0</td></tr><tr><td>60</td><td>14</td><td>2019</td><td>8</td><td>&quot;D31&quot;</td><td>98.0</td></tr><tr><td>60</td><td>14</td><td>2019</td><td>9</td><td>&quot;D31&quot;</td><td>0.0</td></tr><tr><td>60</td><td>14</td><td>2019</td><td>10</td><td>&quot;D31&quot;</td><td>47.0</td></tr><tr><td>60</td><td>14</td><td>2019</td><td>11</td><td>&quot;D31&quot;</td><td>0.0</td></tr><tr><td>60</td><td>14</td><td>2019</td><td>12</td><td>&quot;D31&quot;</td><td>4.0</td></tr></tbody></table></div>"
      ],
      "text/plain": [
       "shape: (225_246, 6)\n",
       "┌──────────┬──────────┬──────┬─────┬─────┬───────────────┐\n",
       "│ ESTACION ┆ MAGNITUD ┆ ANO  ┆ MES ┆ DIA ┆ CONTAMINANTES │\n",
       "│ ---      ┆ ---      ┆ ---  ┆ --- ┆ --- ┆ ---           │\n",
       "│ i64      ┆ i64      ┆ i64  ┆ i64 ┆ str ┆ f64           │\n",
       "╞══════════╪══════════╪══════╪═════╪═════╪═══════════════╡\n",
       "│ 4        ┆ 1        ┆ 2016 ┆ 1   ┆ D01 ┆ 8.0           │\n",
       "│ 4        ┆ 1        ┆ 2016 ┆ 2   ┆ D01 ┆ 12.0          │\n",
       "│ 4        ┆ 1        ┆ 2016 ┆ 3   ┆ D01 ┆ 11.0          │\n",
       "│ 4        ┆ 1        ┆ 2016 ┆ 4   ┆ D01 ┆ 8.0           │\n",
       "│ …        ┆ …        ┆ …    ┆ …   ┆ …   ┆ …             │\n",
       "│ 60       ┆ 14       ┆ 2019 ┆ 9   ┆ D31 ┆ 0.0           │\n",
       "│ 60       ┆ 14       ┆ 2019 ┆ 10  ┆ D31 ┆ 47.0          │\n",
       "│ 60       ┆ 14       ┆ 2019 ┆ 11  ┆ D31 ┆ 0.0           │\n",
       "│ 60       ┆ 14       ┆ 2019 ┆ 12  ┆ D31 ┆ 4.0           │\n",
       "└──────────┴──────────┴──────┴─────┴─────┴───────────────┘"
      ]
     },
     "execution_count": 43,
     "metadata": {},
     "output_type": "execute_result"
    }
   ],
   "source": [
    "## Código aquí\n",
    "datos=datos.melt(id_vars=['ESTACION', 'MAGNITUD', 'ANO', 'MES'], variable_name='DIA', value_name='CONTAMINANTES')\n",
    "datos"
   ]
  },
  {
   "cell_type": "markdown",
   "id": "33d1a28e",
   "metadata": {},
   "source": [
    "### Crear una nueva columna llamada FECHA con las fechas a partir del año, mes y día\n",
    "Hint: **pl.concat_str([\n",
    "            pl.col(...),\n",
    "            ...\n",
    "        ])** y **.str.strptime(pl.Datetime,strict=False)** "
   ]
  },
  {
   "cell_type": "code",
   "execution_count": 44,
   "id": "48856a4a",
   "metadata": {},
   "outputs": [
    {
     "data": {
      "text/html": [
       "<div><style>\n",
       ".dataframe > thead > tr > th,\n",
       ".dataframe > tbody > tr > td {\n",
       "  text-align: right;\n",
       "}\n",
       "</style>\n",
       "<small>shape: (225246, 7)</small><table border=\"1\" class=\"dataframe\"><thead><tr><th>ESTACION</th><th>MAGNITUD</th><th>ANO</th><th>MES</th><th>DIA</th><th>CONTAMINANTES</th><th>FECHA</th></tr><tr><td>i64</td><td>i64</td><td>i64</td><td>i64</td><td>str</td><td>f64</td><td>datetime[μs]</td></tr></thead><tbody><tr><td>4</td><td>1</td><td>2016</td><td>1</td><td>&quot;01&quot;</td><td>8.0</td><td>2016-01-01 00:00:00</td></tr><tr><td>4</td><td>1</td><td>2016</td><td>2</td><td>&quot;01&quot;</td><td>12.0</td><td>2016-02-01 00:00:00</td></tr><tr><td>4</td><td>1</td><td>2016</td><td>3</td><td>&quot;01&quot;</td><td>11.0</td><td>2016-03-01 00:00:00</td></tr><tr><td>4</td><td>1</td><td>2016</td><td>4</td><td>&quot;01&quot;</td><td>8.0</td><td>2016-04-01 00:00:00</td></tr><tr><td>4</td><td>1</td><td>2016</td><td>5</td><td>&quot;01&quot;</td><td>7.0</td><td>2016-05-01 00:00:00</td></tr><tr><td>4</td><td>1</td><td>2016</td><td>6</td><td>&quot;01&quot;</td><td>7.0</td><td>2016-06-01 00:00:00</td></tr><tr><td>4</td><td>1</td><td>2016</td><td>7</td><td>&quot;01&quot;</td><td>8.0</td><td>2016-07-01 00:00:00</td></tr><tr><td>4</td><td>1</td><td>2016</td><td>8</td><td>&quot;01&quot;</td><td>7.0</td><td>2016-08-01 00:00:00</td></tr><tr><td>4</td><td>1</td><td>2016</td><td>9</td><td>&quot;01&quot;</td><td>7.0</td><td>2016-09-01 00:00:00</td></tr><tr><td>4</td><td>1</td><td>2016</td><td>10</td><td>&quot;01&quot;</td><td>9.0</td><td>2016-10-01 00:00:00</td></tr><tr><td>4</td><td>1</td><td>2016</td><td>11</td><td>&quot;01&quot;</td><td>4.0</td><td>2016-11-01 00:00:00</td></tr><tr><td>4</td><td>1</td><td>2016</td><td>12</td><td>&quot;01&quot;</td><td>3.0</td><td>2016-12-01 00:00:00</td></tr><tr><td>&hellip;</td><td>&hellip;</td><td>&hellip;</td><td>&hellip;</td><td>&hellip;</td><td>&hellip;</td><td>&hellip;</td></tr><tr><td>60</td><td>14</td><td>2019</td><td>1</td><td>&quot;31&quot;</td><td>56.0</td><td>2019-01-31 00:00:00</td></tr><tr><td>60</td><td>14</td><td>2019</td><td>2</td><td>&quot;31&quot;</td><td>0.0</td><td>null</td></tr><tr><td>60</td><td>14</td><td>2019</td><td>3</td><td>&quot;31&quot;</td><td>80.0</td><td>2019-03-31 00:00:00</td></tr><tr><td>60</td><td>14</td><td>2019</td><td>4</td><td>&quot;31&quot;</td><td>0.0</td><td>null</td></tr><tr><td>60</td><td>14</td><td>2019</td><td>5</td><td>&quot;31&quot;</td><td>85.0</td><td>2019-05-31 00:00:00</td></tr><tr><td>60</td><td>14</td><td>2019</td><td>6</td><td>&quot;31&quot;</td><td>0.0</td><td>null</td></tr><tr><td>60</td><td>14</td><td>2019</td><td>7</td><td>&quot;31&quot;</td><td>92.0</td><td>2019-07-31 00:00:00</td></tr><tr><td>60</td><td>14</td><td>2019</td><td>8</td><td>&quot;31&quot;</td><td>98.0</td><td>2019-08-31 00:00:00</td></tr><tr><td>60</td><td>14</td><td>2019</td><td>9</td><td>&quot;31&quot;</td><td>0.0</td><td>null</td></tr><tr><td>60</td><td>14</td><td>2019</td><td>10</td><td>&quot;31&quot;</td><td>47.0</td><td>2019-10-31 00:00:00</td></tr><tr><td>60</td><td>14</td><td>2019</td><td>11</td><td>&quot;31&quot;</td><td>0.0</td><td>null</td></tr><tr><td>60</td><td>14</td><td>2019</td><td>12</td><td>&quot;31&quot;</td><td>4.0</td><td>2019-12-31 00:00:00</td></tr></tbody></table></div>"
      ],
      "text/plain": [
       "shape: (225_246, 7)\n",
       "┌──────────┬──────────┬──────┬─────┬─────┬───────────────┬─────────────────────┐\n",
       "│ ESTACION ┆ MAGNITUD ┆ ANO  ┆ MES ┆ DIA ┆ CONTAMINANTES ┆ FECHA               │\n",
       "│ ---      ┆ ---      ┆ ---  ┆ --- ┆ --- ┆ ---           ┆ ---                 │\n",
       "│ i64      ┆ i64      ┆ i64  ┆ i64 ┆ str ┆ f64           ┆ datetime[μs]        │\n",
       "╞══════════╪══════════╪══════╪═════╪═════╪═══════════════╪═════════════════════╡\n",
       "│ 4        ┆ 1        ┆ 2016 ┆ 1   ┆ 01  ┆ 8.0           ┆ 2016-01-01 00:00:00 │\n",
       "│ 4        ┆ 1        ┆ 2016 ┆ 2   ┆ 01  ┆ 12.0          ┆ 2016-02-01 00:00:00 │\n",
       "│ 4        ┆ 1        ┆ 2016 ┆ 3   ┆ 01  ┆ 11.0          ┆ 2016-03-01 00:00:00 │\n",
       "│ 4        ┆ 1        ┆ 2016 ┆ 4   ┆ 01  ┆ 8.0           ┆ 2016-04-01 00:00:00 │\n",
       "│ …        ┆ …        ┆ …    ┆ …   ┆ …   ┆ …             ┆ …                   │\n",
       "│ 60       ┆ 14       ┆ 2019 ┆ 9   ┆ 31  ┆ 0.0           ┆ null                │\n",
       "│ 60       ┆ 14       ┆ 2019 ┆ 10  ┆ 31  ┆ 47.0          ┆ 2019-10-31 00:00:00 │\n",
       "│ 60       ┆ 14       ┆ 2019 ┆ 11  ┆ 31  ┆ 0.0           ┆ null                │\n",
       "│ 60       ┆ 14       ┆ 2019 ┆ 12  ┆ 31  ┆ 4.0           ┆ 2019-12-31 00:00:00 │\n",
       "└──────────┴──────────┴──────┴─────┴─────┴───────────────┴─────────────────────┘"
      ]
     },
     "execution_count": 44,
     "metadata": {},
     "output_type": "execute_result"
    }
   ],
   "source": [
    "## Código aquí\n",
    "\n",
    "datos = datos.with_columns(pl.col('DIA').str.replace(r'D','').alias('DIA'))\n",
    "datos = datos.with_columns((pl.col('ANO').apply(str)+ '/' +pl.col('MES').apply(str)+ '/' +pl.col('DIA').apply(str)).alias('FECHA'))\n",
    "datos=datos.with_columns(pl.col('FECHA').str.strptime(pl.Datetime, strict = False).alias('FECHA'))\n",
    "datos"
   ]
  },
  {
   "cell_type": "markdown",
   "id": "37a05fc7",
   "metadata": {},
   "source": [
    "### Eliminar las filas con fechas no válidas"
   ]
  },
  {
   "cell_type": "code",
   "execution_count": 45,
   "id": "a7eb3449",
   "metadata": {
    "scrolled": true
   },
   "outputs": [
    {
     "data": {
      "text/html": [
       "<div><style>\n",
       ".dataframe > thead > tr > th,\n",
       ".dataframe > tbody > tr > td {\n",
       "  text-align: right;\n",
       "}\n",
       "</style>\n",
       "<small>shape: (221158, 7)</small><table border=\"1\" class=\"dataframe\"><thead><tr><th>ESTACION</th><th>MAGNITUD</th><th>ANO</th><th>MES</th><th>DIA</th><th>CONTAMINANTES</th><th>FECHA</th></tr><tr><td>i64</td><td>i64</td><td>i64</td><td>i64</td><td>str</td><td>f64</td><td>datetime[μs]</td></tr></thead><tbody><tr><td>4</td><td>1</td><td>2016</td><td>1</td><td>&quot;01&quot;</td><td>8.0</td><td>2016-01-01 00:00:00</td></tr><tr><td>4</td><td>1</td><td>2016</td><td>2</td><td>&quot;01&quot;</td><td>12.0</td><td>2016-02-01 00:00:00</td></tr><tr><td>4</td><td>1</td><td>2016</td><td>3</td><td>&quot;01&quot;</td><td>11.0</td><td>2016-03-01 00:00:00</td></tr><tr><td>4</td><td>1</td><td>2016</td><td>4</td><td>&quot;01&quot;</td><td>8.0</td><td>2016-04-01 00:00:00</td></tr><tr><td>4</td><td>1</td><td>2016</td><td>5</td><td>&quot;01&quot;</td><td>7.0</td><td>2016-05-01 00:00:00</td></tr><tr><td>4</td><td>1</td><td>2016</td><td>6</td><td>&quot;01&quot;</td><td>7.0</td><td>2016-06-01 00:00:00</td></tr><tr><td>4</td><td>1</td><td>2016</td><td>7</td><td>&quot;01&quot;</td><td>8.0</td><td>2016-07-01 00:00:00</td></tr><tr><td>4</td><td>1</td><td>2016</td><td>8</td><td>&quot;01&quot;</td><td>7.0</td><td>2016-08-01 00:00:00</td></tr><tr><td>4</td><td>1</td><td>2016</td><td>9</td><td>&quot;01&quot;</td><td>7.0</td><td>2016-09-01 00:00:00</td></tr><tr><td>4</td><td>1</td><td>2016</td><td>10</td><td>&quot;01&quot;</td><td>9.0</td><td>2016-10-01 00:00:00</td></tr><tr><td>4</td><td>1</td><td>2016</td><td>11</td><td>&quot;01&quot;</td><td>4.0</td><td>2016-11-01 00:00:00</td></tr><tr><td>4</td><td>1</td><td>2016</td><td>12</td><td>&quot;01&quot;</td><td>3.0</td><td>2016-12-01 00:00:00</td></tr><tr><td>&hellip;</td><td>&hellip;</td><td>&hellip;</td><td>&hellip;</td><td>&hellip;</td><td>&hellip;</td><td>&hellip;</td></tr><tr><td>60</td><td>12</td><td>2019</td><td>5</td><td>&quot;31&quot;</td><td>32.0</td><td>2019-05-31 00:00:00</td></tr><tr><td>60</td><td>12</td><td>2019</td><td>7</td><td>&quot;31&quot;</td><td>16.0</td><td>2019-07-31 00:00:00</td></tr><tr><td>60</td><td>12</td><td>2019</td><td>8</td><td>&quot;31&quot;</td><td>26.0</td><td>2019-08-31 00:00:00</td></tr><tr><td>60</td><td>12</td><td>2019</td><td>10</td><td>&quot;31&quot;</td><td>21.0</td><td>2019-10-31 00:00:00</td></tr><tr><td>60</td><td>12</td><td>2019</td><td>12</td><td>&quot;31&quot;</td><td>202.0</td><td>2019-12-31 00:00:00</td></tr><tr><td>60</td><td>14</td><td>2019</td><td>1</td><td>&quot;31&quot;</td><td>56.0</td><td>2019-01-31 00:00:00</td></tr><tr><td>60</td><td>14</td><td>2019</td><td>3</td><td>&quot;31&quot;</td><td>80.0</td><td>2019-03-31 00:00:00</td></tr><tr><td>60</td><td>14</td><td>2019</td><td>5</td><td>&quot;31&quot;</td><td>85.0</td><td>2019-05-31 00:00:00</td></tr><tr><td>60</td><td>14</td><td>2019</td><td>7</td><td>&quot;31&quot;</td><td>92.0</td><td>2019-07-31 00:00:00</td></tr><tr><td>60</td><td>14</td><td>2019</td><td>8</td><td>&quot;31&quot;</td><td>98.0</td><td>2019-08-31 00:00:00</td></tr><tr><td>60</td><td>14</td><td>2019</td><td>10</td><td>&quot;31&quot;</td><td>47.0</td><td>2019-10-31 00:00:00</td></tr><tr><td>60</td><td>14</td><td>2019</td><td>12</td><td>&quot;31&quot;</td><td>4.0</td><td>2019-12-31 00:00:00</td></tr></tbody></table></div>"
      ],
      "text/plain": [
       "shape: (221_158, 7)\n",
       "┌──────────┬──────────┬──────┬─────┬─────┬───────────────┬─────────────────────┐\n",
       "│ ESTACION ┆ MAGNITUD ┆ ANO  ┆ MES ┆ DIA ┆ CONTAMINANTES ┆ FECHA               │\n",
       "│ ---      ┆ ---      ┆ ---  ┆ --- ┆ --- ┆ ---           ┆ ---                 │\n",
       "│ i64      ┆ i64      ┆ i64  ┆ i64 ┆ str ┆ f64           ┆ datetime[μs]        │\n",
       "╞══════════╪══════════╪══════╪═════╪═════╪═══════════════╪═════════════════════╡\n",
       "│ 4        ┆ 1        ┆ 2016 ┆ 1   ┆ 01  ┆ 8.0           ┆ 2016-01-01 00:00:00 │\n",
       "│ 4        ┆ 1        ┆ 2016 ┆ 2   ┆ 01  ┆ 12.0          ┆ 2016-02-01 00:00:00 │\n",
       "│ 4        ┆ 1        ┆ 2016 ┆ 3   ┆ 01  ┆ 11.0          ┆ 2016-03-01 00:00:00 │\n",
       "│ 4        ┆ 1        ┆ 2016 ┆ 4   ┆ 01  ┆ 8.0           ┆ 2016-04-01 00:00:00 │\n",
       "│ …        ┆ …        ┆ …    ┆ …   ┆ …   ┆ …             ┆ …                   │\n",
       "│ 60       ┆ 14       ┆ 2019 ┆ 7   ┆ 31  ┆ 92.0          ┆ 2019-07-31 00:00:00 │\n",
       "│ 60       ┆ 14       ┆ 2019 ┆ 8   ┆ 31  ┆ 98.0          ┆ 2019-08-31 00:00:00 │\n",
       "│ 60       ┆ 14       ┆ 2019 ┆ 10  ┆ 31  ┆ 47.0          ┆ 2019-10-31 00:00:00 │\n",
       "│ 60       ┆ 14       ┆ 2019 ┆ 12  ┆ 31  ┆ 4.0           ┆ 2019-12-31 00:00:00 │\n",
       "└──────────┴──────────┴──────┴─────┴─────┴───────────────┴─────────────────────┘"
      ]
     },
     "execution_count": 45,
     "metadata": {},
     "output_type": "execute_result"
    }
   ],
   "source": [
    "## Código aquí\n",
    "datos=datos.drop_nulls('FECHA')\n",
    "datos"
   ]
  },
  {
   "cell_type": "markdown",
   "id": "4bea596a",
   "metadata": {},
   "source": [
    "### Ordenar el el dataframe por estación, magnitud y fecha\n",
    "Hint: **.sort(..)**"
   ]
  },
  {
   "cell_type": "code",
   "execution_count": 46,
   "id": "b7032206",
   "metadata": {
    "scrolled": true
   },
   "outputs": [
    {
     "data": {
      "text/html": [
       "<div><style>\n",
       ".dataframe > thead > tr > th,\n",
       ".dataframe > tbody > tr > td {\n",
       "  text-align: right;\n",
       "}\n",
       "</style>\n",
       "<small>shape: (221158, 7)</small><table border=\"1\" class=\"dataframe\"><thead><tr><th>ESTACION</th><th>MAGNITUD</th><th>ANO</th><th>MES</th><th>DIA</th><th>CONTAMINANTES</th><th>FECHA</th></tr><tr><td>i64</td><td>i64</td><td>i64</td><td>i64</td><td>str</td><td>f64</td><td>datetime[μs]</td></tr></thead><tbody><tr><td>4</td><td>1</td><td>2016</td><td>1</td><td>&quot;01&quot;</td><td>8.0</td><td>2016-01-01 00:00:00</td></tr><tr><td>4</td><td>1</td><td>2016</td><td>1</td><td>&quot;02&quot;</td><td>7.0</td><td>2016-01-02 00:00:00</td></tr><tr><td>4</td><td>1</td><td>2016</td><td>1</td><td>&quot;03&quot;</td><td>6.0</td><td>2016-01-03 00:00:00</td></tr><tr><td>4</td><td>1</td><td>2016</td><td>1</td><td>&quot;04&quot;</td><td>6.0</td><td>2016-01-04 00:00:00</td></tr><tr><td>4</td><td>1</td><td>2016</td><td>1</td><td>&quot;05&quot;</td><td>7.0</td><td>2016-01-05 00:00:00</td></tr><tr><td>4</td><td>1</td><td>2016</td><td>1</td><td>&quot;06&quot;</td><td>6.0</td><td>2016-01-06 00:00:00</td></tr><tr><td>4</td><td>1</td><td>2016</td><td>1</td><td>&quot;07&quot;</td><td>6.0</td><td>2016-01-07 00:00:00</td></tr><tr><td>4</td><td>1</td><td>2016</td><td>1</td><td>&quot;08&quot;</td><td>6.0</td><td>2016-01-08 00:00:00</td></tr><tr><td>4</td><td>1</td><td>2016</td><td>1</td><td>&quot;09&quot;</td><td>6.0</td><td>2016-01-09 00:00:00</td></tr><tr><td>4</td><td>1</td><td>2016</td><td>1</td><td>&quot;10&quot;</td><td>6.0</td><td>2016-01-10 00:00:00</td></tr><tr><td>4</td><td>1</td><td>2016</td><td>1</td><td>&quot;11&quot;</td><td>6.0</td><td>2016-01-11 00:00:00</td></tr><tr><td>4</td><td>1</td><td>2016</td><td>1</td><td>&quot;12&quot;</td><td>7.0</td><td>2016-01-12 00:00:00</td></tr><tr><td>&hellip;</td><td>&hellip;</td><td>&hellip;</td><td>&hellip;</td><td>&hellip;</td><td>&hellip;</td><td>&hellip;</td></tr><tr><td>60</td><td>14</td><td>2019</td><td>12</td><td>&quot;20&quot;</td><td>59.0</td><td>2019-12-20 00:00:00</td></tr><tr><td>60</td><td>14</td><td>2019</td><td>12</td><td>&quot;21&quot;</td><td>61.0</td><td>2019-12-21 00:00:00</td></tr><tr><td>60</td><td>14</td><td>2019</td><td>12</td><td>&quot;22&quot;</td><td>68.0</td><td>2019-12-22 00:00:00</td></tr><tr><td>60</td><td>14</td><td>2019</td><td>12</td><td>&quot;23&quot;</td><td>36.0</td><td>2019-12-23 00:00:00</td></tr><tr><td>60</td><td>14</td><td>2019</td><td>12</td><td>&quot;24&quot;</td><td>9.0</td><td>2019-12-24 00:00:00</td></tr><tr><td>60</td><td>14</td><td>2019</td><td>12</td><td>&quot;25&quot;</td><td>11.0</td><td>2019-12-25 00:00:00</td></tr><tr><td>60</td><td>14</td><td>2019</td><td>12</td><td>&quot;26&quot;</td><td>10.0</td><td>2019-12-26 00:00:00</td></tr><tr><td>60</td><td>14</td><td>2019</td><td>12</td><td>&quot;27&quot;</td><td>17.0</td><td>2019-12-27 00:00:00</td></tr><tr><td>60</td><td>14</td><td>2019</td><td>12</td><td>&quot;28&quot;</td><td>13.0</td><td>2019-12-28 00:00:00</td></tr><tr><td>60</td><td>14</td><td>2019</td><td>12</td><td>&quot;29&quot;</td><td>14.0</td><td>2019-12-29 00:00:00</td></tr><tr><td>60</td><td>14</td><td>2019</td><td>12</td><td>&quot;30&quot;</td><td>5.0</td><td>2019-12-30 00:00:00</td></tr><tr><td>60</td><td>14</td><td>2019</td><td>12</td><td>&quot;31&quot;</td><td>4.0</td><td>2019-12-31 00:00:00</td></tr></tbody></table></div>"
      ],
      "text/plain": [
       "shape: (221_158, 7)\n",
       "┌──────────┬──────────┬──────┬─────┬─────┬───────────────┬─────────────────────┐\n",
       "│ ESTACION ┆ MAGNITUD ┆ ANO  ┆ MES ┆ DIA ┆ CONTAMINANTES ┆ FECHA               │\n",
       "│ ---      ┆ ---      ┆ ---  ┆ --- ┆ --- ┆ ---           ┆ ---                 │\n",
       "│ i64      ┆ i64      ┆ i64  ┆ i64 ┆ str ┆ f64           ┆ datetime[μs]        │\n",
       "╞══════════╪══════════╪══════╪═════╪═════╪═══════════════╪═════════════════════╡\n",
       "│ 4        ┆ 1        ┆ 2016 ┆ 1   ┆ 01  ┆ 8.0           ┆ 2016-01-01 00:00:00 │\n",
       "│ 4        ┆ 1        ┆ 2016 ┆ 1   ┆ 02  ┆ 7.0           ┆ 2016-01-02 00:00:00 │\n",
       "│ 4        ┆ 1        ┆ 2016 ┆ 1   ┆ 03  ┆ 6.0           ┆ 2016-01-03 00:00:00 │\n",
       "│ 4        ┆ 1        ┆ 2016 ┆ 1   ┆ 04  ┆ 6.0           ┆ 2016-01-04 00:00:00 │\n",
       "│ …        ┆ …        ┆ …    ┆ …   ┆ …   ┆ …             ┆ …                   │\n",
       "│ 60       ┆ 14       ┆ 2019 ┆ 12  ┆ 28  ┆ 13.0          ┆ 2019-12-28 00:00:00 │\n",
       "│ 60       ┆ 14       ┆ 2019 ┆ 12  ┆ 29  ┆ 14.0          ┆ 2019-12-29 00:00:00 │\n",
       "│ 60       ┆ 14       ┆ 2019 ┆ 12  ┆ 30  ┆ 5.0           ┆ 2019-12-30 00:00:00 │\n",
       "│ 60       ┆ 14       ┆ 2019 ┆ 12  ┆ 31  ┆ 4.0           ┆ 2019-12-31 00:00:00 │\n",
       "└──────────┴──────────┴──────┴─────┴─────┴───────────────┴─────────────────────┘"
      ]
     },
     "execution_count": 46,
     "metadata": {},
     "output_type": "execute_result"
    }
   ],
   "source": [
    "## Código aquí\n",
    "datos=datos.sort(['ESTACION', 'MAGNITUD', 'FECHA'])\n",
    "datos"
   ]
  },
  {
   "cell_type": "markdown",
   "id": "218943c8",
   "metadata": {},
   "source": [
    "### Mostrar las estaciones y los contaminantes disponibles\n"
   ]
  },
  {
   "cell_type": "code",
   "execution_count": 47,
   "id": "0bdbb07b",
   "metadata": {},
   "outputs": [
    {
     "data": {
      "text/html": [
       "<div><style>\n",
       ".dataframe > thead > tr > th,\n",
       ".dataframe > tbody > tr > td {\n",
       "  text-align: right;\n",
       "}\n",
       "</style>\n",
       "<small>shape: (6666, 2)</small><table border=\"1\" class=\"dataframe\"><thead><tr><th>ESTACION</th><th>CONTAMINANTES</th></tr><tr><td>i64</td><td>f64</td></tr></thead><tbody><tr><td>4</td><td>2.0</td></tr><tr><td>4</td><td>32.0</td></tr><tr><td>4</td><td>41.0</td></tr><tr><td>4</td><td>35.0</td></tr><tr><td>4</td><td>38.0</td></tr><tr><td>4</td><td>134.0</td></tr><tr><td>4</td><td>146.0</td></tr><tr><td>4</td><td>278.0</td></tr><tr><td>4</td><td>158.0</td></tr><tr><td>4</td><td>302.0</td></tr><tr><td>8</td><td>3.0</td></tr><tr><td>8</td><td>54.0</td></tr><tr><td>&hellip;</td><td>&hellip;</td></tr><tr><td>59</td><td>47.0</td></tr><tr><td>59</td><td>42.0</td></tr><tr><td>59</td><td>41.0</td></tr><tr><td>59</td><td>142.0</td></tr><tr><td>60</td><td>3.0</td></tr><tr><td>60</td><td>48.0</td></tr><tr><td>60</td><td>62.0</td></tr><tr><td>60</td><td>55.0</td></tr><tr><td>60</td><td>61.0</td></tr><tr><td>60</td><td>271.0</td></tr><tr><td>60</td><td>198.0</td></tr><tr><td>60</td><td>202.0</td></tr></tbody></table></div>"
      ],
      "text/plain": [
       "shape: (6_666, 2)\n",
       "┌──────────┬───────────────┐\n",
       "│ ESTACION ┆ CONTAMINANTES │\n",
       "│ ---      ┆ ---           │\n",
       "│ i64      ┆ f64           │\n",
       "╞══════════╪═══════════════╡\n",
       "│ 4        ┆ 2.0           │\n",
       "│ 4        ┆ 32.0          │\n",
       "│ 4        ┆ 41.0          │\n",
       "│ 4        ┆ 35.0          │\n",
       "│ …        ┆ …             │\n",
       "│ 60       ┆ 61.0          │\n",
       "│ 60       ┆ 271.0         │\n",
       "│ 60       ┆ 198.0         │\n",
       "│ 60       ┆ 202.0         │\n",
       "└──────────┴───────────────┘"
      ]
     },
     "execution_count": 47,
     "metadata": {},
     "output_type": "execute_result"
    }
   ],
   "source": [
    "## Código aquí\n",
    "\n",
    "datos.select(['ESTACION', 'CONTAMINANTES']).unique()"
   ]
  },
  {
   "cell_type": "markdown",
   "id": "9942abf9",
   "metadata": {},
   "source": [
    "## Tiempo de ejecución\n",
    "Realiza una comparación de tiempo de ejecución utilizando pandas y polars. Lee todos los csv de https://github.com/pola-rs/polars/tree/main/examples/datasets, concatena verticalmente todos los csv y realiza un groupby a 'category' con cualquier función de agregación. De ahí compara el tiempo realizando 10000 iteraciones con la libreria `timeit` de python."
   ]
  },
  {
   "cell_type": "code",
   "execution_count": 52,
   "id": "9526a28d",
   "metadata": {},
   "outputs": [
    {
     "name": "stderr",
     "output_type": "stream",
     "text": [
      "/tmp/ipykernel_5008/275017413.py:3: ParserWarning: Falling back to the 'python' engine because the 'c' engine does not support regex separators (separators > 1 char and different from '\\s+' are interpreted as regex); you can avoid this warning by specifying engine='python'.\n",
      "  dfPandas=pd.concat([pd.read_csv(\"https://github.com/pola-rs/polars/tree/main/examples/datasets/{}\".format(archivo),sep='delimiter') for archivo in archivos])\n",
      "/tmp/ipykernel_5008/275017413.py:3: ParserWarning: Falling back to the 'python' engine because the 'c' engine does not support regex separators (separators > 1 char and different from '\\s+' are interpreted as regex); you can avoid this warning by specifying engine='python'.\n",
      "  dfPandas=pd.concat([pd.read_csv(\"https://github.com/pola-rs/polars/tree/main/examples/datasets/{}\".format(archivo),sep='delimiter') for archivo in archivos])\n",
      "/tmp/ipykernel_5008/275017413.py:3: ParserWarning: Falling back to the 'python' engine because the 'c' engine does not support regex separators (separators > 1 char and different from '\\s+' are interpreted as regex); you can avoid this warning by specifying engine='python'.\n",
      "  dfPandas=pd.concat([pd.read_csv(\"https://github.com/pola-rs/polars/tree/main/examples/datasets/{}\".format(archivo),sep='delimiter') for archivo in archivos])\n",
      "/tmp/ipykernel_5008/275017413.py:3: ParserWarning: Falling back to the 'python' engine because the 'c' engine does not support regex separators (separators > 1 char and different from '\\s+' are interpreted as regex); you can avoid this warning by specifying engine='python'.\n",
      "  dfPandas=pd.concat([pd.read_csv(\"https://github.com/pola-rs/polars/tree/main/examples/datasets/{}\".format(archivo),sep='delimiter') for archivo in archivos])\n",
      "/tmp/ipykernel_5008/275017413.py:3: ParserWarning: Falling back to the 'python' engine because the 'c' engine does not support regex separators (separators > 1 char and different from '\\s+' are interpreted as regex); you can avoid this warning by specifying engine='python'.\n",
      "  dfPandas=pd.concat([pd.read_csv(\"https://github.com/pola-rs/polars/tree/main/examples/datasets/{}\".format(archivo),sep='delimiter') for archivo in archivos])\n"
     ]
    }
   ],
   "source": [
    "## Código aquí\n",
    "archivos = [\"foods1.csv\", \"foods2.csv\", \"foods3.csv\", \"foods4.csv\", \"foods5.csv\"]\n",
    "dfPandas=pd.concat([pd.read_csv(\"https://github.com/pola-rs/polars/tree/main/examples/datasets/{}\".format(archivo),sep='delimiter') for archivo in archivos])\n",
    "\n"
   ]
  },
  {
   "cell_type": "code",
   "execution_count": 53,
   "id": "ff269db4",
   "metadata": {},
   "outputs": [],
   "source": [
    "df=pl.from_pandas(dfPandas)"
   ]
  },
  {
   "cell_type": "code",
   "execution_count": null,
   "id": "d4b73050",
   "metadata": {},
   "outputs": [],
   "source": [
    "tiempoPol = timeit.timeit(lambda: df.select(\"calories\").groupby(\"category\").sum(), number = 1000)\n",
    "tiempoPD = timeit.timeit(lambda: dfPandas.groupby(\"category\")[\"calories\"].sum(), number = 1000)\n",
    "    \n",
    "print('Polars: ', tiempoPol)\n",
    "print('Pandas: ', tiempoPD)"
   ]
  },
  {
   "cell_type": "code",
   "execution_count": null,
   "id": "fd0ec915",
   "metadata": {},
   "outputs": [],
   "source": []
  }
 ],
 "metadata": {
  "kernelspec": {
   "display_name": "Python 3 (ipykernel)",
   "language": "python",
   "name": "python3"
  },
  "language_info": {
   "codemirror_mode": {
    "name": "ipython",
    "version": 3
   },
   "file_extension": ".py",
   "mimetype": "text/x-python",
   "name": "python",
   "nbconvert_exporter": "python",
   "pygments_lexer": "ipython3",
   "version": "3.11.3"
  }
 },
 "nbformat": 4,
 "nbformat_minor": 5
}
