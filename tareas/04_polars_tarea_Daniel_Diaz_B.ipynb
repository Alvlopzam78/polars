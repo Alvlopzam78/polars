{
 "cells": [
  {
   "cell_type": "markdown",
   "id": "67f5d07f",
   "metadata": {},
   "source": [
    "# Ejercicio prueba\n",
    "Consta en hacer simples tareas de pandas pero ahora con la sintaxis de polars.\n",
    "Los csv de emisiones-2016.csv, emisiones-2017.csv, emisiones-2018.csv y emisiones-2019.csv, contienen datos sobre las emisiones contaminates en la ciudad de Madrid en los años 2016, 2017, 2018 y 2019 respectivamente. Escribir un programa con los siguientes requisitos:"
   ]
  },
  {
   "cell_type": "markdown",
   "id": "2fd3c883",
   "metadata": {},
   "source": [
    "*Es importante que el código ea breve, ya que cada ejercicio puede hacerse en una sola instrucción* :OO"
   ]
  },
  {
   "cell_type": "markdown",
   "id": "d2584bcd",
   "metadata": {},
   "source": [
    "### Generar un DataFrame con los datos de los cuatro ficheros.\n",
    "Hint: leer los datos y concatenarlos verticalmente --> **pl.concat**"
   ]
  },
  {
   "cell_type": "code",
   "execution_count": 1,
   "id": "cb105421",
   "metadata": {},
   "outputs": [
    {
     "data": {
      "text/html": [
       "<div><style>\n",
       ".dataframe > thead > tr > th,\n",
       ".dataframe > tbody > tr > td {\n",
       "  text-align: right;\n",
       "}\n",
       "</style>\n",
       "<small>shape: (7266, 69)</small><table border=\"1\" class=\"dataframe\"><thead><tr><th>PROVINCIA</th><th>MUNICIPIO</th><th>ESTACION</th><th>MAGNITUD</th><th>PUNTO_MUESTREO</th><th>ANO</th><th>MES</th><th>D01</th><th>V01</th><th>D02</th><th>V02</th><th>D03</th><th>V03</th><th>D04</th><th>V04</th><th>D05</th><th>V05</th><th>D06</th><th>V06</th><th>D07</th><th>V07</th><th>D08</th><th>V08</th><th>D09</th><th>V09</th><th>D10</th><th>V10</th><th>D11</th><th>V11</th><th>D12</th><th>V12</th><th>D13</th><th>V13</th><th>D14</th><th>V14</th><th>D15</th><th>V15</th><th>D16</th><th>V16</th><th>D17</th><th>V17</th><th>D18</th><th>V18</th><th>D19</th><th>V19</th><th>D20</th><th>V20</th><th>D21</th><th>V21</th><th>D22</th><th>V22</th><th>D23</th><th>V23</th><th>D24</th><th>V24</th><th>D25</th><th>V25</th><th>D26</th><th>V26</th><th>D27</th><th>V27</th><th>D28</th><th>V28</th><th>D29</th><th>V29</th><th>D30</th><th>V30</th><th>D31</th><th>V31</th></tr><tr><td>i64</td><td>i64</td><td>i64</td><td>i64</td><td>str</td><td>i64</td><td>i64</td><td>f64</td><td>str</td><td>f64</td><td>str</td><td>f64</td><td>str</td><td>f64</td><td>str</td><td>f64</td><td>str</td><td>f64</td><td>str</td><td>f64</td><td>str</td><td>f64</td><td>str</td><td>f64</td><td>str</td><td>f64</td><td>str</td><td>f64</td><td>str</td><td>f64</td><td>str</td><td>f64</td><td>str</td><td>f64</td><td>str</td><td>f64</td><td>str</td><td>f64</td><td>str</td><td>f64</td><td>str</td><td>f64</td><td>str</td><td>f64</td><td>str</td><td>f64</td><td>str</td><td>f64</td><td>str</td><td>f64</td><td>str</td><td>f64</td><td>str</td><td>f64</td><td>str</td><td>f64</td><td>str</td><td>f64</td><td>str</td><td>f64</td><td>str</td><td>f64</td><td>str</td><td>f64</td><td>str</td><td>f64</td><td>str</td><td>f64</td><td>str</td></tr></thead><tbody><tr><td>28</td><td>79</td><td>4</td><td>1</td><td>&quot;28079004_1_38&quot;</td><td>2016</td><td>1</td><td>8.0</td><td>&quot;V&quot;</td><td>7.0</td><td>&quot;V&quot;</td><td>6.0</td><td>&quot;V&quot;</td><td>6.0</td><td>&quot;V&quot;</td><td>7.0</td><td>&quot;V&quot;</td><td>6.0</td><td>&quot;V&quot;</td><td>6.0</td><td>&quot;V&quot;</td><td>6.0</td><td>&quot;V&quot;</td><td>6.0</td><td>&quot;V&quot;</td><td>6.0</td><td>&quot;V&quot;</td><td>6.0</td><td>&quot;V&quot;</td><td>7.0</td><td>&quot;V&quot;</td><td>11.0</td><td>&quot;V&quot;</td><td>8.0</td><td>&quot;V&quot;</td><td>8.0</td><td>&quot;V&quot;</td><td>9.0</td><td>&quot;V&quot;</td><td>9.0</td><td>&quot;V&quot;</td><td>8.0</td><td>&quot;V&quot;</td><td>11.0</td><td>&quot;V&quot;</td><td>10.0</td><td>&quot;V&quot;</td><td>9.0</td><td>&quot;V&quot;</td><td>10.0</td><td>&quot;V&quot;</td><td>11.0</td><td>&quot;V&quot;</td><td>11.0</td><td>&quot;V&quot;</td><td>13.0</td><td>&quot;V&quot;</td><td>12.0</td><td>&quot;V&quot;</td><td>9.0</td><td>&quot;V&quot;</td><td>7.0</td><td>&quot;V&quot;</td><td>8.0</td><td>&quot;V&quot;</td><td>9.0</td><td>&quot;V&quot;</td><td>9.0</td><td>&quot;V&quot;</td></tr><tr><td>28</td><td>79</td><td>4</td><td>1</td><td>&quot;28079004_1_38&quot;</td><td>2016</td><td>2</td><td>12.0</td><td>&quot;V&quot;</td><td>13.0</td><td>&quot;V&quot;</td><td>9.0</td><td>&quot;V&quot;</td><td>9.0</td><td>&quot;V&quot;</td><td>11.0</td><td>&quot;V&quot;</td><td>9.0</td><td>&quot;V&quot;</td><td>7.0</td><td>&quot;V&quot;</td><td>7.0</td><td>&quot;V&quot;</td><td>7.0</td><td>&quot;V&quot;</td><td>7.0</td><td>&quot;V&quot;</td><td>7.0</td><td>&quot;V&quot;</td><td>7.0</td><td>&quot;V&quot;</td><td>7.0</td><td>&quot;V&quot;</td><td>7.0</td><td>&quot;V&quot;</td><td>7.0</td><td>&quot;V&quot;</td><td>8.0</td><td>&quot;V&quot;</td><td>8.0</td><td>&quot;V&quot;</td><td>7.0</td><td>&quot;V&quot;</td><td>9.0</td><td>&quot;V&quot;</td><td>11.0</td><td>&quot;V&quot;</td><td>10.0</td><td>&quot;V&quot;</td><td>11.0</td><td>&quot;V&quot;</td><td>10.0</td><td>&quot;V&quot;</td><td>9.0</td><td>&quot;V&quot;</td><td>8.0</td><td>&quot;V&quot;</td><td>7.0</td><td>&quot;V&quot;</td><td>7.0</td><td>&quot;V&quot;</td><td>8.0</td><td>&quot;V&quot;</td><td>9.0</td><td>&quot;V&quot;</td><td>0.0</td><td>&quot;N&quot;</td><td>0.0</td><td>&quot;N&quot;</td></tr><tr><td>28</td><td>79</td><td>4</td><td>1</td><td>&quot;28079004_1_38&quot;</td><td>2016</td><td>3</td><td>11.0</td><td>&quot;V&quot;</td><td>10.0</td><td>&quot;V&quot;</td><td>9.0</td><td>&quot;V&quot;</td><td>9.0</td><td>&quot;V&quot;</td><td>7.0</td><td>&quot;V&quot;</td><td>8.0</td><td>&quot;V&quot;</td><td>8.0</td><td>&quot;V&quot;</td><td>8.0</td><td>&quot;V&quot;</td><td>9.0</td><td>&quot;V&quot;</td><td>8.0</td><td>&quot;V&quot;</td><td>9.0</td><td>&quot;V&quot;</td><td>9.0</td><td>&quot;V&quot;</td><td>9.0</td><td>&quot;V&quot;</td><td>8.0</td><td>&quot;V&quot;</td><td>9.0</td><td>&quot;V&quot;</td><td>11.0</td><td>&quot;V&quot;</td><td>10.0</td><td>&quot;V&quot;</td><td>9.0</td><td>&quot;V&quot;</td><td>7.0</td><td>&quot;V&quot;</td><td>7.0</td><td>&quot;V&quot;</td><td>8.0</td><td>&quot;V&quot;</td><td>8.0</td><td>&quot;V&quot;</td><td>8.0</td><td>&quot;V&quot;</td><td>9.0</td><td>&quot;V&quot;</td><td>9.0</td><td>&quot;V&quot;</td><td>9.0</td><td>&quot;V&quot;</td><td>8.0</td><td>&quot;V&quot;</td><td>7.0</td><td>&quot;V&quot;</td><td>8.0</td><td>&quot;V&quot;</td><td>10.0</td><td>&quot;V&quot;</td><td>8.0</td><td>&quot;V&quot;</td></tr><tr><td>28</td><td>79</td><td>4</td><td>1</td><td>&quot;28079004_1_38&quot;</td><td>2016</td><td>4</td><td>8.0</td><td>&quot;V&quot;</td><td>9.0</td><td>&quot;V&quot;</td><td>9.0</td><td>&quot;V&quot;</td><td>8.0</td><td>&quot;V&quot;</td><td>8.0</td><td>&quot;V&quot;</td><td>9.0</td><td>&quot;V&quot;</td><td>9.0</td><td>&quot;V&quot;</td><td>8.0</td><td>&quot;V&quot;</td><td>8.0</td><td>&quot;V&quot;</td><td>7.0</td><td>&quot;V&quot;</td><td>7.0</td><td>&quot;V&quot;</td><td>8.0</td><td>&quot;V&quot;</td><td>8.0</td><td>&quot;V&quot;</td><td>8.0</td><td>&quot;V&quot;</td><td>9.0</td><td>&quot;V&quot;</td><td>7.0</td><td>&quot;V&quot;</td><td>7.0</td><td>&quot;V&quot;</td><td>8.0</td><td>&quot;V&quot;</td><td>8.0</td><td>&quot;V&quot;</td><td>8.0</td><td>&quot;V&quot;</td><td>7.0</td><td>&quot;V&quot;</td><td>8.0</td><td>&quot;V&quot;</td><td>8.0</td><td>&quot;V&quot;</td><td>8.0</td><td>&quot;V&quot;</td><td>8.0</td><td>&quot;V&quot;</td><td>9.0</td><td>&quot;V&quot;</td><td>9.0</td><td>&quot;V&quot;</td><td>8.0</td><td>&quot;V&quot;</td><td>8.0</td><td>&quot;V&quot;</td><td>8.0</td><td>&quot;V&quot;</td><td>0.0</td><td>&quot;N&quot;</td></tr><tr><td>28</td><td>79</td><td>4</td><td>1</td><td>&quot;28079004_1_38&quot;</td><td>2016</td><td>5</td><td>7.0</td><td>&quot;V&quot;</td><td>8.0</td><td>&quot;V&quot;</td><td>9.0</td><td>&quot;V&quot;</td><td>9.0</td><td>&quot;V&quot;</td><td>8.0</td><td>&quot;V&quot;</td><td>8.0</td><td>&quot;V&quot;</td><td>7.0</td><td>&quot;V&quot;</td><td>7.0</td><td>&quot;V&quot;</td><td>7.0</td><td>&quot;V&quot;</td><td>8.0</td><td>&quot;V&quot;</td><td>7.0</td><td>&quot;V&quot;</td><td>7.0</td><td>&quot;V&quot;</td><td>7.0</td><td>&quot;V&quot;</td><td>7.0</td><td>&quot;V&quot;</td><td>7.0</td><td>&quot;V&quot;</td><td>7.0</td><td>&quot;V&quot;</td><td>7.0</td><td>&quot;V&quot;</td><td>8.0</td><td>&quot;V&quot;</td><td>7.0</td><td>&quot;V&quot;</td><td>8.0</td><td>&quot;V&quot;</td><td>7.0</td><td>&quot;V&quot;</td><td>7.0</td><td>&quot;V&quot;</td><td>7.0</td><td>&quot;V&quot;</td><td>8.0</td><td>&quot;V&quot;</td><td>7.0</td><td>&quot;V&quot;</td><td>7.0</td><td>&quot;V&quot;</td><td>7.0</td><td>&quot;V&quot;</td><td>7.0</td><td>&quot;V&quot;</td><td>7.0</td><td>&quot;V&quot;</td><td>7.0</td><td>&quot;V&quot;</td><td>7.0</td><td>&quot;V&quot;</td></tr><tr><td>28</td><td>79</td><td>4</td><td>1</td><td>&quot;28079004_1_38&quot;</td><td>2016</td><td>6</td><td>7.0</td><td>&quot;V&quot;</td><td>7.0</td><td>&quot;V&quot;</td><td>8.0</td><td>&quot;V&quot;</td><td>7.0</td><td>&quot;V&quot;</td><td>7.0</td><td>&quot;V&quot;</td><td>7.0</td><td>&quot;V&quot;</td><td>7.0</td><td>&quot;V&quot;</td><td>8.0</td><td>&quot;V&quot;</td><td>8.0</td><td>&quot;V&quot;</td><td>8.0</td><td>&quot;V&quot;</td><td>7.0</td><td>&quot;V&quot;</td><td>7.0</td><td>&quot;V&quot;</td><td>7.0</td><td>&quot;V&quot;</td><td>7.0</td><td>&quot;V&quot;</td><td>7.0</td><td>&quot;V&quot;</td><td>7.0</td><td>&quot;V&quot;</td><td>7.0</td><td>&quot;V&quot;</td><td>7.0</td><td>&quot;V&quot;</td><td>7.0</td><td>&quot;V&quot;</td><td>8.0</td><td>&quot;V&quot;</td><td>7.0</td><td>&quot;V&quot;</td><td>7.0</td><td>&quot;V&quot;</td><td>7.0</td><td>&quot;V&quot;</td><td>8.0</td><td>&quot;V&quot;</td><td>7.0</td><td>&quot;V&quot;</td><td>7.0</td><td>&quot;V&quot;</td><td>7.0</td><td>&quot;V&quot;</td><td>7.0</td><td>&quot;V&quot;</td><td>8.0</td><td>&quot;V&quot;</td><td>8.0</td><td>&quot;V&quot;</td><td>0.0</td><td>&quot;N&quot;</td></tr><tr><td>28</td><td>79</td><td>4</td><td>1</td><td>&quot;28079004_1_38&quot;</td><td>2016</td><td>7</td><td>8.0</td><td>&quot;V&quot;</td><td>7.0</td><td>&quot;V&quot;</td><td>7.0</td><td>&quot;V&quot;</td><td>7.0</td><td>&quot;V&quot;</td><td>7.0</td><td>&quot;V&quot;</td><td>7.0</td><td>&quot;V&quot;</td><td>7.0</td><td>&quot;V&quot;</td><td>7.0</td><td>&quot;V&quot;</td><td>7.0</td><td>&quot;V&quot;</td><td>6.0</td><td>&quot;V&quot;</td><td>7.0</td><td>&quot;V&quot;</td><td>7.0</td><td>&quot;V&quot;</td><td>7.0</td><td>&quot;V&quot;</td><td>7.0</td><td>&quot;V&quot;</td><td>7.0</td><td>&quot;V&quot;</td><td>7.0</td><td>&quot;V&quot;</td><td>7.0</td><td>&quot;V&quot;</td><td>7.0</td><td>&quot;V&quot;</td><td>7.0</td><td>&quot;V&quot;</td><td>7.0</td><td>&quot;V&quot;</td><td>8.0</td><td>&quot;V&quot;</td><td>7.0</td><td>&quot;V&quot;</td><td>7.0</td><td>&quot;V&quot;</td><td>7.0</td><td>&quot;V&quot;</td><td>7.0</td><td>&quot;V&quot;</td><td>7.0</td><td>&quot;V&quot;</td><td>7.0</td><td>&quot;V&quot;</td><td>7.0</td><td>&quot;V&quot;</td><td>7.0</td><td>&quot;V&quot;</td><td>7.0</td><td>&quot;V&quot;</td><td>7.0</td><td>&quot;V&quot;</td></tr><tr><td>28</td><td>79</td><td>4</td><td>1</td><td>&quot;28079004_1_38&quot;</td><td>2016</td><td>8</td><td>7.0</td><td>&quot;V&quot;</td><td>7.0</td><td>&quot;V&quot;</td><td>7.0</td><td>&quot;V&quot;</td><td>7.0</td><td>&quot;V&quot;</td><td>7.0</td><td>&quot;V&quot;</td><td>7.0</td><td>&quot;V&quot;</td><td>7.0</td><td>&quot;V&quot;</td><td>7.0</td><td>&quot;V&quot;</td><td>7.0</td><td>&quot;V&quot;</td><td>7.0</td><td>&quot;V&quot;</td><td>7.0</td><td>&quot;V&quot;</td><td>7.0</td><td>&quot;V&quot;</td><td>7.0</td><td>&quot;V&quot;</td><td>7.0</td><td>&quot;V&quot;</td><td>7.0</td><td>&quot;V&quot;</td><td>7.0</td><td>&quot;V&quot;</td><td>7.0</td><td>&quot;V&quot;</td><td>7.0</td><td>&quot;V&quot;</td><td>7.0</td><td>&quot;V&quot;</td><td>7.0</td><td>&quot;V&quot;</td><td>7.0</td><td>&quot;V&quot;</td><td>7.0</td><td>&quot;V&quot;</td><td>7.0</td><td>&quot;V&quot;</td><td>7.0</td><td>&quot;V&quot;</td><td>7.0</td><td>&quot;V&quot;</td><td>7.0</td><td>&quot;V&quot;</td><td>7.0</td><td>&quot;V&quot;</td><td>7.0</td><td>&quot;V&quot;</td><td>7.0</td><td>&quot;V&quot;</td><td>7.0</td><td>&quot;V&quot;</td><td>7.0</td><td>&quot;V&quot;</td></tr><tr><td>28</td><td>79</td><td>4</td><td>1</td><td>&quot;28079004_1_38&quot;</td><td>2016</td><td>9</td><td>7.0</td><td>&quot;V&quot;</td><td>8.0</td><td>&quot;V&quot;</td><td>8.0</td><td>&quot;V&quot;</td><td>8.0</td><td>&quot;V&quot;</td><td>9.0</td><td>&quot;V&quot;</td><td>8.0</td><td>&quot;V&quot;</td><td>9.0</td><td>&quot;V&quot;</td><td>8.0</td><td>&quot;V&quot;</td><td>7.0</td><td>&quot;V&quot;</td><td>7.0</td><td>&quot;V&quot;</td><td>8.0</td><td>&quot;V&quot;</td><td>8.0</td><td>&quot;V&quot;</td><td>7.0</td><td>&quot;V&quot;</td><td>7.0</td><td>&quot;V&quot;</td><td>7.0</td><td>&quot;V&quot;</td><td>8.0</td><td>&quot;V&quot;</td><td>8.0</td><td>&quot;V&quot;</td><td>8.0</td><td>&quot;V&quot;</td><td>8.0</td><td>&quot;V&quot;</td><td>8.0</td><td>&quot;V&quot;</td><td>9.0</td><td>&quot;V&quot;</td><td>9.0</td><td>&quot;V&quot;</td><td>10.0</td><td>&quot;V&quot;</td><td>9.0</td><td>&quot;V&quot;</td><td>9.0</td><td>&quot;V&quot;</td><td>7.0</td><td>&quot;V&quot;</td><td>8.0</td><td>&quot;V&quot;</td><td>8.0</td><td>&quot;V&quot;</td><td>9.0</td><td>&quot;V&quot;</td><td>9.0</td><td>&quot;V&quot;</td><td>0.0</td><td>&quot;N&quot;</td></tr><tr><td>28</td><td>79</td><td>4</td><td>1</td><td>&quot;28079004_1_38&quot;</td><td>2016</td><td>10</td><td>9.0</td><td>&quot;V&quot;</td><td>8.0</td><td>&quot;V&quot;</td><td>10.0</td><td>&quot;V&quot;</td><td>10.0</td><td>&quot;V&quot;</td><td>10.0</td><td>&quot;V&quot;</td><td>10.0</td><td>&quot;V&quot;</td><td>10.0</td><td>&quot;V&quot;</td><td>12.0</td><td>&quot;V&quot;</td><td>9.0</td><td>&quot;V&quot;</td><td>9.0</td><td>&quot;V&quot;</td><td>9.0</td><td>&quot;V&quot;</td><td>8.0</td><td>&quot;V&quot;</td><td>8.0</td><td>&quot;V&quot;</td><td>8.0</td><td>&quot;V&quot;</td><td>9.0</td><td>&quot;V&quot;</td><td>10.0</td><td>&quot;V&quot;</td><td>9.0</td><td>&quot;V&quot;</td><td>8.0</td><td>&quot;V&quot;</td><td>8.0</td><td>&quot;V&quot;</td><td>9.0</td><td>&quot;V&quot;</td><td>6.0</td><td>&quot;V&quot;</td><td>2.0</td><td>&quot;V&quot;</td><td>2.0</td><td>&quot;V&quot;</td><td>2.0</td><td>&quot;V&quot;</td><td>3.0</td><td>&quot;V&quot;</td><td>5.0</td><td>&quot;V&quot;</td><td>5.0</td><td>&quot;V&quot;</td><td>4.0</td><td>&quot;V&quot;</td><td>4.0</td><td>&quot;V&quot;</td><td>6.0</td><td>&quot;V&quot;</td><td>7.0</td><td>&quot;V&quot;</td></tr><tr><td>28</td><td>79</td><td>4</td><td>1</td><td>&quot;28079004_1_38&quot;</td><td>2016</td><td>11</td><td>4.0</td><td>&quot;V&quot;</td><td>5.0</td><td>&quot;V&quot;</td><td>6.0</td><td>&quot;V&quot;</td><td>3.0</td><td>&quot;V&quot;</td><td>2.0</td><td>&quot;V&quot;</td><td>2.0</td><td>&quot;V&quot;</td><td>2.0</td><td>&quot;V&quot;</td><td>3.0</td><td>&quot;V&quot;</td><td>2.0</td><td>&quot;V&quot;</td><td>5.0</td><td>&quot;V&quot;</td><td>7.0</td><td>&quot;V&quot;</td><td>5.0</td><td>&quot;V&quot;</td><td>4.0</td><td>&quot;V&quot;</td><td>4.0</td><td>&quot;V&quot;</td><td>6.0</td><td>&quot;V&quot;</td><td>8.0</td><td>&quot;V&quot;</td><td>9.0</td><td>&quot;V&quot;</td><td>7.0</td><td>&quot;V&quot;</td><td>4.0</td><td>&quot;V&quot;</td><td>3.0</td><td>&quot;V&quot;</td><td>2.0</td><td>&quot;V&quot;</td><td>3.0</td><td>&quot;V&quot;</td><td>3.0</td><td>&quot;V&quot;</td><td>3.0</td><td>&quot;V&quot;</td><td>3.0</td><td>&quot;V&quot;</td><td>2.0</td><td>&quot;V&quot;</td><td>2.0</td><td>&quot;V&quot;</td><td>4.0</td><td>&quot;V&quot;</td><td>5.0</td><td>&quot;V&quot;</td><td>3.0</td><td>&quot;V&quot;</td><td>0.0</td><td>&quot;N&quot;</td></tr><tr><td>28</td><td>79</td><td>4</td><td>1</td><td>&quot;28079004_1_38&quot;</td><td>2016</td><td>12</td><td>3.0</td><td>&quot;V&quot;</td><td>5.0</td><td>&quot;V&quot;</td><td>4.0</td><td>&quot;V&quot;</td><td>2.0</td><td>&quot;V&quot;</td><td>3.0</td><td>&quot;V&quot;</td><td>4.0</td><td>&quot;V&quot;</td><td>7.0</td><td>&quot;V&quot;</td><td>6.0</td><td>&quot;V&quot;</td><td>8.0</td><td>&quot;V&quot;</td><td>7.0</td><td>&quot;V&quot;</td><td>7.0</td><td>&quot;V&quot;</td><td>9.0</td><td>&quot;V&quot;</td><td>11.0</td><td>&quot;V&quot;</td><td>7.0</td><td>&quot;V&quot;</td><td>5.0</td><td>&quot;V&quot;</td><td>5.0</td><td>&quot;V&quot;</td><td>5.0</td><td>&quot;V&quot;</td><td>6.0</td><td>&quot;V&quot;</td><td>7.0</td><td>&quot;V&quot;</td><td>10.0</td><td>&quot;V&quot;</td><td>12.0</td><td>&quot;V&quot;</td><td>13.0</td><td>&quot;V&quot;</td><td>12.0</td><td>&quot;V&quot;</td><td>8.0</td><td>&quot;V&quot;</td><td>9.0</td><td>&quot;V&quot;</td><td>15.0</td><td>&quot;V&quot;</td><td>17.0</td><td>&quot;V&quot;</td><td>13.0</td><td>&quot;V&quot;</td><td>13.0</td><td>&quot;V&quot;</td><td>12.0</td><td>&quot;V&quot;</td><td>7.0</td><td>&quot;V&quot;</td></tr><tr><td>&hellip;</td><td>&hellip;</td><td>&hellip;</td><td>&hellip;</td><td>&hellip;</td><td>&hellip;</td><td>&hellip;</td><td>&hellip;</td><td>&hellip;</td><td>&hellip;</td><td>&hellip;</td><td>&hellip;</td><td>&hellip;</td><td>&hellip;</td><td>&hellip;</td><td>&hellip;</td><td>&hellip;</td><td>&hellip;</td><td>&hellip;</td><td>&hellip;</td><td>&hellip;</td><td>&hellip;</td><td>&hellip;</td><td>&hellip;</td><td>&hellip;</td><td>&hellip;</td><td>&hellip;</td><td>&hellip;</td><td>&hellip;</td><td>&hellip;</td><td>&hellip;</td><td>&hellip;</td><td>&hellip;</td><td>&hellip;</td><td>&hellip;</td><td>&hellip;</td><td>&hellip;</td><td>&hellip;</td><td>&hellip;</td><td>&hellip;</td><td>&hellip;</td><td>&hellip;</td><td>&hellip;</td><td>&hellip;</td><td>&hellip;</td><td>&hellip;</td><td>&hellip;</td><td>&hellip;</td><td>&hellip;</td><td>&hellip;</td><td>&hellip;</td><td>&hellip;</td><td>&hellip;</td><td>&hellip;</td><td>&hellip;</td><td>&hellip;</td><td>&hellip;</td><td>&hellip;</td><td>&hellip;</td><td>&hellip;</td><td>&hellip;</td><td>&hellip;</td><td>&hellip;</td><td>&hellip;</td><td>&hellip;</td><td>&hellip;</td><td>&hellip;</td><td>&hellip;</td><td>&hellip;</td></tr><tr><td>28</td><td>79</td><td>60</td><td>14</td><td>&quot;28079060_14_6&quot;</td><td>2019</td><td>1</td><td>14.0</td><td>&quot;V&quot;</td><td>11.0</td><td>&quot;V&quot;</td><td>23.0</td><td>&quot;V&quot;</td><td>9.0</td><td>&quot;V&quot;</td><td>9.0</td><td>&quot;V&quot;</td><td>11.0</td><td>&quot;V&quot;</td><td>16.0</td><td>&quot;V&quot;</td><td>14.0</td><td>&quot;V&quot;</td><td>22.0</td><td>&quot;V&quot;</td><td>46.0</td><td>&quot;V&quot;</td><td>16.0</td><td>&quot;V&quot;</td><td>19.0</td><td>&quot;V&quot;</td><td>15.0</td><td>&quot;V&quot;</td><td>4.0</td><td>&quot;V&quot;</td><td>21.0</td><td>&quot;V&quot;</td><td>18.0</td><td>&quot;V&quot;</td><td>14.0</td><td>&quot;V&quot;</td><td>17.0</td><td>&quot;V&quot;</td><td>12.0</td><td>&quot;V&quot;</td><td>39.0</td><td>&quot;V&quot;</td><td>41.0</td><td>&quot;V&quot;</td><td>29.0</td><td>&quot;V&quot;</td><td>70.0</td><td>&quot;V&quot;</td><td>48.0</td><td>&quot;V&quot;</td><td>40.0</td><td>&quot;V&quot;</td><td>22.0</td><td>&quot;V&quot;</td><td>63.0</td><td>&quot;V&quot;</td><td>66.0</td><td>&quot;V&quot;</td><td>63.0</td><td>&quot;V&quot;</td><td>66.0</td><td>&quot;V&quot;</td><td>56.0</td><td>&quot;V&quot;</td></tr><tr><td>28</td><td>79</td><td>60</td><td>14</td><td>&quot;28079060_14_6&quot;</td><td>2019</td><td>2</td><td>70.0</td><td>&quot;V&quot;</td><td>74.0</td><td>&quot;V&quot;</td><td>54.0</td><td>&quot;V&quot;</td><td>9.0</td><td>&quot;V&quot;</td><td>14.0</td><td>&quot;V&quot;</td><td>17.0</td><td>&quot;V&quot;</td><td>17.0</td><td>&quot;V&quot;</td><td>30.0</td><td>&quot;V&quot;</td><td>28.0</td><td>&quot;V&quot;</td><td>51.0</td><td>&quot;V&quot;</td><td>57.0</td><td>&quot;V&quot;</td><td>41.0</td><td>&quot;V&quot;</td><td>29.0</td><td>&quot;V&quot;</td><td>29.0</td><td>&quot;V&quot;</td><td>23.0</td><td>&quot;V&quot;</td><td>48.0</td><td>&quot;V&quot;</td><td>43.0</td><td>&quot;V&quot;</td><td>34.0</td><td>&quot;V&quot;</td><td>30.0</td><td>&quot;V&quot;</td><td>29.0</td><td>&quot;V&quot;</td><td>31.0</td><td>&quot;V&quot;</td><td>32.0</td><td>&quot;V&quot;</td><td>30.0</td><td>&quot;V&quot;</td><td>52.0</td><td>&quot;V&quot;</td><td>29.0</td><td>&quot;V&quot;</td><td>36.0</td><td>&quot;V&quot;</td><td>31.0</td><td>&quot;V&quot;</td><td>27.0</td><td>&quot;V&quot;</td><td>0.0</td><td>&quot;N&quot;</td><td>0.0</td><td>&quot;N&quot;</td><td>0.0</td><td>&quot;N&quot;</td></tr><tr><td>28</td><td>79</td><td>60</td><td>14</td><td>&quot;28079060_14_6&quot;</td><td>2019</td><td>3</td><td>56.0</td><td>&quot;V&quot;</td><td>40.0</td><td>&quot;V&quot;</td><td>54.0</td><td>&quot;V&quot;</td><td>64.0</td><td>&quot;V&quot;</td><td>63.0</td><td>&quot;V&quot;</td><td>58.0</td><td>&quot;V&quot;</td><td>68.0</td><td>&quot;V&quot;</td><td>51.0</td><td>&quot;V&quot;</td><td>43.0</td><td>&quot;V&quot;</td><td>31.0</td><td>&quot;V&quot;</td><td>37.0</td><td>&quot;V&quot;</td><td>49.0</td><td>&quot;V&quot;</td><td>67.0</td><td>&quot;V&quot;</td><td>53.0</td><td>&quot;V&quot;</td><td>38.0</td><td>&quot;V&quot;</td><td>67.0</td><td>&quot;N&quot;</td><td>73.0</td><td>&quot;V&quot;</td><td>82.0</td><td>&quot;V&quot;</td><td>82.0</td><td>&quot;V&quot;</td><td>79.0</td><td>&quot;V&quot;</td><td>64.0</td><td>&quot;V&quot;</td><td>67.0</td><td>&quot;V&quot;</td><td>63.0</td><td>&quot;V&quot;</td><td>70.0</td><td>&quot;V&quot;</td><td>81.0</td><td>&quot;V&quot;</td><td>94.0</td><td>&quot;V&quot;</td><td>67.0</td><td>&quot;V&quot;</td><td>68.0</td><td>&quot;V&quot;</td><td>80.0</td><td>&quot;V&quot;</td><td>95.0</td><td>&quot;V&quot;</td><td>80.0</td><td>&quot;V&quot;</td></tr><tr><td>28</td><td>79</td><td>60</td><td>14</td><td>&quot;28079060_14_6&quot;</td><td>2019</td><td>4</td><td>54.0</td><td>&quot;V&quot;</td><td>53.0</td><td>&quot;V&quot;</td><td>82.0</td><td>&quot;V&quot;</td><td>86.0</td><td>&quot;V&quot;</td><td>77.0</td><td>&quot;V&quot;</td><td>81.0</td><td>&quot;V&quot;</td><td>86.0</td><td>&quot;V&quot;</td><td>67.0</td><td>&quot;V&quot;</td><td>75.0</td><td>&quot;V&quot;</td><td>85.0</td><td>&quot;V&quot;</td><td>82.0</td><td>&quot;V&quot;</td><td>77.0</td><td>&quot;V&quot;</td><td>77.0</td><td>&quot;V&quot;</td><td>61.0</td><td>&quot;V&quot;</td><td>51.0</td><td>&quot;V&quot;</td><td>79.0</td><td>&quot;V&quot;</td><td>89.0</td><td>&quot;V&quot;</td><td>103.0</td><td>&quot;V&quot;</td><td>85.0</td><td>&quot;V&quot;</td><td>109.0</td><td>&quot;V&quot;</td><td>108.0</td><td>&quot;V&quot;</td><td>88.0</td><td>&quot;V&quot;</td><td>93.0</td><td>&quot;V&quot;</td><td>65.0</td><td>&quot;V&quot;</td><td>79.0</td><td>&quot;V&quot;</td><td>79.0</td><td>&quot;V&quot;</td><td>60.0</td><td>&quot;V&quot;</td><td>76.0</td><td>&quot;V&quot;</td><td>69.0</td><td>&quot;V&quot;</td><td>71.0</td><td>&quot;V&quot;</td><td>0.0</td><td>&quot;N&quot;</td></tr><tr><td>28</td><td>79</td><td>60</td><td>14</td><td>&quot;28079060_14_6&quot;</td><td>2019</td><td>5</td><td>87.0</td><td>&quot;V&quot;</td><td>95.0</td><td>&quot;V&quot;</td><td>79.0</td><td>&quot;V&quot;</td><td>93.0</td><td>&quot;V&quot;</td><td>94.0</td><td>&quot;V&quot;</td><td>77.0</td><td>&quot;V&quot;</td><td>72.0</td><td>&quot;V&quot;</td><td>63.0</td><td>&quot;V&quot;</td><td>67.0</td><td>&quot;V&quot;</td><td>41.0</td><td>&quot;V&quot;</td><td>78.0</td><td>&quot;V&quot;</td><td>92.0</td><td>&quot;V&quot;</td><td>89.0</td><td>&quot;V&quot;</td><td>97.0</td><td>&quot;V&quot;</td><td>75.0</td><td>&quot;V&quot;</td><td>79.0</td><td>&quot;V&quot;</td><td>87.0</td><td>&quot;V&quot;</td><td>81.0</td><td>&quot;V&quot;</td><td>86.0</td><td>&quot;V&quot;</td><td>85.0</td><td>&quot;V&quot;</td><td>91.0</td><td>&quot;V&quot;</td><td>88.0</td><td>&quot;V&quot;</td><td>75.0</td><td>&quot;V&quot;</td><td>80.0</td><td>&quot;V&quot;</td><td>76.0</td><td>&quot;V&quot;</td><td>72.0</td><td>&quot;V&quot;</td><td>58.0</td><td>&quot;V&quot;</td><td>76.0</td><td>&quot;V&quot;</td><td>74.0</td><td>&quot;V&quot;</td><td>66.0</td><td>&quot;V&quot;</td><td>85.0</td><td>&quot;V&quot;</td></tr><tr><td>28</td><td>79</td><td>60</td><td>14</td><td>&quot;28079060_14_6&quot;</td><td>2019</td><td>6</td><td>92.0</td><td>&quot;V&quot;</td><td>98.0</td><td>&quot;V&quot;</td><td>79.0</td><td>&quot;V&quot;</td><td>72.0</td><td>&quot;V&quot;</td><td>74.0</td><td>&quot;V&quot;</td><td>81.0</td><td>&quot;V&quot;</td><td>84.0</td><td>&quot;V&quot;</td><td>95.0</td><td>&quot;V&quot;</td><td>86.0</td><td>&quot;V&quot;</td><td>81.0</td><td>&quot;V&quot;</td><td>83.0</td><td>&quot;V&quot;</td><td>78.0</td><td>&quot;V&quot;</td><td>84.0</td><td>&quot;V&quot;</td><td>90.0</td><td>&quot;V&quot;</td><td>94.0</td><td>&quot;V&quot;</td><td>88.0</td><td>&quot;V&quot;</td><td>78.0</td><td>&quot;V&quot;</td><td>85.0</td><td>&quot;V&quot;</td><td>68.0</td><td>&quot;V&quot;</td><td>64.0</td><td>&quot;V&quot;</td><td>81.0</td><td>&quot;V&quot;</td><td>88.0</td><td>&quot;V&quot;</td><td>79.0</td><td>&quot;V&quot;</td><td>77.0</td><td>&quot;V&quot;</td><td>68.0</td><td>&quot;V&quot;</td><td>75.0</td><td>&quot;V&quot;</td><td>91.0</td><td>&quot;V&quot;</td><td>94.0</td><td>&quot;V&quot;</td><td>108.0</td><td>&quot;V&quot;</td><td>106.0</td><td>&quot;V&quot;</td><td>0.0</td><td>&quot;N&quot;</td></tr><tr><td>28</td><td>79</td><td>60</td><td>14</td><td>&quot;28079060_14_6&quot;</td><td>2019</td><td>7</td><td>94.0</td><td>&quot;V&quot;</td><td>110.0</td><td>&quot;V&quot;</td><td>103.0</td><td>&quot;V&quot;</td><td>106.0</td><td>&quot;V&quot;</td><td>93.0</td><td>&quot;V&quot;</td><td>79.0</td><td>&quot;V&quot;</td><td>90.0</td><td>&quot;V&quot;</td><td>85.0</td><td>&quot;V&quot;</td><td>93.0</td><td>&quot;V&quot;</td><td>94.0</td><td>&quot;V&quot;</td><td>97.0</td><td>&quot;V&quot;</td><td>90.0</td><td>&quot;V&quot;</td><td>93.0</td><td>&quot;V&quot;</td><td>96.0</td><td>&quot;V&quot;</td><td>103.0</td><td>&quot;V&quot;</td><td>111.0</td><td>&quot;V&quot;</td><td>97.0</td><td>&quot;V&quot;</td><td>119.0</td><td>&quot;V&quot;</td><td>107.0</td><td>&quot;V&quot;</td><td>115.0</td><td>&quot;V&quot;</td><td>107.0</td><td>&quot;V&quot;</td><td>93.0</td><td>&quot;V&quot;</td><td>105.0</td><td>&quot;V&quot;</td><td>112.0</td><td>&quot;V&quot;</td><td>98.0</td><td>&quot;V&quot;</td><td>80.0</td><td>&quot;V&quot;</td><td>81.0</td><td>&quot;V&quot;</td><td>79.0</td><td>&quot;V&quot;</td><td>76.0</td><td>&quot;V&quot;</td><td>99.0</td><td>&quot;V&quot;</td><td>92.0</td><td>&quot;V&quot;</td></tr><tr><td>28</td><td>79</td><td>60</td><td>14</td><td>&quot;28079060_14_6&quot;</td><td>2019</td><td>8</td><td>94.0</td><td>&quot;V&quot;</td><td>104.0</td><td>&quot;V&quot;</td><td>106.0</td><td>&quot;V&quot;</td><td>99.0</td><td>&quot;V&quot;</td><td>77.0</td><td>&quot;V&quot;</td><td>82.0</td><td>&quot;V&quot;</td><td>68.0</td><td>&quot;V&quot;</td><td>71.0</td><td>&quot;V&quot;</td><td>44.0</td><td>&quot;V&quot;</td><td>82.0</td><td>&quot;V&quot;</td><td>97.0</td><td>&quot;V&quot;</td><td>87.0</td><td>&quot;V&quot;</td><td>89.0</td><td>&quot;V&quot;</td><td>89.0</td><td>&quot;V&quot;</td><td>93.0</td><td>&quot;V&quot;</td><td>89.0</td><td>&quot;V&quot;</td><td>82.0</td><td>&quot;V&quot;</td><td>82.0</td><td>&quot;V&quot;</td><td>65.0</td><td>&quot;V&quot;</td><td>77.0</td><td>&quot;V&quot;</td><td>87.0</td><td>&quot;V&quot;</td><td>86.0</td><td>&quot;V&quot;</td><td>97.0</td><td>&quot;V&quot;</td><td>104.0</td><td>&quot;V&quot;</td><td>96.0</td><td>&quot;V&quot;</td><td>85.0</td><td>&quot;V&quot;</td><td>88.0</td><td>&quot;V&quot;</td><td>90.0</td><td>&quot;V&quot;</td><td>99.0</td><td>&quot;V&quot;</td><td>108.0</td><td>&quot;V&quot;</td><td>98.0</td><td>&quot;V&quot;</td></tr><tr><td>28</td><td>79</td><td>60</td><td>14</td><td>&quot;28079060_14_6&quot;</td><td>2019</td><td>9</td><td>88.0</td><td>&quot;V&quot;</td><td>82.0</td><td>&quot;V&quot;</td><td>80.0</td><td>&quot;V&quot;</td><td>92.0</td><td>&quot;V&quot;</td><td>79.0</td><td>&quot;V&quot;</td><td>75.0</td><td>&quot;V&quot;</td><td>86.0</td><td>&quot;V&quot;</td><td>87.0</td><td>&quot;V&quot;</td><td>69.0</td><td>&quot;V&quot;</td><td>68.0</td><td>&quot;V&quot;</td><td>89.0</td><td>&quot;V&quot;</td><td>85.0</td><td>&quot;V&quot;</td><td>82.0</td><td>&quot;V&quot;</td><td>72.0</td><td>&quot;V&quot;</td><td>59.0</td><td>&quot;V&quot;</td><td>64.0</td><td>&quot;V&quot;</td><td>76.0</td><td>&quot;V&quot;</td><td>77.0</td><td>&quot;V&quot;</td><td>79.0</td><td>&quot;V&quot;</td><td>69.0</td><td>&quot;V&quot;</td><td>59.0</td><td>&quot;V&quot;</td><td>59.0</td><td>&quot;V&quot;</td><td>46.0</td><td>&quot;V&quot;</td><td>49.0</td><td>&quot;V&quot;</td><td>69.0</td><td>&quot;V&quot;</td><td>57.0</td><td>&quot;V&quot;</td><td>54.0</td><td>&quot;V&quot;</td><td>68.0</td><td>&quot;V&quot;</td><td>70.0</td><td>&quot;V&quot;</td><td>55.0</td><td>&quot;V&quot;</td><td>0.0</td><td>&quot;N&quot;</td></tr><tr><td>28</td><td>79</td><td>60</td><td>14</td><td>&quot;28079060_14_6&quot;</td><td>2019</td><td>10</td><td>44.0</td><td>&quot;V&quot;</td><td>75.0</td><td>&quot;V&quot;</td><td>44.0</td><td>&quot;V&quot;</td><td>54.0</td><td>&quot;V&quot;</td><td>65.0</td><td>&quot;V&quot;</td><td>68.0</td><td>&quot;V&quot;</td><td>36.0</td><td>&quot;V&quot;</td><td>49.0</td><td>&quot;V&quot;</td><td>50.0</td><td>&quot;V&quot;</td><td>60.0</td><td>&quot;V&quot;</td><td>46.0</td><td>&quot;V&quot;</td><td>55.0</td><td>&quot;V&quot;</td><td>58.0</td><td>&quot;V&quot;</td><td>57.0</td><td>&quot;V&quot;</td><td>60.0</td><td>&quot;V&quot;</td><td>48.0</td><td>&quot;V&quot;</td><td>38.0</td><td>&quot;V&quot;</td><td>47.0</td><td>&quot;V&quot;</td><td>64.0</td><td>&quot;V&quot;</td><td>63.0</td><td>&quot;V&quot;</td><td>36.0</td><td>&quot;V&quot;</td><td>37.0</td><td>&quot;V&quot;</td><td>39.0</td><td>&quot;V&quot;</td><td>45.0</td><td>&quot;V&quot;</td><td>21.0</td><td>&quot;V&quot;</td><td>23.0</td><td>&quot;V&quot;</td><td>28.0</td><td>&quot;V&quot;</td><td>33.0</td><td>&quot;V&quot;</td><td>16.0</td><td>&quot;V&quot;</td><td>19.0</td><td>&quot;V&quot;</td><td>47.0</td><td>&quot;V&quot;</td></tr><tr><td>28</td><td>79</td><td>60</td><td>14</td><td>&quot;28079060_14_6&quot;</td><td>2019</td><td>11</td><td>41.0</td><td>&quot;V&quot;</td><td>55.0</td><td>&quot;V&quot;</td><td>79.0</td><td>&quot;V&quot;</td><td>65.0</td><td>&quot;V&quot;</td><td>64.0</td><td>&quot;V&quot;</td><td>51.0</td><td>&quot;V&quot;</td><td>62.0</td><td>&quot;V&quot;</td><td>66.0</td><td>&quot;V&quot;</td><td>63.0</td><td>&quot;V&quot;</td><td>62.0</td><td>&quot;V&quot;</td><td>42.0</td><td>&quot;V&quot;</td><td>44.0</td><td>&quot;V&quot;</td><td>50.0</td><td>&quot;V&quot;</td><td>66.0</td><td>&quot;V&quot;</td><td>56.0</td><td>&quot;V&quot;</td><td>52.0</td><td>&quot;V&quot;</td><td>58.0</td><td>&quot;V&quot;</td><td>39.0</td><td>&quot;V&quot;</td><td>15.0</td><td>&quot;V&quot;</td><td>11.0</td><td>&quot;V&quot;</td><td>28.0</td><td>&quot;V&quot;</td><td>38.0</td><td>&quot;V&quot;</td><td>75.0</td><td>&quot;V&quot;</td><td>69.0</td><td>&quot;V&quot;</td><td>45.0</td><td>&quot;V&quot;</td><td>35.0</td><td>&quot;V&quot;</td><td>55.0</td><td>&quot;V&quot;</td><td>52.0</td><td>&quot;V&quot;</td><td>47.0</td><td>&quot;V&quot;</td><td>56.0</td><td>&quot;V&quot;</td><td>0.0</td><td>&quot;N&quot;</td></tr><tr><td>28</td><td>79</td><td>60</td><td>14</td><td>&quot;28079060_14_6&quot;</td><td>2019</td><td>12</td><td>47.0</td><td>&quot;V&quot;</td><td>53.0</td><td>&quot;V&quot;</td><td>45.0</td><td>&quot;V&quot;</td><td>44.0</td><td>&quot;V&quot;</td><td>49.0</td><td>&quot;V&quot;</td><td>41.0</td><td>&quot;V&quot;</td><td>31.0</td><td>&quot;V&quot;</td><td>9.0</td><td>&quot;V&quot;</td><td>22.0</td><td>&quot;V&quot;</td><td>8.0</td><td>&quot;V&quot;</td><td>9.0</td><td>&quot;N&quot;</td><td>104.0</td><td>&quot;N&quot;</td><td>51.0</td><td>&quot;V&quot;</td><td>41.0</td><td>&quot;V&quot;</td><td>33.0</td><td>&quot;V&quot;</td><td>28.0</td><td>&quot;V&quot;</td><td>27.0</td><td>&quot;V&quot;</td><td>21.0</td><td>&quot;V&quot;</td><td>33.0</td><td>&quot;V&quot;</td><td>59.0</td><td>&quot;V&quot;</td><td>61.0</td><td>&quot;V&quot;</td><td>68.0</td><td>&quot;V&quot;</td><td>36.0</td><td>&quot;V&quot;</td><td>9.0</td><td>&quot;V&quot;</td><td>11.0</td><td>&quot;V&quot;</td><td>10.0</td><td>&quot;V&quot;</td><td>17.0</td><td>&quot;V&quot;</td><td>13.0</td><td>&quot;V&quot;</td><td>14.0</td><td>&quot;V&quot;</td><td>5.0</td><td>&quot;V&quot;</td><td>4.0</td><td>&quot;V&quot;</td></tr></tbody></table></div>"
      ],
      "text/plain": [
       "shape: (7_266, 69)\n",
       "┌───────────┬───────────┬──────────┬──────────┬───┬──────┬─────┬──────┬─────┐\n",
       "│ PROVINCIA ┆ MUNICIPIO ┆ ESTACION ┆ MAGNITUD ┆ … ┆ D30  ┆ V30 ┆ D31  ┆ V31 │\n",
       "│ ---       ┆ ---       ┆ ---      ┆ ---      ┆   ┆ ---  ┆ --- ┆ ---  ┆ --- │\n",
       "│ i64       ┆ i64       ┆ i64      ┆ i64      ┆   ┆ f64  ┆ str ┆ f64  ┆ str │\n",
       "╞═══════════╪═══════════╪══════════╪══════════╪═══╪══════╪═════╪══════╪═════╡\n",
       "│ 28        ┆ 79        ┆ 4        ┆ 1        ┆ … ┆ 9.0  ┆ V   ┆ 9.0  ┆ V   │\n",
       "│ 28        ┆ 79        ┆ 4        ┆ 1        ┆ … ┆ 0.0  ┆ N   ┆ 0.0  ┆ N   │\n",
       "│ 28        ┆ 79        ┆ 4        ┆ 1        ┆ … ┆ 10.0 ┆ V   ┆ 8.0  ┆ V   │\n",
       "│ 28        ┆ 79        ┆ 4        ┆ 1        ┆ … ┆ 8.0  ┆ V   ┆ 0.0  ┆ N   │\n",
       "│ …         ┆ …         ┆ …        ┆ …        ┆ … ┆ …    ┆ …   ┆ …    ┆ …   │\n",
       "│ 28        ┆ 79        ┆ 60       ┆ 14       ┆ … ┆ 55.0 ┆ V   ┆ 0.0  ┆ N   │\n",
       "│ 28        ┆ 79        ┆ 60       ┆ 14       ┆ … ┆ 19.0 ┆ V   ┆ 47.0 ┆ V   │\n",
       "│ 28        ┆ 79        ┆ 60       ┆ 14       ┆ … ┆ 56.0 ┆ V   ┆ 0.0  ┆ N   │\n",
       "│ 28        ┆ 79        ┆ 60       ┆ 14       ┆ … ┆ 5.0  ┆ V   ┆ 4.0  ┆ V   │\n",
       "└───────────┴───────────┴──────────┴──────────┴───┴──────┴─────┴──────┴─────┘"
      ]
     },
     "execution_count": 1,
     "metadata": {},
     "output_type": "execute_result"
    }
   ],
   "source": [
    "import polars as pl\n",
    "e2016 = pl.read_csv('emisiones-2016.csv', separator=';')\n",
    "e2017 = pl.read_csv('emisiones-2017.csv', separator=';')\n",
    "e2018 = pl.read_csv('emisiones-2018.csv', separator=';')\n",
    "e2019 = pl.read_csv('emisiones-2019.csv', separator=';')\n",
    "\n",
    "emi = pl.concat([e2016,e2017,e2018,e2019])\n",
    "emi\n",
    "\n",
    "## Código aquí"
   ]
  },
  {
   "cell_type": "markdown",
   "id": "7485b4be",
   "metadata": {},
   "source": [
    "### Filtrar las columnas del DataFrame para quedarse únicamente con las columnas de ESTACION, MAGNITUD, AÑO, MES y las correspondientes a todos los días D01, D02, ... \n",
    "Hint: **df.select(...)** "
   ]
  },
  {
   "cell_type": "code",
   "execution_count": 2,
   "id": "d13feb14",
   "metadata": {},
   "outputs": [
    {
     "data": {
      "text/html": [
       "<div><style>\n",
       ".dataframe > thead > tr > th,\n",
       ".dataframe > tbody > tr > td {\n",
       "  text-align: right;\n",
       "}\n",
       "</style>\n",
       "<small>shape: (7266, 35)</small><table border=\"1\" class=\"dataframe\"><thead><tr><th>ESTACION</th><th>MAGNITUD</th><th>ANO</th><th>MES</th><th>D01</th><th>D02</th><th>D03</th><th>D04</th><th>D05</th><th>D06</th><th>D07</th><th>D08</th><th>D09</th><th>D10</th><th>D11</th><th>D12</th><th>D13</th><th>D14</th><th>D15</th><th>D16</th><th>D17</th><th>D18</th><th>D19</th><th>D20</th><th>D21</th><th>D22</th><th>D23</th><th>D24</th><th>D25</th><th>D26</th><th>D27</th><th>D28</th><th>D29</th><th>D30</th><th>D31</th></tr><tr><td>i64</td><td>i64</td><td>i64</td><td>i64</td><td>f64</td><td>f64</td><td>f64</td><td>f64</td><td>f64</td><td>f64</td><td>f64</td><td>f64</td><td>f64</td><td>f64</td><td>f64</td><td>f64</td><td>f64</td><td>f64</td><td>f64</td><td>f64</td><td>f64</td><td>f64</td><td>f64</td><td>f64</td><td>f64</td><td>f64</td><td>f64</td><td>f64</td><td>f64</td><td>f64</td><td>f64</td><td>f64</td><td>f64</td><td>f64</td><td>f64</td></tr></thead><tbody><tr><td>4</td><td>1</td><td>2016</td><td>1</td><td>8.0</td><td>7.0</td><td>6.0</td><td>6.0</td><td>7.0</td><td>6.0</td><td>6.0</td><td>6.0</td><td>6.0</td><td>6.0</td><td>6.0</td><td>7.0</td><td>11.0</td><td>8.0</td><td>8.0</td><td>9.0</td><td>9.0</td><td>8.0</td><td>11.0</td><td>10.0</td><td>9.0</td><td>10.0</td><td>11.0</td><td>11.0</td><td>13.0</td><td>12.0</td><td>9.0</td><td>7.0</td><td>8.0</td><td>9.0</td><td>9.0</td></tr><tr><td>4</td><td>1</td><td>2016</td><td>2</td><td>12.0</td><td>13.0</td><td>9.0</td><td>9.0</td><td>11.0</td><td>9.0</td><td>7.0</td><td>7.0</td><td>7.0</td><td>7.0</td><td>7.0</td><td>7.0</td><td>7.0</td><td>7.0</td><td>7.0</td><td>8.0</td><td>8.0</td><td>7.0</td><td>9.0</td><td>11.0</td><td>10.0</td><td>11.0</td><td>10.0</td><td>9.0</td><td>8.0</td><td>7.0</td><td>7.0</td><td>8.0</td><td>9.0</td><td>0.0</td><td>0.0</td></tr><tr><td>4</td><td>1</td><td>2016</td><td>3</td><td>11.0</td><td>10.0</td><td>9.0</td><td>9.0</td><td>7.0</td><td>8.0</td><td>8.0</td><td>8.0</td><td>9.0</td><td>8.0</td><td>9.0</td><td>9.0</td><td>9.0</td><td>8.0</td><td>9.0</td><td>11.0</td><td>10.0</td><td>9.0</td><td>7.0</td><td>7.0</td><td>8.0</td><td>8.0</td><td>8.0</td><td>9.0</td><td>9.0</td><td>9.0</td><td>8.0</td><td>7.0</td><td>8.0</td><td>10.0</td><td>8.0</td></tr><tr><td>4</td><td>1</td><td>2016</td><td>4</td><td>8.0</td><td>9.0</td><td>9.0</td><td>8.0</td><td>8.0</td><td>9.0</td><td>9.0</td><td>8.0</td><td>8.0</td><td>7.0</td><td>7.0</td><td>8.0</td><td>8.0</td><td>8.0</td><td>9.0</td><td>7.0</td><td>7.0</td><td>8.0</td><td>8.0</td><td>8.0</td><td>7.0</td><td>8.0</td><td>8.0</td><td>8.0</td><td>8.0</td><td>9.0</td><td>9.0</td><td>8.0</td><td>8.0</td><td>8.0</td><td>0.0</td></tr><tr><td>4</td><td>1</td><td>2016</td><td>5</td><td>7.0</td><td>8.0</td><td>9.0</td><td>9.0</td><td>8.0</td><td>8.0</td><td>7.0</td><td>7.0</td><td>7.0</td><td>8.0</td><td>7.0</td><td>7.0</td><td>7.0</td><td>7.0</td><td>7.0</td><td>7.0</td><td>7.0</td><td>8.0</td><td>7.0</td><td>8.0</td><td>7.0</td><td>7.0</td><td>7.0</td><td>8.0</td><td>7.0</td><td>7.0</td><td>7.0</td><td>7.0</td><td>7.0</td><td>7.0</td><td>7.0</td></tr><tr><td>4</td><td>1</td><td>2016</td><td>6</td><td>7.0</td><td>7.0</td><td>8.0</td><td>7.0</td><td>7.0</td><td>7.0</td><td>7.0</td><td>8.0</td><td>8.0</td><td>8.0</td><td>7.0</td><td>7.0</td><td>7.0</td><td>7.0</td><td>7.0</td><td>7.0</td><td>7.0</td><td>7.0</td><td>7.0</td><td>8.0</td><td>7.0</td><td>7.0</td><td>7.0</td><td>8.0</td><td>7.0</td><td>7.0</td><td>7.0</td><td>7.0</td><td>8.0</td><td>8.0</td><td>0.0</td></tr><tr><td>4</td><td>1</td><td>2016</td><td>7</td><td>8.0</td><td>7.0</td><td>7.0</td><td>7.0</td><td>7.0</td><td>7.0</td><td>7.0</td><td>7.0</td><td>7.0</td><td>6.0</td><td>7.0</td><td>7.0</td><td>7.0</td><td>7.0</td><td>7.0</td><td>7.0</td><td>7.0</td><td>7.0</td><td>7.0</td><td>7.0</td><td>8.0</td><td>7.0</td><td>7.0</td><td>7.0</td><td>7.0</td><td>7.0</td><td>7.0</td><td>7.0</td><td>7.0</td><td>7.0</td><td>7.0</td></tr><tr><td>4</td><td>1</td><td>2016</td><td>8</td><td>7.0</td><td>7.0</td><td>7.0</td><td>7.0</td><td>7.0</td><td>7.0</td><td>7.0</td><td>7.0</td><td>7.0</td><td>7.0</td><td>7.0</td><td>7.0</td><td>7.0</td><td>7.0</td><td>7.0</td><td>7.0</td><td>7.0</td><td>7.0</td><td>7.0</td><td>7.0</td><td>7.0</td><td>7.0</td><td>7.0</td><td>7.0</td><td>7.0</td><td>7.0</td><td>7.0</td><td>7.0</td><td>7.0</td><td>7.0</td><td>7.0</td></tr><tr><td>4</td><td>1</td><td>2016</td><td>9</td><td>7.0</td><td>8.0</td><td>8.0</td><td>8.0</td><td>9.0</td><td>8.0</td><td>9.0</td><td>8.0</td><td>7.0</td><td>7.0</td><td>8.0</td><td>8.0</td><td>7.0</td><td>7.0</td><td>7.0</td><td>8.0</td><td>8.0</td><td>8.0</td><td>8.0</td><td>8.0</td><td>9.0</td><td>9.0</td><td>10.0</td><td>9.0</td><td>9.0</td><td>7.0</td><td>8.0</td><td>8.0</td><td>9.0</td><td>9.0</td><td>0.0</td></tr><tr><td>4</td><td>1</td><td>2016</td><td>10</td><td>9.0</td><td>8.0</td><td>10.0</td><td>10.0</td><td>10.0</td><td>10.0</td><td>10.0</td><td>12.0</td><td>9.0</td><td>9.0</td><td>9.0</td><td>8.0</td><td>8.0</td><td>8.0</td><td>9.0</td><td>10.0</td><td>9.0</td><td>8.0</td><td>8.0</td><td>9.0</td><td>6.0</td><td>2.0</td><td>2.0</td><td>2.0</td><td>3.0</td><td>5.0</td><td>5.0</td><td>4.0</td><td>4.0</td><td>6.0</td><td>7.0</td></tr><tr><td>4</td><td>1</td><td>2016</td><td>11</td><td>4.0</td><td>5.0</td><td>6.0</td><td>3.0</td><td>2.0</td><td>2.0</td><td>2.0</td><td>3.0</td><td>2.0</td><td>5.0</td><td>7.0</td><td>5.0</td><td>4.0</td><td>4.0</td><td>6.0</td><td>8.0</td><td>9.0</td><td>7.0</td><td>4.0</td><td>3.0</td><td>2.0</td><td>3.0</td><td>3.0</td><td>3.0</td><td>3.0</td><td>2.0</td><td>2.0</td><td>4.0</td><td>5.0</td><td>3.0</td><td>0.0</td></tr><tr><td>4</td><td>1</td><td>2016</td><td>12</td><td>3.0</td><td>5.0</td><td>4.0</td><td>2.0</td><td>3.0</td><td>4.0</td><td>7.0</td><td>6.0</td><td>8.0</td><td>7.0</td><td>7.0</td><td>9.0</td><td>11.0</td><td>7.0</td><td>5.0</td><td>5.0</td><td>5.0</td><td>6.0</td><td>7.0</td><td>10.0</td><td>12.0</td><td>13.0</td><td>12.0</td><td>8.0</td><td>9.0</td><td>15.0</td><td>17.0</td><td>13.0</td><td>13.0</td><td>12.0</td><td>7.0</td></tr><tr><td>&hellip;</td><td>&hellip;</td><td>&hellip;</td><td>&hellip;</td><td>&hellip;</td><td>&hellip;</td><td>&hellip;</td><td>&hellip;</td><td>&hellip;</td><td>&hellip;</td><td>&hellip;</td><td>&hellip;</td><td>&hellip;</td><td>&hellip;</td><td>&hellip;</td><td>&hellip;</td><td>&hellip;</td><td>&hellip;</td><td>&hellip;</td><td>&hellip;</td><td>&hellip;</td><td>&hellip;</td><td>&hellip;</td><td>&hellip;</td><td>&hellip;</td><td>&hellip;</td><td>&hellip;</td><td>&hellip;</td><td>&hellip;</td><td>&hellip;</td><td>&hellip;</td><td>&hellip;</td><td>&hellip;</td><td>&hellip;</td><td>&hellip;</td></tr><tr><td>60</td><td>14</td><td>2019</td><td>1</td><td>14.0</td><td>11.0</td><td>23.0</td><td>9.0</td><td>9.0</td><td>11.0</td><td>16.0</td><td>14.0</td><td>22.0</td><td>46.0</td><td>16.0</td><td>19.0</td><td>15.0</td><td>4.0</td><td>21.0</td><td>18.0</td><td>14.0</td><td>17.0</td><td>12.0</td><td>39.0</td><td>41.0</td><td>29.0</td><td>70.0</td><td>48.0</td><td>40.0</td><td>22.0</td><td>63.0</td><td>66.0</td><td>63.0</td><td>66.0</td><td>56.0</td></tr><tr><td>60</td><td>14</td><td>2019</td><td>2</td><td>70.0</td><td>74.0</td><td>54.0</td><td>9.0</td><td>14.0</td><td>17.0</td><td>17.0</td><td>30.0</td><td>28.0</td><td>51.0</td><td>57.0</td><td>41.0</td><td>29.0</td><td>29.0</td><td>23.0</td><td>48.0</td><td>43.0</td><td>34.0</td><td>30.0</td><td>29.0</td><td>31.0</td><td>32.0</td><td>30.0</td><td>52.0</td><td>29.0</td><td>36.0</td><td>31.0</td><td>27.0</td><td>0.0</td><td>0.0</td><td>0.0</td></tr><tr><td>60</td><td>14</td><td>2019</td><td>3</td><td>56.0</td><td>40.0</td><td>54.0</td><td>64.0</td><td>63.0</td><td>58.0</td><td>68.0</td><td>51.0</td><td>43.0</td><td>31.0</td><td>37.0</td><td>49.0</td><td>67.0</td><td>53.0</td><td>38.0</td><td>67.0</td><td>73.0</td><td>82.0</td><td>82.0</td><td>79.0</td><td>64.0</td><td>67.0</td><td>63.0</td><td>70.0</td><td>81.0</td><td>94.0</td><td>67.0</td><td>68.0</td><td>80.0</td><td>95.0</td><td>80.0</td></tr><tr><td>60</td><td>14</td><td>2019</td><td>4</td><td>54.0</td><td>53.0</td><td>82.0</td><td>86.0</td><td>77.0</td><td>81.0</td><td>86.0</td><td>67.0</td><td>75.0</td><td>85.0</td><td>82.0</td><td>77.0</td><td>77.0</td><td>61.0</td><td>51.0</td><td>79.0</td><td>89.0</td><td>103.0</td><td>85.0</td><td>109.0</td><td>108.0</td><td>88.0</td><td>93.0</td><td>65.0</td><td>79.0</td><td>79.0</td><td>60.0</td><td>76.0</td><td>69.0</td><td>71.0</td><td>0.0</td></tr><tr><td>60</td><td>14</td><td>2019</td><td>5</td><td>87.0</td><td>95.0</td><td>79.0</td><td>93.0</td><td>94.0</td><td>77.0</td><td>72.0</td><td>63.0</td><td>67.0</td><td>41.0</td><td>78.0</td><td>92.0</td><td>89.0</td><td>97.0</td><td>75.0</td><td>79.0</td><td>87.0</td><td>81.0</td><td>86.0</td><td>85.0</td><td>91.0</td><td>88.0</td><td>75.0</td><td>80.0</td><td>76.0</td><td>72.0</td><td>58.0</td><td>76.0</td><td>74.0</td><td>66.0</td><td>85.0</td></tr><tr><td>60</td><td>14</td><td>2019</td><td>6</td><td>92.0</td><td>98.0</td><td>79.0</td><td>72.0</td><td>74.0</td><td>81.0</td><td>84.0</td><td>95.0</td><td>86.0</td><td>81.0</td><td>83.0</td><td>78.0</td><td>84.0</td><td>90.0</td><td>94.0</td><td>88.0</td><td>78.0</td><td>85.0</td><td>68.0</td><td>64.0</td><td>81.0</td><td>88.0</td><td>79.0</td><td>77.0</td><td>68.0</td><td>75.0</td><td>91.0</td><td>94.0</td><td>108.0</td><td>106.0</td><td>0.0</td></tr><tr><td>60</td><td>14</td><td>2019</td><td>7</td><td>94.0</td><td>110.0</td><td>103.0</td><td>106.0</td><td>93.0</td><td>79.0</td><td>90.0</td><td>85.0</td><td>93.0</td><td>94.0</td><td>97.0</td><td>90.0</td><td>93.0</td><td>96.0</td><td>103.0</td><td>111.0</td><td>97.0</td><td>119.0</td><td>107.0</td><td>115.0</td><td>107.0</td><td>93.0</td><td>105.0</td><td>112.0</td><td>98.0</td><td>80.0</td><td>81.0</td><td>79.0</td><td>76.0</td><td>99.0</td><td>92.0</td></tr><tr><td>60</td><td>14</td><td>2019</td><td>8</td><td>94.0</td><td>104.0</td><td>106.0</td><td>99.0</td><td>77.0</td><td>82.0</td><td>68.0</td><td>71.0</td><td>44.0</td><td>82.0</td><td>97.0</td><td>87.0</td><td>89.0</td><td>89.0</td><td>93.0</td><td>89.0</td><td>82.0</td><td>82.0</td><td>65.0</td><td>77.0</td><td>87.0</td><td>86.0</td><td>97.0</td><td>104.0</td><td>96.0</td><td>85.0</td><td>88.0</td><td>90.0</td><td>99.0</td><td>108.0</td><td>98.0</td></tr><tr><td>60</td><td>14</td><td>2019</td><td>9</td><td>88.0</td><td>82.0</td><td>80.0</td><td>92.0</td><td>79.0</td><td>75.0</td><td>86.0</td><td>87.0</td><td>69.0</td><td>68.0</td><td>89.0</td><td>85.0</td><td>82.0</td><td>72.0</td><td>59.0</td><td>64.0</td><td>76.0</td><td>77.0</td><td>79.0</td><td>69.0</td><td>59.0</td><td>59.0</td><td>46.0</td><td>49.0</td><td>69.0</td><td>57.0</td><td>54.0</td><td>68.0</td><td>70.0</td><td>55.0</td><td>0.0</td></tr><tr><td>60</td><td>14</td><td>2019</td><td>10</td><td>44.0</td><td>75.0</td><td>44.0</td><td>54.0</td><td>65.0</td><td>68.0</td><td>36.0</td><td>49.0</td><td>50.0</td><td>60.0</td><td>46.0</td><td>55.0</td><td>58.0</td><td>57.0</td><td>60.0</td><td>48.0</td><td>38.0</td><td>47.0</td><td>64.0</td><td>63.0</td><td>36.0</td><td>37.0</td><td>39.0</td><td>45.0</td><td>21.0</td><td>23.0</td><td>28.0</td><td>33.0</td><td>16.0</td><td>19.0</td><td>47.0</td></tr><tr><td>60</td><td>14</td><td>2019</td><td>11</td><td>41.0</td><td>55.0</td><td>79.0</td><td>65.0</td><td>64.0</td><td>51.0</td><td>62.0</td><td>66.0</td><td>63.0</td><td>62.0</td><td>42.0</td><td>44.0</td><td>50.0</td><td>66.0</td><td>56.0</td><td>52.0</td><td>58.0</td><td>39.0</td><td>15.0</td><td>11.0</td><td>28.0</td><td>38.0</td><td>75.0</td><td>69.0</td><td>45.0</td><td>35.0</td><td>55.0</td><td>52.0</td><td>47.0</td><td>56.0</td><td>0.0</td></tr><tr><td>60</td><td>14</td><td>2019</td><td>12</td><td>47.0</td><td>53.0</td><td>45.0</td><td>44.0</td><td>49.0</td><td>41.0</td><td>31.0</td><td>9.0</td><td>22.0</td><td>8.0</td><td>9.0</td><td>104.0</td><td>51.0</td><td>41.0</td><td>33.0</td><td>28.0</td><td>27.0</td><td>21.0</td><td>33.0</td><td>59.0</td><td>61.0</td><td>68.0</td><td>36.0</td><td>9.0</td><td>11.0</td><td>10.0</td><td>17.0</td><td>13.0</td><td>14.0</td><td>5.0</td><td>4.0</td></tr></tbody></table></div>"
      ],
      "text/plain": [
       "shape: (7_266, 35)\n",
       "┌──────────┬──────────┬──────┬─────┬───┬──────┬──────┬──────┬──────┐\n",
       "│ ESTACION ┆ MAGNITUD ┆ ANO  ┆ MES ┆ … ┆ D28  ┆ D29  ┆ D30  ┆ D31  │\n",
       "│ ---      ┆ ---      ┆ ---  ┆ --- ┆   ┆ ---  ┆ ---  ┆ ---  ┆ ---  │\n",
       "│ i64      ┆ i64      ┆ i64  ┆ i64 ┆   ┆ f64  ┆ f64  ┆ f64  ┆ f64  │\n",
       "╞══════════╪══════════╪══════╪═════╪═══╪══════╪══════╪══════╪══════╡\n",
       "│ 4        ┆ 1        ┆ 2016 ┆ 1   ┆ … ┆ 7.0  ┆ 8.0  ┆ 9.0  ┆ 9.0  │\n",
       "│ 4        ┆ 1        ┆ 2016 ┆ 2   ┆ … ┆ 8.0  ┆ 9.0  ┆ 0.0  ┆ 0.0  │\n",
       "│ 4        ┆ 1        ┆ 2016 ┆ 3   ┆ … ┆ 7.0  ┆ 8.0  ┆ 10.0 ┆ 8.0  │\n",
       "│ 4        ┆ 1        ┆ 2016 ┆ 4   ┆ … ┆ 8.0  ┆ 8.0  ┆ 8.0  ┆ 0.0  │\n",
       "│ …        ┆ …        ┆ …    ┆ …   ┆ … ┆ …    ┆ …    ┆ …    ┆ …    │\n",
       "│ 60       ┆ 14       ┆ 2019 ┆ 9   ┆ … ┆ 68.0 ┆ 70.0 ┆ 55.0 ┆ 0.0  │\n",
       "│ 60       ┆ 14       ┆ 2019 ┆ 10  ┆ … ┆ 33.0 ┆ 16.0 ┆ 19.0 ┆ 47.0 │\n",
       "│ 60       ┆ 14       ┆ 2019 ┆ 11  ┆ … ┆ 52.0 ┆ 47.0 ┆ 56.0 ┆ 0.0  │\n",
       "│ 60       ┆ 14       ┆ 2019 ┆ 12  ┆ … ┆ 13.0 ┆ 14.0 ┆ 5.0  ┆ 4.0  │\n",
       "└──────────┴──────────┴──────┴─────┴───┴──────┴──────┴──────┴──────┘"
      ]
     },
     "execution_count": 2,
     "metadata": {},
     "output_type": "execute_result"
    }
   ],
   "source": [
    "## Código aquí\n",
    "EMAM = emi.select(pl.col([\"ESTACION\",\"MAGNITUD\",\"ANO\",\"MES\"]))\n",
    "D = emi.select(pl.col(\"^D.*$\"))\n",
    "emi = pl.concat([EMAM, D], how = 'horizontal' )\n",
    "emi"
   ]
  },
  {
   "cell_type": "markdown",
   "id": "aa5d3746",
   "metadata": {},
   "source": [
    "### Reestructurar el DataFrame para que los valores de los contaminantes de las columnas de los días aparezcan en una única columna.\n"
   ]
  },
  {
   "cell_type": "code",
   "execution_count": 3,
   "id": "9216632a",
   "metadata": {},
   "outputs": [
    {
     "data": {
      "text/html": [
       "<div><style>\n",
       ".dataframe > thead > tr > th,\n",
       ".dataframe > tbody > tr > td {\n",
       "  text-align: right;\n",
       "}\n",
       "</style>\n",
       "<small>shape: (225246, 6)</small><table border=\"1\" class=\"dataframe\"><thead><tr><th>ESTACION</th><th>MAGNITUD</th><th>ANO</th><th>MES</th><th>DIA</th><th>CONTAMINANTES</th></tr><tr><td>i64</td><td>i64</td><td>i64</td><td>i64</td><td>str</td><td>f64</td></tr></thead><tbody><tr><td>4</td><td>1</td><td>2016</td><td>1</td><td>&quot;D01&quot;</td><td>8.0</td></tr><tr><td>4</td><td>1</td><td>2016</td><td>2</td><td>&quot;D01&quot;</td><td>12.0</td></tr><tr><td>4</td><td>1</td><td>2016</td><td>3</td><td>&quot;D01&quot;</td><td>11.0</td></tr><tr><td>4</td><td>1</td><td>2016</td><td>4</td><td>&quot;D01&quot;</td><td>8.0</td></tr><tr><td>4</td><td>1</td><td>2016</td><td>5</td><td>&quot;D01&quot;</td><td>7.0</td></tr><tr><td>4</td><td>1</td><td>2016</td><td>6</td><td>&quot;D01&quot;</td><td>7.0</td></tr><tr><td>4</td><td>1</td><td>2016</td><td>7</td><td>&quot;D01&quot;</td><td>8.0</td></tr><tr><td>4</td><td>1</td><td>2016</td><td>8</td><td>&quot;D01&quot;</td><td>7.0</td></tr><tr><td>4</td><td>1</td><td>2016</td><td>9</td><td>&quot;D01&quot;</td><td>7.0</td></tr><tr><td>4</td><td>1</td><td>2016</td><td>10</td><td>&quot;D01&quot;</td><td>9.0</td></tr><tr><td>4</td><td>1</td><td>2016</td><td>11</td><td>&quot;D01&quot;</td><td>4.0</td></tr><tr><td>4</td><td>1</td><td>2016</td><td>12</td><td>&quot;D01&quot;</td><td>3.0</td></tr><tr><td>&hellip;</td><td>&hellip;</td><td>&hellip;</td><td>&hellip;</td><td>&hellip;</td><td>&hellip;</td></tr><tr><td>60</td><td>14</td><td>2019</td><td>1</td><td>&quot;D31&quot;</td><td>56.0</td></tr><tr><td>60</td><td>14</td><td>2019</td><td>2</td><td>&quot;D31&quot;</td><td>0.0</td></tr><tr><td>60</td><td>14</td><td>2019</td><td>3</td><td>&quot;D31&quot;</td><td>80.0</td></tr><tr><td>60</td><td>14</td><td>2019</td><td>4</td><td>&quot;D31&quot;</td><td>0.0</td></tr><tr><td>60</td><td>14</td><td>2019</td><td>5</td><td>&quot;D31&quot;</td><td>85.0</td></tr><tr><td>60</td><td>14</td><td>2019</td><td>6</td><td>&quot;D31&quot;</td><td>0.0</td></tr><tr><td>60</td><td>14</td><td>2019</td><td>7</td><td>&quot;D31&quot;</td><td>92.0</td></tr><tr><td>60</td><td>14</td><td>2019</td><td>8</td><td>&quot;D31&quot;</td><td>98.0</td></tr><tr><td>60</td><td>14</td><td>2019</td><td>9</td><td>&quot;D31&quot;</td><td>0.0</td></tr><tr><td>60</td><td>14</td><td>2019</td><td>10</td><td>&quot;D31&quot;</td><td>47.0</td></tr><tr><td>60</td><td>14</td><td>2019</td><td>11</td><td>&quot;D31&quot;</td><td>0.0</td></tr><tr><td>60</td><td>14</td><td>2019</td><td>12</td><td>&quot;D31&quot;</td><td>4.0</td></tr></tbody></table></div>"
      ],
      "text/plain": [
       "shape: (225_246, 6)\n",
       "┌──────────┬──────────┬──────┬─────┬─────┬───────────────┐\n",
       "│ ESTACION ┆ MAGNITUD ┆ ANO  ┆ MES ┆ DIA ┆ CONTAMINANTES │\n",
       "│ ---      ┆ ---      ┆ ---  ┆ --- ┆ --- ┆ ---           │\n",
       "│ i64      ┆ i64      ┆ i64  ┆ i64 ┆ str ┆ f64           │\n",
       "╞══════════╪══════════╪══════╪═════╪═════╪═══════════════╡\n",
       "│ 4        ┆ 1        ┆ 2016 ┆ 1   ┆ D01 ┆ 8.0           │\n",
       "│ 4        ┆ 1        ┆ 2016 ┆ 2   ┆ D01 ┆ 12.0          │\n",
       "│ 4        ┆ 1        ┆ 2016 ┆ 3   ┆ D01 ┆ 11.0          │\n",
       "│ 4        ┆ 1        ┆ 2016 ┆ 4   ┆ D01 ┆ 8.0           │\n",
       "│ …        ┆ …        ┆ …    ┆ …   ┆ …   ┆ …             │\n",
       "│ 60       ┆ 14       ┆ 2019 ┆ 9   ┆ D31 ┆ 0.0           │\n",
       "│ 60       ┆ 14       ┆ 2019 ┆ 10  ┆ D31 ┆ 47.0          │\n",
       "│ 60       ┆ 14       ┆ 2019 ┆ 11  ┆ D31 ┆ 0.0           │\n",
       "│ 60       ┆ 14       ┆ 2019 ┆ 12  ┆ D31 ┆ 4.0           │\n",
       "└──────────┴──────────┴──────┴─────┴─────┴───────────────┘"
      ]
     },
     "execution_count": 3,
     "metadata": {},
     "output_type": "execute_result"
    }
   ],
   "source": [
    "## Código aquí\n",
    "emi = emi.melt(id_vars = EMAM.columns, variable_name= 'DIA', value_name= 'CONTAMINANTES')\n",
    "emi"
   ]
  },
  {
   "cell_type": "markdown",
   "id": "33d1a28e",
   "metadata": {},
   "source": [
    "### Crear una nueva columna llamada FECHA con las fechas a partir del año, mes y día\n",
    "Hint: **pl.concat_str([\n",
    "            pl.col(...),\n",
    "            ...\n",
    "        ])** y **.str.strptime(pl.Datetime,strict=False)** "
   ]
  },
  {
   "cell_type": "code",
   "execution_count": 4,
   "id": "48856a4a",
   "metadata": {},
   "outputs": [],
   "source": [
    "## Código aquí\n",
    "emi = emi.with_columns(pl.col('DIA').str.strip('D'))\n",
    "emi = emi.with_columns(pl.col(\"MES\").cast(pl.Utf8, strict=False).alias(\"MES\"))\n",
    "\n",
    "Fecha = emi.select(pl.concat_str(['DIA','MES','ANO'], separator = '-').alias('FECHA'))\n",
    "emi = pl.concat([emi, Fecha], how = 'horizontal' )"
   ]
  },
  {
   "cell_type": "code",
   "execution_count": 5,
   "id": "0262c7e7-a496-4dd8-aeda-4b8f865fdbc4",
   "metadata": {},
   "outputs": [],
   "source": [
    "emi = emi.with_columns(pl.col('FECHA').str.strptime(pl.Datetime,strict = False))"
   ]
  },
  {
   "cell_type": "markdown",
   "id": "37a05fc7",
   "metadata": {},
   "source": [
    "### Eliminar las filas con fechas no válidas"
   ]
  },
  {
   "cell_type": "code",
   "execution_count": 6,
   "id": "a7eb3449",
   "metadata": {
    "scrolled": true
   },
   "outputs": [],
   "source": [
    "emi = emi.drop_nulls('FECHA')"
   ]
  },
  {
   "cell_type": "markdown",
   "id": "4bea596a",
   "metadata": {},
   "source": [
    "### Ordenar el el dataframe por estación, magnitud y fecha\n",
    "Hint: **.sort(..)**"
   ]
  },
  {
   "cell_type": "code",
   "execution_count": 7,
   "id": "b7032206",
   "metadata": {
    "scrolled": true
   },
   "outputs": [],
   "source": [
    "emi = emi.sort(['ESTACION', 'MAGNITUD', 'FECHA'])"
   ]
  },
  {
   "cell_type": "markdown",
   "id": "218943c8",
   "metadata": {},
   "source": [
    "### Mostrar las estaciones y los contaminantes disponibles\n"
   ]
  },
  {
   "cell_type": "code",
   "execution_count": 8,
   "id": "0bdbb07b",
   "metadata": {},
   "outputs": [
    {
     "data": {
      "text/html": [
       "<div><style>\n",
       ".dataframe > thead > tr > th,\n",
       ".dataframe > tbody > tr > td {\n",
       "  text-align: right;\n",
       "}\n",
       "</style>\n",
       "<small>shape: (6666, 2)</small><table border=\"1\" class=\"dataframe\"><thead><tr><th>ESTACION</th><th>CONTAMINANTES</th></tr><tr><td>i64</td><td>f64</td></tr></thead><tbody><tr><td>17</td><td>278.0</td></tr><tr><td>18</td><td>2.1</td></tr><tr><td>35</td><td>152.0</td></tr><tr><td>36</td><td>43.0</td></tr><tr><td>18</td><td>15.1</td></tr><tr><td>24</td><td>0.06</td></tr><tr><td>18</td><td>41.0</td></tr><tr><td>18</td><td>6.3</td></tr><tr><td>11</td><td>138.0</td></tr><tr><td>40</td><td>7.0</td></tr><tr><td>8</td><td>136.0</td></tr><tr><td>38</td><td>84.0</td></tr><tr><td>&hellip;</td><td>&hellip;</td></tr><tr><td>56</td><td>128.0</td></tr><tr><td>60</td><td>62.0</td></tr><tr><td>17</td><td>173.0</td></tr><tr><td>11</td><td>9.2</td></tr><tr><td>49</td><td>44.0</td></tr><tr><td>8</td><td>4.5</td></tr><tr><td>24</td><td>0.77</td></tr><tr><td>50</td><td>1.0</td></tr><tr><td>55</td><td>1.99</td></tr><tr><td>18</td><td>21.0</td></tr><tr><td>38</td><td>107.0</td></tr><tr><td>56</td><td>87.0</td></tr></tbody></table></div>"
      ],
      "text/plain": [
       "shape: (6_666, 2)\n",
       "┌──────────┬───────────────┐\n",
       "│ ESTACION ┆ CONTAMINANTES │\n",
       "│ ---      ┆ ---           │\n",
       "│ i64      ┆ f64           │\n",
       "╞══════════╪═══════════════╡\n",
       "│ 17       ┆ 278.0         │\n",
       "│ 18       ┆ 2.1           │\n",
       "│ 35       ┆ 152.0         │\n",
       "│ 36       ┆ 43.0          │\n",
       "│ …        ┆ …             │\n",
       "│ 55       ┆ 1.99          │\n",
       "│ 18       ┆ 21.0          │\n",
       "│ 38       ┆ 107.0         │\n",
       "│ 56       ┆ 87.0          │\n",
       "└──────────┴───────────────┘"
      ]
     },
     "execution_count": 8,
     "metadata": {},
     "output_type": "execute_result"
    }
   ],
   "source": [
    "emi.select(['ESTACION', 'CONTAMINANTES']).unique()\n"
   ]
  },
  {
   "cell_type": "markdown",
   "id": "9942abf9",
   "metadata": {},
   "source": [
    "## Tiempo de ejecución\n",
    "Realiza una comparación de tiempo de ejecución utilizando pandas y polars. Lee todos los csv de https://github.com/pola-rs/polars/tree/main/examples/datasets, concatena verticalmente todos los csv y realiza un groupby a 'category' con cualquier función de agregación. De ahí compara el tiempo realizando 10000 iteraciones con la libreria `timeit` de python."
   ]
  },
  {
   "cell_type": "code",
   "execution_count": 9,
   "id": "9526a28d",
   "metadata": {},
   "outputs": [],
   "source": [
    "import pandas as pd\n",
    "\n",
    "pandas1 = pd.read_csv(\"foods1.csv\")\n",
    "pandas2 = pd.read_csv(\"foods2.csv\")\n",
    "pandas3 = pd.read_csv(\"foods3.csv\")\n",
    "pandas4 = pd.read_csv(\"foods4.csv\")\n",
    "pandas5 = pd.read_csv(\"foods5.csv\")\n",
    "\n",
    "pandas = pd.concat([pandas1, pandas2, pandas3, pandas4, pandas5], ignore_index=True)"
   ]
  },
  {
   "cell_type": "code",
   "execution_count": 10,
   "id": "e7c31763-7af7-46d6-8d79-0aa614fbd2ee",
   "metadata": {},
   "outputs": [],
   "source": [
    "polars1 = pl.read_csv(\"foods1.csv\")\n",
    "polars2 = pl.read_csv(\"foods2.csv\")\n",
    "polars3 = pl.read_csv(\"foods3.csv\")\n",
    "polars4 = pl.read_csv(\"foods4.csv\")\n",
    "polars5 = pl.read_csv(\"foods5.csv\")\n",
    "\n",
    "polars = pl.concat([polars1, polars2, polars3, polars4, polars5])"
   ]
  },
  {
   "cell_type": "code",
   "execution_count": 12,
   "id": "b5956981-5a0d-47d8-8eee-a3b9ec6c0d69",
   "metadata": {},
   "outputs": [
    {
     "data": {
      "text/html": [
       "<div><style>\n",
       ".dataframe > thead > tr > th,\n",
       ".dataframe > tbody > tr > td {\n",
       "  text-align: right;\n",
       "}\n",
       "</style>\n",
       "<small>shape: (135, 4)</small><table border=\"1\" class=\"dataframe\"><thead><tr><th>category</th><th>calories</th><th>fats_g</th><th>sugars_g</th></tr><tr><td>str</td><td>i64</td><td>f64</td><td>i64</td></tr></thead><tbody><tr><td>&quot;vegetables&quot;</td><td>45</td><td>0.5</td><td>2</td></tr><tr><td>&quot;seafood&quot;</td><td>150</td><td>5.0</td><td>0</td></tr><tr><td>&quot;meat&quot;</td><td>100</td><td>5.0</td><td>0</td></tr><tr><td>&quot;fruit&quot;</td><td>60</td><td>0.0</td><td>11</td></tr><tr><td>&quot;seafood&quot;</td><td>140</td><td>5.0</td><td>1</td></tr><tr><td>&quot;meat&quot;</td><td>120</td><td>10.0</td><td>1</td></tr><tr><td>&quot;vegetables&quot;</td><td>20</td><td>0.0</td><td>2</td></tr><tr><td>&quot;fruit&quot;</td><td>30</td><td>0.0</td><td>5</td></tr><tr><td>&quot;seafood&quot;</td><td>130</td><td>5.0</td><td>0</td></tr><tr><td>&quot;fruit&quot;</td><td>50</td><td>4.5</td><td>0</td></tr><tr><td>&quot;meat&quot;</td><td>110</td><td>7.0</td><td>0</td></tr><tr><td>&quot;vegetables&quot;</td><td>25</td><td>0.0</td><td>2</td></tr><tr><td>&hellip;</td><td>&hellip;</td><td>&hellip;</td><td>&hellip;</td></tr><tr><td>&quot;seafood&quot;</td><td>102</td><td>6.0</td><td>0</td></tr><tr><td>&quot;seafood&quot;</td><td>210</td><td>11.0</td><td>0</td></tr><tr><td>&quot;vegetables&quot;</td><td>23</td><td>0.0</td><td>5</td></tr><tr><td>&quot;vegetables&quot;</td><td>26</td><td>0.0</td><td>0</td></tr><tr><td>&quot;seafood&quot;</td><td>145</td><td>4.0</td><td>0</td></tr><tr><td>&quot;meat&quot;</td><td>95</td><td>5.0</td><td>0</td></tr><tr><td>&quot;fruit&quot;</td><td>34</td><td>0.0</td><td>2</td></tr><tr><td>&quot;meat&quot;</td><td>48</td><td>2.0</td><td>0</td></tr><tr><td>&quot;vegetables&quot;</td><td>37</td><td>0.4</td><td>1</td></tr><tr><td>&quot;fruit&quot;</td><td>56</td><td>4.2</td><td>0</td></tr><tr><td>&quot;vegetables&quot;</td><td>34</td><td>0.0</td><td>3</td></tr><tr><td>&quot;seafood&quot;</td><td>180</td><td>6.0</td><td>1</td></tr></tbody></table></div>"
      ],
      "text/plain": [
       "shape: (135, 4)\n",
       "┌────────────┬──────────┬────────┬──────────┐\n",
       "│ category   ┆ calories ┆ fats_g ┆ sugars_g │\n",
       "│ ---        ┆ ---      ┆ ---    ┆ ---      │\n",
       "│ str        ┆ i64      ┆ f64    ┆ i64      │\n",
       "╞════════════╪══════════╪════════╪══════════╡\n",
       "│ vegetables ┆ 45       ┆ 0.5    ┆ 2        │\n",
       "│ seafood    ┆ 150      ┆ 5.0    ┆ 0        │\n",
       "│ meat       ┆ 100      ┆ 5.0    ┆ 0        │\n",
       "│ fruit      ┆ 60       ┆ 0.0    ┆ 11       │\n",
       "│ …          ┆ …        ┆ …      ┆ …        │\n",
       "│ vegetables ┆ 37       ┆ 0.4    ┆ 1        │\n",
       "│ fruit      ┆ 56       ┆ 4.2    ┆ 0        │\n",
       "│ vegetables ┆ 34       ┆ 0.0    ┆ 3        │\n",
       "│ seafood    ┆ 180      ┆ 6.0    ┆ 1        │\n",
       "└────────────┴──────────┴────────┴──────────┘"
      ]
     },
     "execution_count": 12,
     "metadata": {},
     "output_type": "execute_result"
    }
   ],
   "source": [
    "polars"
   ]
  },
  {
   "cell_type": "code",
   "execution_count": 17,
   "id": "c0347cae-8407-45dc-92d7-bcdee4ca008e",
   "metadata": {},
   "outputs": [],
   "source": [
    "import timeit\n",
    "\n",
    "# Comparando tiempos\n",
    "polars_time = timeit.timeit(lambda: polars.groupby('category').agg(pl.col('calories').mean()), number = 1000)\n",
    "pandas_time = timeit.timeit(lambda: pandas.groupby(\"category\")[\"calories\"].mean(), number = 1000)"
   ]
  },
  {
   "cell_type": "code",
   "execution_count": 18,
   "id": "28d29b77-8bd3-47ed-8275-6f84cfc1f345",
   "metadata": {},
   "outputs": [
    {
     "data": {
      "text/plain": [
       "0.14321991699989667"
      ]
     },
     "execution_count": 18,
     "metadata": {},
     "output_type": "execute_result"
    }
   ],
   "source": [
    "polars_time"
   ]
  },
  {
   "cell_type": "code",
   "execution_count": 19,
   "id": "c42891ae-499c-4344-8af3-1ea45013095b",
   "metadata": {},
   "outputs": [
    {
     "data": {
      "text/plain": [
       "0.5557145549996676"
      ]
     },
     "execution_count": 19,
     "metadata": {},
     "output_type": "execute_result"
    }
   ],
   "source": [
    "pandas_time"
   ]
  }
 ],
 "metadata": {
  "kernelspec": {
   "display_name": "Python 3 (ipykernel)",
   "language": "python",
   "name": "python3"
  },
  "language_info": {
   "codemirror_mode": {
    "name": "ipython",
    "version": 3
   },
   "file_extension": ".py",
   "mimetype": "text/x-python",
   "name": "python",
   "nbconvert_exporter": "python",
   "pygments_lexer": "ipython3",
   "version": "3.10.9"
  }
 },
 "nbformat": 4,
 "nbformat_minor": 5
}
