{
 "cells": [
  {
   "cell_type": "markdown",
   "id": "67f5d07f",
   "metadata": {},
   "source": [
    "# Ejercicio prueba\n",
    "Consta en hacer simples tareas de pandas pero ahora con la sintaxis de polars.\n",
    "Los csv de emisiones-2016.csv, emisiones-2017.csv, emisiones-2018.csv y emisiones-2019.csv, contienen datos sobre las emisiones contaminates en la ciudad de Madrid en los años 2016, 2017, 2018 y 2019 respectivamente. Escribir un programa con los siguientes requisitos:"
   ]
  },
  {
   "cell_type": "markdown",
   "id": "2fd3c883",
   "metadata": {},
   "source": [
    "*Es importante que el código ea breve, ya que cada ejercicio puede hacerse en una sola instrucción* :OO"
   ]
  },
  {
   "cell_type": "markdown",
   "id": "d2584bcd",
   "metadata": {},
   "source": [
    "### Generar un DataFrame con los datos de los cuatro ficheros.\n",
    "Hint: leer los datos y concatenarlos verticalmente --> **pl.concat**"
   ]
  },
  {
   "cell_type": "code",
   "execution_count": 2,
   "id": "cb105421",
   "metadata": {},
   "outputs": [],
   "source": [
    "import polars as pl\n",
    "anio2016 = pl.read_csv(\"emisiones-2016.csv\", separator = \";\")\n",
    "anio2017 = pl.read_csv(\"emisiones-2017.csv\", separator = \";\")\n",
    "anio2018 = pl.read_csv(\"emisiones-2018.csv\", separator = \";\")\n",
    "anio2019 = pl.read_csv(\"emisiones-2019.csv\", separator = \";\")\n",
    "df = pl.concat([anio2016, anio2017, anio2018, anio2019])\n",
    "\n",
    "## Código aquí\n"
   ]
  },
  {
   "cell_type": "markdown",
   "id": "7485b4be",
   "metadata": {},
   "source": [
    "### Filtrar las columnas del DataFrame para quedarse únicamente con las columnas de ESTACION, MAGNITUD, AÑO, MES y las correspondientes a todos los días D01, D02, ... \n",
    "Hint: **df.select(...)** "
   ]
  },
  {
   "cell_type": "code",
   "execution_count": 3,
   "id": "d13feb14",
   "metadata": {},
   "outputs": [],
   "source": [
    "## Código aquí\n",
    "\n",
    "# VAMOS A SELECCIONAR HASTA D31\n",
    "df = df.select([\"ESTACION\", \"MAGNITUD\", \"ANO\", \"MES\", \"D01\", \"D02\", \"D03\", \"D04\", \"D05\", \"D06\", \"D07\", \"D08\", \"D09\", \"D10\", \"D11\", \"D12\", \"D13\", \"D14\", \"D15\", \"D16\", \"D17\", \"D18\", \"D19\", \"D20\", \"D21\", \"D22\", \"D23\", \"D24\", \"D25\", \"D26\", \"D27\", \"D28\", \"D29\", \"D30\", \"D31\"])\n"
   ]
  },
  {
   "cell_type": "markdown",
   "id": "aa5d3746",
   "metadata": {},
   "source": [
    "### Reestructurar el DataFrame para que los valores de los contaminantes de las columnas de los días aparezcan en una única columna.\n"
   ]
  },
  {
   "cell_type": "code",
   "execution_count": 4,
   "id": "9216632a",
   "metadata": {},
   "outputs": [
    {
     "name": "stdout",
     "output_type": "stream",
     "text": [
      "shape: (225_246, 6)\n",
      "┌──────────┬──────────┬──────┬─────┬─────┬───────┐\n",
      "│ ESTACION ┆ MAGNITUD ┆ ANO  ┆ MES ┆ DIA ┆ VAlOR │\n",
      "│ ---      ┆ ---      ┆ ---  ┆ --- ┆ --- ┆ ---   │\n",
      "│ i64      ┆ i64      ┆ i64  ┆ i64 ┆ str ┆ f64   │\n",
      "╞══════════╪══════════╪══════╪═════╪═════╪═══════╡\n",
      "│ 4        ┆ 1        ┆ 2016 ┆ 1   ┆ D01 ┆ 8.0   │\n",
      "│ 4        ┆ 1        ┆ 2016 ┆ 2   ┆ D01 ┆ 12.0  │\n",
      "│ 4        ┆ 1        ┆ 2016 ┆ 3   ┆ D01 ┆ 11.0  │\n",
      "│ 4        ┆ 1        ┆ 2016 ┆ 4   ┆ D01 ┆ 8.0   │\n",
      "│ …        ┆ …        ┆ …    ┆ …   ┆ …   ┆ …     │\n",
      "│ 60       ┆ 14       ┆ 2019 ┆ 9   ┆ D31 ┆ 0.0   │\n",
      "│ 60       ┆ 14       ┆ 2019 ┆ 10  ┆ D31 ┆ 47.0  │\n",
      "│ 60       ┆ 14       ┆ 2019 ┆ 11  ┆ D31 ┆ 0.0   │\n",
      "│ 60       ┆ 14       ┆ 2019 ┆ 12  ┆ D31 ┆ 4.0   │\n",
      "└──────────┴──────────┴──────┴─────┴─────┴───────┘\n"
     ]
    }
   ],
   "source": [
    "## Código aquí\n",
    "df = df.melt(id_vars=[\"ESTACION\", \"MAGNITUD\", \"ANO\", \"MES\"],variable_name=\"DIA\", value_name=\"VAlOR\")\n",
    "print(df)"
   ]
  },
  {
   "cell_type": "markdown",
   "id": "33d1a28e",
   "metadata": {},
   "source": [
    "### Crear una nueva columna llamada FECHA con las fechas a partir del año, mes y día\n",
    "Hint: **pl.concat_str([\n",
    "            pl.col(...),\n",
    "            ...\n",
    "        ])** y **.str.strptime(pl.Datetime,strict=False)** "
   ]
  },
  {
   "cell_type": "code",
   "execution_count": 10,
   "id": "48856a4a",
   "metadata": {},
   "outputs": [
    {
     "name": "stdout",
     "output_type": "stream",
     "text": [
      "shape: (225_246, 7)\n",
      "┌──────────┬──────────┬──────┬─────┬─────┬───────┬─────────────────────┐\n",
      "│ ESTACION ┆ MAGNITUD ┆ ANO  ┆ MES ┆ DIA ┆ VAlOR ┆ FECHA               │\n",
      "│ ---      ┆ ---      ┆ ---  ┆ --- ┆ --- ┆ ---   ┆ ---                 │\n",
      "│ i64      ┆ i64      ┆ i64  ┆ i64 ┆ str ┆ f64   ┆ datetime[μs]        │\n",
      "╞══════════╪══════════╪══════╪═════╪═════╪═══════╪═════════════════════╡\n",
      "│ 4        ┆ 1        ┆ 2016 ┆ 1   ┆ 01  ┆ 8.0   ┆ 2016-01-01 00:00:00 │\n",
      "│ 4        ┆ 1        ┆ 2016 ┆ 2   ┆ 01  ┆ 12.0  ┆ 2016-02-01 00:00:00 │\n",
      "│ 4        ┆ 1        ┆ 2016 ┆ 3   ┆ 01  ┆ 11.0  ┆ 2016-03-01 00:00:00 │\n",
      "│ 4        ┆ 1        ┆ 2016 ┆ 4   ┆ 01  ┆ 8.0   ┆ 2016-04-01 00:00:00 │\n",
      "│ …        ┆ …        ┆ …    ┆ …   ┆ …   ┆ …     ┆ …                   │\n",
      "│ 60       ┆ 14       ┆ 2019 ┆ 9   ┆ 31  ┆ 0.0   ┆ null                │\n",
      "│ 60       ┆ 14       ┆ 2019 ┆ 10  ┆ 31  ┆ 47.0  ┆ 2019-10-31 00:00:00 │\n",
      "│ 60       ┆ 14       ┆ 2019 ┆ 11  ┆ 31  ┆ 0.0   ┆ null                │\n",
      "│ 60       ┆ 14       ┆ 2019 ┆ 12  ┆ 31  ┆ 4.0   ┆ 2019-12-31 00:00:00 │\n",
      "└──────────┴──────────┴──────┴─────┴─────┴───────┴─────────────────────┘\n"
     ]
    }
   ],
   "source": [
    "\n",
    "df = df.with_columns([pl.col(\"DIA\").str.replace(r\"D\", \"\")])\n",
    "\n",
    "def formatear(x):\n",
    "    return str(x)+\"/\"\n",
    "\n",
    "df = df.with_columns(df.select([\n",
    "    pl.concat_str([pl.col(\"ANO\").apply(formatear), pl.col(\"MES\").apply(formatear), pl.col(\"DIA\")]).alias(\"FECHA\").str.strptime(pl.Datetime, strict = False)\n",
    "]))\n",
    "print(df)"
   ]
  },
  {
   "cell_type": "markdown",
   "id": "37a05fc7",
   "metadata": {},
   "source": [
    "### Eliminar las filas con fechas no válidas"
   ]
  },
  {
   "cell_type": "code",
   "execution_count": 11,
   "id": "a7eb3449",
   "metadata": {
    "scrolled": true
   },
   "outputs": [],
   "source": [
    "## Código aquí\n",
    "df = df.drop_nulls()"
   ]
  },
  {
   "cell_type": "markdown",
   "id": "4bea596a",
   "metadata": {},
   "source": [
    "### Ordenar el el dataframe por estación, magnitud y fecha\n",
    "Hint: **.sort(..)**"
   ]
  },
  {
   "cell_type": "code",
   "execution_count": 12,
   "id": "b7032206",
   "metadata": {
    "scrolled": true
   },
   "outputs": [],
   "source": [
    "## Código aquí\n",
    "df = df.sort(by = [\"ESTACION\", \"MAGNITUD\", \"FECHA\"])"
   ]
  },
  {
   "cell_type": "markdown",
   "id": "218943c8",
   "metadata": {},
   "source": [
    "### Mostrar las estaciones y los contaminantes disponibles\n"
   ]
  },
  {
   "cell_type": "code",
   "execution_count": 13,
   "id": "0bdbb07b",
   "metadata": {},
   "outputs": [
    {
     "name": "stdout",
     "output_type": "stream",
     "text": [
      "shape: (1, 1)\n",
      "┌───────────────────┐\n",
      "│ Estaciones unicas │\n",
      "│ ---               │\n",
      "│ u32               │\n",
      "╞═══════════════════╡\n",
      "│ 24                │\n",
      "└───────────────────┘\n",
      "shape: (1, 1)\n",
      "┌──────────────────────┐\n",
      "│ Contaminantes unicos │\n",
      "│ ---                  │\n",
      "│ u32                  │\n",
      "╞══════════════════════╡\n",
      "│ 14                   │\n",
      "└──────────────────────┘\n"
     ]
    }
   ],
   "source": [
    "## Código aquí\n",
    "print(df.select([pl.col(\"ESTACION\").n_unique().alias(\"Estaciones unicas\")]))\n",
    "print(df.select([pl.col(\"MAGNITUD\").n_unique().alias(\"Contaminantes unicos\")]))\n"
   ]
  },
  {
   "cell_type": "markdown",
   "id": "9942abf9",
   "metadata": {},
   "source": [
    "## Tiempo de ejecución\n",
    "Realiza una comparación de tiempo de ejecución utilizando pandas y polars. Lee todos los csv de https://github.com/pola-rs/polars/tree/main/examples/datasets, concatena verticalmente todos los csv y realiza un groupby a 'category' con cualquier función de agregación. De ahí compara el tiempo realizando 10000 iteraciones con la libreria `timeit` de python."
   ]
  },
  {
   "cell_type": "code",
   "execution_count": 16,
   "id": "9526a28d",
   "metadata": {},
   "outputs": [],
   "source": [
    "## Código aquí\n",
    "archivos = [\"foods1.csv\", \"foods2.csv\", \"foods3.csv\", \"foods4.csv\", \"foods5.csv\"]\n",
    "df = pl.concat([pl.read_csv(\"https://github.com/pola-rs/polars/tree/main/examples/datasets/{}\".format(archivo)) for archivo in archivos])\n",
    "\n",
    "import pandas as pd\n",
    "import timeit\n",
    "dfpandas = pd.concat([\"https://github.com/pola-rs/polars/tree/main/examples/datasets/{}\".format(archivo) for archivo in archivos])\n",
    "\n",
    "polars_time = timeit.timeit(lambda: df.select(\"calories\").groupby(\"category\").sum(), number = 1000)\n",
    "pandas_time = timeit.timeit(lambda: dfpandas.groupby(\"category\")[\"calories\"].sum(), number = 1000)\n",
    "\n",
    "\n",
    "print(\"polars_time = {}, pandas_time = {}\".format(polars_time, pandas_time))\n"
   ]
  },
  {
   "cell_type": "code",
   "execution_count": null,
   "id": "e00f1956",
   "metadata": {},
   "outputs": [],
   "source": []
  }
 ],
 "metadata": {
  "kernelspec": {
   "display_name": "Python 3.9.16 ('tf')",
   "language": "python",
   "name": "python3"
  },
  "language_info": {
   "codemirror_mode": {
    "name": "ipython",
    "version": 3
   },
   "file_extension": ".py",
   "mimetype": "text/x-python",
   "name": "python",
   "nbconvert_exporter": "python",
   "pygments_lexer": "ipython3",
   "version": "3.9.16"
  },
  "vscode": {
   "interpreter": {
    "hash": "14487f5c225bd05c6c9ac8af8137f2f7994d348ee343098416209a0c908c775a"
   }
  }
 },
 "nbformat": 4,
 "nbformat_minor": 5
}
