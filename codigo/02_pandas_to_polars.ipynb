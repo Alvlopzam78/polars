{
 "cells": [
  {
   "cell_type": "code",
   "execution_count": 56,
   "id": "9dce6c28",
   "metadata": {},
   "outputs": [
    {
     "name": "stdout",
     "output_type": "stream",
     "text": [
      "shape: (27, 4)\n",
      "┌────────────┬──────────┬────────┬──────────┐\n",
      "│ category   ┆ calories ┆ fats_g ┆ sugars_g │\n",
      "│ ---        ┆ ---      ┆ ---    ┆ ---      │\n",
      "│ str        ┆ i64      ┆ f64    ┆ i64      │\n",
      "╞════════════╪══════════╪════════╪══════════╡\n",
      "│ vegetables ┆ 45       ┆ 0.5    ┆ 2        │\n",
      "│ seafood    ┆ 150      ┆ 5.0    ┆ 0        │\n",
      "│ meat       ┆ 100      ┆ 5.0    ┆ 0        │\n",
      "│ fruit      ┆ 60       ┆ 0.0    ┆ 11       │\n",
      "│ …          ┆ …        ┆ …      ┆ …        │\n",
      "│ fruit      ┆ 130      ┆ 0.0    ┆ 25       │\n",
      "│ meat       ┆ 100      ┆ 7.0    ┆ 0        │\n",
      "│ vegetables ┆ 30       ┆ 0.0    ┆ 5        │\n",
      "│ fruit      ┆ 50       ┆ 0.0    ┆ 11       │\n",
      "└────────────┴──────────┴────────┴──────────┘\n"
     ]
    }
   ],
   "source": [
    "import polars as pl\n",
    "\n",
    "# Cargar datos de ejemplo\n",
    "df = pl.read_csv('https://raw.githubusercontent.com/pola-rs/polars/main/examples/datasets/foods1.csv')\n",
    "print(df)"
   ]
  },
  {
   "cell_type": "markdown",
   "id": "9a98f108",
   "metadata": {},
   "source": [
    "# Selección de datos\n",
    "En Polars, puedes seleccionar una o varias columnas utilizando la función select(), que toma una o varias cadenas de texto como argumento:"
   ]
  },
  {
   "cell_type": "code",
   "execution_count": 57,
   "id": "0fa32e71",
   "metadata": {},
   "outputs": [
    {
     "name": "stdout",
     "output_type": "stream",
     "text": [
      "shape: (27, 1)\n",
      "┌────────────┐\n",
      "│ category   │\n",
      "│ ---        │\n",
      "│ str        │\n",
      "╞════════════╡\n",
      "│ vegetables │\n",
      "│ seafood    │\n",
      "│ meat       │\n",
      "│ fruit      │\n",
      "│ …          │\n",
      "│ fruit      │\n",
      "│ meat       │\n",
      "│ vegetables │\n",
      "│ fruit      │\n",
      "└────────────┘\n",
      "shape: (27, 2)\n",
      "┌────────────┬──────────┐\n",
      "│ category   ┆ calories │\n",
      "│ ---        ┆ ---      │\n",
      "│ str        ┆ i64      │\n",
      "╞════════════╪══════════╡\n",
      "│ vegetables ┆ 45       │\n",
      "│ seafood    ┆ 150      │\n",
      "│ meat       ┆ 100      │\n",
      "│ fruit      ┆ 60       │\n",
      "│ …          ┆ …        │\n",
      "│ fruit      ┆ 130      │\n",
      "│ meat       ┆ 100      │\n",
      "│ vegetables ┆ 30       │\n",
      "│ fruit      ┆ 50       │\n",
      "└────────────┴──────────┘\n"
     ]
    }
   ],
   "source": [
    "# Seleccionar una columna en Polars\n",
    "print(df.select(['category']))\n",
    "\n",
    "# Seleccionar varias columnas en Polars\n",
    "print(df.select(['category', 'calories']))"
   ]
  },
  {
   "cell_type": "markdown",
   "id": "b015d266",
   "metadata": {},
   "source": [
    "Si quisieras regresar todas las columnas del tipo integer (o específicamente `Int64`):\n"
   ]
  },
  {
   "cell_type": "code",
   "execution_count": 64,
   "id": "b9b4e62e",
   "metadata": {},
   "outputs": [
    {
     "name": "stdout",
     "output_type": "stream",
     "text": [
      "shape: (27, 2)\n",
      "┌──────────┬──────────┐\n",
      "│ calories ┆ sugars_g │\n",
      "│ ---      ┆ ---      │\n",
      "│ i64      ┆ i64      │\n",
      "╞══════════╪══════════╡\n",
      "│ 45       ┆ 2        │\n",
      "│ 150      ┆ 0        │\n",
      "│ 100      ┆ 0        │\n",
      "│ 60       ┆ 11       │\n",
      "│ …        ┆ …        │\n",
      "│ 130      ┆ 25       │\n",
      "│ 100      ┆ 0        │\n",
      "│ 30       ┆ 5        │\n",
      "│ 50       ┆ 11       │\n",
      "└──────────┴──────────┘\n"
     ]
    }
   ],
   "source": [
    "print(df.select(pl.col(pl.Int64)))"
   ]
  },
  {
   "cell_type": "code",
   "execution_count": 67,
   "id": "651c60d2",
   "metadata": {},
   "outputs": [
    {
     "name": "stdout",
     "output_type": "stream",
     "text": [
      "shape: (27, 2)\n",
      "┌────────────┬──────────┐\n",
      "│ category   ┆ calories │\n",
      "│ ---        ┆ ---      │\n",
      "│ str        ┆ i64      │\n",
      "╞════════════╪══════════╡\n",
      "│ vegetables ┆ 20       │\n",
      "│ vegetables ┆ 22       │\n",
      "│ vegetables ┆ 25       │\n",
      "│ vegetables ┆ 25       │\n",
      "│ …          ┆ …        │\n",
      "│ seafood    ┆ 150      │\n",
      "│ seafood    ┆ 200      │\n",
      "│ seafood    ┆ 200      │\n",
      "│ seafood    ┆ 200      │\n",
      "└────────────┴──────────┘\n"
     ]
    }
   ],
   "source": [
    "print(df.select(pl.col('category','calories').sort_by('calories')))"
   ]
  },
  {
   "cell_type": "markdown",
   "id": "17d14b83",
   "metadata": {},
   "source": [
    "Si quieres seleccionar filas con base en los valores entonces en Polars se usa el método **.filter**"
   ]
  },
  {
   "cell_type": "code",
   "execution_count": 58,
   "id": "2dc89891",
   "metadata": {},
   "outputs": [
    {
     "data": {
      "text/html": [
       "<div><style>\n",
       ".dataframe > thead > tr > th,\n",
       ".dataframe > tbody > tr > td {\n",
       "  text-align: right;\n",
       "}\n",
       "</style>\n",
       "<small>shape: (11, 4)</small><table border=\"1\" class=\"dataframe\"><thead><tr><th>category</th><th>calories</th><th>fats_g</th><th>sugars_g</th></tr><tr><td>str</td><td>i64</td><td>f64</td><td>i64</td></tr></thead><tbody><tr><td>&quot;seafood&quot;</td><td>150</td><td>5.0</td><td>0</td></tr><tr><td>&quot;seafood&quot;</td><td>140</td><td>5.0</td><td>1</td></tr><tr><td>&quot;meat&quot;</td><td>120</td><td>10.0</td><td>1</td></tr><tr><td>&quot;seafood&quot;</td><td>130</td><td>5.0</td><td>0</td></tr><tr><td>&quot;meat&quot;</td><td>110</td><td>7.0</td><td>0</td></tr><tr><td>&quot;seafood&quot;</td><td>200</td><td>10.0</td><td>0</td></tr><tr><td>&quot;seafood&quot;</td><td>200</td><td>7.0</td><td>2</td></tr><tr><td>&quot;meat&quot;</td><td>110</td><td>7.0</td><td>0</td></tr><tr><td>&quot;seafood&quot;</td><td>200</td><td>7.0</td><td>2</td></tr><tr><td>&quot;seafood&quot;</td><td>130</td><td>1.5</td><td>0</td></tr><tr><td>&quot;fruit&quot;</td><td>130</td><td>0.0</td><td>25</td></tr></tbody></table></div>"
      ],
      "text/plain": [
       "shape: (11, 4)\n",
       "┌──────────┬──────────┬────────┬──────────┐\n",
       "│ category ┆ calories ┆ fats_g ┆ sugars_g │\n",
       "│ ---      ┆ ---      ┆ ---    ┆ ---      │\n",
       "│ str      ┆ i64      ┆ f64    ┆ i64      │\n",
       "╞══════════╪══════════╪════════╪══════════╡\n",
       "│ seafood  ┆ 150      ┆ 5.0    ┆ 0        │\n",
       "│ seafood  ┆ 140      ┆ 5.0    ┆ 1        │\n",
       "│ meat     ┆ 120      ┆ 10.0   ┆ 1        │\n",
       "│ seafood  ┆ 130      ┆ 5.0    ┆ 0        │\n",
       "│ …        ┆ …        ┆ …      ┆ …        │\n",
       "│ meat     ┆ 110      ┆ 7.0    ┆ 0        │\n",
       "│ seafood  ┆ 200      ┆ 7.0    ┆ 2        │\n",
       "│ seafood  ┆ 130      ┆ 1.5    ┆ 0        │\n",
       "│ fruit    ┆ 130      ┆ 0.0    ┆ 25       │\n",
       "└──────────┴──────────┴────────┴──────────┘"
      ]
     },
     "execution_count": 58,
     "metadata": {},
     "output_type": "execute_result"
    }
   ],
   "source": [
    "df.filter(pl.col('calories') > 100)"
   ]
  },
  {
   "cell_type": "code",
   "execution_count": 74,
   "id": "6d39102a",
   "metadata": {},
   "outputs": [
    {
     "data": {
      "text/html": [
       "<div><style>\n",
       ".dataframe > thead > tr > th,\n",
       ".dataframe > tbody > tr > td {\n",
       "  text-align: right;\n",
       "}\n",
       "</style>\n",
       "<small>shape: (6, 4)</small><table border=\"1\" class=\"dataframe\"><thead><tr><th>category</th><th>calories</th><th>fats_g</th><th>sugars_g</th></tr><tr><td>str</td><td>i64</td><td>f64</td><td>i64</td></tr></thead><tbody><tr><td>&quot;meat&quot;</td><td>120</td><td>10.0</td><td>1</td></tr><tr><td>&quot;meat&quot;</td><td>110</td><td>7.0</td><td>0</td></tr><tr><td>&quot;seafood&quot;</td><td>200</td><td>10.0</td><td>0</td></tr><tr><td>&quot;seafood&quot;</td><td>200</td><td>7.0</td><td>2</td></tr><tr><td>&quot;meat&quot;</td><td>110</td><td>7.0</td><td>0</td></tr><tr><td>&quot;seafood&quot;</td><td>200</td><td>7.0</td><td>2</td></tr></tbody></table></div>"
      ],
      "text/plain": [
       "shape: (6, 4)\n",
       "┌──────────┬──────────┬────────┬──────────┐\n",
       "│ category ┆ calories ┆ fats_g ┆ sugars_g │\n",
       "│ ---      ┆ ---      ┆ ---    ┆ ---      │\n",
       "│ str      ┆ i64      ┆ f64    ┆ i64      │\n",
       "╞══════════╪══════════╪════════╪══════════╡\n",
       "│ meat     ┆ 120      ┆ 10.0   ┆ 1        │\n",
       "│ meat     ┆ 110      ┆ 7.0    ┆ 0        │\n",
       "│ seafood  ┆ 200      ┆ 10.0   ┆ 0        │\n",
       "│ seafood  ┆ 200      ┆ 7.0    ┆ 2        │\n",
       "│ meat     ┆ 110      ┆ 7.0    ┆ 0        │\n",
       "│ seafood  ┆ 200      ┆ 7.0    ┆ 2        │\n",
       "└──────────┴──────────┴────────┴──────────┘"
      ]
     },
     "execution_count": 74,
     "metadata": {},
     "output_type": "execute_result"
    }
   ],
   "source": [
    "df.filter((pl.col('calories') > 100) & (pl.col('fats_g') > 5))"
   ]
  },
  {
   "cell_type": "markdown",
   "id": "f7415f48",
   "metadata": {},
   "source": [
    "`|` - OR\n",
    "`&` - AND\n",
    "`~` - NOT\n"
   ]
  },
  {
   "cell_type": "markdown",
   "id": "69646ac4",
   "metadata": {},
   "source": [
    "## Seleccionar filas y columnas"
   ]
  },
  {
   "cell_type": "code",
   "execution_count": 81,
   "id": "a112fac5",
   "metadata": {},
   "outputs": [
    {
     "data": {
      "text/html": [
       "<div><style>\n",
       ".dataframe > thead > tr > th,\n",
       ".dataframe > tbody > tr > td {\n",
       "  text-align: right;\n",
       "}\n",
       "</style>\n",
       "<small>shape: (7, 2)</small><table border=\"1\" class=\"dataframe\"><thead><tr><th>category</th><th>calories</th></tr><tr><td>str</td><td>i64</td></tr></thead><tbody><tr><td>&quot;vegetables&quot;</td><td>45</td></tr><tr><td>&quot;vegetables&quot;</td><td>20</td></tr><tr><td>&quot;vegetables&quot;</td><td>25</td></tr><tr><td>&quot;vegetables&quot;</td><td>22</td></tr><tr><td>&quot;vegetables&quot;</td><td>25</td></tr><tr><td>&quot;vegetables&quot;</td><td>25</td></tr><tr><td>&quot;vegetables&quot;</td><td>30</td></tr></tbody></table></div>"
      ],
      "text/plain": [
       "shape: (7, 2)\n",
       "┌────────────┬──────────┐\n",
       "│ category   ┆ calories │\n",
       "│ ---        ┆ ---      │\n",
       "│ str        ┆ i64      │\n",
       "╞════════════╪══════════╡\n",
       "│ vegetables ┆ 45       │\n",
       "│ vegetables ┆ 20       │\n",
       "│ vegetables ┆ 25       │\n",
       "│ vegetables ┆ 22       │\n",
       "│ vegetables ┆ 25       │\n",
       "│ vegetables ┆ 25       │\n",
       "│ vegetables ┆ 30       │\n",
       "└────────────┴──────────┘"
      ]
     },
     "execution_count": 81,
     "metadata": {},
     "output_type": "execute_result"
    }
   ],
   "source": [
    "df.filter(pl.col('category') == 'vegetables').select('category','calories')"
   ]
  },
  {
   "attachments": {
    "1_lkaWc7LydeJA8hCI2LkrTw.webp": {
     "image/webp": "[encoded data removed]"
    }
   },
   "cell_type": "markdown",
   "id": "92920369",
   "metadata": {},
   "source": [
    "![1_lkaWc7LydeJA8hCI2LkrTw.webp](attachment:1_lkaWc7LydeJA8hCI2LkrTw.webp)"
   ]
  },
  {
   "cell_type": "markdown",
   "id": "4aa810cd",
   "metadata": {},
   "source": [
    "## dtypes"
   ]
  },
  {
   "cell_type": "code",
   "execution_count": 82,
   "id": "b7666344",
   "metadata": {},
   "outputs": [
    {
     "data": {
      "text/plain": [
       "[Utf8, Int64, Float64, Int64]"
      ]
     },
     "execution_count": 82,
     "metadata": {},
     "output_type": "execute_result"
    }
   ],
   "source": [
    "df.dtypes"
   ]
  },
  {
   "cell_type": "markdown",
   "id": "a70be79a",
   "metadata": {},
   "source": [
    "## Para obtener el nombre de las columnas y las filas"
   ]
  },
  {
   "cell_type": "code",
   "execution_count": 83,
   "id": "2335738c",
   "metadata": {},
   "outputs": [
    {
     "data": {
      "text/plain": [
       "['category', 'calories', 'fats_g', 'sugars_g']"
      ]
     },
     "execution_count": 83,
     "metadata": {},
     "output_type": "execute_result"
    }
   ],
   "source": [
    "df.columns"
   ]
  },
  {
   "cell_type": "markdown",
   "id": "26b5c570",
   "metadata": {},
   "source": [
    "Para obtener el contenido del dataframe como una lista de tuples, usamos el método rows()"
   ]
  },
  {
   "cell_type": "code",
   "execution_count": 84,
   "id": "1c1720c7",
   "metadata": {},
   "outputs": [
    {
     "data": {
      "text/plain": [
       "[('vegetables', 45, 0.5, 2),\n",
       " ('seafood', 150, 5.0, 0),\n",
       " ('meat', 100, 5.0, 0),\n",
       " ('fruit', 60, 0.0, 11),\n",
       " ('seafood', 140, 5.0, 1),\n",
       " ('meat', 120, 10.0, 1),\n",
       " ('vegetables', 20, 0.0, 2),\n",
       " ('fruit', 30, 0.0, 5),\n",
       " ('seafood', 130, 5.0, 0),\n",
       " ('fruit', 50, 4.5, 0),\n",
       " ('meat', 110, 7.0, 0),\n",
       " ('vegetables', 25, 0.0, 2),\n",
       " ('fruit', 30, 0.0, 3),\n",
       " ('vegetables', 22, 0.0, 3),\n",
       " ('vegetables', 25, 0.0, 4),\n",
       " ('seafood', 100, 5.0, 0),\n",
       " ('seafood', 200, 10.0, 0),\n",
       " ('seafood', 200, 7.0, 2),\n",
       " ('fruit', 60, 0.0, 11),\n",
       " ('meat', 110, 7.0, 0),\n",
       " ('vegetables', 25, 0.0, 3),\n",
       " ('seafood', 200, 7.0, 2),\n",
       " ('seafood', 130, 1.5, 0),\n",
       " ('fruit', 130, 0.0, 25),\n",
       " ('meat', 100, 7.0, 0),\n",
       " ('vegetables', 30, 0.0, 5),\n",
       " ('fruit', 50, 0.0, 11)]"
      ]
     },
     "execution_count": 84,
     "metadata": {},
     "output_type": "execute_result"
    }
   ],
   "source": [
    "df.rows()"
   ]
  },
  {
   "cell_type": "code",
   "execution_count": 85,
   "id": "95f224fa",
   "metadata": {},
   "outputs": [
    {
     "data": {
      "text/plain": [
       "('fruit', 60, 0.0, 11)"
      ]
     },
     "execution_count": 85,
     "metadata": {},
     "output_type": "execute_result"
    }
   ],
   "source": [
    "df.row(3)"
   ]
  },
  {
   "cell_type": "markdown",
   "id": "b67a5d5a",
   "metadata": {},
   "source": [
    "# Agregar columnas\n",
    "Si tenemos un dataframe al que le queremos agregar columnas existe una diferencia entre pandas y polars"
   ]
  },
  {
   "cell_type": "code",
   "execution_count": 86,
   "id": "35b57cb8",
   "metadata": {},
   "outputs": [],
   "source": [
    "import pandas as pd"
   ]
  },
  {
   "cell_type": "code",
   "execution_count": 107,
   "id": "3d338902",
   "metadata": {},
   "outputs": [
    {
     "name": "stdout",
     "output_type": "stream",
     "text": [
      "   value\n",
      "0      0\n",
      "1      1\n",
      "2      2\n",
      "3      3\n",
      "4      4\n"
     ]
    }
   ],
   "source": [
    "dp = pd.DataFrame({'value':range(5)})\n",
    "print(dp)"
   ]
  },
  {
   "cell_type": "code",
   "execution_count": 108,
   "id": "c4b241c9",
   "metadata": {},
   "outputs": [
    {
     "name": "stdout",
     "output_type": "stream",
     "text": [
      "   value  tenXValue  hundredXValue\n",
      "0      0          0              0\n",
      "1      1         10            100\n",
      "2      2         20            200\n",
      "3      3         30            300\n",
      "4      4         40            400\n"
     ]
    }
   ],
   "source": [
    "dp[\"tenXValue\"] = dp[\"value\"] * 10\n",
    "dp[\"hundredXValue\"] = dp[\"value\"] * 100\n",
    "print(dp)"
   ]
  },
  {
   "cell_type": "markdown",
   "id": "17e66682",
   "metadata": {},
   "source": [
    "En polars esto mismo seria:"
   ]
  },
  {
   "cell_type": "code",
   "execution_count": 121,
   "id": "1143480b",
   "metadata": {},
   "outputs": [],
   "source": [
    "df = pl.DataFrame({'value':range(5)})"
   ]
  },
  {
   "cell_type": "code",
   "execution_count": 122,
   "id": "4e9f5c26",
   "metadata": {},
   "outputs": [
    {
     "name": "stdout",
     "output_type": "stream",
     "text": [
      "shape: (5, 3)\n",
      "┌───────┬───────────┬───────────────┐\n",
      "│ value ┆ tenXValue ┆ hundredXValue │\n",
      "│ ---   ┆ ---       ┆ ---           │\n",
      "│ i64   ┆ i64       ┆ i64           │\n",
      "╞═══════╪═══════════╪═══════════════╡\n",
      "│ 0     ┆ 0         ┆ 0             │\n",
      "│ 1     ┆ 10        ┆ 100           │\n",
      "│ 2     ┆ 20        ┆ 200           │\n",
      "│ 3     ┆ 30        ┆ 300           │\n",
      "│ 4     ┆ 40        ┆ 400           │\n",
      "└───────┴───────────┴───────────────┘\n"
     ]
    }
   ],
   "source": [
    "print(df.with_columns([\n",
    "    (pl.col(\"value\") * 10).alias(\"tenXValue\"),\n",
    "    (pl.col(\"value\") * 100).alias(\"hundredXValue\"),\n",
    "]))"
   ]
  },
  {
   "cell_type": "code",
   "execution_count": 123,
   "id": "d3f46224",
   "metadata": {
    "scrolled": true
   },
   "outputs": [
    {
     "name": "stdout",
     "output_type": "stream",
     "text": [
      "shape: (5, 3)\n",
      "┌───────┬───────────┬───────────────┐\n",
      "│ value ┆ tenXValue ┆ hundredXValue │\n",
      "│ ---   ┆ ---       ┆ ---           │\n",
      "│ i64   ┆ i64       ┆ i64           │\n",
      "╞═══════╪═══════════╪═══════════════╡\n",
      "│ 0     ┆ 0         ┆ 0             │\n",
      "│ 1     ┆ 10        ┆ 100           │\n",
      "│ 2     ┆ 20        ┆ 200           │\n",
      "│ 3     ┆ 30        ┆ 300           │\n",
      "│ 4     ┆ 40        ┆ 400           │\n",
      "└───────┴───────────┴───────────────┘\n"
     ]
    }
   ],
   "source": [
    "print(df.select([\n",
    "    pl.all(),\n",
    "    (pl.col(\"value\") * 10).alias(\"tenXValue\"),\n",
    "    (pl.col(\"value\") * 100).alias(\"hundredXValue\"),\n",
    "]))"
   ]
  },
  {
   "cell_type": "code",
   "execution_count": 124,
   "id": "08ed7646",
   "metadata": {},
   "outputs": [],
   "source": [
    "df = df.select([\n",
    "    pl.all(),\n",
    "    (pl.col(\"value\") * 10).alias(\"tenXValue\"),\n",
    "    (pl.col(\"value\") * 100).alias(\"hundredXValue\"),\n",
    "])"
   ]
  },
  {
   "cell_type": "code",
   "execution_count": 125,
   "id": "9d42765d",
   "metadata": {},
   "outputs": [
    {
     "name": "stdout",
     "output_type": "stream",
     "text": [
      "shape: (1, 8)\n",
      "┌───────┬─────────┬──────┬─────┬─────┬──────────┬───────────┬──────────┐\n",
      "│ media ┆ mediana ┆ suma ┆ min ┆ max ┆ otro_max ┆ dev std   ┆ varianza │\n",
      "│ ---   ┆ ---     ┆ ---  ┆ --- ┆ --- ┆ ---      ┆ ---       ┆ ---      │\n",
      "│ f64   ┆ f64     ┆ i64  ┆ i64 ┆ i64 ┆ i64      ┆ f64       ┆ f64      │\n",
      "╞═══════╪═════════╪══════╪═════╪═════╪══════════╪═══════════╪══════════╡\n",
      "│ 20.0  ┆ 20.0    ┆ 100  ┆ 0   ┆ 40  ┆ 40       ┆ 15.811388 ┆ 250.0    │\n",
      "└───────┴─────────┴──────┴─────┴─────┴──────────┴───────────┴──────────┘\n"
     ]
    }
   ],
   "source": [
    "print(df.select(\n",
    "    [\n",
    "        pl.mean('tenXValue').alias(\"media\"),\n",
    "        pl.median('tenXValue').alias(\"mediana\"),\n",
    "        pl.sum('tenXValue').alias(\"suma\"),\n",
    "        pl.min('tenXValue').alias(\"min\"),\n",
    "        pl.max('tenXValue').alias(\"max\"),\n",
    "        pl.col('tenXValue').max().alias(\"otro_max\"),\n",
    "        pl.std('tenXValue').alias(\"dev std\"),\n",
    "        pl.var('tenXValue').alias(\"varianza\")\n",
    "    ]))"
   ]
  },
  {
   "cell_type": "code",
   "execution_count": null,
   "id": "3560d19b",
   "metadata": {},
   "outputs": [],
   "source": []
  },
  {
   "cell_type": "code",
   "execution_count": null,
   "id": "debe78a0",
   "metadata": {},
   "outputs": [],
   "source": []
  }
 ],
 "metadata": {
  "kernelspec": {
   "display_name": "Python 3 (ipykernel)",
   "language": "python",
   "name": "python3"
  },
  "language_info": {
   "codemirror_mode": {
    "name": "ipython",
    "version": 3
   },
   "file_extension": ".py",
   "mimetype": "text/x-python",
   "name": "python",
   "nbconvert_exporter": "python",
   "pygments_lexer": "ipython3",
   "version": "3.9.12"
  }
 },
 "nbformat": 4,
 "nbformat_minor": 5
}
