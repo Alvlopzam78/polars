{
 "cells": [
  {
   "cell_type": "code",
   "execution_count": null,
   "metadata": {},
   "outputs": [],
   "source": [
    "import pandas as pd\n",
    "import polars as pl\n",
    "import time\n",
    "import numpy as np"
   ]
  },
  {
   "attachments": {},
   "cell_type": "markdown",
   "metadata": {},
   "source": [
    "## Creación de DF"
   ]
  },
  {
   "cell_type": "code",
   "execution_count": null,
   "metadata": {},
   "outputs": [],
   "source": [
    "data = {'col1': [1, 2, 3, 4, 5],\n",
    "        'col2': ['A', 'B', 'C', 'D', 'E'],\n",
    "        'col3': [1.1, 2.2, 3.3, 4.4, 5.5]}\n",
    "\n",
    "data_num_enteros = {'a': [1, 2, 3], 'b': [4, 5, 6]}\n",
    "\n",
    "# Crear un DataFrame con Pandas\n",
    "df_pd = pd.DataFrame(data)\n",
    "df_pd_num_enteros = pd.DataFrame(data_num_enteros)\n",
    "\n",
    "# Crear un DataFrame con Polars\n",
    "df_pl = pl.DataFrame(data)\n",
    "df_pl_num_enteros = pl.DataFrame(data_num_enteros)"
   ]
  },
  {
   "attachments": {},
   "cell_type": "markdown",
   "metadata": {},
   "source": [
    "## Selección de columnas"
   ]
  },
  {
   "cell_type": "code",
   "execution_count": null,
   "metadata": {},
   "outputs": [],
   "source": [
    "print(\"Columna 'col1' con Pandas:\\n\", df_pd['col1'])\n",
    "print(\"Columna 'col1' con Polars:\\n\", df_pl['col1'])\n",
    "\n",
    "# Seleccionar múltiples columnas\n",
    "print(\"Selección de columnas con Pandas:\\n\", df_pd[['col1', 'col2']])\n",
    "print(\"Selección de columnas con Polars:\\n\", df_pl['col1', 'col2'])\n",
    "\n",
    "'''\n",
    "En Polars se utiliza una sintaxis diferente para seleccionar múltiples columnas, sin necesidad de \n",
    "utilizar una lista de nombres de columna dentro de una lista.\n",
    "'''"
   ]
  },
  {
   "attachments": {},
   "cell_type": "markdown",
   "metadata": {},
   "source": [
    "## FIltrado de columnas"
   ]
  },
  {
   "cell_type": "code",
   "execution_count": null,
   "metadata": {},
   "outputs": [],
   "source": [
    "print(\"Filtrado con Pandas:\\n\", df_pd[df_pd['col1'] > 2])\n",
    "print(\"Filtrado con Polars:\\n\", df_pl[df_pl['col1'] > 2])"
   ]
  },
  {
   "attachments": {},
   "cell_type": "markdown",
   "metadata": {},
   "source": [
    "## Operación entre una columna numérica y una categórica"
   ]
  },
  {
   "cell_type": "code",
   "execution_count": null,
   "metadata": {},
   "outputs": [],
   "source": [
    "print(\"Suma con Pandas:\\n\", df_pd['col1'] + df_pd['col2'])\n",
    "print(\"Suma con Polars:\\n\", df_pl['col1'] + df_pl['col2'])\n",
    "\n",
    "''' \n",
    "En este caso, Pandas genera un error porque no se pueden sumar una columna numérica y una categórica, \n",
    "mientras que Polars simplemente cambia el tipo de dato de la columna categórica a numérica y suma los valores.\n",
    "'''"
   ]
  },
  {
   "attachments": {},
   "cell_type": "markdown",
   "metadata": {},
   "source": [
    "## Aplicación de funciones a una columna y la agrupación y agregación de datos en pandas y polars."
   ]
  },
  {
   "cell_type": "code",
   "execution_count": null,
   "metadata": {},
   "outputs": [],
   "source": [
    "df_pandas_filtered = df_pd_num_enteros[(df_pd_num_enteros['a'] > 1) & (df_pd_num_enteros['b'] == 6)][['a', 'b']]\n",
    "df_polars_filtered = df_pd_num_enteros.filter(pl.col('a') > 1).filter(pl.col('b') == 6)[['a', 'b']]\n",
    "\n",
    "# Operaciones entre columnas\n",
    "df_pd_num_enteros['c'] = df_pd_num_enteros['a'] + df_pd_num_enteros['b'] * 2\n",
    "df_pl_num_enteros = df_pl_num_enteros.with_column(pl.col('a') + pl.col('b') * 2, 'c')\n",
    "\n",
    "# Aplicación de funciones a una columna\n",
    "df_pd_num_enteros['d'] = df_pd_num_enteros['b'].apply(lambda x: np.sqrt(x))\n",
    "df_pl_num_enteros = df_pl_num_enteros.with_column(pl.sqrt(pl.col('b')), 'd')\n",
    "\n",
    "# Agrupación y agregación\n",
    "df_pd_num_enteros_grouped = df_pd_num_enteros.groupby('a').agg({'b': 'sum'})\n",
    "df_pl_num_enteros_grouped = df_pl_num_enteros.groupby('a').agg(pl.sum('b'))"
   ]
  },
  {
   "attachments": {},
   "cell_type": "markdown",
   "metadata": {},
   "source": [
    "## Operaciones con columnas nulas"
   ]
  },
  {
   "cell_type": "code",
   "execution_count": null,
   "metadata": {},
   "outputs": [],
   "source": [
    "datos_con_nulos = {'col1': [1, 2, 3, None, 5],\n",
    "        'col2': [6, 7, None, 9, 10]}\n",
    "\n",
    "# Crear un DataFrame con Pandas\n",
    "df_pd_con_nulos = pd.DataFrame(datos_con_nulos)\n",
    "\n",
    "# Crear un DataFrame con Polars\n",
    "df_pl_con_nulos = pl.DataFrame(datos_con_nulos)\n",
    "\n",
    "# Sumar columnas con valores nulos\n",
    "print(\"Suma con Pandas:\\n\", df_pd_con_nulos['col1'] + df_pd_con_nulos['col2'])\n",
    "print(\"Suma con Polars:\\n\", df_pl_con_nulos['col1'] + df_pl_con_nulos['col2'])\n",
    "\n",
    "'''\n",
    "En este caso, Polars maneja los valores nulos de manera más eficiente que Pandas. Mientras que Pandas genera \n",
    "un resultado nulo en la posición donde hay un valor nulo en alguna de las columnas, Polars simplemente omite \n",
    "esa posición en el resultado.\n",
    "'''"
   ]
  },
  {
   "attachments": {},
   "cell_type": "markdown",
   "metadata": {},
   "source": [
    "## Manipulación de datos con valores nulos"
   ]
  },
  {
   "cell_type": "code",
   "execution_count": null,
   "metadata": {},
   "outputs": [],
   "source": [
    "# Verificar valores nulos\n",
    "print(\"Valores nulos en Pandas:\\n\", df_pd_con_nulos.isnull())\n",
    "print(\"Valores nulos en Polars:\\n\", df_pl_con_nulos.is_null())\n",
    "\n",
    "'''\n",
    "Polars utiliza un tipo de datos especial llamado NullValue, que se utiliza para representar valores nulos en una columna. \n",
    "Además, Polars proporciona funciones especiales para trabajar con valores nulos, como is_null(), is_not_null(), fillna(), \n",
    "'''"
   ]
  },
  {
   "cell_type": "code",
   "execution_count": null,
   "metadata": {},
   "outputs": [],
   "source": [
    "# Crear un DataFrame de prueba con 10 millones de filas y 10 columnas\n",
    "df_pd = pd.DataFrame({'col{}'.format(i): range(10000000) for i in range(10)})\n",
    "df_pl = pl.DataFrame(df_pd)"
   ]
  },
  {
   "cell_type": "code",
   "execution_count": null,
   "metadata": {},
   "outputs": [],
   "source": [
    "# Realizar una operación simple de suma de columna y medir el tiempo de ejecución\n",
    "start_time = time.time()\n",
    "sum_pd = df_pd['col0'].sum()\n",
    "end_time = time.time()\n",
    "print('Tiempo de ejecución de Pandas:', end_time - start_time)\n",
    "\n",
    "start_time = time.time()\n",
    "sum_pl = df_pl['col0'].sum()\n",
    "end_time = time.time()\n",
    "print('Tiempo de ejecución de Polars:', end_time - start_time)"
   ]
  },
  {
   "cell_type": "code",
   "execution_count": null,
   "metadata": {},
   "outputs": [],
   "source": [
    "# Realizar una operación simple de suma de columna en paralelo\n",
    "start_time = time.time()\n",
    "sum_pd = df_pd['col0'].apply(lambda x: x**2).sum()\n",
    "end_time = time.time()\n",
    "print('Tiempo de ejecución de Pandas:', end_time - start_time)\n",
    "\n",
    "start_time = time.time()\n",
    "sum_pl = df_pl['col0'].map(lambda x: x**2).sum()\n",
    "end_time = time.time()\n",
    "print('Tiempo de ejecución de Polars:', end_time - start_time)"
   ]
  },
  {
   "attachments": {},
   "cell_type": "markdown",
   "metadata": {},
   "source": [
    "Fin hola"
   ]
  }
 ],
 "metadata": {
  "language_info": {
   "name": "python"
  },
  "orig_nbformat": 4
 },
 "nbformat": 4,
 "nbformat_minor": 2
}
