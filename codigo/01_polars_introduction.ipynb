{
 "cells": [
  {
   "attachments": {},
   "cell_type": "markdown",
   "metadata": {},
   "source": [
    "Esta es una introducción a las funciones más básicas de Polars"
   ]
  },
  {
   "cell_type": "code",
   "execution_count": 31,
   "metadata": {},
   "outputs": [
    {
     "name": "stdout",
     "output_type": "stream",
     "text": [
      "shape: (5,)\n",
      "Series: 'nombre' [str]\n",
      "[\n",
      "\t\"Juan\"\n",
      "\t\"María\"\n",
      "\t\"Pedro\"\n",
      "\t\"Ana\"\n",
      "\t\"Juan\"\n",
      "]\n",
      "shape: (5, 2)\n",
      "┌────────┬──────┐\n",
      "│ nombre ┆ edad │\n",
      "│ ---    ┆ ---  │\n",
      "│ str    ┆ i64  │\n",
      "╞════════╪══════╡\n",
      "│ Juan   ┆ 25   │\n",
      "│ María  ┆ 35   │\n",
      "│ Pedro  ┆ 40   │\n",
      "│ Ana    ┆ 30   │\n",
      "│ Juan   ┆ 32   │\n",
      "└────────┴──────┘\n",
      "shape: (3, 3)\n",
      "┌────────┬──────┬──────────┐\n",
      "│ nombre ┆ edad ┆ ciudad   │\n",
      "│ ---    ┆ ---  ┆ ---      │\n",
      "│ str    ┆ i64  ┆ str      │\n",
      "╞════════╪══════╪══════════╡\n",
      "│ María  ┆ 35   ┆ Medellín │\n",
      "│ Pedro  ┆ 40   ┆ Cali     │\n",
      "│ Juan   ┆ 32   ┆ Cali     │\n",
      "└────────┴──────┴──────────┘\n"
     ]
    }
   ],
   "source": [
    "import polars as pl\n",
    "\n",
    "# Crear un DataFrame de ejemplo\n",
    "df = pl.DataFrame({\n",
    "    'nombre': ['Juan', 'María', 'Pedro', 'Ana', 'Juan'],\n",
    "    'edad': [25, 35, 40, 30, 32],\n",
    "    'ciudad': ['Bogotá', 'Medellín', 'Cali', 'Barranquilla', 'Cali']\n",
    "})\n",
    "\n",
    "# Seleccionar una columna por nombre\n",
    "nombre_col = df['nombre']\n",
    "print(nombre_col)\n",
    "\n",
    "# Seleccionar varias columnas por nombre\n",
    "nombre_y_edad_cols = df.select(['nombre', 'edad'])\n",
    "print(nombre_y_edad_cols)\n",
    "\n",
    "# Filtrar filas que cumplan una condición\n",
    "mayores_de_30 = df.filter(pl.col('edad') > 30)\n",
    "print(mayores_de_30)\n",
    "\n"
   ]
  },
  {
   "attachments": {},
   "cell_type": "markdown",
   "metadata": {},
   "source": [
    "En polars no se indexan datos, una alternativa en esta librería es definir un dato como llave para una fila completa "
   ]
  },
  {
   "cell_type": "code",
   "execution_count": 32,
   "metadata": {},
   "outputs": [
    {
     "name": "stdout",
     "output_type": "stream",
     "text": [
      "shape: (2, 3)\n",
      "┌────────┬──────┬────────┐\n",
      "│ nombre ┆ edad ┆ ciudad │\n",
      "│ ---    ┆ ---  ┆ ---    │\n",
      "│ str    ┆ i64  ┆ str    │\n",
      "╞════════╪══════╪════════╡\n",
      "│ Juan   ┆ 25   ┆ Bogotá │\n",
      "│ Juan   ┆ 32   ┆ Cali   │\n",
      "└────────┴──────┴────────┘\n"
     ]
    }
   ],
   "source": [
    "dfindex=df.filter(pl.col(\"nombre\")=='Juan')\n",
    "print(dfindex)"
   ]
  },
  {
   "attachments": {},
   "cell_type": "markdown",
   "metadata": {},
   "source": [
    "Con esta función podemos saber el número de la fila de nuestro dato deseado"
   ]
  },
  {
   "cell_type": "code",
   "execution_count": 34,
   "metadata": {},
   "outputs": [
    {
     "name": "stdout",
     "output_type": "stream",
     "text": [
      "shape: (2,)\n",
      "Series: 'nombre' [u32]\n",
      "[\n",
      "\t0\n",
      "\t4\n",
      "]\n"
     ]
    }
   ],
   "source": [
    "# Para saber qué numero de fila es el dato deseado \n",
    "dfcolumna=df.select(pl.arg_where(pl.col(\"nombre\")=='Juan')).to_series()\n",
    "print(dfcolumna)"
   ]
  },
  {
   "cell_type": "code",
   "execution_count": 28,
   "metadata": {},
   "outputs": [
    {
     "name": "stdout",
     "output_type": "stream",
     "text": [
      "shape: (1,)\n",
      "Series: 'nombre' [u32]\n",
      "[\n",
      "\t3\n",
      "]\n"
     ]
    }
   ],
   "source": [
    "dfcolumna1=df.select(pl.arg_where(pl.col(\"nombre\")=='Ana')).to_series()\n",
    "print(dfcolumna1)"
   ]
  },
  {
   "attachments": {},
   "cell_type": "markdown",
   "metadata": {},
   "source": [
    "Filtrado de datos en Polars"
   ]
  },
  {
   "cell_type": "code",
   "execution_count": 36,
   "metadata": {},
   "outputs": [
    {
     "name": "stdout",
     "output_type": "stream",
     "text": [
      "shape: (3, 3)\n",
      "┌────────┬──────┬──────────────┐\n",
      "│ nombre ┆ edad ┆ ciudad       │\n",
      "│ ---    ┆ ---  ┆ ---          │\n",
      "│ str    ┆ i64  ┆ str          │\n",
      "╞════════╪══════╪══════════════╡\n",
      "│ Juan   ┆ 25   ┆ Bogotá       │\n",
      "│ Ana    ┆ 30   ┆ Barranquilla │\n",
      "│ Juan   ┆ 32   ┆ Cali         │\n",
      "└────────┴──────┴──────────────┘\n"
     ]
    }
   ],
   "source": [
    "# Estamos filtrando las filas que contengan el nombre Juan y Ana\n",
    "filtro=df.filter(pl.col(\"nombre\").is_in(['Juan','Ana']))\n",
    "print(filtro)"
   ]
  },
  {
   "attachments": {},
   "cell_type": "markdown",
   "metadata": {},
   "source": [
    "Realizamos un left join, en polars no hay la necesidad de indexar. \n",
    "Como hay columnas que tienen el mismo nombre se utiliza \"on\". "
   ]
  },
  {
   "cell_type": "code",
   "execution_count": 46,
   "metadata": {},
   "outputs": [
    {
     "name": "stdout",
     "output_type": "stream",
     "text": [
      "<bound method DataFrame.join of shape: (3, 3)\n",
      "┌────────┬─────┬───────┐\n",
      "│ nombre ┆ num ┆ class │\n",
      "│ ---    ┆ --- ┆ ---   │\n",
      "│ str    ┆ i64 ┆ bool  │\n",
      "╞════════╪═════╪═══════╡\n",
      "│ Ale    ┆ 2   ┆ true  │\n",
      "│ Ana    ┆ 3   ┆ false │\n",
      "│ Ale    ┆ 1   ┆ false │\n",
      "└────────┴─────┴───────┘>\n"
     ]
    }
   ],
   "source": [
    "df_left = pl.DataFrame({'nombre':['Ale','Ana','Ale'],\n",
    "                        'num':[2,3,1],\n",
    "                        'class':[True,False,False]})\n",
    "df_right = pl.DataFrame({'nombre':['Ale','Eduardo','Sebastian'],\n",
    "                            'score':[.99,.88,.66]})\n",
    "df_left.join(df_right,on=['nombre'],how='left')\n",
    "print (df_left.join)"
   ]
  }
 ],
 "metadata": {
  "kernelspec": {
   "display_name": "Python 3",
   "language": "python",
   "name": "python3"
  },
  "language_info": {
   "codemirror_mode": {
    "name": "ipython",
    "version": 3
   },
   "file_extension": ".py",
   "mimetype": "text/x-python",
   "name": "python",
   "nbconvert_exporter": "python",
   "pygments_lexer": "ipython3",
   "version": "3.10.8"
  },
  "orig_nbformat": 4
 },
 "nbformat": 4,
 "nbformat_minor": 2
}
