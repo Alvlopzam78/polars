import pandas as pd
import polars as pl

# Crear DataFrame de ejemplo
data = {
    'customer_id': [1, 1, 2, 3, 3, 3],
    'date': ['2022-01-01', '2022-01-02', '2022-01-01', '2022-01-02', '2022-01-01', '2022-01-02'],
    'product': ['A', 'B', 'A', 'C', 'B', 'C'],
    'quantity': [2, 1, 3, 2, 1, 4]
}

df_pandas = pd.DataFrame(data)
df_pol = pl.DataFrame(data)

# Indexar DataFrame
df_pandas_indexed = df_pandas.set_index('customer_id')
df_pol_indexed = df_pol.set_column('customer_id', df_pol['customer_id'].cast(pl.UInt32)).set_index('customer_id')

# Seleccionar filas con indexación booleana
df_pandas_filtered = df_pandas_indexed[df_pandas_indexed['product'] == 'C']
df_pol_filtered = df_pol_indexed[df_pol_indexed['product'] == 'C']

# Operaciones en DataFrames
df_pandas_grouped = df_pandas.groupby('product').sum()
df_pol_grouped = df_pol.groupby('product', pl.sum('quantity'))

# Operaciones en Series
pandas_sum = df_pandas['quantity'].sum()
pol_sum = df_pol['quantity'].sum()

# Imprimir resultados
print("Pandas:")
print(df_pandas_filtered)
print(df_pandas_grouped)
print(pandas_sum)
print("\nPolars:")
print(df_pol_filtered)
print(df_pol_grouped)
print(pol_sum)

